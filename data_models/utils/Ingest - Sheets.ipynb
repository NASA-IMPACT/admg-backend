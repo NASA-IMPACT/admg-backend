{
 "cells": [
  {
   "cell_type": "markdown",
   "metadata": {},
   "source": [
    "# Imports"
   ]
  },
  {
   "cell_type": "code",
   "execution_count": 1,
   "metadata": {},
   "outputs": [],
   "source": [
    "import pandas as pd\n",
    "import json\n",
    "from automated_ingest import ingest_2"
   ]
  },
  {
   "cell_type": "code",
   "execution_count": 2,
   "metadata": {},
   "outputs": [],
   "source": [
    "import validate\n",
    "from general import filter_gcmd_tables\n",
    "# from general import correct_values, many_to_many, many_cols, filter_gcmd_tables\n",
    "# import ingest\n",
    "# import clean"
   ]
  },
  {
   "cell_type": "code",
   "execution_count": 3,
   "metadata": {},
   "outputs": [],
   "source": [
    "def print_full(df):\n",
    "    with pd.option_context('display.max_rows', None, 'display.max_columns', None):\n",
    "        print(df)"
   ]
  },
  {
   "cell_type": "markdown",
   "metadata": {},
   "source": [
    "# Pull Data into Pandas"
   ]
  },
  {
   "cell_type": "code",
   "execution_count": 4,
   "metadata": {
    "scrolled": true
   },
   "outputs": [
    {
     "name": "stdout",
     "output_type": "stream",
     "text": [
      "campaign\n",
      "   campaign-to-focus_area created\n",
      "   campaign-to-season created\n",
      "   campaign-to-platform_type created\n",
      "   campaign-to-geophysical_concept created\n",
      "   campaign-to-repository created\n",
      "   campaign-to-partner_org created\n",
      "   campaign-to-gcmd_project created\n",
      "platform\n",
      "   platform-to-gcmd_platform created\n",
      "instrument\n",
      "   instrument-to-gcmd_instrument created\n",
      "   instrument-to-measurement_style created\n",
      "   instrument-to-measurement_type created\n",
      "   instrument-to-gcmd_phenomena created\n",
      "   instrument-to-repository created\n",
      "   instrument-to-measurement_region created\n",
      "deployment\n",
      "   deployment-to-geographical_region created\n"
     ]
    }
   ],
   "source": [
    "db = ingest_2('inventory_data/inventory - 2020.10.26.xlsx')"
   ]
  },
  {
   "cell_type": "markdown",
   "metadata": {},
   "source": [
    "## Check for completeness"
   ]
  },
  {
   "cell_type": "code",
   "execution_count": 5,
   "metadata": {
    "scrolled": true
   },
   "outputs": [
    {
     "name": "stdout",
     "output_type": "stream",
     "text": [
      "platform_type\n",
      "     ignore_ingest_label\n",
      "     short_name\n",
      "     long_name\n",
      "     ignore_gcmd_translation\n",
      "     gcmd_uuid\n",
      "     example\n",
      "     notes_public\n",
      "     foreign-platform_type-short_name\n",
      "\n",
      "home_base\n",
      "     ignore_ingest_label\n",
      "     short_name\n",
      "     long_name\n",
      "     location\n",
      "     notes_public\n",
      "     additional_info\n",
      "     ignore_TODO\n",
      "     ignore_parent\n",
      "\n",
      "repository\n",
      "     ignore_ingest_label\n",
      "     short_name\n",
      "     long_name\n",
      "     ignore_gcmd_translation\n",
      "     gcmd_uuid\n",
      "     ignore_blank\n",
      "     notes_public\n",
      "     ignore_parent\n",
      "\n",
      "focus_area\n",
      "     ignore_ingest_label\n",
      "     short_name\n",
      "     long_name\n",
      "     url\n",
      "     notes_public\n",
      "     ignore_blank_1\n",
      "     ignore_blank_2\n",
      "     ignore_parent\n",
      "\n",
      "season\n",
      "     ignore_ingest_label\n",
      "     short_name\n",
      "     long_name\n",
      "     ignore_blank_1\n",
      "     ignore_blank_2\n",
      "     ignore_blank_3\n",
      "     notes_public\n",
      "     ignore_parent\n",
      "\n",
      "measurement_type\n",
      "     ignore_ingest_label\n",
      "     short_name\n",
      "     long_name\n",
      "     description\n",
      "     gcmd_translation\n",
      "     examples\n",
      "     notes_public\n",
      "     foreign-measurement_type-short_name\n",
      "\n",
      "measurement_style\n",
      "     ignore_ingest_label\n",
      "     short_name\n",
      "     long_name\n",
      "     description\n",
      "     gcmd_translation\n",
      "     examples\n",
      "     notes_public\n",
      "     foreign-measurement_style-short_name\n",
      "\n",
      "measurement_region\n",
      "     ignore_ingest_label\n",
      "     short_name\n",
      "     long_name\n",
      "     ignore_gcmd_translation\n",
      "     gcmd_uuid\n",
      "     example\n",
      "     notes_public\n",
      "     ignore_parent\n",
      "\n",
      "geographical_region\n",
      "     ignore_ingest_label\n",
      "     short_name\n",
      "     long_name\n",
      "     ignore_gcmd_translation\n",
      "     gcmd_uuid\n",
      "     example\n",
      "     notes_public\n",
      "     ignore_parent\n",
      "\n",
      "geophysical_concept\n",
      "     ignore_ingest_label\n",
      "     short_name\n",
      "     long_name\n",
      "     ignore_gcmd_translation\n",
      "     gcmd_uuid\n",
      "     example\n",
      "     notes_public\n",
      "     ignore_parent\n",
      "\n",
      "campaign\n",
      "     short_name\n",
      "     long_name\n",
      "     description_short\n",
      "     description_long\n",
      "     ignore_alias\n",
      "     table-focus_area-short_name\n",
      "     focus_phenomena\n",
      "     region_description\n",
      "     spatial_bounds\n",
      "     table-season-short_name\n",
      "     start_date\n",
      "     end_date\n",
      "     ignore_number_deployments\n",
      "     ignore_significant_events\n",
      "     funding_agency\n",
      "     funding_program\n",
      "     funding_program_lead\n",
      "     lead_investigator\n",
      "     technical_contact\n",
      "     table-platform_type-short_name\n",
      "     ignore_platform\n",
      "     ignore_instruments\n",
      "     ignore_non_airborne_platform_types\n",
      "     ignore_nonaircraft_instruments\n",
      "     number_collection_periods\n",
      "     ignore_gcmd_phenomenas\n",
      "     table-geophysical_concept-short_name\n",
      "     doi\n",
      "     image-description\n",
      "     image-link\n",
      "     image-owner\n",
      "     publication_links\n",
      "     nasa_mission\n",
      "     number_data_products\n",
      "     data_volume\n",
      "     table-repository-short_name\n",
      "     repository_website\n",
      "     project_website\n",
      "     tertiary_website\n",
      "     other_resources\n",
      "     nasa_led\n",
      "     table-partner_org-short_name\n",
      "     ignore_partner_websites\n",
      "     ongoing\n",
      "     table-gcmd_project-gcmd_uuid\n",
      "     notes_public\n",
      "     notes_internal\n",
      "     ignore_working\n",
      "     ignore_metadata_date\n",
      "     ignore_checked\n",
      "\n",
      "platform\n",
      "     short_name\n",
      "     long_name\n",
      "     ignore_alias\n",
      "     foreign-platform_type-short_name\n",
      "     stationary\n",
      "     description\n",
      "     ignore_campaigns\n",
      "     ignore_gcmd_short_names\n",
      "     table-gcmd_platform-gcmd_uuid\n",
      "     online_information\n",
      "     notes_internal\n",
      "     image-owner\n",
      "     image-description\n",
      "     image-link\n",
      "     ignore_formatting\n",
      "     ignore_home_base\n",
      "     ignore_organization\n",
      "     ignore_tail_numbers\n",
      "     ignore_asp_long_name\n",
      "\n",
      "instrument\n",
      "     ignore_gcmd_long\n",
      "     table-gcmd_instrument-gcmd_uuid\n",
      "     short_name\n",
      "     long_name\n",
      "     OLD Measurement Type\n",
      "     table-measurement_style-short_name\n",
      "     table-measurement_type-short_name\n",
      "     description\n",
      "     ignore_alias\n",
      "     ignore_measurement_keywords\n",
      "     OLD -- DO NOT USE AFTER 19 May 2020 -- GCMD Measurements/Variables UUID - internal 4-digit codes\n",
      "     table-gcmd_phenomena-ignore_code\n",
      "     ignore_geophysical_concept\n",
      "     lead_investigator\n",
      "     technical_contact\n",
      "     facility\n",
      "     funding_source\n",
      "     table-repository-short_name\n",
      "     spatial_resolution\n",
      "     temporal_resolution\n",
      "     radiometric_frequency\n",
      "     table-measurement_region-short_name\n",
      "     calibration_information\n",
      "     ignore_platforms\n",
      "     ignore_campaigns\n",
      "     instrument_manufacturer\n",
      "     online_information\n",
      "     overview_publication\n",
      "     instrument_doi\n",
      "     image-owner\n",
      "     image-description\n",
      "     image-link\n",
      "     notes_internal\n",
      "     ignore_initials\n",
      "     ignore_reviewer\n",
      "     In Backlog/To Do\n",
      "     1st Review Complete\n",
      "     2nd Review Complete\n",
      "      Admin Check Compete\n",
      "     Metadata Added\n",
      "     Non-Admin Reviews Completed\n",
      "     Done\n",
      "\n",
      "deployment\n",
      "     foreign-campaign-short_name\n",
      "     ignore_deployment_id\n",
      "     start_date\n",
      "     end_date\n",
      "     number_flights\n",
      "     long_name\n",
      "     ignore_alias\n",
      "     table-geographical_region-short_name\n",
      "     ignore_platforms\n",
      "     notes_public\n",
      "     ignore_study_region_map\n",
      "     ignore_ground_sites_map\n",
      "     ignore_flight_tracks\n",
      "     short_name\n",
      "\n",
      "linking\n",
      "     foreign-campaign-short_name\n",
      "     foreign-deployment-short_name\n",
      "     foreign-platform-short_name\n",
      "     num_ventures\n",
      "     asp_long_name\n",
      "     platform_identifier\n",
      "     home_base\n",
      "     campaign_deployment_base\n",
      "     platform_owner\n",
      "     platform_technical_contact\n",
      "     table-instrument-short_name\n",
      "     instrument_information_source\n",
      "     location_info\n",
      "     notes_internal\n",
      "\n",
      "gcmd_phenomena\n",
      "     ignore_code\n",
      "     category\n",
      "     topic\n",
      "     term\n",
      "     variable_1\n",
      "     variable_2\n",
      "     variable_3\n",
      "     gcmd_uuid\n",
      "\n",
      "gcmd_instrument\n",
      "     instrument_category\n",
      "     instrument_class\n",
      "     instrument_type\n",
      "     instrument_subtype\n",
      "     short_name\n",
      "     long_name\n",
      "     notes\n",
      "     gcmd_uuid\n",
      "\n",
      "gcmd_platform\n",
      "     category\n",
      "     series_entry\n",
      "     short_name\n",
      "     long_name\n",
      "     description\n",
      "     gcmd_uuid\n",
      "     ignore_gcmd_version\n",
      "     ignore_source_link\n",
      "\n",
      "gcmd_project\n",
      "     bucket\n",
      "     short_name\n",
      "     long_name\n",
      "     gcmd_uuid\n",
      "\n",
      "partner_org\n",
      "     short_name\n",
      "     long_name\n",
      "     ignore_alias\n",
      "     website\n",
      "     ignore_campaigns\n",
      "     other_resources\n",
      "\n",
      "collection_period\n",
      "     foreign-campaign-short_name\n",
      "     foreign-deployment-short_name\n",
      "     foreign-platform-short_name\n",
      "     num_ventures\n",
      "     asp_long_name\n",
      "     platform_identifier\n",
      "     home_base\n",
      "     campaign_deployment_base\n",
      "     platform_owner\n",
      "     platform_technical_contact\n",
      "     foreign-instrument-short_name\n",
      "     instrument_information_source\n",
      "     location_info\n",
      "     notes_internal\n",
      "     short_name\n",
      "\n",
      "iop\n",
      "     short_name\n",
      "     type\n",
      "     parent short_name\n",
      "     foreign-campaign-short_name\n",
      "     ignore_deployment\n",
      "     start_date\n",
      "     end_date\n",
      "     description\n",
      "     region_description\n",
      "     published_list\n",
      "     reports\n",
      "     reference_file\n",
      "     foreign-deployment-short_name\n",
      "\n",
      "significant_event\n",
      "     short_name\n",
      "     type\n",
      "     parent short_name\n",
      "     foreign-campaign-short_name\n",
      "     ignore_deployment\n",
      "     start_date\n",
      "     end_date\n",
      "     description\n",
      "     region_description\n",
      "     published_list\n",
      "     reports\n",
      "     reference_file\n",
      "     foreign-deployment-short_name\n",
      "\n",
      "campaign-to-focus_area\n",
      "     campaign\n",
      "     focus_area\n",
      "\n",
      "campaign-to-season\n",
      "     campaign\n",
      "     season\n",
      "\n",
      "campaign-to-platform_type\n",
      "     campaign\n",
      "     platform_type\n",
      "\n",
      "campaign-to-geophysical_concept\n",
      "     campaign\n",
      "     geophysical_concept\n",
      "\n",
      "campaign-to-repository\n",
      "     campaign\n",
      "     repository\n",
      "\n",
      "campaign-to-partner_org\n",
      "     campaign\n",
      "     partner_org\n",
      "\n",
      "campaign-to-gcmd_project\n",
      "     campaign\n",
      "     gcmd_project\n",
      "\n",
      "platform-to-gcmd_platform\n",
      "     platform\n",
      "     gcmd_platform\n",
      "\n",
      "instrument-to-gcmd_instrument\n",
      "     instrument\n",
      "     gcmd_instrument\n",
      "\n",
      "instrument-to-measurement_style\n",
      "     instrument\n",
      "     measurement_style\n",
      "\n",
      "instrument-to-measurement_type\n",
      "     instrument\n",
      "     measurement_type\n",
      "\n",
      "instrument-to-gcmd_phenomena\n",
      "     instrument\n",
      "     gcmd_phenomena\n",
      "\n",
      "instrument-to-repository\n",
      "     instrument\n",
      "     repository\n",
      "\n",
      "instrument-to-measurement_region\n",
      "     instrument\n",
      "     measurement_region\n",
      "\n",
      "deployment-to-geographical_region\n",
      "     deployment\n",
      "     geographical_region\n",
      "\n"
     ]
    }
   ],
   "source": [
    "# here I am checking to make sure that their aren't any new column\n",
    "# names I don't recognize\n",
    "\n",
    "for table in db.keys():\n",
    "    print(table)\n",
    "    for field in list(db[table].columns):\n",
    "        print('    ', field)\n",
    "    print()"
   ]
  },
  {
   "cell_type": "markdown",
   "metadata": {},
   "source": [
    "# Validation"
   ]
  },
  {
   "cell_type": "markdown",
   "metadata": {},
   "source": [
    "### Short Name Duplicates"
   ]
  },
  {
   "cell_type": "code",
   "execution_count": 6,
   "metadata": {
    "scrolled": false
   },
   "outputs": [
    {
     "name": "stdout",
     "output_type": "stream",
     "text": [
      "platform_type\n",
      "    []\n",
      "home_base\n",
      "    []\n",
      "repository\n",
      "    []\n",
      "focus_area\n",
      "    []\n",
      "season\n",
      "    []\n",
      "measurement_type\n",
      "    []\n",
      "measurement_style\n",
      "    []\n",
      "measurement_region\n",
      "    []\n",
      "geographical_region\n",
      "    []\n",
      "geophysical_concept\n",
      "    []\n",
      "campaign\n",
      "    []\n",
      "platform\n",
      "    ['informationnotavailable']\n",
      "instrument\n",
      "    ['atsp', 'informationnotavailable']\n",
      "deployment\n",
      "    []\n",
      "gcmd_instrument\n",
      "    ['atlas', 'informationnotavailable', 'wcr', 'epic', 'opc', 'gnssreceiver', 'cris', 'aa', 'iris', 'particlespectrometers', 'ssies', 'icecube', 'aps']\n",
      "gcmd_platform\n",
      "    ['kingair', 'informationnotavailable', 'goes10', 'goes11', 'goes12', 'goes13', 'goes14', 'goes15', 'goes16', 'goes1', 'goes2', 'goes3', 'goes4', 'goes5', 'goes6', 'goes7', 'goes8', 'goes9', 'environmentalmodeling']\n",
      "gcmd_project\n",
      "    ['afsisclimate', 'camp', 'informationnotavailable', 'iodp', 'landsat7', 'mcmurdopredatorprey', 'notapplicable']\n",
      "partner_org\n",
      "    []\n",
      "iop\n",
      "    []\n",
      "significant_event\n",
      "    []\n"
     ]
    }
   ],
   "source": [
    "for table_name in db.keys():\n",
    "    if table_name == 'collection_period':\n",
    "        # this is being skipped because it has been broken out by instrument\n",
    "        # and therefore it has duplicate short_names\n",
    "        continue\n",
    "        \n",
    "    if 'short_name' in db[table_name].keys():\n",
    "        print(table_name)\n",
    "        duplicates = validate.find_duplicates(db, table_name, 'short_name')\n",
    "\n",
    "        print(f'    {duplicates}')"
   ]
  },
  {
   "cell_type": "markdown",
   "metadata": {},
   "source": [
    "### Foriegn Key Links"
   ]
  },
  {
   "cell_type": "code",
   "execution_count": 7,
   "metadata": {},
   "outputs": [],
   "source": [
    "foreign_data_tables = [table_name for table_name in db.keys() if '-to-' in table_name]\n",
    "primary_mapping = json.load(open('config/mapping_primary.json', 'r'))"
   ]
  },
  {
   "cell_type": "code",
   "execution_count": 8,
   "metadata": {
    "scrolled": true
   },
   "outputs": [],
   "source": [
    "error_log = []\n",
    "for data_table in foreign_data_tables:\n",
    "    data_index = data_table.split('-')[0]\n",
    "    data_column = foriegn_table = data_table.split('-')[2]\n",
    "    foriegn_column = primary_mapping[foriegn_table]    \n",
    "    \n",
    "    errors = validate.foriegn_keys(db, \n",
    "                                    data_table=data_table,\n",
    "                                    data_index=data_index,\n",
    "                                    data_column=data_column,\n",
    "                                    foriegn_table=foriegn_table,\n",
    "                                    foriegn_column=foriegn_column\n",
    "    )\n",
    "    error_log.append([data_table, errors])"
   ]
  },
  {
   "cell_type": "code",
   "execution_count": 9,
   "metadata": {
    "scrolled": false
   },
   "outputs": [
    {
     "name": "stdout",
     "output_type": "stream",
     "text": [
      "\n",
      "\n",
      "0\n",
      "campaign-to-focus_area\n",
      "Empty DataFrame\n",
      "Columns: [campaign, focus_area, suggestions]\n",
      "Index: []\n",
      "\n",
      "\n",
      "1\n",
      "campaign-to-season\n",
      "Empty DataFrame\n",
      "Columns: [campaign, season, suggestions]\n",
      "Index: []\n",
      "\n",
      "\n",
      "2\n",
      "campaign-to-platform_type\n",
      "Empty DataFrame\n",
      "Columns: [campaign, platform_type, suggestions]\n",
      "Index: []\n",
      "\n",
      "\n",
      "3\n",
      "campaign-to-geophysical_concept\n",
      "Empty DataFrame\n",
      "Columns: [campaign, geophysical_concept, suggestions]\n",
      "Index: []\n",
      "\n",
      "\n",
      "4\n",
      "campaign-to-repository\n",
      "Empty DataFrame\n",
      "Columns: [campaign, repository, suggestions]\n",
      "Index: []\n",
      "\n",
      "\n",
      "5\n",
      "campaign-to-partner_org\n",
      "Empty DataFrame\n",
      "Columns: [campaign, partner_org, suggestions]\n",
      "Index: []\n",
      "\n",
      "\n",
      "6\n",
      "campaign-to-gcmd_project\n",
      "   campaign                          gcmd_project suggestions\n",
      "0    ACEPOL  e0a48b3c-ab3d-4331-b992-367352d5c09c          []\n",
      "21      OMG  5a8bb977-73f5-4454-a072-0ee0483868da          []\n",
      "\n",
      "\n",
      "7\n",
      "platform-to-gcmd_platform\n",
      "Empty DataFrame\n",
      "Columns: [platform, gcmd_platform, suggestions]\n",
      "Index: []\n",
      "\n",
      "\n",
      "8\n",
      "instrument-to-gcmd_instrument\n",
      "              instrument                       gcmd_instrument suggestions\n",
      "7                 4-STAR  b0f93e6a-c766-4957-8762-5c7709487459          []\n",
      "65                   CIP  92f99316-b581-4adb-9980-aeb6bed64eee          []\n",
      "134            GLISTIN-A  6306cc51-41a4-4b1a-af8f-e60adfb656f0          []\n",
      "146               HSRL-2  abdf08cd-03c5-4497-87a4-65493584e2c7          []\n",
      "202  Optical Disdrometer  bd629a09-0521-4220-b2d9-9ba5ba5985db          []\n",
      "\n",
      "\n",
      "9\n",
      "instrument-to-measurement_style\n",
      "    instrument measurement_style suggestions\n",
      "169       MIPS             Other          []\n",
      "\n",
      "\n",
      "10\n",
      "instrument-to-measurement_type\n",
      "Empty DataFrame\n",
      "Columns: [instrument, measurement_type, suggestions]\n",
      "Index: []\n",
      "\n",
      "\n",
      "11\n",
      "instrument-to-gcmd_phenomena\n",
      "Empty DataFrame\n",
      "Columns: [instrument, gcmd_phenomena, suggestions]\n",
      "Index: []\n",
      "\n",
      "\n",
      "12\n",
      "instrument-to-repository\n",
      "    instrument repository suggestions\n",
      "210       MPAR       UCAR          []\n",
      "327        TSI        ARM          []\n",
      "\n",
      "\n",
      "13\n",
      "instrument-to-measurement_region\n",
      "Empty DataFrame\n",
      "Columns: [instrument, measurement_region, suggestions]\n",
      "Index: []\n",
      "\n",
      "\n",
      "14\n",
      "deployment-to-geographical_region\n",
      "Empty DataFrame\n",
      "Columns: [deployment, geographical_region, suggestions]\n",
      "Index: []\n"
     ]
    }
   ],
   "source": [
    "for index, log in enumerate(error_log):\n",
    "    print()\n",
    "    print()\n",
    "    print(index)\n",
    "    print(log[0])\n",
    "    print(log[1])"
   ]
  },
  {
   "cell_type": "code",
   "execution_count": 10,
   "metadata": {
    "scrolled": true
   },
   "outputs": [],
   "source": [
    "#########################################################\n",
    "# run with caution, removes all errors indescriminately #\n",
    "#########################################################\n",
    "\n",
    "for index, log in enumerate(error_log):\n",
    "    table_name = log[0]\n",
    "    errors = log[1]\n",
    "    db[table_name].drop(list(errors.index), inplace=True)"
   ]
  },
  {
   "cell_type": "code",
   "execution_count": 11,
   "metadata": {},
   "outputs": [],
   "source": [
    "# correct_values(\n",
    "#     db=db,\n",
    "#     table_name = 'instrument-to-instrument_type',\n",
    "#     column = 'instrument_type',\n",
    "#     wrong_value = 'Passive - Remote Sensing',\n",
    "#     correct_value = 'Remote - Passive')"
   ]
  },
  {
   "cell_type": "code",
   "execution_count": 18,
   "metadata": {},
   "outputs": [
    {
     "name": "stdout",
     "output_type": "stream",
     "text": [
      "platform_type\n",
      "    foreign-platform_type-short_name\n",
      "measurement_type\n",
      "    foreign-measurement_type-short_name\n",
      "measurement_style\n",
      "    foreign-measurement_style-short_name\n",
      "platform\n",
      "    foreign-platform_type-short_name\n",
      "deployment\n",
      "    foreign-campaign-short_name\n",
      "collection_period\n",
      "    foreign-campaign-short_name\n",
      "    foreign-deployment-short_name\n",
      "    foreign-platform-short_name\n",
      "    foreign-instrument-short_name\n",
      "iop\n",
      "    foreign-campaign-short_name\n",
      "    foreign-deployment-short_name\n",
      "significant_event\n",
      "    foreign-campaign-short_name\n",
      "    foreign-deployment-short_name\n"
     ]
    }
   ],
   "source": [
    "error_log_2 = []\n",
    "for table in db.keys():\n",
    "    # linking is no longer important after collection period is made\n",
    "    if table == 'linking':\n",
    "        continue\n",
    "    for column in db[table].keys():\n",
    "        if 'foreign' in column:\n",
    "            print(table)\n",
    "            break\n",
    "    for column in db[table].keys():\n",
    "        if 'foreign' in column:            \n",
    "            print('   ', column)\n",
    "                      \n",
    "            data_table = table\n",
    "            data_index = 'short_name'\n",
    "            data_column = column\n",
    "            foriegn_table = column.split('-')[1]\n",
    "            foriegn_column = 'short_name'\n",
    "            \n",
    "            errors = validate.foriegn_keys(db, \n",
    "                                            data_table=data_table,\n",
    "                                            data_index=data_index,\n",
    "                                            data_column=data_column,\n",
    "                                            foriegn_table=foriegn_table,\n",
    "                                            foriegn_column=foriegn_column\n",
    "            )\n",
    "            error_log_2.append([table, errors])                       "
   ]
  },
  {
   "cell_type": "code",
   "execution_count": 19,
   "metadata": {
    "scrolled": true
   },
   "outputs": [
    {
     "name": "stdout",
     "output_type": "stream",
     "text": [
      "\n",
      "\n",
      "0\n",
      "platform_type\n",
      "                   short_name foreign-platform_type-short_name suggestions\n",
      "3               Air Platforms                             none          []\n",
      "11             Land Platforms                             none          []\n",
      "16            Water Platforms                             none          []\n",
      "28            Living organism                             none          []\n",
      "29                    Visuals                             none          []\n",
      "30                 Satellites                             none          []\n",
      "31          Manned Spacecraft                             none          []\n",
      "32                     Models                             none          []\n",
      "33  Information Not Available                             none          []\n",
      "\n",
      "\n",
      "1\n",
      "measurement_type\n",
      "Empty DataFrame\n",
      "Columns: [short_name, foreign-measurement_type-short_name, suggestions]\n",
      "Index: []\n",
      "\n",
      "\n",
      "2\n",
      "measurement_style\n",
      "Empty DataFrame\n",
      "Columns: [short_name, foreign-measurement_style-short_name, suggestions]\n",
      "Index: []\n",
      "\n",
      "\n",
      "3\n",
      "platform\n",
      "Empty DataFrame\n",
      "Columns: [short_name, foreign-platform_type-short_name, suggestions]\n",
      "Index: []\n",
      "\n",
      "\n",
      "4\n",
      "deployment\n",
      "Empty DataFrame\n",
      "Columns: [short_name, foreign-campaign-short_name, suggestions]\n",
      "Index: []\n",
      "\n",
      "\n",
      "5\n",
      "collection_period\n",
      "Empty DataFrame\n",
      "Columns: [short_name, foreign-campaign-short_name, suggestions]\n",
      "Index: []\n",
      "\n",
      "\n",
      "6\n",
      "collection_period\n",
      "Empty DataFrame\n",
      "Columns: [short_name, foreign-deployment-short_name, suggestions]\n",
      "Index: []\n",
      "\n",
      "\n",
      "7\n",
      "collection_period\n",
      "Empty DataFrame\n",
      "Columns: [short_name, foreign-platform-short_name, suggestions]\n",
      "Index: []\n",
      "\n",
      "\n",
      "8\n",
      "collection_period\n",
      "                        short_name           foreign-instrument-short_name  \\\n",
      "51       OLYMPEX_dep_2015_Citation                                     2DC   \n",
      "52       OLYMPEX_dep_2015_Citation                                Nevzorov   \n",
      "57            OLYMPEX_dep_2015_ASO                    imaging spectrometer   \n",
      "58    OLYMPEX_dep_2015_Campaign FS                                     DVD   \n",
      "61    OLYMPEX_dep_2015_Campaign FS                  snow poles and cameras   \n",
      "62    OLYMPEX_dep_2015_Campaign FS                             radiosondes   \n",
      "67    OLYMPEX_dep_2015_Campaign FS                            X band radar   \n",
      "76         IPHEx_dep_2014_Citation                                    2D-C   \n",
      "89      IPHEx_dep_2014_Campaign FS                                     MWR   \n",
      "93      IPHEx_dep_2014_Campaign FS                            stream gauge   \n",
      "94      IPHEx_dep_2014_Campaign FS                     soil mositure probe   \n",
      "95      IPHEx_dep_2014_Campaign FS                              ceilometer   \n",
      "99      IPHEx_dep_2014_Campaign FS                          JW disdrometer   \n",
      "100     IPHEx_dep_2014_Campaign FS                                           \n",
      "101     IPHEx_dep_2014_Campaign PL                              flux tower   \n",
      "110     CARVE_dep_2012_Campaign FS                             LI-COR(CRV)   \n",
      "119     CARVE_dep_2013_Campaign FS                             LI-COR(CRV)   \n",
      "128     CARVE_dep_2014_Campaign FS                             LI-COR(CRV)   \n",
      "137     CARVE_dep_2015_Campaign FS                             LI-COR(CRV)   \n",
      "154          GCPEx_dep_2012_CV-580                                     CCP   \n",
      "160          GCPEx_dep_2012_CV-580                              NAWX radar   \n",
      "216    SEAC4RS_dep_2013_Campaign B                                     ECC   \n",
      "348           BOREAS_dep_1994_UH-1                    C-band Scatterometer   \n",
      "377      ACES_dep_2002_Campaign FS                             Rain Gauges   \n",
      "381      ACES_dep_2002_Campaign PL                                 WSR-74C   \n",
      "389             GRIP_dep_2010_DC-8                               PIP probe   \n",
      "393             GRIP_dep_2010_DC-8                                    LASE   \n",
      "716        DC3_dep_2012_Campaign V                                 SMART-R   \n",
      "818            NAMMA_dep_2006_DC-8                                    LASE   \n",
      "820            NAMMA_dep_2006_DC-8                              Dropsondes   \n",
      "821            NAMMA_dep_2006_DC-8                                Gen-Chem   \n",
      "822             NAMMA_dep_2006_P-3                              Dropsondes   \n",
      "827            NAMMA_dep_2006_G-IV                              Dropsondes   \n",
      "914           ARCTAS_dep_2008a_P-3                                   ATLAS   \n",
      "922         ARCTAS_dep_2008a_B-200                                    HSRL   \n",
      "950           ARCTAS_dep_2008b_P-3                                   ATLAS   \n",
      "984           ARCTAS_dep_2008c_P-3                                   ATLAS   \n",
      "992         ARCTAS_dep_2008c_B-200                                    HSRL   \n",
      "1098           SnowEx_dep_2016_P-3                            Video camera   \n",
      "1214           LPVEx_dep_2010_UWKA                            W-band Radar   \n",
      "1221    LPVEx_dep_2010_Campaign PL  Dual-Polarimetric C-Band Doppler Radar   \n",
      "1226    LPVEx_dep_2010_Campaign FS                              SWE probes   \n",
      "1227    LPVEx_dep_2010_Campaign FS                                ADMIRARI   \n",
      "1235         HyMeX_dep_2012_Falcon                              dropsondes   \n",
      "1238         HyMeX_dep_2012_Falcon                               PIP probe   \n",
      "1241         HyMeX_dep_2012_ATR-42                                EANDRE 2   \n",
      "1275    HyMeX_dep_2012_Campaign PW                           GPS receivers   \n",
      "1280    HyMeX_dep_2012_Campaign FS                            X-band radar   \n",
      "1283    HyMeX_dep_2012_Campaign FS                            C-band Radar   \n",
      "1284    HyMeX_dep_2012_Campaign FS                           Ku-band Radar   \n",
      "1285    HyMeX_dep_2012_Campaign FS                            W-band Radar   \n",
      "1327             TCSP_dep_2005_P-3                            C-band radar   \n",
      "1436           OMG_dep_2016a_G-III                               GLISTEN-A   \n",
      "1439     OMG_dep_2016b_Cessna 208B                                 AIRGrav   \n",
      "1442           OMG_dep_2017a_G-III                               GLISTEN-A   \n",
      "1447           OMG_dep_2018a_G-III                               GLISTEN-A   \n",
      "1449           OMG_dep_2019a_G-III                               GLISTEN-A   \n",
      "1452          TARFOX_dep_1996_ER-2                                    LASE   \n",
      "\n",
      "                                         suggestions  \n",
      "51                                          [2D-C/P]  \n",
      "52                                  [Nevzorov Probe]  \n",
      "57                                    [Spectrometer]  \n",
      "58                                        [2DVD, DV]  \n",
      "61                                                []  \n",
      "62                      [GPS radiosonde, Radiosonde]  \n",
      "67                                    [S-band Radar]  \n",
      "76                                          [2D-C/P]  \n",
      "89                                                []  \n",
      "93                                                []  \n",
      "94                                                []  \n",
      "95    [Accelerometer, Ceilometers, Lidar Ceilometer]  \n",
      "99                                                []  \n",
      "100                                               []  \n",
      "101                                 [FLUXNET towers]  \n",
      "110                                               []  \n",
      "119                                               []  \n",
      "128                                               []  \n",
      "137                                               []  \n",
      "154                                               []  \n",
      "160                                               []  \n",
      "216                                               []  \n",
      "348                                               []  \n",
      "377                                     [Rain Gauge]  \n",
      "381                                               []  \n",
      "389                                               []  \n",
      "393                                               []  \n",
      "716                                          [SMART]  \n",
      "818                                               []  \n",
      "820                                      [Dropsonde]  \n",
      "821                                               []  \n",
      "822                                      [Dropsonde]  \n",
      "827                                      [Dropsonde]  \n",
      "914                                          [ALIAS]  \n",
      "922                                         [HSRL-2]  \n",
      "950                                          [ALIAS]  \n",
      "984                                          [ALIAS]  \n",
      "992                                         [HSRL-2]  \n",
      "1098                                              []  \n",
      "1214                                  [S-band Radar]  \n",
      "1221                                              []  \n",
      "1226                                              []  \n",
      "1227                                              []  \n",
      "1235                                     [Dropsonde]  \n",
      "1238                                              []  \n",
      "1241                                              []  \n",
      "1275                                              []  \n",
      "1280                                  [S-band Radar]  \n",
      "1283                                  [S-band Radar]  \n",
      "1284                                  [S-band Radar]  \n",
      "1285                                  [S-band Radar]  \n",
      "1327                                  [S-band Radar]  \n",
      "1436                                     [GLISTIN-A]  \n",
      "1439                                              []  \n",
      "1442                                     [GLISTIN-A]  \n",
      "1447                                     [GLISTIN-A]  \n",
      "1449                                     [GLISTIN-A]  \n",
      "1452                                              []  \n",
      "\n",
      "\n",
      "9\n",
      "iop\n",
      "Empty DataFrame\n",
      "Columns: [short_name, foreign-campaign-short_name, suggestions]\n",
      "Index: []\n",
      "\n",
      "\n",
      "10\n",
      "iop\n",
      "2   short_name foreign-deployment-short_name  \\\n",
      "280  omg_iop_9                 OMG_deb_2019b   \n",
      "\n",
      "2                                          suggestions  \n",
      "280  [OMG_dep_2015, OMG_dep_2016b, OMG_dep_2017b, O...  \n",
      "\n",
      "\n",
      "11\n",
      "significant_event\n",
      "Empty DataFrame\n",
      "Columns: [short_name, foreign-campaign-short_name, suggestions]\n",
      "Index: []\n",
      "\n",
      "\n",
      "12\n",
      "significant_event\n",
      "Empty DataFrame\n",
      "Columns: [short_name, foreign-deployment-short_name, suggestions]\n",
      "Index: []\n"
     ]
    }
   ],
   "source": [
    "for index, log in enumerate(error_log_2):\n",
    "    print()\n",
    "    print()\n",
    "    print(index)\n",
    "    print(log[0])\n",
    "    print(log[1])"
   ]
  },
  {
   "cell_type": "code",
   "execution_count": 20,
   "metadata": {},
   "outputs": [
    {
     "data": {
      "text/plain": [
       "'collection_period'"
      ]
     },
     "execution_count": 20,
     "metadata": {},
     "output_type": "execute_result"
    }
   ],
   "source": [
    "table_name"
   ]
  },
  {
   "cell_type": "code",
   "execution_count": 21,
   "metadata": {},
   "outputs": [
    {
     "name": "stdout",
     "output_type": "stream",
     "text": [
      "platform\n",
      "deployment\n",
      "collection_period\n",
      "collection_period\n",
      "collection_period\n",
      "collection_period\n",
      "iop\n",
      "iop\n",
      "significant_event\n",
      "significant_event\n"
     ]
    }
   ],
   "source": [
    "#########################################################\n",
    "# run with caution, removes all errors indescriminately #\n",
    "#########################################################\n",
    "\n",
    "for index, log in enumerate(error_log_2):\n",
    "    if 'measurement' not in log[0] and 'platform_type' not in log[0]:\n",
    "        print(log[0])\n",
    "        table_name = log[0]\n",
    "        errors = log[1]\n",
    "        db[table_name].drop(list(errors.index), inplace=True)"
   ]
  },
  {
   "cell_type": "code",
   "execution_count": null,
   "metadata": {},
   "outputs": [],
   "source": [
    "assert 5==6"
   ]
  },
  {
   "cell_type": "code",
   "execution_count": null,
   "metadata": {},
   "outputs": [],
   "source": [
    "# run with caution, removes all errors indescriminately\n",
    "db['iop'].drop(list(errors.index), inplace=True)"
   ]
  },
  {
   "cell_type": "code",
   "execution_count": 23,
   "metadata": {},
   "outputs": [
    {
     "data": {
      "text/html": [
       "<div>\n",
       "<style scoped>\n",
       "    .dataframe tbody tr th:only-of-type {\n",
       "        vertical-align: middle;\n",
       "    }\n",
       "\n",
       "    .dataframe tbody tr th {\n",
       "        vertical-align: top;\n",
       "    }\n",
       "\n",
       "    .dataframe thead th {\n",
       "        text-align: right;\n",
       "    }\n",
       "</style>\n",
       "<table border=\"1\" class=\"dataframe\">\n",
       "  <thead>\n",
       "    <tr style=\"text-align: right;\">\n",
       "      <th>2</th>\n",
       "      <th>short_name</th>\n",
       "      <th>foreign-deployment-short_name</th>\n",
       "      <th>suggestions</th>\n",
       "    </tr>\n",
       "  </thead>\n",
       "  <tbody>\n",
       "  </tbody>\n",
       "</table>\n",
       "</div>"
      ],
      "text/plain": [
       "Empty DataFrame\n",
       "Columns: [short_name, foreign-deployment-short_name, suggestions]\n",
       "Index: []"
      ]
     },
     "execution_count": 23,
     "metadata": {},
     "output_type": "execute_result"
    }
   ],
   "source": [
    "errors = validate.foriegn_keys(db, \n",
    "                                data_table='significant_event', \n",
    "                                data_index='short_name', \n",
    "                                data_column='foreign-deployment-short_name', \n",
    "                                foriegn_table='deployment', \n",
    "                                foriegn_column='short_name')\n",
    "errors"
   ]
  },
  {
   "cell_type": "markdown",
   "metadata": {},
   "source": [
    "### Flight"
   ]
  },
  {
   "cell_type": "code",
   "execution_count": null,
   "metadata": {},
   "outputs": [],
   "source": [
    "# remove collection periods with bad instrument links\n",
    "db['collection_period'].drop(list(errors.index), inplace=True)"
   ]
  },
  {
   "cell_type": "code",
   "execution_count": null,
   "metadata": {},
   "outputs": [],
   "source": [
    "# remove collection periods with bad platform links\n",
    "db['collection_period'].drop(list(errors.index), inplace=True)"
   ]
  },
  {
   "cell_type": "code",
   "execution_count": null,
   "metadata": {},
   "outputs": [],
   "source": [
    "# remove collection periods with bad deployment links\n",
    "db['collection_period'].drop(list(errors.index), inplace=True)"
   ]
  },
  {
   "cell_type": "code",
   "execution_count": null,
   "metadata": {},
   "outputs": [],
   "source": []
  },
  {
   "cell_type": "markdown",
   "metadata": {
    "heading_collapsed": true
   },
   "source": [
    "# Dates"
   ]
  },
  {
   "cell_type": "code",
   "execution_count": null,
   "metadata": {
    "hidden": true
   },
   "outputs": [],
   "source": [
    "for table_name in db.keys():\n",
    "    # find tables that have date fields\n",
    "    if len(col_names := [col for col in db[table_name].columns if 'date' in col])>0:\n",
    "        print(f\"{table_name}\\n    {', '.join(col_names)}\")"
   ]
  },
  {
   "cell_type": "code",
   "execution_count": null,
   "metadata": {
    "hidden": true,
    "scrolled": true
   },
   "outputs": [],
   "source": [
    "table_names = ['campaign', 'deployment', 'iopse'] \n",
    "for table_name in table_names:\n",
    "    print(table_name)\n",
    "    db[table_name]['valid_date']=False\n",
    "    \n",
    "    db[table_name]['valid_date'] = db[table_name].apply(lambda row: validate.vali_date(row['start_date'], row['end_date']), axis=1)\n",
    "        "
   ]
  },
  {
   "cell_type": "code",
   "execution_count": null,
   "metadata": {
    "hidden": true,
    "scrolled": true
   },
   "outputs": [],
   "source": [
    "# this field no longer exists?\n",
    "\n",
    "# table_names = ['instrument'] \n",
    "# for table_name in table_names:\n",
    "    \n",
    "#     db[table_name]['valid_date']=False\n",
    "#     db[table_name]['valid_date'] = db[table_name].apply(lambda row: validate.vali_date(row['deployment_date'], row['decommision_date']), axis=1)\n",
    "       "
   ]
  },
  {
   "cell_type": "code",
   "execution_count": null,
   "metadata": {
    "hidden": true,
    "scrolled": true
   },
   "outputs": [],
   "source": [
    "db['campaign'][['short_name','start_date','end_date','valid_date']][db['campaign']['valid_date'].apply(lambda x: not(x))]"
   ]
  },
  {
   "cell_type": "markdown",
   "metadata": {
    "heading_collapsed": true
   },
   "source": [
    "# IOPSE"
   ]
  },
  {
   "cell_type": "code",
   "execution_count": null,
   "metadata": {
    "hidden": true,
    "scrolled": true
   },
   "outputs": [],
   "source": [
    "db['iop']"
   ]
  },
  {
   "cell_type": "code",
   "execution_count": null,
   "metadata": {
    "hidden": true,
    "scrolled": true
   },
   "outputs": [],
   "source": [
    "# validate that all iops are unique, should return an empty list\n",
    "\n",
    "db['iop']['short_name'][db['iop']['short_name'].duplicated()]"
   ]
  },
  {
   "cell_type": "code",
   "execution_count": null,
   "metadata": {
    "hidden": true
   },
   "outputs": [],
   "source": [
    "# if sig event has matching iop, link them\n",
    "\n",
    "# if sig event doesn't have matching iop, delete it so there will be no foriegn key"
   ]
  },
  {
   "cell_type": "code",
   "execution_count": null,
   "metadata": {
    "hidden": true,
    "scrolled": true
   },
   "outputs": [],
   "source": [
    "# tag significant events that have IOPs\n",
    "\n",
    "db['significant_event']['has_iop'] = db['significant_event']['iop_short_name'].apply(lambda short_name: short_name in list(db['iop']['iop_short_name']))\n"
   ]
  },
  {
   "cell_type": "code",
   "execution_count": null,
   "metadata": {
    "hidden": true,
    "scrolled": true
   },
   "outputs": [],
   "source": [
    "# # check that all significant events with an iop have an iop\n",
    "\n",
    "# s_i = set(db['iop']['iop_short_name'])\n",
    "# s_s = set(has_iop['iop_short_name'])\n",
    "# [s for s in s_s if s not in s_i]"
   ]
  },
  {
   "cell_type": "code",
   "execution_count": null,
   "metadata": {
    "hidden": true
   },
   "outputs": [],
   "source": [
    "from datetime import datetime\n",
    "# sig event start >= iop start\n",
    "\n",
    "def start_val(sig_row, db):\n",
    "    large_date = sig_row['start_date']\n",
    "    small_date = db['iop'][db['iop']['iop_short_name']==sig_row['iop_short_name']]['start_date'].iloc[0]\n",
    "    val = large_date >= small_date\n",
    "    return val\n",
    "\n",
    "def end_val(sig_row, db):\n",
    "    large_date = sig_row['end_date']\n",
    "    small_date = db['iop'][db['iop']['iop_short_name']==sig_row['iop_short_name']]['end_date'].iloc[0]\n",
    "    val = large_date <= small_date\n",
    "    return val\n",
    "\n",
    "has_iop = db['significant_event'][db['significant_event']['has_iop']].copy()\n",
    "val_iop_date_start = has_iop.apply(lambda row: not(start_val(row, db)), axis=1)\n",
    "val_iop_date_end = has_iop.apply(lambda row: not(end_val(row, db)), axis=1)"
   ]
  },
  {
   "cell_type": "code",
   "execution_count": null,
   "metadata": {
    "hidden": true,
    "scrolled": true
   },
   "outputs": [],
   "source": [
    "# display incorrect start dates\n",
    "has_iop[val_iop_date_start]"
   ]
  },
  {
   "cell_type": "code",
   "execution_count": null,
   "metadata": {
    "hidden": true,
    "scrolled": true
   },
   "outputs": [],
   "source": [
    "# display incorrect end dates\n",
    "has_iop[val_iop_date_end]"
   ]
  },
  {
   "cell_type": "markdown",
   "metadata": {},
   "source": [
    "# Filter GCMD Tables"
   ]
  },
  {
   "cell_type": "code",
   "execution_count": null,
   "metadata": {},
   "outputs": [],
   "source": []
  },
  {
   "cell_type": "code",
   "execution_count": null,
   "metadata": {
    "scrolled": true
   },
   "outputs": [],
   "source": [
    "links = list(set(list(db['platform_type']['foreign-platform_type-short_name'])))\n",
    "full = list(db['platform_type']['short_name'])\n",
    "[link for link in links if link not in full]"
   ]
  },
  {
   "cell_type": "code",
   "execution_count": 24,
   "metadata": {},
   "outputs": [],
   "source": [
    "db = filter_gcmd_tables(db)"
   ]
  },
  {
   "cell_type": "markdown",
   "metadata": {},
   "source": [
    "### Pickle the Data"
   ]
  },
  {
   "cell_type": "code",
   "execution_count": 25,
   "metadata": {},
   "outputs": [],
   "source": [
    "import pickle"
   ]
  },
  {
   "cell_type": "code",
   "execution_count": 26,
   "metadata": {},
   "outputs": [],
   "source": [
    "pickle.dump(db, open('ingest_data/db_20201025','wb'))"
   ]
  },
  {
   "cell_type": "code",
   "execution_count": null,
   "metadata": {},
   "outputs": [],
   "source": []
  },
  {
   "cell_type": "code",
   "execution_count": null,
   "metadata": {},
   "outputs": [],
   "source": []
  },
  {
   "cell_type": "code",
   "execution_count": null,
   "metadata": {},
   "outputs": [],
   "source": [
    "db['campaign']['nasa_led']"
   ]
  },
  {
   "cell_type": "code",
   "execution_count": null,
   "metadata": {},
   "outputs": [],
   "source": [
    "[key for key in db.keys() if 'gcmd' in key]"
   ]
  }
 ],
 "metadata": {
  "kernelspec": {
   "display_name": "Django Shell-Plus",
   "language": "python",
   "name": "django_extensions"
  },
  "language_info": {
   "codemirror_mode": {
    "name": "ipython",
    "version": 3
   },
   "file_extension": ".py",
   "mimetype": "text/x-python",
   "name": "python",
   "nbconvert_exporter": "python",
   "pygments_lexer": "ipython3",
   "version": "3.8.2"
  }
 },
 "nbformat": 4,
 "nbformat_minor": 2
}
