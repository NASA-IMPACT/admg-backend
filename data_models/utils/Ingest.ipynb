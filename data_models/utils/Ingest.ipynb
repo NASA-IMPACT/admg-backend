{
 "cells": [
  {
   "cell_type": "markdown",
   "metadata": {},
   "source": [
    "# Imports"
   ]
  },
  {
   "cell_type": "code",
   "execution_count": 1,
   "metadata": {},
   "outputs": [],
   "source": [
    "import pandas as pd\n",
    "import json\n",
    "import validate\n",
    "from general import many_to_many, many_cols\n",
    "import ingest\n",
    "import clean"
   ]
  },
  {
   "cell_type": "markdown",
   "metadata": {},
   "source": [
    "# Pull Data into Pandas"
   ]
  },
  {
   "cell_type": "code",
   "execution_count": 2,
   "metadata": {},
   "outputs": [],
   "source": [
    "data = ingest.main('Updated Inventory.xlsx')"
   ]
  },
  {
   "cell_type": "code",
   "execution_count": 3,
   "metadata": {},
   "outputs": [],
   "source": [
    "excel_data = data['excel_data']\n",
    "db = data['database']"
   ]
  },
  {
   "cell_type": "markdown",
   "metadata": {},
   "source": [
    "# Cleaning"
   ]
  },
  {
   "cell_type": "code",
   "execution_count": 4,
   "metadata": {},
   "outputs": [],
   "source": [
    "db = clean.remove_NaN_columns(db)"
   ]
  },
  {
   "cell_type": "code",
   "execution_count": 5,
   "metadata": {},
   "outputs": [
    {
     "name": "stdout",
     "output_type": "stream",
     "text": [
      "['short_name', 'TYPE (IOP or SE)', 'parent short_name', 'foreign_campaign_short_name', 'ADMG Deployment Name', 'description', 'region_description', 'published_list', 'reports', 'reference_file']\n"
     ]
    }
   ],
   "source": [
    "db = clean.strip_all_columns(db)"
   ]
  },
  {
   "cell_type": "code",
   "execution_count": 6,
   "metadata": {},
   "outputs": [],
   "source": [
    "db['gcmd_phenomena']['table_code'] = db['gcmd_phenomena']['table_code'].apply(lambda x: str(x))"
   ]
  },
  {
   "cell_type": "markdown",
   "metadata": {},
   "source": [
    "# Short Name Supplementation"
   ]
  },
  {
   "cell_type": "code",
   "execution_count": 22,
   "metadata": {
    "scrolled": true
   },
   "outputs": [],
   "source": [
    "# make unique shortname by combining the campaign name and the table sub short name\n",
    "\n",
    "db['deployment']['short_name'] = db['deployment']['foreign_campaign_short_name']+'_'+db['deployment']['ignore_deployment_id']\n",
    "\n",
    "db['collection_period'] = many_to_many(db, 'linking', 'table_instrument', keep_all=True)\n",
    "db['collection_period']['foreign_campaign_short_name'] = db['collection_period']['foreign_campaign_short_name']+'_'+db['collection_period']['foreign_deployment']"
   ]
  },
  {
   "cell_type": "markdown",
   "metadata": {},
   "source": [
    "# Find Matching Deployments for IOPSE"
   ]
  },
  {
   "cell_type": "code",
   "execution_count": 11,
   "metadata": {},
   "outputs": [
    {
     "name": "stderr",
     "output_type": "stream",
     "text": [
      "/home/carson/anaconda3/envs/admg/lib/python3.8/site-packages/pandas/core/computation/expressions.py:177: UserWarning: evaluating in Python space because the '*' operator is not supported by numexpr for the bool dtype, use '&' instead\n",
      "  warnings.warn(\n",
      "/home/carson/anaconda3/envs/admg/lib/python3.8/site-packages/pandas/core/indexing.py:671: SettingWithCopyWarning: \n",
      "A value is trying to be set on a copy of a slice from a DataFrame\n",
      "\n",
      "See the caveats in the documentation: https://pandas.pydata.org/pandas-docs/stable/user_guide/indexing.html#returning-a-view-versus-a-copy\n",
      "  self._setitem_with_indexer(indexer, value)\n"
     ]
    }
   ],
   "source": [
    "db['iopse']['deployment_short_name'] = 'No Matches'\n",
    "\n",
    "for row in range(len(db['iopse'])):\n",
    "    iop_start = db['iopse'].iloc[row]['start_date']\n",
    "    iop_end = db['iopse'].iloc[row]['end_date']\n",
    "    iop_camp = db['iopse'].iloc[row]['foreign_campaign_short_name']\n",
    "    \n",
    "    campaign_filter = db['deployment']['foreign_campaign_short_name'].apply(lambda short_name: short_name == iop_camp)\n",
    "    possible_campaigns = db['deployment'][campaign_filter]\n",
    "    \n",
    "    start_filter = possible_campaigns['start_date'].apply(lambda dep_start: validate.vali_date(dep_start, iop_start))\n",
    "    end_filter = possible_campaigns['end_date'].apply(lambda dep_end: validate.vali_date(iop_end, dep_end))\n",
    "    \n",
    "    matching_deployments = list(possible_campaigns[start_filter*end_filter]['short_name'])\n",
    "    if len(matching_deployments)>1:\n",
    "        print(f\"error on {db['iopse'].iloc[row]}\")\n",
    "    elif len(matching_deployments)==1:\n",
    "        matching_deployments = matching_deployments[0]\n",
    "    else:\n",
    "        matching_deployments = 'None Found'\n",
    "    db['iopse']['deployment_short_name'].iloc[row]=matching_deployments"
   ]
  },
  {
   "cell_type": "markdown",
   "metadata": {},
   "source": [
    "# Many to Many Creation"
   ]
  },
  {
   "cell_type": "code",
   "execution_count": 12,
   "metadata": {},
   "outputs": [],
   "source": [
    "main_table_names = ['campaign', 'platform', 'instrument', 'deployment', 'iopse']"
   ]
  },
  {
   "cell_type": "code",
   "execution_count": 13,
   "metadata": {
    "scrolled": true
   },
   "outputs": [
    {
     "name": "stdout",
     "output_type": "stream",
     "text": [
      "campaign\n",
      "   campaign_to_alias created\n",
      "   campaign_to_focus_area created\n",
      "   campaign_to_season created\n",
      "   campaign_to_platform_type created\n",
      "   campaign_to_gcmd_phenomenas_uuid created\n",
      "   campaign_to_repository created\n",
      "   campaign_to_partner_org created\n",
      "   campaign_to_gcmd_project created\n",
      "platform\n",
      "   platform_to_aliases created\n",
      "   platform_to_gcmd_platform_uuid created\n",
      "instrument\n",
      "   instrument_to_gcmd_instrument created\n",
      "   instrument_to_instrument_type created\n",
      "   instrument_to_aliases created\n",
      "   instrument_to_measurement_keywords_uuid created\n",
      "   instrument_to_geophysical_concept created\n",
      "   instrument_to_repository created\n",
      "   instrument_to_measurement_region created\n",
      "deployment\n",
      "   deployment_to_aliases created\n",
      "   deployment_to_geographical_region created\n",
      "iopse\n"
     ]
    }
   ],
   "source": [
    "for table in main_table_names:\n",
    "    print(table)\n",
    "    for column in [col for col in db[table].keys() if isinstance(col,str) and 'table' in col]:\n",
    "        new_table_name = f\"{table}_to_{column.replace('table_','')}\"\n",
    "        db[new_table_name]=many_to_many(db, table, column)\n",
    "        print(f'   {new_table_name} created')"
   ]
  },
  {
   "cell_type": "code",
   "execution_count": 21,
   "metadata": {},
   "outputs": [
    {
     "data": {
      "text/html": [
       "<div>\n",
       "<style scoped>\n",
       "    .dataframe tbody tr th:only-of-type {\n",
       "        vertical-align: middle;\n",
       "    }\n",
       "\n",
       "    .dataframe tbody tr th {\n",
       "        vertical-align: top;\n",
       "    }\n",
       "\n",
       "    .dataframe thead th {\n",
       "        text-align: right;\n",
       "    }\n",
       "</style>\n",
       "<table border=\"1\" class=\"dataframe\">\n",
       "  <thead>\n",
       "    <tr style=\"text-align: right;\">\n",
       "      <th>5</th>\n",
       "      <th>table_code</th>\n",
       "      <th>category</th>\n",
       "      <th>topic</th>\n",
       "      <th>term</th>\n",
       "      <th>variable_1</th>\n",
       "      <th>variable_2</th>\n",
       "      <th>variable_3</th>\n",
       "      <th>gcmd_uuid</th>\n",
       "    </tr>\n",
       "  </thead>\n",
       "  <tbody>\n",
       "    <tr>\n",
       "      <th>6</th>\n",
       "      <td>1000</td>\n",
       "      <td>EARTH SCIENCE</td>\n",
       "      <td>Information Not Available</td>\n",
       "      <td>Information Not Available</td>\n",
       "      <td>Information Not Available</td>\n",
       "      <td>Information Not Available</td>\n",
       "      <td>Information Not Available</td>\n",
       "      <td>e9f67a66-e9fc-435c-b720-ae32a2c3d8f5</td>\n",
       "    </tr>\n",
       "    <tr>\n",
       "      <th>7</th>\n",
       "      <td>1001</td>\n",
       "      <td>EARTH SCIENCE</td>\n",
       "      <td>AGRICULTURE</td>\n",
       "      <td>AGRICULTURAL AQUATIC SCIENCES</td>\n",
       "      <td>AQUACULTURE</td>\n",
       "      <td>Information Not Available</td>\n",
       "      <td>Information Not Available</td>\n",
       "      <td>8916dafb-5ad5-45c6-ab64-3500ea1e9577</td>\n",
       "    </tr>\n",
       "    <tr>\n",
       "      <th>8</th>\n",
       "      <td>1002</td>\n",
       "      <td>EARTH SCIENCE</td>\n",
       "      <td>AGRICULTURE</td>\n",
       "      <td>AGRICULTURAL AQUATIC SCIENCES</td>\n",
       "      <td>FISHERIES</td>\n",
       "      <td>Information Not Available</td>\n",
       "      <td>Information Not Available</td>\n",
       "      <td>c7112a64-be39-414a-9125-f63ab44ecb5b</td>\n",
       "    </tr>\n",
       "    <tr>\n",
       "      <th>9</th>\n",
       "      <td>1003</td>\n",
       "      <td>EARTH SCIENCE</td>\n",
       "      <td>AGRICULTURE</td>\n",
       "      <td>AGRICULTURAL AQUATIC SCIENCES</td>\n",
       "      <td>TEST</td>\n",
       "      <td>Information Not Available</td>\n",
       "      <td>Information Not Available</td>\n",
       "      <td>0916afef-a0b7-4ecd-85ba-cc24070470a7</td>\n",
       "    </tr>\n",
       "    <tr>\n",
       "      <th>10</th>\n",
       "      <td>1004</td>\n",
       "      <td>EARTH SCIENCE</td>\n",
       "      <td>AGRICULTURE</td>\n",
       "      <td>AGRICULTURAL AQUATIC SCIENCES</td>\n",
       "      <td>Information Not Available</td>\n",
       "      <td>Information Not Available</td>\n",
       "      <td>Information Not Available</td>\n",
       "      <td>ca227ff0-4742-4e51-a763-4582fa28291c</td>\n",
       "    </tr>\n",
       "    <tr>\n",
       "      <th>...</th>\n",
       "      <td>...</td>\n",
       "      <td>...</td>\n",
       "      <td>...</td>\n",
       "      <td>...</td>\n",
       "      <td>...</td>\n",
       "      <td>...</td>\n",
       "      <td>...</td>\n",
       "      <td>...</td>\n",
       "    </tr>\n",
       "    <tr>\n",
       "      <th>3022</th>\n",
       "      <td>4016</td>\n",
       "      <td>EARTH SCIENCE</td>\n",
       "      <td>TERRESTRIAL HYDROSPHERE</td>\n",
       "      <td>WATER QUALITY/WATER CHEMISTRY</td>\n",
       "      <td>WATER QUALITY INDEXES</td>\n",
       "      <td>Information Not Available</td>\n",
       "      <td>Information Not Available</td>\n",
       "      <td>f2130ca3-3587-4312-b6d4-138456b5ea78</td>\n",
       "    </tr>\n",
       "    <tr>\n",
       "      <th>3023</th>\n",
       "      <td>4017</td>\n",
       "      <td>EARTH SCIENCE</td>\n",
       "      <td>TERRESTRIAL HYDROSPHERE</td>\n",
       "      <td>WATER QUALITY/WATER CHEMISTRY</td>\n",
       "      <td>Information Not Available</td>\n",
       "      <td>Information Not Available</td>\n",
       "      <td>Information Not Available</td>\n",
       "      <td>8c02f5d1-ce86-4bf5-84d5-b3496cdba6ad</td>\n",
       "    </tr>\n",
       "    <tr>\n",
       "      <th>3024</th>\n",
       "      <td>4018</td>\n",
       "      <td>EARTH SCIENCE</td>\n",
       "      <td>TERRESTRIAL HYDROSPHERE</td>\n",
       "      <td>Information Not Available</td>\n",
       "      <td>Information Not Available</td>\n",
       "      <td>Information Not Available</td>\n",
       "      <td>Information Not Available</td>\n",
       "      <td>885735f3-121e-4ca0-ac8b-f37dbc972f03</td>\n",
       "    </tr>\n",
       "    <tr>\n",
       "      <th>3025</th>\n",
       "      <td>1000</td>\n",
       "      <td>EARTH SCIENCE</td>\n",
       "      <td>Information Not Available</td>\n",
       "      <td>Information Not Available</td>\n",
       "      <td>Information Not Available</td>\n",
       "      <td>Information Not Available</td>\n",
       "      <td>Information Not Available</td>\n",
       "      <td>e9f67a66-e9fc-435c-b720-ae32a2c3d8f5</td>\n",
       "    </tr>\n",
       "    <tr>\n",
       "      <th>3026</th>\n",
       "      <td>9999</td>\n",
       "      <td>EARTH SCIENCE SERVICES</td>\n",
       "      <td>MODELS</td>\n",
       "      <td>Information Not Available</td>\n",
       "      <td>Information Not Available</td>\n",
       "      <td>Information Not Available</td>\n",
       "      <td>Information Not Available</td>\n",
       "      <td>Information Not Available</td>\n",
       "    </tr>\n",
       "  </tbody>\n",
       "</table>\n",
       "<p>3021 rows × 8 columns</p>\n",
       "</div>"
      ],
      "text/plain": [
       "5    table_code                category                      topic  \\\n",
       "6          1000           EARTH SCIENCE  Information Not Available   \n",
       "7          1001           EARTH SCIENCE                AGRICULTURE   \n",
       "8          1002           EARTH SCIENCE                AGRICULTURE   \n",
       "9          1003           EARTH SCIENCE                AGRICULTURE   \n",
       "10         1004           EARTH SCIENCE                AGRICULTURE   \n",
       "...         ...                     ...                        ...   \n",
       "3022       4016           EARTH SCIENCE    TERRESTRIAL HYDROSPHERE   \n",
       "3023       4017           EARTH SCIENCE    TERRESTRIAL HYDROSPHERE   \n",
       "3024       4018           EARTH SCIENCE    TERRESTRIAL HYDROSPHERE   \n",
       "3025       1000           EARTH SCIENCE  Information Not Available   \n",
       "3026       9999  EARTH SCIENCE SERVICES                     MODELS   \n",
       "\n",
       "5                              term                 variable_1  \\\n",
       "6         Information Not Available  Information Not Available   \n",
       "7     AGRICULTURAL AQUATIC SCIENCES                AQUACULTURE   \n",
       "8     AGRICULTURAL AQUATIC SCIENCES                  FISHERIES   \n",
       "9     AGRICULTURAL AQUATIC SCIENCES                       TEST   \n",
       "10    AGRICULTURAL AQUATIC SCIENCES  Information Not Available   \n",
       "...                             ...                        ...   \n",
       "3022  WATER QUALITY/WATER CHEMISTRY      WATER QUALITY INDEXES   \n",
       "3023  WATER QUALITY/WATER CHEMISTRY  Information Not Available   \n",
       "3024      Information Not Available  Information Not Available   \n",
       "3025      Information Not Available  Information Not Available   \n",
       "3026      Information Not Available  Information Not Available   \n",
       "\n",
       "5                    variable_2                 variable_3  \\\n",
       "6     Information Not Available  Information Not Available   \n",
       "7     Information Not Available  Information Not Available   \n",
       "8     Information Not Available  Information Not Available   \n",
       "9     Information Not Available  Information Not Available   \n",
       "10    Information Not Available  Information Not Available   \n",
       "...                         ...                        ...   \n",
       "3022  Information Not Available  Information Not Available   \n",
       "3023  Information Not Available  Information Not Available   \n",
       "3024  Information Not Available  Information Not Available   \n",
       "3025  Information Not Available  Information Not Available   \n",
       "3026  Information Not Available  Information Not Available   \n",
       "\n",
       "5                                gcmd_uuid  \n",
       "6     e9f67a66-e9fc-435c-b720-ae32a2c3d8f5  \n",
       "7     8916dafb-5ad5-45c6-ab64-3500ea1e9577  \n",
       "8     c7112a64-be39-414a-9125-f63ab44ecb5b  \n",
       "9     0916afef-a0b7-4ecd-85ba-cc24070470a7  \n",
       "10    ca227ff0-4742-4e51-a763-4582fa28291c  \n",
       "...                                    ...  \n",
       "3022  f2130ca3-3587-4312-b6d4-138456b5ea78  \n",
       "3023  8c02f5d1-ce86-4bf5-84d5-b3496cdba6ad  \n",
       "3024  885735f3-121e-4ca0-ac8b-f37dbc972f03  \n",
       "3025  e9f67a66-e9fc-435c-b720-ae32a2c3d8f5  \n",
       "3026             Information Not Available  \n",
       "\n",
       "[3021 rows x 8 columns]"
      ]
     },
     "execution_count": 21,
     "metadata": {},
     "output_type": "execute_result"
    }
   ],
   "source": [
    "db['gcmd_phenomena']"
   ]
  },
  {
   "cell_type": "markdown",
   "metadata": {},
   "source": [
    "# Validation"
   ]
  },
  {
   "cell_type": "markdown",
   "metadata": {},
   "source": [
    "### Short Name Duplicates"
   ]
  },
  {
   "cell_type": "code",
   "execution_count": null,
   "metadata": {
    "scrolled": false
   },
   "outputs": [],
   "source": [
    "for table_name in db.keys():\n",
    "    if 'short_name' in db[table_name].keys():\n",
    "        print(table_name)\n",
    "        duplicates = validate.find_duplicates(db, table_name, 'short_name')\n",
    "\n",
    "        print(f'    {duplicates}')"
   ]
  },
  {
   "cell_type": "markdown",
   "metadata": {},
   "source": [
    "### Foriegn Key Links"
   ]
  },
  {
   "cell_type": "markdown",
   "metadata": {},
   "source": [
    "### Campaign"
   ]
  },
  {
   "cell_type": "code",
   "execution_count": null,
   "metadata": {},
   "outputs": [],
   "source": [
    "pd.set_option('display.max_rows', 500)"
   ]
  },
  {
   "cell_type": "code",
   "execution_count": null,
   "metadata": {},
   "outputs": [],
   "source": [
    "errors = validate.foriegn_keys(db, \n",
    "                                data_table='campaign_to_gcmd_project', \n",
    "                                data_index='campaign', \n",
    "                                data_column='gcmd_project', \n",
    "                                foriegn_table='gcmd_project', \n",
    "                                foriegn_column='uuid')\n",
    "errors"
   ]
  },
  {
   "cell_type": "code",
   "execution_count": null,
   "metadata": {},
   "outputs": [],
   "source": [
    "errors = validate.foriegn_keys(db, \n",
    "                                data_table='campaign_to_focus_area', \n",
    "                                data_index='campaign', \n",
    "                                data_column='focus_area', \n",
    "                                foriegn_table='focus_area', \n",
    "                                foriegn_column='short_name')\n",
    "errors"
   ]
  },
  {
   "cell_type": "code",
   "execution_count": null,
   "metadata": {},
   "outputs": [],
   "source": [
    "errors = validate.foriegn_keys(db, \n",
    "                                data_table='campaign_to_season', \n",
    "                                data_index='campaign', \n",
    "                                data_column='season', \n",
    "                                foriegn_table='season', \n",
    "                                foriegn_column='short_name')\n",
    "errors"
   ]
  },
  {
   "cell_type": "code",
   "execution_count": null,
   "metadata": {
    "scrolled": false
   },
   "outputs": [],
   "source": [
    "errors = validate.foriegn_keys(db, \n",
    "                                data_table='campaign_to_platform_type', \n",
    "                                data_index='campaign', \n",
    "                                data_column='platform_type', \n",
    "                                foriegn_table='platform_type', \n",
    "                                foriegn_column='short_name')\n",
    "errors"
   ]
  },
  {
   "cell_type": "code",
   "execution_count": null,
   "metadata": {
    "scrolled": true
   },
   "outputs": [],
   "source": [
    "errors = validate.foriegn_keys(db, \n",
    "                                data_table='campaign_to_gcmd_phenomenas_uuid', \n",
    "                                data_index='campaign', \n",
    "                                data_column='gcmd_phenomenas_uuid', \n",
    "                                foriegn_table='gcmd_phenomena', \n",
    "                                foriegn_column='code')\n",
    "errors"
   ]
  },
  {
   "cell_type": "code",
   "execution_count": null,
   "metadata": {
    "scrolled": false
   },
   "outputs": [],
   "source": [
    "errors = validate.foriegn_keys(db, \n",
    "                                data_table='campaign_to_repository', \n",
    "                                data_index='campaign', \n",
    "                                data_column='repository', \n",
    "                                foriegn_table='repository', \n",
    "                                foriegn_column='short_name')\n",
    "errors"
   ]
  },
  {
   "cell_type": "code",
   "execution_count": null,
   "metadata": {
    "scrolled": false
   },
   "outputs": [],
   "source": [
    "errors = validate.foriegn_keys(db, \n",
    "                                data_table='campaign_to_partner_org', \n",
    "                                data_index='campaign', \n",
    "                                data_column='partner_org', \n",
    "                                foriegn_table='partner_org', \n",
    "                                foriegn_column='short_name')\n",
    "errors"
   ]
  },
  {
   "cell_type": "code",
   "execution_count": null,
   "metadata": {},
   "outputs": [],
   "source": [
    "errors = validate.foriegn_keys(db, \n",
    "                                data_table='platform_to_gcmd_platform_uuid', \n",
    "                                data_index='platform', \n",
    "                                data_column='gcmd_platform_uuid', \n",
    "                                foriegn_table='gcmd_platform', \n",
    "                                foriegn_column='uuid')\n",
    "errors"
   ]
  },
  {
   "cell_type": "code",
   "execution_count": null,
   "metadata": {
    "scrolled": true
   },
   "outputs": [],
   "source": [
    "errors = validate.foriegn_keys(db, \n",
    "                                data_table='instrument_to_measurement_keywords_uuid', \n",
    "                                data_index='instrument', \n",
    "                                data_column='measurement_keywords_uuid', \n",
    "                                foriegn_table='gcmd_phenomena', \n",
    "                                foriegn_column='code')\n",
    "errors"
   ]
  },
  {
   "cell_type": "code",
   "execution_count": null,
   "metadata": {
    "scrolled": true
   },
   "outputs": [],
   "source": [
    "errors = validate.foriegn_keys(db, \n",
    "                                data_table='instrument_to_gcmd_instrument', \n",
    "                                data_index='instrument', \n",
    "                                data_column='gcmd_instrument', \n",
    "                                foriegn_table='gcmd_instrument', \n",
    "                                foriegn_column='uuid')\n",
    "errors"
   ]
  },
  {
   "cell_type": "code",
   "execution_count": null,
   "metadata": {},
   "outputs": [],
   "source": [
    "errors = validate.foriegn_keys(db, \n",
    "                                data_table='instrument_to_instrument_type', \n",
    "                                data_index='instrument', \n",
    "                                data_column='instrument_type', \n",
    "                                foriegn_table='instrument_type', \n",
    "                                foriegn_column='short_name')\n",
    "errors"
   ]
  },
  {
   "cell_type": "code",
   "execution_count": null,
   "metadata": {},
   "outputs": [],
   "source": [
    "errors = validate.foriegn_keys(db, \n",
    "                                data_table='instrument_to_geophysical_concept', \n",
    "                                data_index='instrument', \n",
    "                                data_column='geophysical_concept', \n",
    "                                foriegn_table='geophysical_concept', \n",
    "                                foriegn_column='short_name')\n",
    "errors"
   ]
  },
  {
   "cell_type": "code",
   "execution_count": null,
   "metadata": {},
   "outputs": [],
   "source": [
    "errors = validate.foriegn_keys(db, \n",
    "                                data_table='instrument_to_repository', \n",
    "                                data_index='instrument', \n",
    "                                data_column='repository', \n",
    "                                foriegn_table='repository', \n",
    "                                foriegn_column='short_name')\n",
    "errors"
   ]
  },
  {
   "cell_type": "code",
   "execution_count": null,
   "metadata": {},
   "outputs": [],
   "source": [
    "errors = validate.foriegn_keys(db, \n",
    "                                data_table='instrument_to_measurement_region', \n",
    "                                data_index='instrument', \n",
    "                                data_column='measurement_region', \n",
    "                                foriegn_table='measurement_region', \n",
    "                                foriegn_column='short_name')\n",
    "errors"
   ]
  },
  {
   "cell_type": "code",
   "execution_count": null,
   "metadata": {},
   "outputs": [],
   "source": [
    "errors = validate.foriegn_keys(db, \n",
    "                                data_table='deployment_to_geographical_region', \n",
    "                                data_index='deployment', \n",
    "                                data_column='geographical_region', \n",
    "                                foriegn_table='geographical_region', \n",
    "                                foriegn_column='short_name')\n",
    "errors"
   ]
  },
  {
   "cell_type": "code",
   "execution_count": null,
   "metadata": {},
   "outputs": [],
   "source": [
    "errors = validate.foriegn_keys(db, \n",
    "                                data_table='deployment_to_platform', \n",
    "                                data_index='deployment', \n",
    "                                data_column='platform', \n",
    "                                foriegn_table='platform', \n",
    "                                foriegn_column='short_name')\n",
    "print('\\n\\ndo I really need to validate this?')\n",
    "errors"
   ]
  },
  {
   "cell_type": "code",
   "execution_count": null,
   "metadata": {
    "scrolled": true
   },
   "outputs": [],
   "source": [
    "errors = validate.foriegn_keys(db, \n",
    "                                data_table='deployment', \n",
    "                                data_index='short_name', \n",
    "                                data_column='foriegn_campaign_short_name', \n",
    "                                foriegn_table='campaign', \n",
    "                                foriegn_column='short_name')\n",
    "print('\\n\\n TODO this better once you have the data')\n",
    "errors"
   ]
  },
  {
   "cell_type": "code",
   "execution_count": null,
   "metadata": {},
   "outputs": [],
   "source": [
    "errors = validate.foriegn_keys(db, \n",
    "                                data_table='platform', \n",
    "                                data_index='short_name', \n",
    "                                data_column='foriegn_aircraft_type', \n",
    "                                foriegn_table='aircraft_type', \n",
    "                                foriegn_column='short_name')\n",
    "errors"
   ]
  },
  {
   "cell_type": "code",
   "execution_count": null,
   "metadata": {},
   "outputs": [],
   "source": [
    "errors = validate.foriegn_keys(db, \n",
    "                                data_table='platform_to_gcmd_platform_uuid', \n",
    "                                data_index='platform', \n",
    "                                data_column='gcmd_platform_uuid', \n",
    "                                foriegn_table='gcmd_platform', \n",
    "                                foriegn_column='uuid')\n",
    "errors"
   ]
  },
  {
   "cell_type": "code",
   "execution_count": null,
   "metadata": {},
   "outputs": [],
   "source": [
    "errors = validate.foriegn_keys(db, \n",
    "                                data_table='iopse', \n",
    "                                data_index='iopse_id', \n",
    "                                data_column='deployment_short_name', \n",
    "                                foriegn_table='deployment', \n",
    "                                foriegn_column='short_name')\n",
    "errors"
   ]
  },
  {
   "cell_type": "code",
   "execution_count": null,
   "metadata": {},
   "outputs": [],
   "source": [
    "errors = validate.foriegn_keys(db, \n",
    "                                data_table='iopse', \n",
    "                                data_index='iopse_id', \n",
    "                                data_column='event_type', \n",
    "                                foriegn_table='deployment', \n",
    "                                foriegn_column='short_name')\n",
    "errors"
   ]
  },
  {
   "cell_type": "markdown",
   "metadata": {},
   "source": [
    "### Flight"
   ]
  },
  {
   "cell_type": "code",
   "execution_count": null,
   "metadata": {
    "scrolled": false
   },
   "outputs": [],
   "source": [
    "# flight table, instruments\n",
    "\n",
    "errors = validate.foriegn_keys(db, data_table='flight', \n",
    "                      data_index='foriegn_campaign_short_name', \n",
    "                      data_column='instrument', \n",
    "                      foriegn_table='instrument', \n",
    "                      foriegn_column='short_name')\n",
    "errors"
   ]
  },
  {
   "cell_type": "code",
   "execution_count": null,
   "metadata": {},
   "outputs": [],
   "source": [
    "# Flight table, platforms\n",
    "\n",
    "errors = validate.foriegn_keys(db, \n",
    "                      data_table='flight', \n",
    "                      data_index='foriegn_campaign_short_name', \n",
    "                      data_column='platform', \n",
    "                      foriegn_table='platform', \n",
    "                      foriegn_column='short_name')\n",
    "errors"
   ]
  },
  {
   "cell_type": "code",
   "execution_count": null,
   "metadata": {},
   "outputs": [],
   "source": [
    "errors = validate.foriegn_keys(db, \n",
    "                      data_table='flight', \n",
    "                      data_index='foriegn_campaign_short_name', \n",
    "                      data_column='foriegn_deployment_short_name', \n",
    "                      foriegn_table='deployment', \n",
    "                      foriegn_column='short_name')\n",
    "errors"
   ]
  },
  {
   "cell_type": "markdown",
   "metadata": {},
   "source": [
    "# Dates"
   ]
  },
  {
   "cell_type": "code",
   "execution_count": null,
   "metadata": {},
   "outputs": [],
   "source": [
    "for table_name in db.keys():\n",
    "    # find tables that have date fields\n",
    "    if len(col_names := [col for col in db[table_name].columns if 'date' in col])>0:\n",
    "        print(f\"{table_name}\\n    {', '.join(col_names)}\")"
   ]
  },
  {
   "cell_type": "code",
   "execution_count": null,
   "metadata": {
    "scrolled": false
   },
   "outputs": [],
   "source": [
    "table_names = ['campaign', 'deployment', 'iopse'] \n",
    "for table_name in table_names:\n",
    "    print(table_name)\n",
    "    db[table_name]['valid_date']=False\n",
    "    \n",
    "    db[table_name]['valid_date'] = db[table_name].apply(lambda row: validate.vali_date(row['start_date'], row['end_date']), axis=1)\n",
    "        "
   ]
  },
  {
   "cell_type": "code",
   "execution_count": null,
   "metadata": {},
   "outputs": [],
   "source": [
    "table_names = ['instrument'] \n",
    "for table_name in table_names:\n",
    "    \n",
    "    db[table_name]['valid_date']=False\n",
    "    db[table_name]['valid_date'] = db[table_name].apply(lambda row: validate.vali_date(row['deployment_date'], row['decommision_date']), axis=1)\n",
    "       "
   ]
  },
  {
   "cell_type": "code",
   "execution_count": null,
   "metadata": {
    "scrolled": false
   },
   "outputs": [],
   "source": [
    "db['campaign'][['short_name','start_date','end_date','valid_date']][db['campaign']['valid_date'].apply(lambda x: not(x))]"
   ]
  },
  {
   "cell_type": "markdown",
   "metadata": {},
   "source": [
    "# IOPSE"
   ]
  },
  {
   "cell_type": "code",
   "execution_count": null,
   "metadata": {
    "scrolled": true
   },
   "outputs": [],
   "source": [
    "# FILTER \n",
    "# TODO: FIX GRIP\n",
    "db['iopse']=db['iopse'][db['iopse']['iopse_id']!='Information Not Available'][db['iopse']['foriegn_campaign_short_name']!='GRIP'][db['iopse']['foriegn_campaign_short_name']!='ATTREX']\n"
   ]
  },
  {
   "cell_type": "code",
   "execution_count": null,
   "metadata": {
    "scrolled": true
   },
   "outputs": [],
   "source": [
    "# split into two tables\n",
    "\n",
    "db['significant_event'] = db['iopse'][db['iopse']['event_type']=='Y'].copy()\n",
    "db['iop'] = db['iopse'][db['iopse']['event_type']!='Y'].copy()"
   ]
  },
  {
   "cell_type": "code",
   "execution_count": null,
   "metadata": {},
   "outputs": [],
   "source": [
    "# validate that all iops are unique\n",
    "\n",
    "db['iop']['iop_short_name'][db['iop']['iop_short_name'].duplicated()]"
   ]
  },
  {
   "cell_type": "code",
   "execution_count": null,
   "metadata": {},
   "outputs": [],
   "source": [
    "# if sig event has matching iop, link them\n",
    "\n",
    "# if sig event doesn't have matching iop, delete it so there will be no foriegn key"
   ]
  },
  {
   "cell_type": "code",
   "execution_count": null,
   "metadata": {
    "scrolled": true
   },
   "outputs": [],
   "source": [
    "# tag significant events that have IOPs\n",
    "\n",
    "db['significant_event']['has_iop'] = db['significant_event']['iop_short_name'].apply(lambda short_name: short_name in list(db['iop']['iop_short_name']))\n"
   ]
  },
  {
   "cell_type": "code",
   "execution_count": null,
   "metadata": {
    "scrolled": true
   },
   "outputs": [],
   "source": [
    "# # check that all significant events with an iop have an iop\n",
    "\n",
    "# s_i = set(db['iop']['iop_short_name'])\n",
    "# s_s = set(has_iop['iop_short_name'])\n",
    "# [s for s in s_s if s not in s_i]"
   ]
  },
  {
   "cell_type": "code",
   "execution_count": null,
   "metadata": {},
   "outputs": [],
   "source": [
    "from datetime import datetime\n",
    "# sig event start >= iop start\n",
    "\n",
    "def start_val(sig_row, db):\n",
    "    large_date = sig_row['start_date']\n",
    "    small_date = db['iop'][db['iop']['iop_short_name']==sig_row['iop_short_name']]['start_date'].iloc[0]\n",
    "    val = large_date >= small_date\n",
    "    return val\n",
    "\n",
    "def end_val(sig_row, db):\n",
    "    large_date = sig_row['end_date']\n",
    "    small_date = db['iop'][db['iop']['iop_short_name']==sig_row['iop_short_name']]['end_date'].iloc[0]\n",
    "    val = large_date <= small_date\n",
    "    return val\n",
    "\n",
    "has_iop = db['significant_event'][db['significant_event']['has_iop']].copy()\n",
    "val_iop_date_start = has_iop.apply(lambda row: not(start_val(row, db)), axis=1)\n",
    "val_iop_date_end = has_iop.apply(lambda row: not(end_val(row, db)), axis=1)"
   ]
  },
  {
   "cell_type": "code",
   "execution_count": null,
   "metadata": {
    "scrolled": true
   },
   "outputs": [],
   "source": [
    "# display incorrect start dates\n",
    "has_iop[val_iop_date_start]"
   ]
  },
  {
   "cell_type": "code",
   "execution_count": null,
   "metadata": {},
   "outputs": [],
   "source": [
    "# display incorrect end dates\n",
    "has_iop[val_iop_date_end]"
   ]
  },
  {
   "cell_type": "markdown",
   "metadata": {},
   "source": [
    "## Remap Limited Fields  I SHOULD DELETE THIS IT RUNS ELSEWHERE"
   ]
  },
  {
   "cell_type": "code",
   "execution_count": null,
   "metadata": {},
   "outputs": [],
   "source": [
    "from ingest import rename_columns"
   ]
  },
  {
   "cell_type": "code",
   "execution_count": null,
   "metadata": {},
   "outputs": [],
   "source": [
    "column_mapping = json.load(open('limited_col_mapping.json', 'r'))"
   ]
  },
  {
   "cell_type": "code",
   "execution_count": null,
   "metadata": {},
   "outputs": [],
   "source": [
    "# remaps limited field names\n",
    "ingest_order = [\n",
    " 'platform_type',\n",
    " 'aircraft_type',\n",
    " 'instrument_type',\n",
    " 'home_base',\n",
    " 'repository',\n",
    " 'focus_area',\n",
    " 'season',\n",
    " 'measurement_region',\n",
    " 'geographical_region',\n",
    " 'geophysical_concept',\n",
    " 'gcmd_phenomena',\n",
    " 'gcmd_instrument',\n",
    " 'gcmd_platform',\n",
    " 'gcmd_project',\n",
    " 'partner_org'\n",
    "]\n",
    "tables_to_remap = ['platform_type',\n",
    " 'aircraft_type',\n",
    " 'instrument_type',\n",
    " 'home_base',\n",
    " 'repository',\n",
    " 'focus_area',\n",
    " 'season',\n",
    " 'measurement_region',\n",
    " 'geographical_region',\n",
    " 'geophysical_concept',]\n",
    "\n",
    "for table_name in tables_to_remap:\n",
    "    db[table_name] = rename_columns(db, table_name, column_mapping)"
   ]
  },
  {
   "cell_type": "markdown",
   "metadata": {},
   "source": [
    "### Ingest Order"
   ]
  },
  {
   "cell_type": "code",
   "execution_count": null,
   "metadata": {},
   "outputs": [],
   "source": [
    "ingest_order = json.load(open('ingest_order.json', 'r'))\n",
    "ingest_order"
   ]
  },
  {
   "cell_type": "markdown",
   "metadata": {},
   "source": [
    "### Pickle the Data"
   ]
  },
  {
   "cell_type": "code",
   "execution_count": null,
   "metadata": {},
   "outputs": [],
   "source": [
    "import pickle"
   ]
  },
  {
   "cell_type": "code",
   "execution_count": null,
   "metadata": {},
   "outputs": [],
   "source": [
    "pickle.dump(db, open('ingested_data','wb'))"
   ]
  }
 ],
 "metadata": {
  "kernelspec": {
   "display_name": "Django Shell-Plus",
   "language": "python",
   "name": "django_extensions"
  },
  "language_info": {
   "codemirror_mode": {
    "name": "ipython",
    "version": 3
   },
   "file_extension": ".py",
   "mimetype": "text/x-python",
   "name": "python",
   "nbconvert_exporter": "python",
   "pygments_lexer": "ipython3",
   "version": "3.8.2"
  }
 },
 "nbformat": 4,
 "nbformat_minor": 2
}
