{
 "cells": [
  {
   "cell_type": "markdown",
   "metadata": {},
   "source": [
    "# Imports"
   ]
  },
  {
   "cell_type": "code",
   "execution_count": 1,
   "metadata": {},
   "outputs": [],
   "source": [
    "import pandas as pd\n",
    "import json\n",
    "import validate\n",
    "from general import correct_values, many_to_many, many_cols\n",
    "import ingest\n",
    "import clean"
   ]
  },
  {
   "cell_type": "code",
   "execution_count": 2,
   "metadata": {},
   "outputs": [],
   "source": [
    "def print_full(df):\n",
    "    with pd.option_context('display.max_rows', None, 'display.max_columns', None):\n",
    "        print(df)"
   ]
  },
  {
   "cell_type": "code",
   "execution_count": 3,
   "metadata": {},
   "outputs": [],
   "source": [
    "# def correct_values(db, table_name, column, wrong_value, correct_value):\n",
    "#     db[table_name][column]=db[table_name][column].apply(lambda x: x if x!=wrong_value else correct_value)"
   ]
  },
  {
   "cell_type": "markdown",
   "metadata": {},
   "source": [
    "# Pull Data into Pandas"
   ]
  },
  {
   "cell_type": "code",
   "execution_count": 4,
   "metadata": {},
   "outputs": [],
   "source": [
    "# data = ingest.main('inventory_correct_linking.xlsx')\n",
    "# data = ingest.main('inventory_2020.05.29.xlsx')\n",
    "data = ingest.main('inventory_2020-07-01.xlsx')"
   ]
  },
  {
   "cell_type": "code",
   "execution_count": 5,
   "metadata": {},
   "outputs": [],
   "source": [
    "excel_data = data['excel_data']\n",
    "db = data['database']"
   ]
  },
  {
   "cell_type": "markdown",
   "metadata": {},
   "source": [
    "# Cleaning"
   ]
  },
  {
   "cell_type": "code",
   "execution_count": 6,
   "metadata": {},
   "outputs": [],
   "source": [
    "# change ignore_code field to be string\n",
    "db['gcmd_phenomena']['ignore_code'] = db['gcmd_phenomena']['ignore_code'].apply(lambda x: str(x))\n",
    "\n",
    "# convert gcmd_uuid into string\n",
    "db['instrument']['table-measurement_keywords-gcmd_uuid'] = db['instrument']['table-measurement_keywords-gcmd_uuid'].apply(lambda x: str(x))"
   ]
  },
  {
   "cell_type": "code",
   "execution_count": 7,
   "metadata": {},
   "outputs": [],
   "source": [
    "db = clean.remove_NaN_columns(db)"
   ]
  },
  {
   "cell_type": "code",
   "execution_count": 8,
   "metadata": {
    "scrolled": true
   },
   "outputs": [],
   "source": [
    "db = clean.strip_all_columns(db)"
   ]
  },
  {
   "cell_type": "code",
   "execution_count": null,
   "metadata": {},
   "outputs": [],
   "source": []
  },
  {
   "cell_type": "markdown",
   "metadata": {},
   "source": [
    "# Short Name Supplementation"
   ]
  },
  {
   "cell_type": "code",
   "execution_count": 9,
   "metadata": {
    "scrolled": true
   },
   "outputs": [],
   "source": [
    "# make unique shortname by combining the campaign name and the table sub short name\n",
    "\n",
    "db['deployment']['short_name'] = db['deployment']['foreign-campaign-short_name']+'_'+db['deployment']['ignore_deployment_id']\n",
    "db['iopse']['foreign-deployment-short_name']=db['iopse']['foreign-campaign-short_name']+'_'+db['iopse']['ignore_deployment']\n",
    "\n",
    "db['collection_period'] = many_to_many(db, 'linking', 'table-instrument-short_name', keep_all=True)\n",
    "db['collection_period']['short_name'] = db['collection_period']['foreign-campaign-short_name']+'_'+db['collection_period']['foreign-deployment-short_name']"
   ]
  },
  {
   "cell_type": "markdown",
   "metadata": {},
   "source": [
    "# Find Matching Deployments for IOPSE"
   ]
  },
  {
   "cell_type": "code",
   "execution_count": 10,
   "metadata": {},
   "outputs": [],
   "source": [
    "# original process before good shortname usage on the sheets\n",
    "\n",
    "\n",
    "# db['iopse']['deployment_short_name'] = 'No Matches'\n",
    "\n",
    "# for row in range(len(db['iopse'])):\n",
    "#     iop_start = db['iopse'].iloc[row]['start_date']\n",
    "#     iop_end = db['iopse'].iloc[row]['end_date']\n",
    "#     iop_camp = db['iopse'].iloc[row]['foreign-campaign-short_name']\n",
    "    \n",
    "#     campaign_filter = db['deployment']['foreign-campaign-short_name'].apply(lambda short_name: short_name == iop_camp)\n",
    "#     possible_campaigns = db['deployment'][campaign_filter]\n",
    "    \n",
    "#     start_filter = possible_campaigns['start_date'].apply(lambda dep_start: validate.vali_date(dep_start, iop_start))\n",
    "#     end_filter = possible_campaigns['end_date'].apply(lambda dep_end: validate.vali_date(iop_end, dep_end))\n",
    "    \n",
    "#     matching_deployments = list(possible_campaigns[start_filter*end_filter]['short_name'])\n",
    "#     if len(matching_deployments)>1:\n",
    "#         print(f\"error on {db['iopse'].iloc[row]}\")\n",
    "#     elif len(matching_deployments)==1:\n",
    "#         matching_deployments = matching_deployments[0]\n",
    "#     else:\n",
    "#         matching_deployments = 'None Found'\n",
    "#     db['iopse']['deployment_short_name'].iloc[row]=matching_deployments"
   ]
  },
  {
   "cell_type": "code",
   "execution_count": 11,
   "metadata": {},
   "outputs": [],
   "source": [
    "# filter out missing rows on the iopse tab\n",
    "db['iopse'] = db['iopse'][db['iopse']['short_name']!='Information Not Available']"
   ]
  },
  {
   "cell_type": "code",
   "execution_count": 12,
   "metadata": {},
   "outputs": [],
   "source": [
    "# test for unexpected values in this column\n",
    "assert set(db['iopse']['type']) == {'IOP', 'SE'}"
   ]
  },
  {
   "cell_type": "code",
   "execution_count": 13,
   "metadata": {},
   "outputs": [],
   "source": [
    "# convert parent and short name to lower so they will match correctly\n",
    "db['iopse']['short_name'] = db['iopse']['short_name'].apply(lambda x: x.lower())\n",
    "db['iopse']['parent short_name'] = db['iopse']['parent short_name'].apply(lambda x: x.lower())"
   ]
  },
  {
   "cell_type": "code",
   "execution_count": 14,
   "metadata": {
    "scrolled": true
   },
   "outputs": [],
   "source": [
    "db['iop'] = db['iopse'][db['iopse']['type']=='IOP']\n",
    "db['significant_event'] = db['iopse'][db['iopse']['type']=='SE']"
   ]
  },
  {
   "cell_type": "markdown",
   "metadata": {},
   "source": [
    "# Many to Many Creation"
   ]
  },
  {
   "cell_type": "code",
   "execution_count": 15,
   "metadata": {},
   "outputs": [],
   "source": [
    "# main_table_names = ['campaign', 'platform', 'instrument', 'deployment']"
   ]
  },
  {
   "cell_type": "code",
   "execution_count": 16,
   "metadata": {
    "scrolled": true
   },
   "outputs": [],
   "source": [
    "# for table in main_table_names:\n",
    "#     print(table)\n",
    "#     for column in [col for col in db[table].keys() if isinstance(col,str) and 'table' in col]:\n",
    "#         name = column.split('-')[1]\n",
    "#         new_table_name = f\"{table}-to-{name}\"\n",
    "#         db[new_table_name]=many_to_many(db, table, column)\n",
    "#         print(f'   {new_table_name} created')"
   ]
  },
  {
   "cell_type": "markdown",
   "metadata": {},
   "source": [
    "# Campaign Filter"
   ]
  },
  {
   "cell_type": "code",
   "execution_count": 17,
   "metadata": {},
   "outputs": [],
   "source": [
    "from general import filter_campaigns, log_short_names"
   ]
  },
  {
   "cell_type": "code",
   "execution_count": 18,
   "metadata": {},
   "outputs": [],
   "source": [
    "ingest_campaign_list = json.load(open('ingest_campaign_list.json', 'r'))"
   ]
  },
  {
   "cell_type": "code",
   "execution_count": 19,
   "metadata": {},
   "outputs": [],
   "source": [
    "db = filter_campaigns(db, ingest_campaign_list)"
   ]
  },
  {
   "cell_type": "code",
   "execution_count": 20,
   "metadata": {},
   "outputs": [],
   "source": [
    "log_short_names(db, 'instrument')\n",
    "log_short_names(db, 'platform')"
   ]
  },
  {
   "cell_type": "markdown",
   "metadata": {},
   "source": [
    "# Many to Many Creation"
   ]
  },
  {
   "cell_type": "code",
   "execution_count": 21,
   "metadata": {},
   "outputs": [],
   "source": [
    "main_table_names = ['campaign', 'platform', 'instrument', 'deployment']"
   ]
  },
  {
   "cell_type": "code",
   "execution_count": 22,
   "metadata": {
    "scrolled": false
   },
   "outputs": [
    {
     "name": "stdout",
     "output_type": "stream",
     "text": [
      "campaign\n",
      "   campaign-to-focus_area created\n",
      "   campaign-to-season created\n",
      "   campaign-to-platform_type created\n",
      "   campaign-to-repository created\n",
      "   campaign-to-partner_org created\n",
      "   campaign-to-gcmd_project created\n",
      "platform\n",
      "   platform-to-gcmd_platform created\n",
      "instrument\n",
      "   instrument-to-gcmd_instrument created\n",
      "   instrument-to-instrument_type created\n",
      "   instrument-to-measurement_keywords created\n",
      "   instrument-to-geophysical_concept created\n",
      "   instrument-to-repository created\n",
      "   instrument-to-measurement_region created\n",
      "deployment\n",
      "   deployment-to-geographical_region created\n"
     ]
    }
   ],
   "source": [
    "for table in main_table_names:\n",
    "    print(table)\n",
    "#     print([col for col in db[table].keys() if isinstance(col,str) and 'table' in col])\n",
    "    for column in [col for col in db[table].keys() if isinstance(col,str) and 'table' in col]:\n",
    "        name = column.split('-')[1]\n",
    "        new_table_name = f\"{table}-to-{name}\"\n",
    "        db[new_table_name]=many_to_many(db, table, column)\n",
    "        print(f'   {new_table_name} created')"
   ]
  },
  {
   "cell_type": "code",
   "execution_count": 23,
   "metadata": {},
   "outputs": [
    {
     "ename": "AssertionError",
     "evalue": "",
     "output_type": "error",
     "traceback": [
      "\u001b[0;31m---------------------------------------------------------------------------\u001b[0m",
      "\u001b[0;31mAssertionError\u001b[0m                            Traceback (most recent call last)",
      "\u001b[0;32m<ipython-input-23-57f8bf0f2733>\u001b[0m in \u001b[0;36m<module>\u001b[0;34m\u001b[0m\n\u001b[0;32m----> 1\u001b[0;31m \u001b[0;32massert\u001b[0m \u001b[0;36m5\u001b[0m\u001b[0;34m==\u001b[0m\u001b[0;36m6\u001b[0m\u001b[0;34m\u001b[0m\u001b[0;34m\u001b[0m\u001b[0m\n\u001b[0m",
      "\u001b[0;31mAssertionError\u001b[0m: "
     ]
    }
   ],
   "source": [
    "assert 5==6"
   ]
  },
  {
   "cell_type": "markdown",
   "metadata": {},
   "source": [
    "# Validation"
   ]
  },
  {
   "cell_type": "markdown",
   "metadata": {},
   "source": [
    "### Short Name Duplicates"
   ]
  },
  {
   "cell_type": "code",
   "execution_count": 24,
   "metadata": {
    "scrolled": false
   },
   "outputs": [
    {
     "name": "stdout",
     "output_type": "stream",
     "text": [
      "platform_type\n",
      "    []\n",
      "home_base\n",
      "    []\n",
      "repository\n",
      "    []\n",
      "focus_area\n",
      "    []\n",
      "season\n",
      "    []\n",
      "instrument_type\n",
      "    []\n",
      "measurement_region\n",
      "    []\n",
      "geographical_region\n",
      "    []\n",
      "geophysical_concept\n",
      "    []\n",
      "campaign\n",
      "    []\n",
      "platform\n",
      "    []\n",
      "instrument\n",
      "    []\n",
      "deployment\n",
      "    []\n",
      "iopse\n",
      "    []\n",
      "gcmd_instrument\n",
      "    ['atlas', 'informationnotavailable', 'wcr', nan, 'epic', 'opc', 'gnssreceiver', 'cris', 'aa', 'iris', 'particlespectrometers', 'ssies', 'icecube', 'aps']\n",
      "gcmd_platform\n",
      "    ['kingair', 'informationnotavailable', 'goes10', 'goes11', 'goes12', 'goes13', 'goes14', 'goes15', 'goes16', 'goes1', 'goes2', 'goes3', 'goes4', 'goes5', 'goes6', 'goes7', 'goes8', 'goes9', 'environmentalmodeling']\n",
      "gcmd_project\n",
      "    ['afsisclimate', 'camp', 'informationnotavailable', 'iodp', 'landsat7', 'mcmurdopredatorprey', 'notapplicable']\n",
      "partner_org\n",
      "    []\n",
      "iop\n",
      "    []\n",
      "significant_event\n",
      "    []\n"
     ]
    }
   ],
   "source": [
    "for table_name in db.keys():\n",
    "    if table_name == 'collection_period':\n",
    "        # this is being skipped because it has been broken out by instrument\n",
    "        # and therefore it has duplicate short_names\n",
    "        continue\n",
    "        \n",
    "    if 'short_name' in db[table_name].keys():\n",
    "        print(table_name)\n",
    "        duplicates = validate.find_duplicates(db, table_name, 'short_name')\n",
    "\n",
    "        print(f'    {duplicates}')"
   ]
  },
  {
   "cell_type": "markdown",
   "metadata": {},
   "source": [
    "### Foriegn Key Links"
   ]
  },
  {
   "cell_type": "code",
   "execution_count": 25,
   "metadata": {
    "scrolled": true
   },
   "outputs": [
    {
     "data": {
      "text/html": [
       "<div>\n",
       "<style scoped>\n",
       "    .dataframe tbody tr th:only-of-type {\n",
       "        vertical-align: middle;\n",
       "    }\n",
       "\n",
       "    .dataframe tbody tr th {\n",
       "        vertical-align: top;\n",
       "    }\n",
       "\n",
       "    .dataframe thead th {\n",
       "        text-align: right;\n",
       "    }\n",
       "</style>\n",
       "<table border=\"1\" class=\"dataframe\">\n",
       "  <thead>\n",
       "    <tr style=\"text-align: right;\">\n",
       "      <th></th>\n",
       "      <th>campaign</th>\n",
       "      <th>gcmd_project</th>\n",
       "      <th>suggestions</th>\n",
       "    </tr>\n",
       "  </thead>\n",
       "  <tbody>\n",
       "    <tr>\n",
       "      <th>9</th>\n",
       "      <td>OLYMPEX</td>\n",
       "      <td>NID</td>\n",
       "      <td>[]</td>\n",
       "    </tr>\n",
       "  </tbody>\n",
       "</table>\n",
       "</div>"
      ],
      "text/plain": [
       "  campaign gcmd_project suggestions\n",
       "9  OLYMPEX          NID          []"
      ]
     },
     "execution_count": 25,
     "metadata": {},
     "output_type": "execute_result"
    }
   ],
   "source": [
    "errors = validate.foriegn_keys(db, \n",
    "                                data_table='campaign-to-gcmd_project', \n",
    "                                data_index='campaign', \n",
    "                                data_column='gcmd_project', \n",
    "                                foriegn_table='gcmd_project', \n",
    "                                foriegn_column='gcmd_uuid')\n",
    "errors"
   ]
  },
  {
   "cell_type": "code",
   "execution_count": 26,
   "metadata": {},
   "outputs": [
    {
     "data": {
      "text/html": [
       "<div>\n",
       "<style scoped>\n",
       "    .dataframe tbody tr th:only-of-type {\n",
       "        vertical-align: middle;\n",
       "    }\n",
       "\n",
       "    .dataframe tbody tr th {\n",
       "        vertical-align: top;\n",
       "    }\n",
       "\n",
       "    .dataframe thead th {\n",
       "        text-align: right;\n",
       "    }\n",
       "</style>\n",
       "<table border=\"1\" class=\"dataframe\">\n",
       "  <thead>\n",
       "    <tr style=\"text-align: right;\">\n",
       "      <th></th>\n",
       "      <th>campaign</th>\n",
       "      <th>focus_area</th>\n",
       "      <th>suggestions</th>\n",
       "    </tr>\n",
       "  </thead>\n",
       "  <tbody>\n",
       "  </tbody>\n",
       "</table>\n",
       "</div>"
      ],
      "text/plain": [
       "Empty DataFrame\n",
       "Columns: [campaign, focus_area, suggestions]\n",
       "Index: []"
      ]
     },
     "execution_count": 26,
     "metadata": {},
     "output_type": "execute_result"
    }
   ],
   "source": [
    "errors = validate.foriegn_keys(db, \n",
    "                                data_table='campaign-to-focus_area', \n",
    "                                data_index='campaign', \n",
    "                                data_column='focus_area', \n",
    "                                foriegn_table='focus_area', \n",
    "                                foriegn_column='short_name')\n",
    "errors"
   ]
  },
  {
   "cell_type": "code",
   "execution_count": 27,
   "metadata": {},
   "outputs": [
    {
     "data": {
      "text/html": [
       "<div>\n",
       "<style scoped>\n",
       "    .dataframe tbody tr th:only-of-type {\n",
       "        vertical-align: middle;\n",
       "    }\n",
       "\n",
       "    .dataframe tbody tr th {\n",
       "        vertical-align: top;\n",
       "    }\n",
       "\n",
       "    .dataframe thead th {\n",
       "        text-align: right;\n",
       "    }\n",
       "</style>\n",
       "<table border=\"1\" class=\"dataframe\">\n",
       "  <thead>\n",
       "    <tr style=\"text-align: right;\">\n",
       "      <th></th>\n",
       "      <th>campaign</th>\n",
       "      <th>season</th>\n",
       "      <th>suggestions</th>\n",
       "    </tr>\n",
       "  </thead>\n",
       "  <tbody>\n",
       "  </tbody>\n",
       "</table>\n",
       "</div>"
      ],
      "text/plain": [
       "Empty DataFrame\n",
       "Columns: [campaign, season, suggestions]\n",
       "Index: []"
      ]
     },
     "execution_count": 27,
     "metadata": {},
     "output_type": "execute_result"
    }
   ],
   "source": [
    "errors = validate.foriegn_keys(db, \n",
    "                                data_table='campaign-to-season', \n",
    "                                data_index='campaign', \n",
    "                                data_column='season', \n",
    "                                foriegn_table='season', \n",
    "                                foriegn_column='short_name')\n",
    "errors"
   ]
  },
  {
   "cell_type": "code",
   "execution_count": 28,
   "metadata": {
    "scrolled": true
   },
   "outputs": [
    {
     "data": {
      "text/html": [
       "<div>\n",
       "<style scoped>\n",
       "    .dataframe tbody tr th:only-of-type {\n",
       "        vertical-align: middle;\n",
       "    }\n",
       "\n",
       "    .dataframe tbody tr th {\n",
       "        vertical-align: top;\n",
       "    }\n",
       "\n",
       "    .dataframe thead th {\n",
       "        text-align: right;\n",
       "    }\n",
       "</style>\n",
       "<table border=\"1\" class=\"dataframe\">\n",
       "  <thead>\n",
       "    <tr style=\"text-align: right;\">\n",
       "      <th></th>\n",
       "      <th>campaign</th>\n",
       "      <th>platform_type</th>\n",
       "      <th>suggestions</th>\n",
       "    </tr>\n",
       "  </thead>\n",
       "  <tbody>\n",
       "    <tr>\n",
       "      <th>4</th>\n",
       "      <td>ACES</td>\n",
       "      <td>Permanent Land Sites</td>\n",
       "      <td>[Permanant Land Sites]</td>\n",
       "    </tr>\n",
       "    <tr>\n",
       "      <th>20</th>\n",
       "      <td>DC3</td>\n",
       "      <td>Permanent Land Sites</td>\n",
       "      <td>[Permanant Land Sites]</td>\n",
       "    </tr>\n",
       "    <tr>\n",
       "      <th>25</th>\n",
       "      <td>GOES-R PLT</td>\n",
       "      <td>Permanent Land Sites</td>\n",
       "      <td>[Permanant Land Sites]</td>\n",
       "    </tr>\n",
       "    <tr>\n",
       "      <th>31</th>\n",
       "      <td>HS3</td>\n",
       "      <td>Permanent Land Sites</td>\n",
       "      <td>[Permanant Land Sites]</td>\n",
       "    </tr>\n",
       "    <tr>\n",
       "      <th>34</th>\n",
       "      <td>OLYMPEX</td>\n",
       "      <td>Permanent Land Sites</td>\n",
       "      <td>[Permanant Land Sites]</td>\n",
       "    </tr>\n",
       "  </tbody>\n",
       "</table>\n",
       "</div>"
      ],
      "text/plain": [
       "      campaign         platform_type             suggestions\n",
       "4         ACES  Permanent Land Sites  [Permanant Land Sites]\n",
       "20         DC3  Permanent Land Sites  [Permanant Land Sites]\n",
       "25  GOES-R PLT  Permanent Land Sites  [Permanant Land Sites]\n",
       "31         HS3  Permanent Land Sites  [Permanant Land Sites]\n",
       "34     OLYMPEX  Permanent Land Sites  [Permanant Land Sites]"
      ]
     },
     "execution_count": 28,
     "metadata": {},
     "output_type": "execute_result"
    }
   ],
   "source": [
    "errors = validate.foriegn_keys(db, \n",
    "                                data_table='campaign-to-platform_type', \n",
    "                                data_index='campaign', \n",
    "                                data_column='platform_type', \n",
    "                                foriegn_table='platform_type', \n",
    "                                foriegn_column='short_name')\n",
    "errors"
   ]
  },
  {
   "cell_type": "code",
   "execution_count": 56,
   "metadata": {},
   "outputs": [
    {
     "data": {
      "text/plain": [
       "['gcmd_phenomena',\n",
       " 'gcmd_instrument',\n",
       " 'gcmd_platform',\n",
       " 'gcmd_project',\n",
       " 'campaign-to-gcmd_project',\n",
       " 'platform-to-gcmd_platform',\n",
       " 'instrument-to-gcmd_instrument']"
      ]
     },
     "execution_count": 56,
     "metadata": {},
     "output_type": "execute_result"
    }
   ],
   "source": [
    "[key for key in db.keys() if 'gcmd' in key]"
   ]
  },
  {
   "cell_type": "code",
   "execution_count": 29,
   "metadata": {
    "scrolled": true
   },
   "outputs": [
    {
     "ename": "KeyError",
     "evalue": "'campaign-to-gcmd_phenomena'",
     "output_type": "error",
     "traceback": [
      "\u001b[0;31m---------------------------------------------------------------------------\u001b[0m",
      "\u001b[0;31mKeyError\u001b[0m                                  Traceback (most recent call last)",
      "\u001b[0;32m<ipython-input-29-95042175ed70>\u001b[0m in \u001b[0;36m<module>\u001b[0;34m\u001b[0m\n\u001b[0;32m----> 1\u001b[0;31m errors = validate.foriegn_keys(db, \n\u001b[0m\u001b[1;32m      2\u001b[0m                                 \u001b[0mdata_table\u001b[0m\u001b[0;34m=\u001b[0m\u001b[0;34m'campaign-to-gcmd_phenomena'\u001b[0m\u001b[0;34m,\u001b[0m\u001b[0;34m\u001b[0m\u001b[0;34m\u001b[0m\u001b[0m\n\u001b[1;32m      3\u001b[0m                                 \u001b[0mdata_index\u001b[0m\u001b[0;34m=\u001b[0m\u001b[0;34m'campaign'\u001b[0m\u001b[0;34m,\u001b[0m\u001b[0;34m\u001b[0m\u001b[0;34m\u001b[0m\u001b[0m\n\u001b[1;32m      4\u001b[0m                                 \u001b[0mdata_column\u001b[0m\u001b[0;34m=\u001b[0m\u001b[0;34m'gcmd_phenomena'\u001b[0m\u001b[0;34m,\u001b[0m\u001b[0;34m\u001b[0m\u001b[0;34m\u001b[0m\u001b[0m\n\u001b[1;32m      5\u001b[0m                                 \u001b[0mforiegn_table\u001b[0m\u001b[0;34m=\u001b[0m\u001b[0;34m'gcmd_phenomena'\u001b[0m\u001b[0;34m,\u001b[0m\u001b[0;34m\u001b[0m\u001b[0;34m\u001b[0m\u001b[0m\n",
      "\u001b[0;32m~/github/admg_webapp/data_models/utils/validate.py\u001b[0m in \u001b[0;36mforiegn_keys\u001b[0;34m(db, data_table, data_index, data_column, foriegn_table, foriegn_column)\u001b[0m\n\u001b[1;32m     23\u001b[0m     \u001b[0mforiegn_dict\u001b[0m \u001b[0;34m=\u001b[0m \u001b[0;34m{\u001b[0m\u001b[0mlan\u001b[0m\u001b[0;34m(\u001b[0m\u001b[0mkey\u001b[0m\u001b[0;34m)\u001b[0m\u001b[0;34m:\u001b[0m\u001b[0mkey\u001b[0m \u001b[0;32mfor\u001b[0m \u001b[0mkey\u001b[0m \u001b[0;32min\u001b[0m \u001b[0mforiegn_keys\u001b[0m\u001b[0;34m}\u001b[0m\u001b[0;34m\u001b[0m\u001b[0;34m\u001b[0m\u001b[0m\n\u001b[1;32m     24\u001b[0m \u001b[0;34m\u001b[0m\u001b[0m\n\u001b[0;32m---> 25\u001b[0;31m     \u001b[0mbool_filter\u001b[0m \u001b[0;34m=\u001b[0m \u001b[0mdb\u001b[0m\u001b[0;34m[\u001b[0m\u001b[0mdata_table\u001b[0m\u001b[0;34m]\u001b[0m\u001b[0;34m[\u001b[0m\u001b[0mdata_column\u001b[0m\u001b[0;34m]\u001b[0m\u001b[0;34m.\u001b[0m\u001b[0mapply\u001b[0m\u001b[0;34m(\u001b[0m\u001b[0;32mlambda\u001b[0m \u001b[0mx\u001b[0m\u001b[0;34m:\u001b[0m \u001b[0mlan\u001b[0m\u001b[0;34m(\u001b[0m\u001b[0mx\u001b[0m\u001b[0;34m)\u001b[0m \u001b[0;32mnot\u001b[0m \u001b[0;32min\u001b[0m \u001b[0mforiegn_dict\u001b[0m\u001b[0;34m.\u001b[0m\u001b[0mkeys\u001b[0m\u001b[0;34m(\u001b[0m\u001b[0;34m)\u001b[0m \u001b[0;32mand\u001b[0m \u001b[0mx\u001b[0m\u001b[0;34m!=\u001b[0m\u001b[0;34m'Information Not Available'\u001b[0m\u001b[0;34m)\u001b[0m\u001b[0;34m\u001b[0m\u001b[0;34m\u001b[0m\u001b[0m\n\u001b[0m\u001b[1;32m     26\u001b[0m \u001b[0;34m\u001b[0m\u001b[0m\n\u001b[1;32m     27\u001b[0m     \u001b[0merrors\u001b[0m \u001b[0;34m=\u001b[0m \u001b[0mdb\u001b[0m\u001b[0;34m[\u001b[0m\u001b[0mdata_table\u001b[0m\u001b[0;34m]\u001b[0m\u001b[0;34m[\u001b[0m\u001b[0mbool_filter\u001b[0m\u001b[0;34m]\u001b[0m\u001b[0;34m[\u001b[0m\u001b[0;34m[\u001b[0m\u001b[0mdata_index\u001b[0m\u001b[0;34m,\u001b[0m \u001b[0mdata_column\u001b[0m\u001b[0;34m]\u001b[0m\u001b[0;34m]\u001b[0m\u001b[0;34m.\u001b[0m\u001b[0mcopy\u001b[0m\u001b[0;34m(\u001b[0m\u001b[0;34m)\u001b[0m\u001b[0;34m\u001b[0m\u001b[0;34m\u001b[0m\u001b[0m\n",
      "\u001b[0;31mKeyError\u001b[0m: 'campaign-to-gcmd_phenomena'"
     ]
    }
   ],
   "source": [
    "errors = validate.foriegn_keys(db, \n",
    "                                data_table='campaign-to-gcmd_phenomena', \n",
    "                                data_index='campaign', \n",
    "                                data_column='gcmd_phenomena', \n",
    "                                foriegn_table='gcmd_phenomena', \n",
    "                                foriegn_column='ignore_code')\n",
    "errors"
   ]
  },
  {
   "cell_type": "code",
   "execution_count": 30,
   "metadata": {
    "scrolled": false
   },
   "outputs": [
    {
     "data": {
      "text/html": [
       "<div>\n",
       "<style scoped>\n",
       "    .dataframe tbody tr th:only-of-type {\n",
       "        vertical-align: middle;\n",
       "    }\n",
       "\n",
       "    .dataframe tbody tr th {\n",
       "        vertical-align: top;\n",
       "    }\n",
       "\n",
       "    .dataframe thead th {\n",
       "        text-align: right;\n",
       "    }\n",
       "</style>\n",
       "<table border=\"1\" class=\"dataframe\">\n",
       "  <thead>\n",
       "    <tr style=\"text-align: right;\">\n",
       "      <th></th>\n",
       "      <th>campaign</th>\n",
       "      <th>repository</th>\n",
       "      <th>suggestions</th>\n",
       "    </tr>\n",
       "  </thead>\n",
       "  <tbody>\n",
       "  </tbody>\n",
       "</table>\n",
       "</div>"
      ],
      "text/plain": [
       "Empty DataFrame\n",
       "Columns: [campaign, repository, suggestions]\n",
       "Index: []"
      ]
     },
     "execution_count": 30,
     "metadata": {},
     "output_type": "execute_result"
    }
   ],
   "source": [
    "errors = validate.foriegn_keys(db, \n",
    "                                data_table='campaign-to-repository', \n",
    "                                data_index='campaign', \n",
    "                                data_column='repository', \n",
    "                                foriegn_table='repository', \n",
    "                                foriegn_column='short_name')\n",
    "errors"
   ]
  },
  {
   "cell_type": "code",
   "execution_count": 31,
   "metadata": {
    "scrolled": true
   },
   "outputs": [
    {
     "data": {
      "text/html": [
       "<div>\n",
       "<style scoped>\n",
       "    .dataframe tbody tr th:only-of-type {\n",
       "        vertical-align: middle;\n",
       "    }\n",
       "\n",
       "    .dataframe tbody tr th {\n",
       "        vertical-align: top;\n",
       "    }\n",
       "\n",
       "    .dataframe thead th {\n",
       "        text-align: right;\n",
       "    }\n",
       "</style>\n",
       "<table border=\"1\" class=\"dataframe\">\n",
       "  <thead>\n",
       "    <tr style=\"text-align: right;\">\n",
       "      <th></th>\n",
       "      <th>campaign</th>\n",
       "      <th>partner_org</th>\n",
       "      <th>suggestions</th>\n",
       "    </tr>\n",
       "  </thead>\n",
       "  <tbody>\n",
       "  </tbody>\n",
       "</table>\n",
       "</div>"
      ],
      "text/plain": [
       "Empty DataFrame\n",
       "Columns: [campaign, partner_org, suggestions]\n",
       "Index: []"
      ]
     },
     "execution_count": 31,
     "metadata": {},
     "output_type": "execute_result"
    }
   ],
   "source": [
    "errors = validate.foriegn_keys(db, \n",
    "                                data_table='campaign-to-partner_org', \n",
    "                                data_index='campaign', \n",
    "                                data_column='partner_org', \n",
    "                                foriegn_table='partner_org', \n",
    "                                foriegn_column='short_name')\n",
    "errors"
   ]
  },
  {
   "cell_type": "code",
   "execution_count": 32,
   "metadata": {
    "scrolled": true
   },
   "outputs": [
    {
     "data": {
      "text/html": [
       "<div>\n",
       "<style scoped>\n",
       "    .dataframe tbody tr th:only-of-type {\n",
       "        vertical-align: middle;\n",
       "    }\n",
       "\n",
       "    .dataframe tbody tr th {\n",
       "        vertical-align: top;\n",
       "    }\n",
       "\n",
       "    .dataframe thead th {\n",
       "        text-align: right;\n",
       "    }\n",
       "</style>\n",
       "<table border=\"1\" class=\"dataframe\">\n",
       "  <thead>\n",
       "    <tr style=\"text-align: right;\">\n",
       "      <th></th>\n",
       "      <th>platform</th>\n",
       "      <th>gcmd_platform</th>\n",
       "      <th>suggestions</th>\n",
       "    </tr>\n",
       "  </thead>\n",
       "  <tbody>\n",
       "  </tbody>\n",
       "</table>\n",
       "</div>"
      ],
      "text/plain": [
       "Empty DataFrame\n",
       "Columns: [platform, gcmd_platform, suggestions]\n",
       "Index: []"
      ]
     },
     "execution_count": 32,
     "metadata": {},
     "output_type": "execute_result"
    }
   ],
   "source": [
    "errors = validate.foriegn_keys(db, \n",
    "                                data_table='platform-to-gcmd_platform', \n",
    "                                data_index='platform', \n",
    "                                data_column='gcmd_platform', \n",
    "                                foriegn_table='gcmd_platform', \n",
    "                                foriegn_column='gcmd_uuid')\n",
    "errors"
   ]
  },
  {
   "cell_type": "code",
   "execution_count": 33,
   "metadata": {
    "scrolled": true
   },
   "outputs": [
    {
     "data": {
      "text/html": [
       "<div>\n",
       "<style scoped>\n",
       "    .dataframe tbody tr th:only-of-type {\n",
       "        vertical-align: middle;\n",
       "    }\n",
       "\n",
       "    .dataframe tbody tr th {\n",
       "        vertical-align: top;\n",
       "    }\n",
       "\n",
       "    .dataframe thead th {\n",
       "        text-align: right;\n",
       "    }\n",
       "</style>\n",
       "<table border=\"1\" class=\"dataframe\">\n",
       "  <thead>\n",
       "    <tr style=\"text-align: right;\">\n",
       "      <th></th>\n",
       "      <th>instrument</th>\n",
       "      <th>measurement_keywords</th>\n",
       "      <th>suggestions</th>\n",
       "    </tr>\n",
       "  </thead>\n",
       "  <tbody>\n",
       "    <tr>\n",
       "      <th>148</th>\n",
       "      <td>FTS</td>\n",
       "      <td>1154 1159</td>\n",
       "      <td>[]</td>\n",
       "    </tr>\n",
       "  </tbody>\n",
       "</table>\n",
       "</div>"
      ],
      "text/plain": [
       "    instrument measurement_keywords suggestions\n",
       "148        FTS            1154 1159          []"
      ]
     },
     "execution_count": 33,
     "metadata": {},
     "output_type": "execute_result"
    }
   ],
   "source": [
    "errors = validate.foriegn_keys(db, \n",
    "                                data_table='instrument-to-measurement_keywords', \n",
    "                                data_index='instrument', \n",
    "                                data_column='measurement_keywords', \n",
    "                                foriegn_table='gcmd_phenomena', \n",
    "                                foriegn_column='ignore_code')\n",
    "errors"
   ]
  },
  {
   "cell_type": "code",
   "execution_count": 34,
   "metadata": {
    "scrolled": false
   },
   "outputs": [
    {
     "data": {
      "text/html": [
       "<div>\n",
       "<style scoped>\n",
       "    .dataframe tbody tr th:only-of-type {\n",
       "        vertical-align: middle;\n",
       "    }\n",
       "\n",
       "    .dataframe tbody tr th {\n",
       "        vertical-align: top;\n",
       "    }\n",
       "\n",
       "    .dataframe thead th {\n",
       "        text-align: right;\n",
       "    }\n",
       "</style>\n",
       "<table border=\"1\" class=\"dataframe\">\n",
       "  <thead>\n",
       "    <tr style=\"text-align: right;\">\n",
       "      <th></th>\n",
       "      <th>instrument</th>\n",
       "      <th>gcmd_instrument</th>\n",
       "      <th>suggestions</th>\n",
       "    </tr>\n",
       "  </thead>\n",
       "  <tbody>\n",
       "    <tr>\n",
       "      <th>4</th>\n",
       "      <td>3V-CPI</td>\n",
       "      <td>NID</td>\n",
       "      <td>[]</td>\n",
       "    </tr>\n",
       "    <tr>\n",
       "      <th>9</th>\n",
       "      <td>AirMOSS</td>\n",
       "      <td>NID</td>\n",
       "      <td>[]</td>\n",
       "    </tr>\n",
       "    <tr>\n",
       "      <th>13</th>\n",
       "      <td>AOP</td>\n",
       "      <td>NID</td>\n",
       "      <td>[]</td>\n",
       "    </tr>\n",
       "    <tr>\n",
       "      <th>23</th>\n",
       "      <td>BAT probe</td>\n",
       "      <td>NID</td>\n",
       "      <td>[]</td>\n",
       "    </tr>\n",
       "    <tr>\n",
       "      <th>25</th>\n",
       "      <td>CAFS</td>\n",
       "      <td>NID</td>\n",
       "      <td>[]</td>\n",
       "    </tr>\n",
       "    <tr>\n",
       "      <th>34</th>\n",
       "      <td>CI-ITMS</td>\n",
       "      <td>NID</td>\n",
       "      <td>[]</td>\n",
       "    </tr>\n",
       "    <tr>\n",
       "      <th>36</th>\n",
       "      <td>CIP</td>\n",
       "      <td>92f99316-b581-4adb-9980-aeb6bed64eee</td>\n",
       "      <td>[]</td>\n",
       "    </tr>\n",
       "    <tr>\n",
       "      <th>37</th>\n",
       "      <td>CIT-CIMS</td>\n",
       "      <td>NID</td>\n",
       "      <td>[]</td>\n",
       "    </tr>\n",
       "    <tr>\n",
       "      <th>45</th>\n",
       "      <td>CPSD</td>\n",
       "      <td>NID</td>\n",
       "      <td>[]</td>\n",
       "    </tr>\n",
       "    <tr>\n",
       "      <th>88</th>\n",
       "      <td>HD-SP2</td>\n",
       "      <td>NID</td>\n",
       "      <td>[]</td>\n",
       "    </tr>\n",
       "    <tr>\n",
       "      <th>98</th>\n",
       "      <td>LARGE</td>\n",
       "      <td>NID</td>\n",
       "      <td>[]</td>\n",
       "    </tr>\n",
       "    <tr>\n",
       "      <th>128</th>\n",
       "      <td>PFP</td>\n",
       "      <td>NID</td>\n",
       "      <td>[]</td>\n",
       "    </tr>\n",
       "    <tr>\n",
       "      <th>148</th>\n",
       "      <td>SPEC</td>\n",
       "      <td>NID</td>\n",
       "      <td>[]</td>\n",
       "    </tr>\n",
       "    <tr>\n",
       "      <th>155</th>\n",
       "      <td>TDMA</td>\n",
       "      <td>NID</td>\n",
       "      <td>[]</td>\n",
       "    </tr>\n",
       "  </tbody>\n",
       "</table>\n",
       "</div>"
      ],
      "text/plain": [
       "    instrument                       gcmd_instrument suggestions\n",
       "4       3V-CPI                                   NID          []\n",
       "9      AirMOSS                                   NID          []\n",
       "13         AOP                                   NID          []\n",
       "23   BAT probe                                   NID          []\n",
       "25        CAFS                                   NID          []\n",
       "34     CI-ITMS                                   NID          []\n",
       "36         CIP  92f99316-b581-4adb-9980-aeb6bed64eee          []\n",
       "37    CIT-CIMS                                   NID          []\n",
       "45        CPSD                                   NID          []\n",
       "88      HD-SP2                                   NID          []\n",
       "98       LARGE                                   NID          []\n",
       "128        PFP                                   NID          []\n",
       "148       SPEC                                   NID          []\n",
       "155       TDMA                                   NID          []"
      ]
     },
     "execution_count": 34,
     "metadata": {},
     "output_type": "execute_result"
    }
   ],
   "source": [
    "errors = validate.foriegn_keys(db, \n",
    "                                data_table='instrument-to-gcmd_instrument', \n",
    "                                data_index='instrument', \n",
    "                                data_column='gcmd_instrument', \n",
    "                                foriegn_table='gcmd_instrument', \n",
    "                                foriegn_column='gcmd_uuid')\n",
    "errors"
   ]
  },
  {
   "cell_type": "code",
   "execution_count": null,
   "metadata": {},
   "outputs": [],
   "source": [
    "correct_values(\n",
    "    db=db,\n",
    "    table_name = 'instrument-to-gcmd_instrument',\n",
    "    column = 'gcmd_instrument',\n",
    "    wrong_value = 'NID',\n",
    "    correct_value = '6238f3e2-9a87-4e32-b866-c4a637094b51')\n",
    "correct_values(\n",
    "    db=db,\n",
    "    table_name = 'instrument-to-gcmd_instrument',\n",
    "    column = 'gcmd_instrument',\n",
    "    wrong_value = '92f99316-b581-4adb-9980-aeb6bed64eee',\n",
    "    correct_value = 'None')\n",
    "correct_values(\n",
    "    db=db,\n",
    "    table_name = 'instrument-to-gcmd_instrument',\n",
    "    column = 'gcmd_instrument',\n",
    "    wrong_value = '6238fe2-9a87-4e32-b866-c4a637094b51',\n",
    "    correct_value = '6238f3e2-9a87-4e32-b866-c4a637094b51')\n",
    "correct_values(\n",
    "    db=db,\n",
    "    table_name = 'instrument-to-gcmd_instrument',\n",
    "    column = 'gcmd_instrument',\n",
    "    wrong_value = 'None',\n",
    "    correct_value = '6238f3e2-9a87-4e32-b866-c4a637094b51')"
   ]
  },
  {
   "cell_type": "code",
   "execution_count": 35,
   "metadata": {},
   "outputs": [
    {
     "data": {
      "text/html": [
       "<div>\n",
       "<style scoped>\n",
       "    .dataframe tbody tr th:only-of-type {\n",
       "        vertical-align: middle;\n",
       "    }\n",
       "\n",
       "    .dataframe tbody tr th {\n",
       "        vertical-align: top;\n",
       "    }\n",
       "\n",
       "    .dataframe thead th {\n",
       "        text-align: right;\n",
       "    }\n",
       "</style>\n",
       "<table border=\"1\" class=\"dataframe\">\n",
       "  <thead>\n",
       "    <tr style=\"text-align: right;\">\n",
       "      <th></th>\n",
       "      <th>instrument</th>\n",
       "      <th>instrument_type</th>\n",
       "      <th>suggestions</th>\n",
       "    </tr>\n",
       "  </thead>\n",
       "  <tbody>\n",
       "  </tbody>\n",
       "</table>\n",
       "</div>"
      ],
      "text/plain": [
       "Empty DataFrame\n",
       "Columns: [instrument, instrument_type, suggestions]\n",
       "Index: []"
      ]
     },
     "execution_count": 35,
     "metadata": {},
     "output_type": "execute_result"
    }
   ],
   "source": [
    "errors = validate.foriegn_keys(db, \n",
    "                                data_table='instrument-to-instrument_type', \n",
    "                                data_index='instrument', \n",
    "                                data_column='instrument_type', \n",
    "                                foriegn_table='instrument_type', \n",
    "                                foriegn_column='short_name')\n",
    "errors"
   ]
  },
  {
   "cell_type": "code",
   "execution_count": null,
   "metadata": {},
   "outputs": [],
   "source": [
    "correct_values(\n",
    "    db=db,\n",
    "    table_name = 'instrument-to-instrument_type',\n",
    "    column = 'instrument_type',\n",
    "    wrong_value = 'Passive - Remote Sensing',\n",
    "    correct_value = 'Remote - Passive')\n",
    "correct_values(\n",
    "    db=db,\n",
    "    table_name = 'instrument-to-instrument_type',\n",
    "    column = 'instrument_type',\n",
    "    wrong_value = 'Earth Remote Sensing - Active Remote Sensing',\n",
    "    correct_value = 'Remote - Active')"
   ]
  },
  {
   "cell_type": "code",
   "execution_count": 36,
   "metadata": {},
   "outputs": [
    {
     "data": {
      "text/html": [
       "<div>\n",
       "<style scoped>\n",
       "    .dataframe tbody tr th:only-of-type {\n",
       "        vertical-align: middle;\n",
       "    }\n",
       "\n",
       "    .dataframe tbody tr th {\n",
       "        vertical-align: top;\n",
       "    }\n",
       "\n",
       "    .dataframe thead th {\n",
       "        text-align: right;\n",
       "    }\n",
       "</style>\n",
       "<table border=\"1\" class=\"dataframe\">\n",
       "  <thead>\n",
       "    <tr style=\"text-align: right;\">\n",
       "      <th></th>\n",
       "      <th>instrument</th>\n",
       "      <th>geophysical_concept</th>\n",
       "      <th>suggestions</th>\n",
       "    </tr>\n",
       "  </thead>\n",
       "  <tbody>\n",
       "    <tr>\n",
       "      <th>0</th>\n",
       "      <td>2D-C/P</td>\n",
       "      <td>Clouds-Properties &amp; Processes &amp; Dynamics</td>\n",
       "      <td>[]</td>\n",
       "    </tr>\n",
       "    <tr>\n",
       "      <th>1</th>\n",
       "      <td>2D-C/P</td>\n",
       "      <td>Precipitation</td>\n",
       "      <td>[]</td>\n",
       "    </tr>\n",
       "    <tr>\n",
       "      <th>3</th>\n",
       "      <td>3V-CPI</td>\n",
       "      <td>Precipitation</td>\n",
       "      <td>[]</td>\n",
       "    </tr>\n",
       "    <tr>\n",
       "      <th>4</th>\n",
       "      <td>3V-CPI</td>\n",
       "      <td>Clouds-Properties &amp; Processes &amp; Dynamics</td>\n",
       "      <td>[]</td>\n",
       "    </tr>\n",
       "    <tr>\n",
       "      <th>9</th>\n",
       "      <td>AirMOSS</td>\n",
       "      <td>Terrestrial Hydrology</td>\n",
       "      <td>[]</td>\n",
       "    </tr>\n",
       "    <tr>\n",
       "      <th>11</th>\n",
       "      <td>AirMSPI</td>\n",
       "      <td>Radiation &amp; Energy Budget</td>\n",
       "      <td>[Radiation &amp; Energy]</td>\n",
       "    </tr>\n",
       "    <tr>\n",
       "      <th>15</th>\n",
       "      <td>APR-2</td>\n",
       "      <td>Precipitation</td>\n",
       "      <td>[]</td>\n",
       "    </tr>\n",
       "    <tr>\n",
       "      <th>20</th>\n",
       "      <td>AVAPS</td>\n",
       "      <td>Boundary Layer Processes</td>\n",
       "      <td>[]</td>\n",
       "    </tr>\n",
       "    <tr>\n",
       "      <th>21</th>\n",
       "      <td>AVIRIS</td>\n",
       "      <td>Radiation &amp; Energy Budget</td>\n",
       "      <td>[Radiation &amp; Energy]</td>\n",
       "    </tr>\n",
       "    <tr>\n",
       "      <th>23</th>\n",
       "      <td>BAT probe</td>\n",
       "      <td>Boundary Layer Processes</td>\n",
       "      <td>[]</td>\n",
       "    </tr>\n",
       "    <tr>\n",
       "      <th>40</th>\n",
       "      <td>CoSMIR</td>\n",
       "      <td>Radiation &amp; Energy Budget</td>\n",
       "      <td>[Radiation &amp; Energy]</td>\n",
       "    </tr>\n",
       "    <tr>\n",
       "      <th>45</th>\n",
       "      <td>CRS</td>\n",
       "      <td>Clouds-Properties &amp; Processes &amp; Dynamics</td>\n",
       "      <td>[]</td>\n",
       "    </tr>\n",
       "    <tr>\n",
       "      <th>67</th>\n",
       "      <td>EXRAD</td>\n",
       "      <td>Precipitation</td>\n",
       "      <td>[]</td>\n",
       "    </tr>\n",
       "    <tr>\n",
       "      <th>72</th>\n",
       "      <td>FSSP</td>\n",
       "      <td>Clouds-Properties &amp; Processes &amp; Dynamics</td>\n",
       "      <td>[]</td>\n",
       "    </tr>\n",
       "    <tr>\n",
       "      <th>85</th>\n",
       "      <td>HIWRAP</td>\n",
       "      <td>Precipitation</td>\n",
       "      <td>[]</td>\n",
       "    </tr>\n",
       "    <tr>\n",
       "      <th>86</th>\n",
       "      <td>HIWRAP</td>\n",
       "      <td>Mid-latitude Cyclones</td>\n",
       "      <td>[Mid-lat Cyclones]</td>\n",
       "    </tr>\n",
       "    <tr>\n",
       "      <th>135</th>\n",
       "      <td>RICE</td>\n",
       "      <td>Cloud Properties</td>\n",
       "      <td>[]</td>\n",
       "    </tr>\n",
       "    <tr>\n",
       "      <th>136</th>\n",
       "      <td>RICE</td>\n",
       "      <td>Processes &amp; Dynamics</td>\n",
       "      <td>[]</td>\n",
       "    </tr>\n",
       "    <tr>\n",
       "      <th>154</th>\n",
       "      <td>VCSEL</td>\n",
       "      <td>Atmospheric Chemicals &amp; Trace Gasses</td>\n",
       "      <td>[]</td>\n",
       "    </tr>\n",
       "  </tbody>\n",
       "</table>\n",
       "</div>"
      ],
      "text/plain": [
       "    instrument                       geophysical_concept           suggestions\n",
       "0       2D-C/P  Clouds-Properties & Processes & Dynamics                    []\n",
       "1       2D-C/P                             Precipitation                    []\n",
       "3       3V-CPI                             Precipitation                    []\n",
       "4       3V-CPI  Clouds-Properties & Processes & Dynamics                    []\n",
       "9      AirMOSS                     Terrestrial Hydrology                    []\n",
       "11     AirMSPI                 Radiation & Energy Budget  [Radiation & Energy]\n",
       "15       APR-2                             Precipitation                    []\n",
       "20       AVAPS                  Boundary Layer Processes                    []\n",
       "21      AVIRIS                 Radiation & Energy Budget  [Radiation & Energy]\n",
       "23   BAT probe                  Boundary Layer Processes                    []\n",
       "40      CoSMIR                 Radiation & Energy Budget  [Radiation & Energy]\n",
       "45         CRS  Clouds-Properties & Processes & Dynamics                    []\n",
       "67       EXRAD                             Precipitation                    []\n",
       "72        FSSP  Clouds-Properties & Processes & Dynamics                    []\n",
       "85      HIWRAP                             Precipitation                    []\n",
       "86      HIWRAP                     Mid-latitude Cyclones    [Mid-lat Cyclones]\n",
       "135       RICE                          Cloud Properties                    []\n",
       "136       RICE                      Processes & Dynamics                    []\n",
       "154      VCSEL      Atmospheric Chemicals & Trace Gasses                    []"
      ]
     },
     "execution_count": 36,
     "metadata": {},
     "output_type": "execute_result"
    }
   ],
   "source": [
    "errors = validate.foriegn_keys(db, \n",
    "                                data_table='instrument-to-geophysical_concept', \n",
    "                                data_index='instrument', \n",
    "                                data_column='geophysical_concept', \n",
    "                                foriegn_table='geophysical_concept', \n",
    "                                foriegn_column='short_name')\n",
    "errors"
   ]
  },
  {
   "cell_type": "code",
   "execution_count": null,
   "metadata": {},
   "outputs": [],
   "source": [
    "correct_values(\n",
    "    db=db,\n",
    "    table_name = 'instrument-to-geophysical_concept',\n",
    "    column = 'geophysical_concept',\n",
    "    wrong_value = 'Precipitation',\n",
    "    correct_value = 'Precipitation (Precip)')\n",
    "correct_values(\n",
    "    db=db,\n",
    "    table_name = 'instrument-to-geophysical_concept',\n",
    "    column = 'geophysical_concept',\n",
    "    wrong_value = 'Terrestrial Hydrology',\n",
    "    correct_value = 'Terrestrial Hydrology (TerrHydrol)')\n",
    "correct_values(\n",
    "    db=db,\n",
    "    table_name = 'instrument-to-geophysical_concept',\n",
    "    column = 'geophysical_concept',\n",
    "    wrong_value = 'Atmospheric Chemicals & Trace Gasses',\n",
    "    correct_value = 'Atmospheric Chemicals & Trace Gases')\n",
    "correct_values(\n",
    "    db=db,\n",
    "    table_name = 'instrument-to-geophysical_concept',\n",
    "    column = 'geophysical_concept',\n",
    "    wrong_value = 'Cloud Properties',\n",
    "    correct_value = 'Clouds-Properties & Processes & Dynamics\t')\n",
    "correct_values(\n",
    "    db=db,\n",
    "    table_name = 'instrument-to-geophysical_concept',\n",
    "    column = 'geophysical_concept',\n",
    "    wrong_value = 'Processes & Dynamics',\n",
    "    correct_value = 'Boundary Layer Processes')"
   ]
  },
  {
   "cell_type": "code",
   "execution_count": null,
   "metadata": {},
   "outputs": [],
   "source": []
  },
  {
   "cell_type": "code",
   "execution_count": 37,
   "metadata": {},
   "outputs": [
    {
     "data": {
      "text/html": [
       "<div>\n",
       "<style scoped>\n",
       "    .dataframe tbody tr th:only-of-type {\n",
       "        vertical-align: middle;\n",
       "    }\n",
       "\n",
       "    .dataframe tbody tr th {\n",
       "        vertical-align: top;\n",
       "    }\n",
       "\n",
       "    .dataframe thead th {\n",
       "        text-align: right;\n",
       "    }\n",
       "</style>\n",
       "<table border=\"1\" class=\"dataframe\">\n",
       "  <thead>\n",
       "    <tr style=\"text-align: right;\">\n",
       "      <th></th>\n",
       "      <th>instrument</th>\n",
       "      <th>repository</th>\n",
       "      <th>suggestions</th>\n",
       "    </tr>\n",
       "  </thead>\n",
       "  <tbody>\n",
       "    <tr>\n",
       "      <th>82</th>\n",
       "      <td>FGM</td>\n",
       "      <td>NSIDC</td>\n",
       "      <td>[]</td>\n",
       "    </tr>\n",
       "  </tbody>\n",
       "</table>\n",
       "</div>"
      ],
      "text/plain": [
       "   instrument repository suggestions\n",
       "82        FGM      NSIDC          []"
      ]
     },
     "execution_count": 37,
     "metadata": {},
     "output_type": "execute_result"
    }
   ],
   "source": [
    "errors = validate.foriegn_keys(db, \n",
    "                                data_table='instrument-to-repository', \n",
    "                                data_index='instrument', \n",
    "                                data_column='repository', \n",
    "                                foriegn_table='repository', \n",
    "                                foriegn_column='short_name')\n",
    "errors"
   ]
  },
  {
   "cell_type": "code",
   "execution_count": null,
   "metadata": {},
   "outputs": [],
   "source": [
    "correct_values(\n",
    "    db=db,\n",
    "    table_name = 'instrument-to-repository',\n",
    "    column = 'repository',\n",
    "    wrong_value = 'ORNL',\n",
    "    correct_value = 'OB.DAAC')"
   ]
  },
  {
   "cell_type": "code",
   "execution_count": 38,
   "metadata": {},
   "outputs": [
    {
     "data": {
      "text/html": [
       "<div>\n",
       "<style scoped>\n",
       "    .dataframe tbody tr th:only-of-type {\n",
       "        vertical-align: middle;\n",
       "    }\n",
       "\n",
       "    .dataframe tbody tr th {\n",
       "        vertical-align: top;\n",
       "    }\n",
       "\n",
       "    .dataframe thead th {\n",
       "        text-align: right;\n",
       "    }\n",
       "</style>\n",
       "<table border=\"1\" class=\"dataframe\">\n",
       "  <thead>\n",
       "    <tr style=\"text-align: right;\">\n",
       "      <th></th>\n",
       "      <th>instrument</th>\n",
       "      <th>measurement_region</th>\n",
       "      <th>suggestions</th>\n",
       "    </tr>\n",
       "  </thead>\n",
       "  <tbody>\n",
       "    <tr>\n",
       "      <th>158</th>\n",
       "      <td>WAS</td>\n",
       "      <td>Troposhere</td>\n",
       "      <td>[Troposphere, Mid-Troposphere]</td>\n",
       "    </tr>\n",
       "  </tbody>\n",
       "</table>\n",
       "</div>"
      ],
      "text/plain": [
       "    instrument measurement_region                     suggestions\n",
       "158        WAS         Troposhere  [Troposphere, Mid-Troposphere]"
      ]
     },
     "execution_count": 38,
     "metadata": {},
     "output_type": "execute_result"
    }
   ],
   "source": [
    "errors = validate.foriegn_keys(db, \n",
    "                                data_table='instrument-to-measurement_region', \n",
    "                                data_index='instrument', \n",
    "                                data_column='measurement_region', \n",
    "                                foriegn_table='measurement_region', \n",
    "                                foriegn_column='short_name')\n",
    "errors"
   ]
  },
  {
   "cell_type": "code",
   "execution_count": null,
   "metadata": {},
   "outputs": [],
   "source": [
    "correct_values(\n",
    "    db=db,\n",
    "    table_name = 'instrument-to-measurement_region',\n",
    "    column = 'measurement_region',\n",
    "    wrong_value = 'Troposphere',\n",
    "    correct_value = 'mid-troposphere')\n",
    "correct_values(\n",
    "    db=db,\n",
    "    table_name = 'instrument-to-measurement_region',\n",
    "    column = 'measurement_region',\n",
    "    wrong_value = 'troposphere',\n",
    "    correct_value = 'mid-troposphere')\n",
    "correct_values(\n",
    "    db=db,\n",
    "    table_name = 'instrument-to-measurement_region',\n",
    "    column = 'measurement_region',\n",
    "    wrong_value = 'subsurface',\n",
    "    correct_value = 'subsurface - water')"
   ]
  },
  {
   "cell_type": "code",
   "execution_count": null,
   "metadata": {},
   "outputs": [],
   "source": [
    "db['instrument-to-measurement_region'][db['instrument-to-measurement_region']['measurement_region']=='subsurface - water']"
   ]
  },
  {
   "cell_type": "code",
   "execution_count": 39,
   "metadata": {},
   "outputs": [
    {
     "data": {
      "text/html": [
       "<div>\n",
       "<style scoped>\n",
       "    .dataframe tbody tr th:only-of-type {\n",
       "        vertical-align: middle;\n",
       "    }\n",
       "\n",
       "    .dataframe tbody tr th {\n",
       "        vertical-align: top;\n",
       "    }\n",
       "\n",
       "    .dataframe thead th {\n",
       "        text-align: right;\n",
       "    }\n",
       "</style>\n",
       "<table border=\"1\" class=\"dataframe\">\n",
       "  <thead>\n",
       "    <tr style=\"text-align: right;\">\n",
       "      <th></th>\n",
       "      <th>deployment</th>\n",
       "      <th>geographical_region</th>\n",
       "      <th>suggestions</th>\n",
       "    </tr>\n",
       "  </thead>\n",
       "  <tbody>\n",
       "    <tr>\n",
       "      <th>23</th>\n",
       "      <td>DC3_dep_2012</td>\n",
       "      <td></td>\n",
       "      <td>[]</td>\n",
       "    </tr>\n",
       "  </tbody>\n",
       "</table>\n",
       "</div>"
      ],
      "text/plain": [
       "      deployment geographical_region suggestions\n",
       "23  DC3_dep_2012                              []"
      ]
     },
     "execution_count": 39,
     "metadata": {},
     "output_type": "execute_result"
    }
   ],
   "source": [
    "errors = validate.foriegn_keys(db, \n",
    "                                data_table='deployment-to-geographical_region', \n",
    "                                data_index='deployment', \n",
    "                                data_column='geographical_region', \n",
    "                                foriegn_table='geographical_region', \n",
    "                                foriegn_column='short_name')\n",
    "errors"
   ]
  },
  {
   "cell_type": "code",
   "execution_count": null,
   "metadata": {},
   "outputs": [],
   "source": [
    "[key for key in db.keys() if 'deployment' in key]"
   ]
  },
  {
   "cell_type": "code",
   "execution_count": 40,
   "metadata": {
    "scrolled": true
   },
   "outputs": [
    {
     "ename": "KeyError",
     "evalue": "'deployment-to-platform'",
     "output_type": "error",
     "traceback": [
      "\u001b[0;31m---------------------------------------------------------------------------\u001b[0m",
      "\u001b[0;31mKeyError\u001b[0m                                  Traceback (most recent call last)",
      "\u001b[0;32m<ipython-input-40-bbca3a92855f>\u001b[0m in \u001b[0;36m<module>\u001b[0;34m\u001b[0m\n\u001b[0;32m----> 1\u001b[0;31m errors = validate.foriegn_keys(db, \n\u001b[0m\u001b[1;32m      2\u001b[0m                                 \u001b[0mdata_table\u001b[0m\u001b[0;34m=\u001b[0m\u001b[0;34m'deployment-to-platform'\u001b[0m\u001b[0;34m,\u001b[0m\u001b[0;34m\u001b[0m\u001b[0;34m\u001b[0m\u001b[0m\n\u001b[1;32m      3\u001b[0m                                 \u001b[0mdata_index\u001b[0m\u001b[0;34m=\u001b[0m\u001b[0;34m'deployment'\u001b[0m\u001b[0;34m,\u001b[0m\u001b[0;34m\u001b[0m\u001b[0;34m\u001b[0m\u001b[0m\n\u001b[1;32m      4\u001b[0m                                 \u001b[0mdata_column\u001b[0m\u001b[0;34m=\u001b[0m\u001b[0;34m'platform'\u001b[0m\u001b[0;34m,\u001b[0m\u001b[0;34m\u001b[0m\u001b[0;34m\u001b[0m\u001b[0m\n\u001b[1;32m      5\u001b[0m                                 \u001b[0mforiegn_table\u001b[0m\u001b[0;34m=\u001b[0m\u001b[0;34m'platform'\u001b[0m\u001b[0;34m,\u001b[0m\u001b[0;34m\u001b[0m\u001b[0;34m\u001b[0m\u001b[0m\n",
      "\u001b[0;32m~/github/admg_webapp/data_models/utils/validate.py\u001b[0m in \u001b[0;36mforiegn_keys\u001b[0;34m(db, data_table, data_index, data_column, foriegn_table, foriegn_column)\u001b[0m\n\u001b[1;32m     23\u001b[0m     \u001b[0mforiegn_dict\u001b[0m \u001b[0;34m=\u001b[0m \u001b[0;34m{\u001b[0m\u001b[0mlan\u001b[0m\u001b[0;34m(\u001b[0m\u001b[0mkey\u001b[0m\u001b[0;34m)\u001b[0m\u001b[0;34m:\u001b[0m\u001b[0mkey\u001b[0m \u001b[0;32mfor\u001b[0m \u001b[0mkey\u001b[0m \u001b[0;32min\u001b[0m \u001b[0mforiegn_keys\u001b[0m\u001b[0;34m}\u001b[0m\u001b[0;34m\u001b[0m\u001b[0;34m\u001b[0m\u001b[0m\n\u001b[1;32m     24\u001b[0m \u001b[0;34m\u001b[0m\u001b[0m\n\u001b[0;32m---> 25\u001b[0;31m     \u001b[0mbool_filter\u001b[0m \u001b[0;34m=\u001b[0m \u001b[0mdb\u001b[0m\u001b[0;34m[\u001b[0m\u001b[0mdata_table\u001b[0m\u001b[0;34m]\u001b[0m\u001b[0;34m[\u001b[0m\u001b[0mdata_column\u001b[0m\u001b[0;34m]\u001b[0m\u001b[0;34m.\u001b[0m\u001b[0mapply\u001b[0m\u001b[0;34m(\u001b[0m\u001b[0;32mlambda\u001b[0m \u001b[0mx\u001b[0m\u001b[0;34m:\u001b[0m \u001b[0mlan\u001b[0m\u001b[0;34m(\u001b[0m\u001b[0mx\u001b[0m\u001b[0;34m)\u001b[0m \u001b[0;32mnot\u001b[0m \u001b[0;32min\u001b[0m \u001b[0mforiegn_dict\u001b[0m\u001b[0;34m.\u001b[0m\u001b[0mkeys\u001b[0m\u001b[0;34m(\u001b[0m\u001b[0;34m)\u001b[0m \u001b[0;32mand\u001b[0m \u001b[0mx\u001b[0m\u001b[0;34m!=\u001b[0m\u001b[0;34m'Information Not Available'\u001b[0m\u001b[0;34m)\u001b[0m\u001b[0;34m\u001b[0m\u001b[0;34m\u001b[0m\u001b[0m\n\u001b[0m\u001b[1;32m     26\u001b[0m \u001b[0;34m\u001b[0m\u001b[0m\n\u001b[1;32m     27\u001b[0m     \u001b[0merrors\u001b[0m \u001b[0;34m=\u001b[0m \u001b[0mdb\u001b[0m\u001b[0;34m[\u001b[0m\u001b[0mdata_table\u001b[0m\u001b[0;34m]\u001b[0m\u001b[0;34m[\u001b[0m\u001b[0mbool_filter\u001b[0m\u001b[0;34m]\u001b[0m\u001b[0;34m[\u001b[0m\u001b[0;34m[\u001b[0m\u001b[0mdata_index\u001b[0m\u001b[0;34m,\u001b[0m \u001b[0mdata_column\u001b[0m\u001b[0;34m]\u001b[0m\u001b[0;34m]\u001b[0m\u001b[0;34m.\u001b[0m\u001b[0mcopy\u001b[0m\u001b[0;34m(\u001b[0m\u001b[0;34m)\u001b[0m\u001b[0;34m\u001b[0m\u001b[0;34m\u001b[0m\u001b[0m\n",
      "\u001b[0;31mKeyError\u001b[0m: 'deployment-to-platform'"
     ]
    }
   ],
   "source": [
    "errors = validate.foriegn_keys(db, \n",
    "                                data_table='deployment-to-platform', \n",
    "                                data_index='deployment', \n",
    "                                data_column='platform', \n",
    "                                foriegn_table='platform', \n",
    "                                foriegn_column='short_name')\n",
    "print('\\n\\ndo I really need to validate this?')\n",
    "errors"
   ]
  },
  {
   "cell_type": "code",
   "execution_count": 41,
   "metadata": {
    "scrolled": true
   },
   "outputs": [
    {
     "name": "stdout",
     "output_type": "stream",
     "text": [
      "\n",
      "\n",
      " TODO this better once you have the data\n"
     ]
    },
    {
     "data": {
      "text/html": [
       "<div>\n",
       "<style scoped>\n",
       "    .dataframe tbody tr th:only-of-type {\n",
       "        vertical-align: middle;\n",
       "    }\n",
       "\n",
       "    .dataframe tbody tr th {\n",
       "        vertical-align: top;\n",
       "    }\n",
       "\n",
       "    .dataframe thead th {\n",
       "        text-align: right;\n",
       "    }\n",
       "</style>\n",
       "<table border=\"1\" class=\"dataframe\">\n",
       "  <thead>\n",
       "    <tr style=\"text-align: right;\">\n",
       "      <th>6</th>\n",
       "      <th>short_name</th>\n",
       "      <th>foreign-campaign-short_name</th>\n",
       "      <th>suggestions</th>\n",
       "    </tr>\n",
       "  </thead>\n",
       "  <tbody>\n",
       "  </tbody>\n",
       "</table>\n",
       "</div>"
      ],
      "text/plain": [
       "Empty DataFrame\n",
       "Columns: [short_name, foreign-campaign-short_name, suggestions]\n",
       "Index: []"
      ]
     },
     "execution_count": 41,
     "metadata": {},
     "output_type": "execute_result"
    }
   ],
   "source": [
    "errors = validate.foriegn_keys(db, \n",
    "                                data_table='deployment', \n",
    "                                data_index='short_name', \n",
    "                                data_column='foreign-campaign-short_name', \n",
    "                                foriegn_table='campaign', \n",
    "                                foriegn_column='short_name')\n",
    "print('\\n\\n TODO this better once you have the data')\n",
    "errors"
   ]
  },
  {
   "cell_type": "code",
   "execution_count": 42,
   "metadata": {
    "scrolled": true
   },
   "outputs": [
    {
     "data": {
      "text/html": [
       "<div>\n",
       "<style scoped>\n",
       "    .dataframe tbody tr th:only-of-type {\n",
       "        vertical-align: middle;\n",
       "    }\n",
       "\n",
       "    .dataframe tbody tr th {\n",
       "        vertical-align: top;\n",
       "    }\n",
       "\n",
       "    .dataframe thead th {\n",
       "        text-align: right;\n",
       "    }\n",
       "</style>\n",
       "<table border=\"1\" class=\"dataframe\">\n",
       "  <thead>\n",
       "    <tr style=\"text-align: right;\">\n",
       "      <th>2</th>\n",
       "      <th>short_name</th>\n",
       "      <th>foreign-platform_type-short_name</th>\n",
       "      <th>suggestions</th>\n",
       "    </tr>\n",
       "  </thead>\n",
       "  <tbody>\n",
       "    <tr>\n",
       "      <th>58</th>\n",
       "      <td>Campaign PL</td>\n",
       "      <td>Permanent Land Sites</td>\n",
       "      <td>[Permanant Land Sites]</td>\n",
       "    </tr>\n",
       "  </tbody>\n",
       "</table>\n",
       "</div>"
      ],
      "text/plain": [
       "2    short_name foreign-platform_type-short_name             suggestions\n",
       "58  Campaign PL             Permanent Land Sites  [Permanant Land Sites]"
      ]
     },
     "execution_count": 42,
     "metadata": {},
     "output_type": "execute_result"
    }
   ],
   "source": [
    "errors = validate.foriegn_keys(db, \n",
    "                                data_table='platform', \n",
    "                                data_index='short_name', \n",
    "                                data_column='foreign-platform_type-short_name', \n",
    "                                foriegn_table='platform_type', \n",
    "                                foriegn_column='short_name')\n",
    "errors"
   ]
  },
  {
   "cell_type": "code",
   "execution_count": 43,
   "metadata": {
    "scrolled": true
   },
   "outputs": [
    {
     "data": {
      "text/html": [
       "<div>\n",
       "<style scoped>\n",
       "    .dataframe tbody tr th:only-of-type {\n",
       "        vertical-align: middle;\n",
       "    }\n",
       "\n",
       "    .dataframe tbody tr th {\n",
       "        vertical-align: top;\n",
       "    }\n",
       "\n",
       "    .dataframe thead th {\n",
       "        text-align: right;\n",
       "    }\n",
       "</style>\n",
       "<table border=\"1\" class=\"dataframe\">\n",
       "  <thead>\n",
       "    <tr style=\"text-align: right;\">\n",
       "      <th></th>\n",
       "      <th>platform</th>\n",
       "      <th>gcmd_platform</th>\n",
       "      <th>suggestions</th>\n",
       "    </tr>\n",
       "  </thead>\n",
       "  <tbody>\n",
       "  </tbody>\n",
       "</table>\n",
       "</div>"
      ],
      "text/plain": [
       "Empty DataFrame\n",
       "Columns: [platform, gcmd_platform, suggestions]\n",
       "Index: []"
      ]
     },
     "execution_count": 43,
     "metadata": {},
     "output_type": "execute_result"
    }
   ],
   "source": [
    "errors = validate.foriegn_keys(db, \n",
    "                                data_table='platform-to-gcmd_platform', \n",
    "                                data_index='platform', \n",
    "                                data_column='gcmd_platform', \n",
    "                                foriegn_table='gcmd_platform', \n",
    "                                foriegn_column='gcmd_uuid')\n",
    "errors"
   ]
  },
  {
   "cell_type": "code",
   "execution_count": 44,
   "metadata": {
    "scrolled": true
   },
   "outputs": [
    {
     "data": {
      "text/html": [
       "<div>\n",
       "<style scoped>\n",
       "    .dataframe tbody tr th:only-of-type {\n",
       "        vertical-align: middle;\n",
       "    }\n",
       "\n",
       "    .dataframe tbody tr th {\n",
       "        vertical-align: top;\n",
       "    }\n",
       "\n",
       "    .dataframe thead th {\n",
       "        text-align: right;\n",
       "    }\n",
       "</style>\n",
       "<table border=\"1\" class=\"dataframe\">\n",
       "  <thead>\n",
       "    <tr style=\"text-align: right;\">\n",
       "      <th>2</th>\n",
       "      <th>short_name</th>\n",
       "      <th>foreign-deployment-short_name</th>\n",
       "      <th>suggestions</th>\n",
       "    </tr>\n",
       "  </thead>\n",
       "  <tbody>\n",
       "  </tbody>\n",
       "</table>\n",
       "</div>"
      ],
      "text/plain": [
       "Empty DataFrame\n",
       "Columns: [short_name, foreign-deployment-short_name, suggestions]\n",
       "Index: []"
      ]
     },
     "execution_count": 44,
     "metadata": {},
     "output_type": "execute_result"
    }
   ],
   "source": [
    "errors = validate.foriegn_keys(db, \n",
    "                                data_table='iop', \n",
    "                                data_index='short_name', \n",
    "                                data_column='foreign-deployment-short_name', \n",
    "                                foriegn_table='deployment', \n",
    "                                foriegn_column='short_name')\n",
    "errors"
   ]
  },
  {
   "cell_type": "code",
   "execution_count": null,
   "metadata": {},
   "outputs": [],
   "source": [
    "correct_values(\n",
    "    db=db,\n",
    "    table_name = 'iop',\n",
    "    column = 'foreign-deployment-short_name',\n",
    "    wrong_value = 'AirMOSS_deb_2014b',\n",
    "    correct_value = 'AirMOSS_dep_2014b')"
   ]
  },
  {
   "cell_type": "code",
   "execution_count": 45,
   "metadata": {},
   "outputs": [
    {
     "data": {
      "text/html": [
       "<div>\n",
       "<style scoped>\n",
       "    .dataframe tbody tr th:only-of-type {\n",
       "        vertical-align: middle;\n",
       "    }\n",
       "\n",
       "    .dataframe tbody tr th {\n",
       "        vertical-align: top;\n",
       "    }\n",
       "\n",
       "    .dataframe thead th {\n",
       "        text-align: right;\n",
       "    }\n",
       "</style>\n",
       "<table border=\"1\" class=\"dataframe\">\n",
       "  <thead>\n",
       "    <tr style=\"text-align: right;\">\n",
       "      <th>2</th>\n",
       "      <th>short_name</th>\n",
       "      <th>foreign-deployment-short_name</th>\n",
       "      <th>suggestions</th>\n",
       "    </tr>\n",
       "  </thead>\n",
       "  <tbody>\n",
       "  </tbody>\n",
       "</table>\n",
       "</div>"
      ],
      "text/plain": [
       "Empty DataFrame\n",
       "Columns: [short_name, foreign-deployment-short_name, suggestions]\n",
       "Index: []"
      ]
     },
     "execution_count": 45,
     "metadata": {},
     "output_type": "execute_result"
    }
   ],
   "source": [
    "errors = validate.foriegn_keys(db, \n",
    "                                data_table='significant_event', \n",
    "                                data_index='short_name', \n",
    "                                data_column='foreign-deployment-short_name', \n",
    "                                foriegn_table='deployment', \n",
    "                                foriegn_column='short_name')\n",
    "errors"
   ]
  },
  {
   "cell_type": "markdown",
   "metadata": {},
   "source": [
    "### Flight"
   ]
  },
  {
   "cell_type": "code",
   "execution_count": 46,
   "metadata": {
    "scrolled": false
   },
   "outputs": [
    {
     "data": {
      "text/html": [
       "<div>\n",
       "<style scoped>\n",
       "    .dataframe tbody tr th:only-of-type {\n",
       "        vertical-align: middle;\n",
       "    }\n",
       "\n",
       "    .dataframe tbody tr th {\n",
       "        vertical-align: top;\n",
       "    }\n",
       "\n",
       "    .dataframe thead th {\n",
       "        text-align: right;\n",
       "    }\n",
       "</style>\n",
       "<table border=\"1\" class=\"dataframe\">\n",
       "  <thead>\n",
       "    <tr style=\"text-align: right;\">\n",
       "      <th></th>\n",
       "      <th>foreign-campaign-short_name</th>\n",
       "      <th>instrument</th>\n",
       "      <th>suggestions</th>\n",
       "    </tr>\n",
       "  </thead>\n",
       "  <tbody>\n",
       "    <tr>\n",
       "      <th>35</th>\n",
       "      <td>OLYMPEX</td>\n",
       "      <td>2DC</td>\n",
       "      <td>[2D-C/P]</td>\n",
       "    </tr>\n",
       "    <tr>\n",
       "      <th>36</th>\n",
       "      <td>OLYMPEX</td>\n",
       "      <td>Nevzorov</td>\n",
       "      <td>[Nevzorov probe]</td>\n",
       "    </tr>\n",
       "    <tr>\n",
       "      <th>41</th>\n",
       "      <td>OLYMPEX</td>\n",
       "      <td>imaging spectrometer</td>\n",
       "      <td>[Spectrometer]</td>\n",
       "    </tr>\n",
       "    <tr>\n",
       "      <th>42</th>\n",
       "      <td>OLYMPEX</td>\n",
       "      <td>DVD</td>\n",
       "      <td>[DV]</td>\n",
       "    </tr>\n",
       "    <tr>\n",
       "      <th>45</th>\n",
       "      <td>OLYMPEX</td>\n",
       "      <td>snow poles and cameras</td>\n",
       "      <td>[]</td>\n",
       "    </tr>\n",
       "    <tr>\n",
       "      <th>46</th>\n",
       "      <td>OLYMPEX</td>\n",
       "      <td>radiosondes</td>\n",
       "      <td>[Radiosonde]</td>\n",
       "    </tr>\n",
       "    <tr>\n",
       "      <th>51</th>\n",
       "      <td>OLYMPEX</td>\n",
       "      <td>X band radar</td>\n",
       "      <td>[]</td>\n",
       "    </tr>\n",
       "    <tr>\n",
       "      <th>94</th>\n",
       "      <td>CARVE</td>\n",
       "      <td>LI-COR(CRV)</td>\n",
       "      <td>[]</td>\n",
       "    </tr>\n",
       "    <tr>\n",
       "      <th>103</th>\n",
       "      <td>CARVE</td>\n",
       "      <td>LI-COR(CRV)</td>\n",
       "      <td>[]</td>\n",
       "    </tr>\n",
       "    <tr>\n",
       "      <th>112</th>\n",
       "      <td>CARVE</td>\n",
       "      <td>LI-COR(CRV)</td>\n",
       "      <td>[]</td>\n",
       "    </tr>\n",
       "    <tr>\n",
       "      <th>121</th>\n",
       "      <td>CARVE</td>\n",
       "      <td>LI-COR(CRV)</td>\n",
       "      <td>[]</td>\n",
       "    </tr>\n",
       "    <tr>\n",
       "      <th>144</th>\n",
       "      <td>GCPEx</td>\n",
       "      <td>NAWX radar</td>\n",
       "      <td>[]</td>\n",
       "    </tr>\n",
       "    <tr>\n",
       "      <th>359</th>\n",
       "      <td>ACES</td>\n",
       "      <td>Rain Gauges</td>\n",
       "      <td>[Rain Gauge]</td>\n",
       "    </tr>\n",
       "    <tr>\n",
       "      <th>363</th>\n",
       "      <td>ACES</td>\n",
       "      <td>WSR-74C</td>\n",
       "      <td>[]</td>\n",
       "    </tr>\n",
       "    <tr>\n",
       "      <th>371</th>\n",
       "      <td>GRIP</td>\n",
       "      <td>PIP probe</td>\n",
       "      <td>[]</td>\n",
       "    </tr>\n",
       "    <tr>\n",
       "      <th>694</th>\n",
       "      <td>DC3</td>\n",
       "      <td>SMART-R</td>\n",
       "      <td>[]</td>\n",
       "    </tr>\n",
       "    <tr>\n",
       "      <th>864</th>\n",
       "      <td>ARCTAS</td>\n",
       "      <td>ATLAS</td>\n",
       "      <td>[]</td>\n",
       "    </tr>\n",
       "    <tr>\n",
       "      <th>900</th>\n",
       "      <td>ARCTAS</td>\n",
       "      <td>ATLAS</td>\n",
       "      <td>[]</td>\n",
       "    </tr>\n",
       "    <tr>\n",
       "      <th>934</th>\n",
       "      <td>ARCTAS</td>\n",
       "      <td>ATLAS</td>\n",
       "      <td>[]</td>\n",
       "    </tr>\n",
       "  </tbody>\n",
       "</table>\n",
       "</div>"
      ],
      "text/plain": [
       "    foreign-campaign-short_name              instrument       suggestions\n",
       "35                      OLYMPEX                     2DC          [2D-C/P]\n",
       "36                      OLYMPEX                Nevzorov  [Nevzorov probe]\n",
       "41                      OLYMPEX    imaging spectrometer    [Spectrometer]\n",
       "42                      OLYMPEX                     DVD              [DV]\n",
       "45                      OLYMPEX  snow poles and cameras                []\n",
       "46                      OLYMPEX             radiosondes      [Radiosonde]\n",
       "51                      OLYMPEX            X band radar                []\n",
       "94                        CARVE             LI-COR(CRV)                []\n",
       "103                       CARVE             LI-COR(CRV)                []\n",
       "112                       CARVE             LI-COR(CRV)                []\n",
       "121                       CARVE             LI-COR(CRV)                []\n",
       "144                       GCPEx              NAWX radar                []\n",
       "359                        ACES             Rain Gauges      [Rain Gauge]\n",
       "363                        ACES                 WSR-74C                []\n",
       "371                        GRIP               PIP probe                []\n",
       "694                         DC3                 SMART-R                []\n",
       "864                      ARCTAS                   ATLAS                []\n",
       "900                      ARCTAS                   ATLAS                []\n",
       "934                      ARCTAS                   ATLAS                []"
      ]
     },
     "execution_count": 46,
     "metadata": {},
     "output_type": "execute_result"
    }
   ],
   "source": [
    "# flight table, instruments\n",
    "\n",
    "errors = validate.foriegn_keys(db, \n",
    "                               data_table='collection_period', \n",
    "                              data_index='foreign-campaign-short_name', \n",
    "                              data_column='instrument', \n",
    "                              foriegn_table='instrument', \n",
    "                              foriegn_column='short_name')\n",
    "errors"
   ]
  },
  {
   "cell_type": "code",
   "execution_count": null,
   "metadata": {},
   "outputs": [],
   "source": [
    "db['collection_period']=db['collection_period'][db['collection_period']['instrument']!='NAWX radar']"
   ]
  },
  {
   "cell_type": "code",
   "execution_count": 47,
   "metadata": {
    "scrolled": true
   },
   "outputs": [
    {
     "data": {
      "text/html": [
       "<div>\n",
       "<style scoped>\n",
       "    .dataframe tbody tr th:only-of-type {\n",
       "        vertical-align: middle;\n",
       "    }\n",
       "\n",
       "    .dataframe tbody tr th {\n",
       "        vertical-align: top;\n",
       "    }\n",
       "\n",
       "    .dataframe thead th {\n",
       "        text-align: right;\n",
       "    }\n",
       "</style>\n",
       "<table border=\"1\" class=\"dataframe\">\n",
       "  <thead>\n",
       "    <tr style=\"text-align: right;\">\n",
       "      <th></th>\n",
       "      <th>foreign-campaign-short_name</th>\n",
       "      <th>foreign-platform-short_name</th>\n",
       "      <th>suggestions</th>\n",
       "    </tr>\n",
       "  </thead>\n",
       "  <tbody>\n",
       "  </tbody>\n",
       "</table>\n",
       "</div>"
      ],
      "text/plain": [
       "Empty DataFrame\n",
       "Columns: [foreign-campaign-short_name, foreign-platform-short_name, suggestions]\n",
       "Index: []"
      ]
     },
     "execution_count": 47,
     "metadata": {},
     "output_type": "execute_result"
    }
   ],
   "source": [
    "# Flight table, platforms\n",
    "\n",
    "errors = validate.foriegn_keys(db, \n",
    "                      data_table='collection_period', \n",
    "                      data_index='foreign-campaign-short_name', \n",
    "                      data_column='foreign-platform-short_name', \n",
    "                      foriegn_table='platform', \n",
    "                      foriegn_column='short_name')\n",
    "errors"
   ]
  },
  {
   "cell_type": "code",
   "execution_count": null,
   "metadata": {},
   "outputs": [],
   "source": [
    "correct_values(\n",
    "    db=db,\n",
    "    table_name = 'collection_period',\n",
    "    column = 'foreign-platform-short_name',\n",
    "    wrong_value = 'UND Citation II',\n",
    "    correct_value = 'Citation')\n",
    "db['collection_period']=db['collection_period'][db['collection_period']['foreign-platform-short_name']!='Field_Site']"
   ]
  },
  {
   "cell_type": "code",
   "execution_count": null,
   "metadata": {},
   "outputs": [],
   "source": []
  },
  {
   "cell_type": "code",
   "execution_count": 48,
   "metadata": {
    "scrolled": true
   },
   "outputs": [
    {
     "data": {
      "text/html": [
       "<div>\n",
       "<style scoped>\n",
       "    .dataframe tbody tr th:only-of-type {\n",
       "        vertical-align: middle;\n",
       "    }\n",
       "\n",
       "    .dataframe tbody tr th {\n",
       "        vertical-align: top;\n",
       "    }\n",
       "\n",
       "    .dataframe thead th {\n",
       "        text-align: right;\n",
       "    }\n",
       "</style>\n",
       "<table border=\"1\" class=\"dataframe\">\n",
       "  <thead>\n",
       "    <tr style=\"text-align: right;\">\n",
       "      <th></th>\n",
       "      <th>foreign-campaign-short_name</th>\n",
       "      <th>short_name</th>\n",
       "      <th>suggestions</th>\n",
       "    </tr>\n",
       "  </thead>\n",
       "  <tbody>\n",
       "  </tbody>\n",
       "</table>\n",
       "</div>"
      ],
      "text/plain": [
       "Empty DataFrame\n",
       "Columns: [foreign-campaign-short_name, short_name, suggestions]\n",
       "Index: []"
      ]
     },
     "execution_count": 48,
     "metadata": {},
     "output_type": "execute_result"
    }
   ],
   "source": [
    "# I think to ignore this???\n",
    "\n",
    "errors = validate.foriegn_keys(db, \n",
    "                      data_table='collection_period', \n",
    "                      data_index='foreign-campaign-short_name', \n",
    "                      data_column='short_name',#'foreign-deployment-short_name', \n",
    "                      foriegn_table='deployment', \n",
    "                      foriegn_column='short_name')\n",
    "errors"
   ]
  },
  {
   "cell_type": "code",
   "execution_count": null,
   "metadata": {},
   "outputs": [],
   "source": [
    "correct_values(\n",
    "    db=db,\n",
    "    table_name = 'collection_period',\n",
    "    column = 'short_name',\n",
    "    wrong_value = 'OLYMPEX_dep_2016',\n",
    "    correct_value = 'OLYMPEX_dep_2015')\n",
    "\n",
    "db['collection_period']=db['collection_period'][db['collection_period']['short_name']!='Citation']"
   ]
  },
  {
   "cell_type": "code",
   "execution_count": null,
   "metadata": {},
   "outputs": [],
   "source": []
  },
  {
   "cell_type": "markdown",
   "metadata": {},
   "source": [
    "# Dates"
   ]
  },
  {
   "cell_type": "code",
   "execution_count": 49,
   "metadata": {},
   "outputs": [
    {
     "name": "stdout",
     "output_type": "stream",
     "text": [
      "campaign\n",
      "    start_date, end_date, ignore_metadata_date\n",
      "deployment\n",
      "    start_date, end_date\n",
      "iopse\n",
      "    end_date\n",
      "iop\n",
      "    end_date\n",
      "significant_event\n",
      "    end_date\n"
     ]
    }
   ],
   "source": [
    "for table_name in db.keys():\n",
    "    # find tables that have date fields\n",
    "    if len(col_names := [col for col in db[table_name].columns if 'date' in col])>0:\n",
    "        print(f\"{table_name}\\n    {', '.join(col_names)}\")"
   ]
  },
  {
   "cell_type": "code",
   "execution_count": 50,
   "metadata": {
    "scrolled": true
   },
   "outputs": [
    {
     "name": "stdout",
     "output_type": "stream",
     "text": [
      "campaign\n",
      "deployment\n",
      "iopse\n"
     ]
    },
    {
     "ename": "KeyError",
     "evalue": "'start_date'",
     "output_type": "error",
     "traceback": [
      "\u001b[0;31m---------------------------------------------------------------------------\u001b[0m",
      "\u001b[0;31mTypeError\u001b[0m                                 Traceback (most recent call last)",
      "\u001b[0;32m~/anaconda3/envs/admg/lib/python3.8/site-packages/pandas/core/indexes/base.py\u001b[0m in \u001b[0;36mget_value\u001b[0;34m(self, series, key)\u001b[0m\n\u001b[1;32m   4409\u001b[0m             \u001b[0;32mtry\u001b[0m\u001b[0;34m:\u001b[0m\u001b[0;34m\u001b[0m\u001b[0;34m\u001b[0m\u001b[0m\n\u001b[0;32m-> 4410\u001b[0;31m                 \u001b[0;32mreturn\u001b[0m \u001b[0mlibindex\u001b[0m\u001b[0;34m.\u001b[0m\u001b[0mget_value_at\u001b[0m\u001b[0;34m(\u001b[0m\u001b[0ms\u001b[0m\u001b[0;34m,\u001b[0m \u001b[0mkey\u001b[0m\u001b[0;34m)\u001b[0m\u001b[0;34m\u001b[0m\u001b[0;34m\u001b[0m\u001b[0m\n\u001b[0m\u001b[1;32m   4411\u001b[0m             \u001b[0;32mexcept\u001b[0m \u001b[0mIndexError\u001b[0m\u001b[0;34m:\u001b[0m\u001b[0;34m\u001b[0m\u001b[0;34m\u001b[0m\u001b[0m\n",
      "\u001b[0;32mpandas/_libs/index.pyx\u001b[0m in \u001b[0;36mpandas._libs.index.get_value_at\u001b[0;34m()\u001b[0m\n",
      "\u001b[0;32mpandas/_libs/index.pyx\u001b[0m in \u001b[0;36mpandas._libs.index.get_value_at\u001b[0;34m()\u001b[0m\n",
      "\u001b[0;32mpandas/_libs/util.pxd\u001b[0m in \u001b[0;36mpandas._libs.util.get_value_at\u001b[0;34m()\u001b[0m\n",
      "\u001b[0;32mpandas/_libs/util.pxd\u001b[0m in \u001b[0;36mpandas._libs.util.validate_indexer\u001b[0;34m()\u001b[0m\n",
      "\u001b[0;31mTypeError\u001b[0m: 'str' object cannot be interpreted as an integer",
      "\nDuring handling of the above exception, another exception occurred:\n",
      "\u001b[0;31mKeyError\u001b[0m                                  Traceback (most recent call last)",
      "\u001b[0;32m<ipython-input-50-568c5da4560d>\u001b[0m in \u001b[0;36m<module>\u001b[0;34m\u001b[0m\n\u001b[1;32m      4\u001b[0m     \u001b[0mdb\u001b[0m\u001b[0;34m[\u001b[0m\u001b[0mtable_name\u001b[0m\u001b[0;34m]\u001b[0m\u001b[0;34m[\u001b[0m\u001b[0;34m'valid_date'\u001b[0m\u001b[0;34m]\u001b[0m\u001b[0;34m=\u001b[0m\u001b[0;32mFalse\u001b[0m\u001b[0;34m\u001b[0m\u001b[0;34m\u001b[0m\u001b[0m\n\u001b[1;32m      5\u001b[0m \u001b[0;34m\u001b[0m\u001b[0m\n\u001b[0;32m----> 6\u001b[0;31m     \u001b[0mdb\u001b[0m\u001b[0;34m[\u001b[0m\u001b[0mtable_name\u001b[0m\u001b[0;34m]\u001b[0m\u001b[0;34m[\u001b[0m\u001b[0;34m'valid_date'\u001b[0m\u001b[0;34m]\u001b[0m \u001b[0;34m=\u001b[0m \u001b[0mdb\u001b[0m\u001b[0;34m[\u001b[0m\u001b[0mtable_name\u001b[0m\u001b[0;34m]\u001b[0m\u001b[0;34m.\u001b[0m\u001b[0mapply\u001b[0m\u001b[0;34m(\u001b[0m\u001b[0;32mlambda\u001b[0m \u001b[0mrow\u001b[0m\u001b[0;34m:\u001b[0m \u001b[0mvalidate\u001b[0m\u001b[0;34m.\u001b[0m\u001b[0mvali_date\u001b[0m\u001b[0;34m(\u001b[0m\u001b[0mrow\u001b[0m\u001b[0;34m[\u001b[0m\u001b[0;34m'start_date'\u001b[0m\u001b[0;34m]\u001b[0m\u001b[0;34m,\u001b[0m \u001b[0mrow\u001b[0m\u001b[0;34m[\u001b[0m\u001b[0;34m'end_date'\u001b[0m\u001b[0;34m]\u001b[0m\u001b[0;34m)\u001b[0m\u001b[0;34m,\u001b[0m \u001b[0maxis\u001b[0m\u001b[0;34m=\u001b[0m\u001b[0;36m1\u001b[0m\u001b[0;34m)\u001b[0m\u001b[0;34m\u001b[0m\u001b[0;34m\u001b[0m\u001b[0m\n\u001b[0m\u001b[1;32m      7\u001b[0m \u001b[0;34m\u001b[0m\u001b[0m\n",
      "\u001b[0;32m~/anaconda3/envs/admg/lib/python3.8/site-packages/pandas/core/frame.py\u001b[0m in \u001b[0;36mapply\u001b[0;34m(self, func, axis, raw, result_type, args, **kwds)\u001b[0m\n\u001b[1;32m   6876\u001b[0m             \u001b[0mkwds\u001b[0m\u001b[0;34m=\u001b[0m\u001b[0mkwds\u001b[0m\u001b[0;34m,\u001b[0m\u001b[0;34m\u001b[0m\u001b[0;34m\u001b[0m\u001b[0m\n\u001b[1;32m   6877\u001b[0m         )\n\u001b[0;32m-> 6878\u001b[0;31m         \u001b[0;32mreturn\u001b[0m \u001b[0mop\u001b[0m\u001b[0;34m.\u001b[0m\u001b[0mget_result\u001b[0m\u001b[0;34m(\u001b[0m\u001b[0;34m)\u001b[0m\u001b[0;34m\u001b[0m\u001b[0;34m\u001b[0m\u001b[0m\n\u001b[0m\u001b[1;32m   6879\u001b[0m \u001b[0;34m\u001b[0m\u001b[0m\n\u001b[1;32m   6880\u001b[0m     \u001b[0;32mdef\u001b[0m \u001b[0mapplymap\u001b[0m\u001b[0;34m(\u001b[0m\u001b[0mself\u001b[0m\u001b[0;34m,\u001b[0m \u001b[0mfunc\u001b[0m\u001b[0;34m)\u001b[0m \u001b[0;34m->\u001b[0m \u001b[0;34m\"DataFrame\"\u001b[0m\u001b[0;34m:\u001b[0m\u001b[0;34m\u001b[0m\u001b[0;34m\u001b[0m\u001b[0m\n",
      "\u001b[0;32m~/anaconda3/envs/admg/lib/python3.8/site-packages/pandas/core/apply.py\u001b[0m in \u001b[0;36mget_result\u001b[0;34m(self)\u001b[0m\n\u001b[1;32m    184\u001b[0m             \u001b[0;32mreturn\u001b[0m \u001b[0mself\u001b[0m\u001b[0;34m.\u001b[0m\u001b[0mapply_raw\u001b[0m\u001b[0;34m(\u001b[0m\u001b[0;34m)\u001b[0m\u001b[0;34m\u001b[0m\u001b[0;34m\u001b[0m\u001b[0m\n\u001b[1;32m    185\u001b[0m \u001b[0;34m\u001b[0m\u001b[0m\n\u001b[0;32m--> 186\u001b[0;31m         \u001b[0;32mreturn\u001b[0m \u001b[0mself\u001b[0m\u001b[0;34m.\u001b[0m\u001b[0mapply_standard\u001b[0m\u001b[0;34m(\u001b[0m\u001b[0;34m)\u001b[0m\u001b[0;34m\u001b[0m\u001b[0;34m\u001b[0m\u001b[0m\n\u001b[0m\u001b[1;32m    187\u001b[0m \u001b[0;34m\u001b[0m\u001b[0m\n\u001b[1;32m    188\u001b[0m     \u001b[0;32mdef\u001b[0m \u001b[0mapply_empty_result\u001b[0m\u001b[0;34m(\u001b[0m\u001b[0mself\u001b[0m\u001b[0;34m)\u001b[0m\u001b[0;34m:\u001b[0m\u001b[0;34m\u001b[0m\u001b[0;34m\u001b[0m\u001b[0m\n",
      "\u001b[0;32m~/anaconda3/envs/admg/lib/python3.8/site-packages/pandas/core/apply.py\u001b[0m in \u001b[0;36mapply_standard\u001b[0;34m(self)\u001b[0m\n\u001b[1;32m    293\u001b[0m \u001b[0;34m\u001b[0m\u001b[0m\n\u001b[1;32m    294\u001b[0m             \u001b[0;32mtry\u001b[0m\u001b[0;34m:\u001b[0m\u001b[0;34m\u001b[0m\u001b[0;34m\u001b[0m\u001b[0m\n\u001b[0;32m--> 295\u001b[0;31m                 result = libreduction.compute_reduction(\n\u001b[0m\u001b[1;32m    296\u001b[0m                     \u001b[0mvalues\u001b[0m\u001b[0;34m,\u001b[0m \u001b[0mself\u001b[0m\u001b[0;34m.\u001b[0m\u001b[0mf\u001b[0m\u001b[0;34m,\u001b[0m \u001b[0maxis\u001b[0m\u001b[0;34m=\u001b[0m\u001b[0mself\u001b[0m\u001b[0;34m.\u001b[0m\u001b[0maxis\u001b[0m\u001b[0;34m,\u001b[0m \u001b[0mdummy\u001b[0m\u001b[0;34m=\u001b[0m\u001b[0mdummy\u001b[0m\u001b[0;34m,\u001b[0m \u001b[0mlabels\u001b[0m\u001b[0;34m=\u001b[0m\u001b[0mlabels\u001b[0m\u001b[0;34m\u001b[0m\u001b[0;34m\u001b[0m\u001b[0m\n\u001b[1;32m    297\u001b[0m                 )\n",
      "\u001b[0;32mpandas/_libs/reduction.pyx\u001b[0m in \u001b[0;36mpandas._libs.reduction.compute_reduction\u001b[0;34m()\u001b[0m\n",
      "\u001b[0;32mpandas/_libs/reduction.pyx\u001b[0m in \u001b[0;36mpandas._libs.reduction.Reducer.get_result\u001b[0;34m()\u001b[0m\n",
      "\u001b[0;32m<ipython-input-50-568c5da4560d>\u001b[0m in \u001b[0;36m<lambda>\u001b[0;34m(row)\u001b[0m\n\u001b[1;32m      4\u001b[0m     \u001b[0mdb\u001b[0m\u001b[0;34m[\u001b[0m\u001b[0mtable_name\u001b[0m\u001b[0;34m]\u001b[0m\u001b[0;34m[\u001b[0m\u001b[0;34m'valid_date'\u001b[0m\u001b[0;34m]\u001b[0m\u001b[0;34m=\u001b[0m\u001b[0;32mFalse\u001b[0m\u001b[0;34m\u001b[0m\u001b[0;34m\u001b[0m\u001b[0m\n\u001b[1;32m      5\u001b[0m \u001b[0;34m\u001b[0m\u001b[0m\n\u001b[0;32m----> 6\u001b[0;31m     \u001b[0mdb\u001b[0m\u001b[0;34m[\u001b[0m\u001b[0mtable_name\u001b[0m\u001b[0;34m]\u001b[0m\u001b[0;34m[\u001b[0m\u001b[0;34m'valid_date'\u001b[0m\u001b[0;34m]\u001b[0m \u001b[0;34m=\u001b[0m \u001b[0mdb\u001b[0m\u001b[0;34m[\u001b[0m\u001b[0mtable_name\u001b[0m\u001b[0;34m]\u001b[0m\u001b[0;34m.\u001b[0m\u001b[0mapply\u001b[0m\u001b[0;34m(\u001b[0m\u001b[0;32mlambda\u001b[0m \u001b[0mrow\u001b[0m\u001b[0;34m:\u001b[0m \u001b[0mvalidate\u001b[0m\u001b[0;34m.\u001b[0m\u001b[0mvali_date\u001b[0m\u001b[0;34m(\u001b[0m\u001b[0mrow\u001b[0m\u001b[0;34m[\u001b[0m\u001b[0;34m'start_date'\u001b[0m\u001b[0;34m]\u001b[0m\u001b[0;34m,\u001b[0m \u001b[0mrow\u001b[0m\u001b[0;34m[\u001b[0m\u001b[0;34m'end_date'\u001b[0m\u001b[0;34m]\u001b[0m\u001b[0;34m)\u001b[0m\u001b[0;34m,\u001b[0m \u001b[0maxis\u001b[0m\u001b[0;34m=\u001b[0m\u001b[0;36m1\u001b[0m\u001b[0;34m)\u001b[0m\u001b[0;34m\u001b[0m\u001b[0;34m\u001b[0m\u001b[0m\n\u001b[0m\u001b[1;32m      7\u001b[0m \u001b[0;34m\u001b[0m\u001b[0m\n",
      "\u001b[0;32m~/anaconda3/envs/admg/lib/python3.8/site-packages/pandas/core/series.py\u001b[0m in \u001b[0;36m__getitem__\u001b[0;34m(self, key)\u001b[0m\n\u001b[1;32m    869\u001b[0m         \u001b[0mkey\u001b[0m \u001b[0;34m=\u001b[0m \u001b[0mcom\u001b[0m\u001b[0;34m.\u001b[0m\u001b[0mapply_if_callable\u001b[0m\u001b[0;34m(\u001b[0m\u001b[0mkey\u001b[0m\u001b[0;34m,\u001b[0m \u001b[0mself\u001b[0m\u001b[0;34m)\u001b[0m\u001b[0;34m\u001b[0m\u001b[0;34m\u001b[0m\u001b[0m\n\u001b[1;32m    870\u001b[0m         \u001b[0;32mtry\u001b[0m\u001b[0;34m:\u001b[0m\u001b[0;34m\u001b[0m\u001b[0;34m\u001b[0m\u001b[0m\n\u001b[0;32m--> 871\u001b[0;31m             \u001b[0mresult\u001b[0m \u001b[0;34m=\u001b[0m \u001b[0mself\u001b[0m\u001b[0;34m.\u001b[0m\u001b[0mindex\u001b[0m\u001b[0;34m.\u001b[0m\u001b[0mget_value\u001b[0m\u001b[0;34m(\u001b[0m\u001b[0mself\u001b[0m\u001b[0;34m,\u001b[0m \u001b[0mkey\u001b[0m\u001b[0;34m)\u001b[0m\u001b[0;34m\u001b[0m\u001b[0;34m\u001b[0m\u001b[0m\n\u001b[0m\u001b[1;32m    872\u001b[0m \u001b[0;34m\u001b[0m\u001b[0m\n\u001b[1;32m    873\u001b[0m             \u001b[0;32mif\u001b[0m \u001b[0;32mnot\u001b[0m \u001b[0mis_scalar\u001b[0m\u001b[0;34m(\u001b[0m\u001b[0mresult\u001b[0m\u001b[0;34m)\u001b[0m\u001b[0;34m:\u001b[0m\u001b[0;34m\u001b[0m\u001b[0;34m\u001b[0m\u001b[0m\n",
      "\u001b[0;32m~/anaconda3/envs/admg/lib/python3.8/site-packages/pandas/core/indexes/base.py\u001b[0m in \u001b[0;36mget_value\u001b[0;34m(self, series, key)\u001b[0m\n\u001b[1;32m   4416\u001b[0m                     \u001b[0;32mraise\u001b[0m \u001b[0mInvalidIndexError\u001b[0m\u001b[0;34m(\u001b[0m\u001b[0mkey\u001b[0m\u001b[0;34m)\u001b[0m\u001b[0;34m\u001b[0m\u001b[0;34m\u001b[0m\u001b[0m\n\u001b[1;32m   4417\u001b[0m                 \u001b[0;32melse\u001b[0m\u001b[0;34m:\u001b[0m\u001b[0;34m\u001b[0m\u001b[0;34m\u001b[0m\u001b[0m\n\u001b[0;32m-> 4418\u001b[0;31m                     \u001b[0;32mraise\u001b[0m \u001b[0me1\u001b[0m\u001b[0;34m\u001b[0m\u001b[0;34m\u001b[0m\u001b[0m\n\u001b[0m\u001b[1;32m   4419\u001b[0m             \u001b[0;32mexcept\u001b[0m \u001b[0mException\u001b[0m\u001b[0;34m:\u001b[0m\u001b[0;34m\u001b[0m\u001b[0;34m\u001b[0m\u001b[0m\n\u001b[1;32m   4420\u001b[0m                 \u001b[0;32mraise\u001b[0m \u001b[0me1\u001b[0m\u001b[0;34m\u001b[0m\u001b[0;34m\u001b[0m\u001b[0m\n",
      "\u001b[0;32m~/anaconda3/envs/admg/lib/python3.8/site-packages/pandas/core/indexes/base.py\u001b[0m in \u001b[0;36mget_value\u001b[0;34m(self, series, key)\u001b[0m\n\u001b[1;32m   4402\u001b[0m         \u001b[0mk\u001b[0m \u001b[0;34m=\u001b[0m \u001b[0mself\u001b[0m\u001b[0;34m.\u001b[0m\u001b[0m_convert_scalar_indexer\u001b[0m\u001b[0;34m(\u001b[0m\u001b[0mk\u001b[0m\u001b[0;34m,\u001b[0m \u001b[0mkind\u001b[0m\u001b[0;34m=\u001b[0m\u001b[0;34m\"getitem\"\u001b[0m\u001b[0;34m)\u001b[0m\u001b[0;34m\u001b[0m\u001b[0;34m\u001b[0m\u001b[0m\n\u001b[1;32m   4403\u001b[0m         \u001b[0;32mtry\u001b[0m\u001b[0;34m:\u001b[0m\u001b[0;34m\u001b[0m\u001b[0;34m\u001b[0m\u001b[0m\n\u001b[0;32m-> 4404\u001b[0;31m             \u001b[0;32mreturn\u001b[0m \u001b[0mself\u001b[0m\u001b[0;34m.\u001b[0m\u001b[0m_engine\u001b[0m\u001b[0;34m.\u001b[0m\u001b[0mget_value\u001b[0m\u001b[0;34m(\u001b[0m\u001b[0ms\u001b[0m\u001b[0;34m,\u001b[0m \u001b[0mk\u001b[0m\u001b[0;34m,\u001b[0m \u001b[0mtz\u001b[0m\u001b[0;34m=\u001b[0m\u001b[0mgetattr\u001b[0m\u001b[0;34m(\u001b[0m\u001b[0mseries\u001b[0m\u001b[0;34m.\u001b[0m\u001b[0mdtype\u001b[0m\u001b[0;34m,\u001b[0m \u001b[0;34m\"tz\"\u001b[0m\u001b[0;34m,\u001b[0m \u001b[0;32mNone\u001b[0m\u001b[0;34m)\u001b[0m\u001b[0;34m)\u001b[0m\u001b[0;34m\u001b[0m\u001b[0;34m\u001b[0m\u001b[0m\n\u001b[0m\u001b[1;32m   4405\u001b[0m         \u001b[0;32mexcept\u001b[0m \u001b[0mKeyError\u001b[0m \u001b[0;32mas\u001b[0m \u001b[0me1\u001b[0m\u001b[0;34m:\u001b[0m\u001b[0;34m\u001b[0m\u001b[0;34m\u001b[0m\u001b[0m\n\u001b[1;32m   4406\u001b[0m             \u001b[0;32mif\u001b[0m \u001b[0mlen\u001b[0m\u001b[0;34m(\u001b[0m\u001b[0mself\u001b[0m\u001b[0;34m)\u001b[0m \u001b[0;34m>\u001b[0m \u001b[0;36m0\u001b[0m \u001b[0;32mand\u001b[0m \u001b[0;34m(\u001b[0m\u001b[0mself\u001b[0m\u001b[0;34m.\u001b[0m\u001b[0mholds_integer\u001b[0m\u001b[0;34m(\u001b[0m\u001b[0;34m)\u001b[0m \u001b[0;32mor\u001b[0m \u001b[0mself\u001b[0m\u001b[0;34m.\u001b[0m\u001b[0mis_boolean\u001b[0m\u001b[0;34m(\u001b[0m\u001b[0;34m)\u001b[0m\u001b[0;34m)\u001b[0m\u001b[0;34m:\u001b[0m\u001b[0;34m\u001b[0m\u001b[0;34m\u001b[0m\u001b[0m\n",
      "\u001b[0;32mpandas/_libs/index.pyx\u001b[0m in \u001b[0;36mpandas._libs.index.IndexEngine.get_value\u001b[0;34m()\u001b[0m\n",
      "\u001b[0;32mpandas/_libs/index.pyx\u001b[0m in \u001b[0;36mpandas._libs.index.IndexEngine.get_value\u001b[0;34m()\u001b[0m\n",
      "\u001b[0;32mpandas/_libs/index.pyx\u001b[0m in \u001b[0;36mpandas._libs.index.IndexEngine.get_loc\u001b[0;34m()\u001b[0m\n",
      "\u001b[0;32mpandas/_libs/hashtable_class_helper.pxi\u001b[0m in \u001b[0;36mpandas._libs.hashtable.PyObjectHashTable.get_item\u001b[0;34m()\u001b[0m\n",
      "\u001b[0;32mpandas/_libs/hashtable_class_helper.pxi\u001b[0m in \u001b[0;36mpandas._libs.hashtable.PyObjectHashTable.get_item\u001b[0;34m()\u001b[0m\n",
      "\u001b[0;31mKeyError\u001b[0m: 'start_date'"
     ]
    }
   ],
   "source": [
    "table_names = ['campaign', 'deployment', 'iopse'] \n",
    "for table_name in table_names:\n",
    "    print(table_name)\n",
    "    db[table_name]['valid_date']=False\n",
    "    \n",
    "    db[table_name]['valid_date'] = db[table_name].apply(lambda row: validate.vali_date(row['start_date'], row['end_date']), axis=1)\n",
    "        "
   ]
  },
  {
   "cell_type": "code",
   "execution_count": null,
   "metadata": {
    "scrolled": true
   },
   "outputs": [],
   "source": [
    "# this field no longer exists?\n",
    "\n",
    "# table_names = ['instrument'] \n",
    "# for table_name in table_names:\n",
    "    \n",
    "#     db[table_name]['valid_date']=False\n",
    "#     db[table_name]['valid_date'] = db[table_name].apply(lambda row: validate.vali_date(row['deployment_date'], row['decommision_date']), axis=1)\n",
    "       "
   ]
  },
  {
   "cell_type": "code",
   "execution_count": 51,
   "metadata": {
    "scrolled": true
   },
   "outputs": [
    {
     "data": {
      "text/html": [
       "<div>\n",
       "<style scoped>\n",
       "    .dataframe tbody tr th:only-of-type {\n",
       "        vertical-align: middle;\n",
       "    }\n",
       "\n",
       "    .dataframe tbody tr th {\n",
       "        vertical-align: top;\n",
       "    }\n",
       "\n",
       "    .dataframe thead th {\n",
       "        text-align: right;\n",
       "    }\n",
       "</style>\n",
       "<table border=\"1\" class=\"dataframe\">\n",
       "  <thead>\n",
       "    <tr style=\"text-align: right;\">\n",
       "      <th></th>\n",
       "      <th>short_name</th>\n",
       "      <th>start_date</th>\n",
       "      <th>end_date</th>\n",
       "      <th>valid_date</th>\n",
       "    </tr>\n",
       "  </thead>\n",
       "  <tbody>\n",
       "  </tbody>\n",
       "</table>\n",
       "</div>"
      ],
      "text/plain": [
       "Empty DataFrame\n",
       "Columns: [short_name, start_date, end_date, valid_date]\n",
       "Index: []"
      ]
     },
     "execution_count": 51,
     "metadata": {},
     "output_type": "execute_result"
    }
   ],
   "source": [
    "db['campaign'][['short_name','start_date','end_date','valid_date']][db['campaign']['valid_date'].apply(lambda x: not(x))]"
   ]
  },
  {
   "cell_type": "markdown",
   "metadata": {},
   "source": [
    "# IOPSE"
   ]
  },
  {
   "cell_type": "code",
   "execution_count": null,
   "metadata": {
    "scrolled": true
   },
   "outputs": [],
   "source": [
    "db['iop']"
   ]
  },
  {
   "cell_type": "code",
   "execution_count": null,
   "metadata": {
    "scrolled": true
   },
   "outputs": [],
   "source": [
    "# validate that all iops are unique, should return an empty list\n",
    "\n",
    "db['iop']['short_name'][db['iop']['short_name'].duplicated()]"
   ]
  },
  {
   "cell_type": "code",
   "execution_count": null,
   "metadata": {},
   "outputs": [],
   "source": [
    "# if sig event has matching iop, link them\n",
    "\n",
    "# if sig event doesn't have matching iop, delete it so there will be no foriegn key"
   ]
  },
  {
   "cell_type": "code",
   "execution_count": null,
   "metadata": {
    "scrolled": true
   },
   "outputs": [],
   "source": [
    "# tag significant events that have IOPs\n",
    "\n",
    "db['significant_event']['has_iop'] = db['significant_event']['iop_short_name'].apply(lambda short_name: short_name in list(db['iop']['iop_short_name']))\n"
   ]
  },
  {
   "cell_type": "code",
   "execution_count": null,
   "metadata": {
    "scrolled": true
   },
   "outputs": [],
   "source": [
    "# # check that all significant events with an iop have an iop\n",
    "\n",
    "# s_i = set(db['iop']['iop_short_name'])\n",
    "# s_s = set(has_iop['iop_short_name'])\n",
    "# [s for s in s_s if s not in s_i]"
   ]
  },
  {
   "cell_type": "code",
   "execution_count": null,
   "metadata": {},
   "outputs": [],
   "source": [
    "from datetime import datetime\n",
    "# sig event start >= iop start\n",
    "\n",
    "def start_val(sig_row, db):\n",
    "    large_date = sig_row['start_date']\n",
    "    small_date = db['iop'][db['iop']['iop_short_name']==sig_row['iop_short_name']]['start_date'].iloc[0]\n",
    "    val = large_date >= small_date\n",
    "    return val\n",
    "\n",
    "def end_val(sig_row, db):\n",
    "    large_date = sig_row['end_date']\n",
    "    small_date = db['iop'][db['iop']['iop_short_name']==sig_row['iop_short_name']]['end_date'].iloc[0]\n",
    "    val = large_date <= small_date\n",
    "    return val\n",
    "\n",
    "has_iop = db['significant_event'][db['significant_event']['has_iop']].copy()\n",
    "val_iop_date_start = has_iop.apply(lambda row: not(start_val(row, db)), axis=1)\n",
    "val_iop_date_end = has_iop.apply(lambda row: not(end_val(row, db)), axis=1)"
   ]
  },
  {
   "cell_type": "code",
   "execution_count": null,
   "metadata": {
    "scrolled": true
   },
   "outputs": [],
   "source": [
    "# display incorrect start dates\n",
    "has_iop[val_iop_date_start]"
   ]
  },
  {
   "cell_type": "code",
   "execution_count": null,
   "metadata": {
    "scrolled": true
   },
   "outputs": [],
   "source": [
    "# display incorrect end dates\n",
    "has_iop[val_iop_date_end]"
   ]
  },
  {
   "cell_type": "markdown",
   "metadata": {},
   "source": [
    "## Sanity Check"
   ]
  },
  {
   "cell_type": "code",
   "execution_count": 52,
   "metadata": {},
   "outputs": [
    {
     "ename": "KeyError",
     "evalue": "'nasa_mission'",
     "output_type": "error",
     "traceback": [
      "\u001b[0;31m---------------------------------------------------------------------------\u001b[0m",
      "\u001b[0;31mKeyError\u001b[0m                                  Traceback (most recent call last)",
      "\u001b[0;32m<ipython-input-52-bf8fd1b2c5e4>\u001b[0m in \u001b[0;36m<module>\u001b[0;34m\u001b[0m\n\u001b[0;32m----> 1\u001b[0;31m \u001b[0mdb\u001b[0m\u001b[0;34m[\u001b[0m\u001b[0;34m'nasa_mission'\u001b[0m\u001b[0;34m]\u001b[0m\u001b[0;34m\u001b[0m\u001b[0;34m\u001b[0m\u001b[0m\n\u001b[0m",
      "\u001b[0;31mKeyError\u001b[0m: 'nasa_mission'"
     ]
    }
   ],
   "source": [
    "db['nasa_mission']"
   ]
  },
  {
   "cell_type": "code",
   "execution_count": 53,
   "metadata": {},
   "outputs": [
    {
     "data": {
      "text/html": [
       "<div>\n",
       "<style scoped>\n",
       "    .dataframe tbody tr th:only-of-type {\n",
       "        vertical-align: middle;\n",
       "    }\n",
       "\n",
       "    .dataframe tbody tr th {\n",
       "        vertical-align: top;\n",
       "    }\n",
       "\n",
       "    .dataframe thead th {\n",
       "        text-align: right;\n",
       "    }\n",
       "</style>\n",
       "<table border=\"1\" class=\"dataframe\">\n",
       "  <thead>\n",
       "    <tr style=\"text-align: right;\">\n",
       "      <th></th>\n",
       "      <th>foreign-campaign-short_name</th>\n",
       "      <th>foreign-deployment-short_name</th>\n",
       "      <th>foreign-platform-short_name</th>\n",
       "      <th>number_collection_periods</th>\n",
       "      <th>asp_long_name</th>\n",
       "      <th>platform_identifier</th>\n",
       "      <th>home_base</th>\n",
       "      <th>campaign_deployment_base</th>\n",
       "      <th>platform_owner</th>\n",
       "      <th>platform_technical_contact</th>\n",
       "      <th>instrument</th>\n",
       "      <th>instrument_information_source</th>\n",
       "      <th>location_info</th>\n",
       "      <th>notes_internal</th>\n",
       "      <th>short_name</th>\n",
       "    </tr>\n",
       "  </thead>\n",
       "  <tbody>\n",
       "    <tr>\n",
       "      <th>0</th>\n",
       "      <td>HS3</td>\n",
       "      <td>dep_2012</td>\n",
       "      <td>GH</td>\n",
       "      <td>NaN</td>\n",
       "      <td>Information Not Available</td>\n",
       "      <td>#872</td>\n",
       "      <td>AFRC</td>\n",
       "      <td>WFF</td>\n",
       "      <td>NASA</td>\n",
       "      <td>Frank Cutler, David Fratello</td>\n",
       "      <td>CPL</td>\n",
       "      <td>https://journals.ametsoc.org/doi/pdf/10.1175/B...</td>\n",
       "      <td>Information Not Available</td>\n",
       "      <td>environment GH</td>\n",
       "      <td>HS3_dep_2012</td>\n",
       "    </tr>\n",
       "    <tr>\n",
       "      <th>1</th>\n",
       "      <td>HS3</td>\n",
       "      <td>dep_2012</td>\n",
       "      <td>GH</td>\n",
       "      <td>NaN</td>\n",
       "      <td>Information Not Available</td>\n",
       "      <td>#872</td>\n",
       "      <td>AFRC</td>\n",
       "      <td>WFF</td>\n",
       "      <td>NASA</td>\n",
       "      <td>Frank Cutler, David Fratello</td>\n",
       "      <td>AVAPS</td>\n",
       "      <td>https://journals.ametsoc.org/doi/pdf/10.1175/B...</td>\n",
       "      <td>Information Not Available</td>\n",
       "      <td>environment GH</td>\n",
       "      <td>HS3_dep_2012</td>\n",
       "    </tr>\n",
       "    <tr>\n",
       "      <th>2</th>\n",
       "      <td>HS3</td>\n",
       "      <td>dep_2012</td>\n",
       "      <td>GH</td>\n",
       "      <td>NaN</td>\n",
       "      <td>Information Not Available</td>\n",
       "      <td>#872</td>\n",
       "      <td>AFRC</td>\n",
       "      <td>WFF</td>\n",
       "      <td>NASA</td>\n",
       "      <td>Frank Cutler, David Fratello</td>\n",
       "      <td>S-HIS</td>\n",
       "      <td>https://journals.ametsoc.org/doi/pdf/10.1175/B...</td>\n",
       "      <td>Information Not Available</td>\n",
       "      <td>environment GH</td>\n",
       "      <td>HS3_dep_2012</td>\n",
       "    </tr>\n",
       "    <tr>\n",
       "      <th>3</th>\n",
       "      <td>HS3</td>\n",
       "      <td>dep_2013</td>\n",
       "      <td>GH</td>\n",
       "      <td>NaN</td>\n",
       "      <td>Information Not Available</td>\n",
       "      <td>#872</td>\n",
       "      <td>AFRC</td>\n",
       "      <td>WFF</td>\n",
       "      <td>NASA</td>\n",
       "      <td>Frank Cutler, David Fratello</td>\n",
       "      <td>CPL</td>\n",
       "      <td>https://journals.ametsoc.org/doi/pdf/10.1175/B...</td>\n",
       "      <td>Information Not Available</td>\n",
       "      <td>environment GH</td>\n",
       "      <td>HS3_dep_2013</td>\n",
       "    </tr>\n",
       "    <tr>\n",
       "      <th>4</th>\n",
       "      <td>HS3</td>\n",
       "      <td>dep_2013</td>\n",
       "      <td>GH</td>\n",
       "      <td>NaN</td>\n",
       "      <td>Information Not Available</td>\n",
       "      <td>#872</td>\n",
       "      <td>AFRC</td>\n",
       "      <td>WFF</td>\n",
       "      <td>NASA</td>\n",
       "      <td>Frank Cutler, David Fratello</td>\n",
       "      <td>AVAPS</td>\n",
       "      <td>https://journals.ametsoc.org/doi/pdf/10.1175/B...</td>\n",
       "      <td>Information Not Available</td>\n",
       "      <td>environment GH</td>\n",
       "      <td>HS3_dep_2013</td>\n",
       "    </tr>\n",
       "    <tr>\n",
       "      <th>...</th>\n",
       "      <td>...</td>\n",
       "      <td>...</td>\n",
       "      <td>...</td>\n",
       "      <td>...</td>\n",
       "      <td>...</td>\n",
       "      <td>...</td>\n",
       "      <td>...</td>\n",
       "      <td>...</td>\n",
       "      <td>...</td>\n",
       "      <td>...</td>\n",
       "      <td>...</td>\n",
       "      <td>...</td>\n",
       "      <td>...</td>\n",
       "      <td>...</td>\n",
       "      <td>...</td>\n",
       "    </tr>\n",
       "    <tr>\n",
       "      <th>942</th>\n",
       "      <td>ARCTAS</td>\n",
       "      <td>dep_2008c</td>\n",
       "      <td>B-200</td>\n",
       "      <td>NaN</td>\n",
       "      <td>NASA Beechcraft B-200</td>\n",
       "      <td>N529NA</td>\n",
       "      <td>LARC</td>\n",
       "      <td>Yellowknife, NT, Canada</td>\n",
       "      <td>NASA</td>\n",
       "      <td>Bruce Fisher</td>\n",
       "      <td>HSRL</td>\n",
       "      <td>https://doi.org/10.5194/acp-10-5191-2010</td>\n",
       "      <td>Information Not Available</td>\n",
       "      <td>Information Not Available</td>\n",
       "      <td>ARCTAS_dep_2008c</td>\n",
       "    </tr>\n",
       "    <tr>\n",
       "      <th>943</th>\n",
       "      <td>ARCTAS</td>\n",
       "      <td>dep_2008c</td>\n",
       "      <td>B-200</td>\n",
       "      <td>NaN</td>\n",
       "      <td>NASA Beechcraft B-200</td>\n",
       "      <td>N529NA</td>\n",
       "      <td>LARC</td>\n",
       "      <td>Yellowknife, NT, Canada</td>\n",
       "      <td>NASA</td>\n",
       "      <td>Bruce Fisher</td>\n",
       "      <td>RSP</td>\n",
       "      <td>https://doi.org/10.5194/acp-10-5191-2010</td>\n",
       "      <td>Information Not Available</td>\n",
       "      <td>Information Not Available</td>\n",
       "      <td>ARCTAS_dep_2008c</td>\n",
       "    </tr>\n",
       "    <tr>\n",
       "      <th>944</th>\n",
       "      <td>ARCTAS</td>\n",
       "      <td>dep_2008c</td>\n",
       "      <td>Campaign FS</td>\n",
       "      <td>NaN</td>\n",
       "      <td>Information Not Available</td>\n",
       "      <td>Information Not Available</td>\n",
       "      <td>Information Not Available</td>\n",
       "      <td>Barrow, AK</td>\n",
       "      <td>Information Not Available</td>\n",
       "      <td>Information Not Available</td>\n",
       "      <td>LIDAR</td>\n",
       "      <td>https://ro.uow.edu.au/cgi/viewcontent.cgi?arti...</td>\n",
       "      <td>Information Not Available</td>\n",
       "      <td>Information Not Available</td>\n",
       "      <td>ARCTAS_dep_2008c</td>\n",
       "    </tr>\n",
       "    <tr>\n",
       "      <th>945</th>\n",
       "      <td>ARCTAS</td>\n",
       "      <td>dep_2008c</td>\n",
       "      <td>Campaign FS</td>\n",
       "      <td>NaN</td>\n",
       "      <td>Information Not Available</td>\n",
       "      <td>Information Not Available</td>\n",
       "      <td>Information Not Available</td>\n",
       "      <td>Barrow, AK</td>\n",
       "      <td>Information Not Available</td>\n",
       "      <td>Information Not Available</td>\n",
       "      <td>AERONET</td>\n",
       "      <td>https://ro.uow.edu.au/cgi/viewcontent.cgi?arti...</td>\n",
       "      <td>Information Not Available</td>\n",
       "      <td>Information Not Available</td>\n",
       "      <td>ARCTAS_dep_2008c</td>\n",
       "    </tr>\n",
       "    <tr>\n",
       "      <th>946</th>\n",
       "      <td>ARCTAS</td>\n",
       "      <td>dep_2008c</td>\n",
       "      <td>Campaign FS</td>\n",
       "      <td>NaN</td>\n",
       "      <td>Information Not Available</td>\n",
       "      <td>Information Not Available</td>\n",
       "      <td>Information Not Available</td>\n",
       "      <td>Barrow, AK</td>\n",
       "      <td>Information Not Available</td>\n",
       "      <td>Information Not Available</td>\n",
       "      <td>MAX-DOAS</td>\n",
       "      <td>https://ro.uow.edu.au/cgi/viewcontent.cgi?arti...</td>\n",
       "      <td>Information Not Available</td>\n",
       "      <td>Information Not Available</td>\n",
       "      <td>ARCTAS_dep_2008c</td>\n",
       "    </tr>\n",
       "  </tbody>\n",
       "</table>\n",
       "<p>497 rows × 15 columns</p>\n",
       "</div>"
      ],
      "text/plain": [
       "    foreign-campaign-short_name foreign-deployment-short_name  \\\n",
       "0                           HS3                      dep_2012   \n",
       "1                           HS3                      dep_2012   \n",
       "2                           HS3                      dep_2012   \n",
       "3                           HS3                      dep_2013   \n",
       "4                           HS3                      dep_2013   \n",
       "..                          ...                           ...   \n",
       "942                      ARCTAS                     dep_2008c   \n",
       "943                      ARCTAS                     dep_2008c   \n",
       "944                      ARCTAS                     dep_2008c   \n",
       "945                      ARCTAS                     dep_2008c   \n",
       "946                      ARCTAS                     dep_2008c   \n",
       "\n",
       "    foreign-platform-short_name number_collection_periods  \\\n",
       "0                            GH                       NaN   \n",
       "1                            GH                       NaN   \n",
       "2                            GH                       NaN   \n",
       "3                            GH                       NaN   \n",
       "4                            GH                       NaN   \n",
       "..                          ...                       ...   \n",
       "942                       B-200                       NaN   \n",
       "943                       B-200                       NaN   \n",
       "944                 Campaign FS                       NaN   \n",
       "945                 Campaign FS                       NaN   \n",
       "946                 Campaign FS                       NaN   \n",
       "\n",
       "                 asp_long_name        platform_identifier  \\\n",
       "0    Information Not Available                       #872   \n",
       "1    Information Not Available                       #872   \n",
       "2    Information Not Available                       #872   \n",
       "3    Information Not Available                       #872   \n",
       "4    Information Not Available                       #872   \n",
       "..                         ...                        ...   \n",
       "942      NASA Beechcraft B-200                     N529NA   \n",
       "943      NASA Beechcraft B-200                     N529NA   \n",
       "944  Information Not Available  Information Not Available   \n",
       "945  Information Not Available  Information Not Available   \n",
       "946  Information Not Available  Information Not Available   \n",
       "\n",
       "                     home_base campaign_deployment_base  \\\n",
       "0                         AFRC                      WFF   \n",
       "1                         AFRC                      WFF   \n",
       "2                         AFRC                      WFF   \n",
       "3                         AFRC                      WFF   \n",
       "4                         AFRC                      WFF   \n",
       "..                         ...                      ...   \n",
       "942                       LARC  Yellowknife, NT, Canada   \n",
       "943                       LARC  Yellowknife, NT, Canada   \n",
       "944  Information Not Available               Barrow, AK   \n",
       "945  Information Not Available               Barrow, AK   \n",
       "946  Information Not Available               Barrow, AK   \n",
       "\n",
       "                platform_owner    platform_technical_contact instrument  \\\n",
       "0                         NASA  Frank Cutler, David Fratello        CPL   \n",
       "1                         NASA  Frank Cutler, David Fratello      AVAPS   \n",
       "2                         NASA  Frank Cutler, David Fratello      S-HIS   \n",
       "3                         NASA  Frank Cutler, David Fratello        CPL   \n",
       "4                         NASA  Frank Cutler, David Fratello      AVAPS   \n",
       "..                         ...                           ...        ...   \n",
       "942                       NASA                  Bruce Fisher       HSRL   \n",
       "943                       NASA                  Bruce Fisher        RSP   \n",
       "944  Information Not Available     Information Not Available      LIDAR   \n",
       "945  Information Not Available     Information Not Available    AERONET   \n",
       "946  Information Not Available     Information Not Available   MAX-DOAS   \n",
       "\n",
       "                         instrument_information_source  \\\n",
       "0    https://journals.ametsoc.org/doi/pdf/10.1175/B...   \n",
       "1    https://journals.ametsoc.org/doi/pdf/10.1175/B...   \n",
       "2    https://journals.ametsoc.org/doi/pdf/10.1175/B...   \n",
       "3    https://journals.ametsoc.org/doi/pdf/10.1175/B...   \n",
       "4    https://journals.ametsoc.org/doi/pdf/10.1175/B...   \n",
       "..                                                 ...   \n",
       "942           https://doi.org/10.5194/acp-10-5191-2010   \n",
       "943           https://doi.org/10.5194/acp-10-5191-2010   \n",
       "944  https://ro.uow.edu.au/cgi/viewcontent.cgi?arti...   \n",
       "945  https://ro.uow.edu.au/cgi/viewcontent.cgi?arti...   \n",
       "946  https://ro.uow.edu.au/cgi/viewcontent.cgi?arti...   \n",
       "\n",
       "                 location_info             notes_internal        short_name  \n",
       "0    Information Not Available             environment GH      HS3_dep_2012  \n",
       "1    Information Not Available             environment GH      HS3_dep_2012  \n",
       "2    Information Not Available             environment GH      HS3_dep_2012  \n",
       "3    Information Not Available             environment GH      HS3_dep_2013  \n",
       "4    Information Not Available             environment GH      HS3_dep_2013  \n",
       "..                         ...                        ...               ...  \n",
       "942  Information Not Available  Information Not Available  ARCTAS_dep_2008c  \n",
       "943  Information Not Available  Information Not Available  ARCTAS_dep_2008c  \n",
       "944  Information Not Available  Information Not Available  ARCTAS_dep_2008c  \n",
       "945  Information Not Available  Information Not Available  ARCTAS_dep_2008c  \n",
       "946  Information Not Available  Information Not Available  ARCTAS_dep_2008c  \n",
       "\n",
       "[497 rows x 15 columns]"
      ]
     },
     "execution_count": 53,
     "metadata": {},
     "output_type": "execute_result"
    }
   ],
   "source": [
    "db['collection_period']"
   ]
  },
  {
   "cell_type": "code",
   "execution_count": 54,
   "metadata": {},
   "outputs": [
    {
     "data": {
      "text/html": [
       "<div>\n",
       "<style scoped>\n",
       "    .dataframe tbody tr th:only-of-type {\n",
       "        vertical-align: middle;\n",
       "    }\n",
       "\n",
       "    .dataframe tbody tr th {\n",
       "        vertical-align: top;\n",
       "    }\n",
       "\n",
       "    .dataframe thead th {\n",
       "        text-align: right;\n",
       "    }\n",
       "</style>\n",
       "<table border=\"1\" class=\"dataframe\">\n",
       "  <thead>\n",
       "    <tr style=\"text-align: right;\">\n",
       "      <th></th>\n",
       "      <th>ignore_ingest_label</th>\n",
       "      <th>short_name</th>\n",
       "      <th>long_name</th>\n",
       "      <th>ignore_gcmd_translation</th>\n",
       "      <th>gcmd_uuid</th>\n",
       "      <th>example</th>\n",
       "      <th>notes_public</th>\n",
       "      <th>foreign-platform_type-short_name</th>\n",
       "    </tr>\n",
       "  </thead>\n",
       "  <tbody>\n",
       "    <tr>\n",
       "      <th>3</th>\n",
       "      <td>Platform Type</td>\n",
       "      <td>Aircraft</td>\n",
       "      <td>Aircraft Platforms</td>\n",
       "      <td>Aircraft</td>\n",
       "      <td>227d9c3d-f631-402d-84ed-b8c5a562fc27</td>\n",
       "      <td>Information Not Available</td>\n",
       "      <td>Platform type for instances when the type of a...</td>\n",
       "      <td>none</td>\n",
       "    </tr>\n",
       "    <tr>\n",
       "      <th>4</th>\n",
       "      <td>Platform Type</td>\n",
       "      <td>Balloons</td>\n",
       "      <td>Balloons</td>\n",
       "      <td>Balloons/Rockets</td>\n",
       "      <td>2196cc92-a5da-4233-9509-5523385da1d7</td>\n",
       "      <td>ground-released radiosondes</td>\n",
       "      <td>Weather (sounding) balloons launched from the ...</td>\n",
       "      <td>none</td>\n",
       "    </tr>\n",
       "    <tr>\n",
       "      <th>5</th>\n",
       "      <td>Platform Type</td>\n",
       "      <td>Rockets</td>\n",
       "      <td>Rockets</td>\n",
       "      <td>Balloons/Rockets</td>\n",
       "      <td>2196cc92-a5da-4233-9509-5523385da1d7</td>\n",
       "      <td>Loki, Black Brant</td>\n",
       "      <td>Sounding rockets carry instrument/sensor paylo...</td>\n",
       "      <td>none</td>\n",
       "    </tr>\n",
       "    <tr>\n",
       "      <th>6</th>\n",
       "      <td>Platform Type</td>\n",
       "      <td>UAV</td>\n",
       "      <td>Unmanned Aerial Vehicle</td>\n",
       "      <td>Aircraft</td>\n",
       "      <td>227d9c3d-f631-402d-84ed-b8c5a562fc27</td>\n",
       "      <td>Global Hawk, small quadcopter</td>\n",
       "      <td>Aircraft that operate without a human pilot ab...</td>\n",
       "      <td>Aircraft</td>\n",
       "    </tr>\n",
       "    <tr>\n",
       "      <th>7</th>\n",
       "      <td>Platform Type</td>\n",
       "      <td>Jet</td>\n",
       "      <td>Fixed-wing Jet Aircraft</td>\n",
       "      <td>Aircraft</td>\n",
       "      <td>227d9c3d-f631-402d-84ed-b8c5a562fc27</td>\n",
       "      <td>DC-8, ER-2</td>\n",
       "      <td>Fixed-wing jet engine thrust aircraft</td>\n",
       "      <td>Aircraft</td>\n",
       "    </tr>\n",
       "    <tr>\n",
       "      <th>8</th>\n",
       "      <td>Platform Type</td>\n",
       "      <td>Prop</td>\n",
       "      <td>Fixed-wing Propeller Aircraft</td>\n",
       "      <td>Aircraft</td>\n",
       "      <td>227d9c3d-f631-402d-84ed-b8c5a562fc27</td>\n",
       "      <td>B-200, Citation</td>\n",
       "      <td>Fixed-wing propeller thrust aircraft</td>\n",
       "      <td>Aircraft</td>\n",
       "    </tr>\n",
       "    <tr>\n",
       "      <th>9</th>\n",
       "      <td>Platform Type</td>\n",
       "      <td>Rotorcraft/Helicopter</td>\n",
       "      <td>Rotorcraft/Helicopter</td>\n",
       "      <td>Aircraft, Helicopter</td>\n",
       "      <td>227d9c3d-f631-402d-84ed-b8c5a562fc27, 06e037ed...</td>\n",
       "      <td>Information Not Available</td>\n",
       "      <td>Aircraft that use vertically oriented spinning...</td>\n",
       "      <td>Aircraft</td>\n",
       "    </tr>\n",
       "    <tr>\n",
       "      <th>10</th>\n",
       "      <td>Platform Type</td>\n",
       "      <td>Other-Air</td>\n",
       "      <td>Other Aircraft Platforms</td>\n",
       "      <td>Aircraft</td>\n",
       "      <td>227d9c3d-f631-402d-84ed-b8c5a562fc27</td>\n",
       "      <td>Airship, Tiltrotor</td>\n",
       "      <td>Aircraft for which the other Aircraft Sub-Type...</td>\n",
       "      <td>Aircraft</td>\n",
       "    </tr>\n",
       "    <tr>\n",
       "      <th>11</th>\n",
       "      <td>Platform Type</td>\n",
       "      <td>Land Platforms</td>\n",
       "      <td>Land-based Platforms</td>\n",
       "      <td>In Situ Land-based Platforms</td>\n",
       "      <td>4f396ff6-7bea-4ba4-afa3-198ebd914a4a</td>\n",
       "      <td>NWS NEXRAD/88D radar towers, ground/field obse...</td>\n",
       "      <td>Any platform that operates on the Earth, excep...</td>\n",
       "      <td>none</td>\n",
       "    </tr>\n",
       "    <tr>\n",
       "      <th>12</th>\n",
       "      <td>Platform Type</td>\n",
       "      <td>Field Sites</td>\n",
       "      <td>Field Site/Ground Sites</td>\n",
       "      <td>Weather Stations/Networks, Ground Stations, Fi...</td>\n",
       "      <td>57b7373d-5c21-4abb-8097-a410adc2a074, 491d3fcc...</td>\n",
       "      <td>snow pole locations, soil sample sites, rain g...</td>\n",
       "      <td>Instrument site(s) or sample location(s) on th...</td>\n",
       "      <td>Land Platforms</td>\n",
       "    </tr>\n",
       "    <tr>\n",
       "      <th>13</th>\n",
       "      <td>Platform Type</td>\n",
       "      <td>Vehicles</td>\n",
       "      <td>Vehicles</td>\n",
       "      <td>Mobile Stations/Vehicles</td>\n",
       "      <td>c76b3744-6047-4ba9-9364-ebe1a0e3c502</td>\n",
       "      <td>truck, trailer, van, car</td>\n",
       "      <td>Vehicle or vehicle trailer that has the capabi...</td>\n",
       "      <td>Land Platforms</td>\n",
       "    </tr>\n",
       "    <tr>\n",
       "      <th>14</th>\n",
       "      <td>Platform Type</td>\n",
       "      <td>Permanant Land Sites</td>\n",
       "      <td>Land-based Operational/Coordinated/Managed Ins...</td>\n",
       "      <td>Weather Stations/Networks, Ground Stations, Fi...</td>\n",
       "      <td>57b7373d-5c21-4abb-8097-a410adc2a074, 491d3fcc...</td>\n",
       "      <td>WSR-88D, NEXRAD, LMA, US DOE's ARM Southern Gr...</td>\n",
       "      <td>Instrument sites coordinated and/or maintained...</td>\n",
       "      <td>Land Platforms</td>\n",
       "    </tr>\n",
       "    <tr>\n",
       "      <th>15</th>\n",
       "      <td>Platform Type</td>\n",
       "      <td>Other-Land</td>\n",
       "      <td>Other Land-based Platforms</td>\n",
       "      <td>In Situ Land-based Platforms</td>\n",
       "      <td>4f396ff6-7bea-4ba4-afa3-198ebd914a4a</td>\n",
       "      <td>Information Not Available</td>\n",
       "      <td>Information Not Available</td>\n",
       "      <td>Land Platforms</td>\n",
       "    </tr>\n",
       "    <tr>\n",
       "      <th>16</th>\n",
       "      <td>Platform Type</td>\n",
       "      <td>Water Platforms</td>\n",
       "      <td>Water-based Platforms</td>\n",
       "      <td>In Situ Ocean-based Platforms</td>\n",
       "      <td>e50b2a1a-7d9d-4c09-ac7e-dc29f0c08fc7</td>\n",
       "      <td>RV Endeavor, RV Roger Revelle, saildrones</td>\n",
       "      <td>Any platform that operates on the Earth on or ...</td>\n",
       "      <td>none</td>\n",
       "    </tr>\n",
       "    <tr>\n",
       "      <th>17</th>\n",
       "      <td>Platform Type</td>\n",
       "      <td>Ships/Boats</td>\n",
       "      <td>Ship/Boat Platforms</td>\n",
       "      <td>Ships</td>\n",
       "      <td>82a67b12-e99d-4c90-8a6a-a6f79d4c3c7b</td>\n",
       "      <td>research vessels (RV Endeavor, RV Roger Revell...</td>\n",
       "      <td>Large and formally maintainted agency research...</td>\n",
       "      <td>Water Platforms</td>\n",
       "    </tr>\n",
       "    <tr>\n",
       "      <th>18</th>\n",
       "      <td>Platform Type</td>\n",
       "      <td>Fixed Water-based Platforms</td>\n",
       "      <td>Fixed Water-based Platforms</td>\n",
       "      <td>Ocean Platform/Ocean Stations</td>\n",
       "      <td>6ee1cf85-aa14-4fe9-a915-a8022830d8a7</td>\n",
       "      <td>GEOSTAR observatory, drilling platforms</td>\n",
       "      <td>Fixed observation site(s) at water-based locat...</td>\n",
       "      <td>Water Platforms</td>\n",
       "    </tr>\n",
       "    <tr>\n",
       "      <th>19</th>\n",
       "      <td>Platform Type</td>\n",
       "      <td>Buoys</td>\n",
       "      <td>Buoy - Unspecified</td>\n",
       "      <td>Buoys</td>\n",
       "      <td>e36481f3-5507-428b-a870-67f6d96ae389</td>\n",
       "      <td>Information Not Available</td>\n",
       "      <td>Information Not Available</td>\n",
       "      <td>Water Platforms</td>\n",
       "    </tr>\n",
       "    <tr>\n",
       "      <th>20</th>\n",
       "      <td>Platform Type</td>\n",
       "      <td>Moored Buoy</td>\n",
       "      <td>Buoy - Moored</td>\n",
       "      <td>Moorings</td>\n",
       "      <td>1468d86c-f2b8-4fbf-8e8b-8831fd598801</td>\n",
       "      <td>NOAA moored buoys</td>\n",
       "      <td>floating platform located in a \"fixed\" positio...</td>\n",
       "      <td>Buoys</td>\n",
       "    </tr>\n",
       "    <tr>\n",
       "      <th>21</th>\n",
       "      <td>Platform Type</td>\n",
       "      <td>Drifting Buoy</td>\n",
       "      <td>Buoy - Drifting</td>\n",
       "      <td>Buoys</td>\n",
       "      <td>e36481f3-5507-428b-a870-67f6d96ae389</td>\n",
       "      <td>Information Not Available</td>\n",
       "      <td>drifting floating platform located on ocean su...</td>\n",
       "      <td>Buoys</td>\n",
       "    </tr>\n",
       "    <tr>\n",
       "      <th>22</th>\n",
       "      <td>Platform Type</td>\n",
       "      <td>Profiling Buoy</td>\n",
       "      <td>Buoy - Profiling</td>\n",
       "      <td>Information Not Available</td>\n",
       "      <td>Information Not Available</td>\n",
       "      <td>Information Not Available</td>\n",
       "      <td>platform spending time going up and down throu...</td>\n",
       "      <td>Buoys</td>\n",
       "    </tr>\n",
       "    <tr>\n",
       "      <th>23</th>\n",
       "      <td>Platform Type</td>\n",
       "      <td>USV</td>\n",
       "      <td>Unmanned Surface Vehicle</td>\n",
       "      <td>USV</td>\n",
       "      <td>bf17bbac-0fc9-48b3-9b03-bd780ffe1eb0</td>\n",
       "      <td>saildrone</td>\n",
       "      <td>Information Not Available</td>\n",
       "      <td>Water Platforms</td>\n",
       "    </tr>\n",
       "    <tr>\n",
       "      <th>24</th>\n",
       "      <td>Platform Type</td>\n",
       "      <td>AUV</td>\n",
       "      <td>Autonomous Underwater Vehicle</td>\n",
       "      <td>Autonomous Underwater Vehicles</td>\n",
       "      <td>1ea3829f-9479-46f5-a075-315da09867ae</td>\n",
       "      <td>Information Not Available</td>\n",
       "      <td>Information Not Available</td>\n",
       "      <td>Water Platforms</td>\n",
       "    </tr>\n",
       "    <tr>\n",
       "      <th>25</th>\n",
       "      <td>Platform Type</td>\n",
       "      <td>ROV</td>\n",
       "      <td>Remotely-Operated Underwater Vehicle</td>\n",
       "      <td>ROV</td>\n",
       "      <td>da6420b6-48ec-4ae2-98c7-0ef0538815a0</td>\n",
       "      <td>Information Not Available</td>\n",
       "      <td>Information Not Available</td>\n",
       "      <td>Water Platforms</td>\n",
       "    </tr>\n",
       "    <tr>\n",
       "      <th>26</th>\n",
       "      <td>Platform Type</td>\n",
       "      <td>Saildrone</td>\n",
       "      <td>Information Not Available</td>\n",
       "      <td>Saildrone</td>\n",
       "      <td>6077a16e-dc27-47ba-b2b8-6ae731615925</td>\n",
       "      <td>Information Not Available</td>\n",
       "      <td>sailboard type platform containing large sail ...</td>\n",
       "      <td>USV</td>\n",
       "    </tr>\n",
       "    <tr>\n",
       "      <th>27</th>\n",
       "      <td>Platform Type</td>\n",
       "      <td>Other-Water</td>\n",
       "      <td>Other Water-based Platforms</td>\n",
       "      <td>In Situ Ocean-based Platforms</td>\n",
       "      <td>e50b2a1a-7d9d-4c09-ac7e-dc29f0c08fc7</td>\n",
       "      <td>Information Not Available</td>\n",
       "      <td>general category for anything not listed</td>\n",
       "      <td>Water Platforms</td>\n",
       "    </tr>\n",
       "    <tr>\n",
       "      <th>28</th>\n",
       "      <td>Platform Type</td>\n",
       "      <td>Living organism</td>\n",
       "      <td>Living organism</td>\n",
       "      <td>Information Not Available</td>\n",
       "      <td>Information Not Available</td>\n",
       "      <td>turtle, dophin, shark, whale outfitted with an...</td>\n",
       "      <td>living organism outfitted with instruments</td>\n",
       "      <td>none</td>\n",
       "    </tr>\n",
       "    <tr>\n",
       "      <th>29</th>\n",
       "      <td>Platform Type</td>\n",
       "      <td>Visuals</td>\n",
       "      <td>Visuals - Maps/Charts/Photographs/Videos</td>\n",
       "      <td>Maps/Charts/Photographs</td>\n",
       "      <td>af11dd2a-e514-4329-bbc5-0f36f2776a26</td>\n",
       "      <td>photos of ground vegetation, map of a region</td>\n",
       "      <td>Physical media (or digital copy or rendering t...</td>\n",
       "      <td>none</td>\n",
       "    </tr>\n",
       "    <tr>\n",
       "      <th>30</th>\n",
       "      <td>Platform Type</td>\n",
       "      <td>Satellites</td>\n",
       "      <td>Earth Observation Satellites</td>\n",
       "      <td>Earth Observation Satellites</td>\n",
       "      <td>3466eed1-2fbb-49bf-ab0b-dc08731d502b</td>\n",
       "      <td>Aqua, Terra, TRMM, GPM</td>\n",
       "      <td>Spacecraft (man-made satellites) with instrume...</td>\n",
       "      <td>none</td>\n",
       "    </tr>\n",
       "    <tr>\n",
       "      <th>31</th>\n",
       "      <td>Platform Type</td>\n",
       "      <td>Manned Spacecraft</td>\n",
       "      <td>Manned Spacecraft</td>\n",
       "      <td>Space Stations/Manned Spacecraft</td>\n",
       "      <td>388e72a1-b851-4b78-9e69-747e06ae215f</td>\n",
       "      <td>ISS</td>\n",
       "      <td>Any space-based platform that operates with hu...</td>\n",
       "      <td>none</td>\n",
       "    </tr>\n",
       "    <tr>\n",
       "      <th>32</th>\n",
       "      <td>Platform Type</td>\n",
       "      <td>Models</td>\n",
       "      <td>Model Output</td>\n",
       "      <td>Models/Analyses</td>\n",
       "      <td>113ecbc2-ab36-4d58-a96c-a6ce0106e749</td>\n",
       "      <td>GFS model output or \"0 h\" initial analysis</td>\n",
       "      <td>Gridded product(s) with mass and state variabl...</td>\n",
       "      <td>none</td>\n",
       "    </tr>\n",
       "    <tr>\n",
       "      <th>33</th>\n",
       "      <td>Platform Type</td>\n",
       "      <td>Information Not Available</td>\n",
       "      <td>NOT APPLICABLE</td>\n",
       "      <td>NOT APPLICABLE</td>\n",
       "      <td>41d72eb0-9554-48a7-8821-dec569503da3</td>\n",
       "      <td>type for N/A if needed</td>\n",
       "      <td>type for N/A if needed - consistent w/ GCMD's ...</td>\n",
       "      <td>none</td>\n",
       "    </tr>\n",
       "    <tr>\n",
       "      <th>34</th>\n",
       "      <td>Platform Type</td>\n",
       "      <td>NID</td>\n",
       "      <td>Information not Identified</td>\n",
       "      <td>Information Not Available</td>\n",
       "      <td>Information Not Available</td>\n",
       "      <td>Information Not Available</td>\n",
       "      <td>type for instances when this information is no...</td>\n",
       "      <td>none</td>\n",
       "    </tr>\n",
       "  </tbody>\n",
       "</table>\n",
       "</div>"
      ],
      "text/plain": [
       "   ignore_ingest_label                   short_name  \\\n",
       "3        Platform Type                     Aircraft   \n",
       "4        Platform Type                     Balloons   \n",
       "5        Platform Type                      Rockets   \n",
       "6        Platform Type                          UAV   \n",
       "7        Platform Type                          Jet   \n",
       "8        Platform Type                         Prop   \n",
       "9        Platform Type        Rotorcraft/Helicopter   \n",
       "10       Platform Type                    Other-Air   \n",
       "11       Platform Type               Land Platforms   \n",
       "12       Platform Type                  Field Sites   \n",
       "13       Platform Type                     Vehicles   \n",
       "14       Platform Type         Permanant Land Sites   \n",
       "15       Platform Type                   Other-Land   \n",
       "16       Platform Type              Water Platforms   \n",
       "17       Platform Type                  Ships/Boats   \n",
       "18       Platform Type  Fixed Water-based Platforms   \n",
       "19       Platform Type                        Buoys   \n",
       "20       Platform Type                  Moored Buoy   \n",
       "21       Platform Type                Drifting Buoy   \n",
       "22       Platform Type               Profiling Buoy   \n",
       "23       Platform Type                          USV   \n",
       "24       Platform Type                          AUV   \n",
       "25       Platform Type                          ROV   \n",
       "26       Platform Type                    Saildrone   \n",
       "27       Platform Type                  Other-Water   \n",
       "28       Platform Type              Living organism   \n",
       "29       Platform Type                      Visuals   \n",
       "30       Platform Type                   Satellites   \n",
       "31       Platform Type            Manned Spacecraft   \n",
       "32       Platform Type                       Models   \n",
       "33       Platform Type    Information Not Available   \n",
       "34       Platform Type                          NID   \n",
       "\n",
       "                                            long_name  \\\n",
       "3                                  Aircraft Platforms   \n",
       "4                                            Balloons   \n",
       "5                                             Rockets   \n",
       "6                             Unmanned Aerial Vehicle   \n",
       "7                             Fixed-wing Jet Aircraft   \n",
       "8                       Fixed-wing Propeller Aircraft   \n",
       "9                               Rotorcraft/Helicopter   \n",
       "10                           Other Aircraft Platforms   \n",
       "11                               Land-based Platforms   \n",
       "12                            Field Site/Ground Sites   \n",
       "13                                           Vehicles   \n",
       "14  Land-based Operational/Coordinated/Managed Ins...   \n",
       "15                         Other Land-based Platforms   \n",
       "16                              Water-based Platforms   \n",
       "17                                Ship/Boat Platforms   \n",
       "18                        Fixed Water-based Platforms   \n",
       "19                                 Buoy - Unspecified   \n",
       "20                                      Buoy - Moored   \n",
       "21                                    Buoy - Drifting   \n",
       "22                                   Buoy - Profiling   \n",
       "23                           Unmanned Surface Vehicle   \n",
       "24                      Autonomous Underwater Vehicle   \n",
       "25               Remotely-Operated Underwater Vehicle   \n",
       "26                          Information Not Available   \n",
       "27                        Other Water-based Platforms   \n",
       "28                                    Living organism   \n",
       "29           Visuals - Maps/Charts/Photographs/Videos   \n",
       "30                       Earth Observation Satellites   \n",
       "31                                  Manned Spacecraft   \n",
       "32                                       Model Output   \n",
       "33                                     NOT APPLICABLE   \n",
       "34                         Information not Identified   \n",
       "\n",
       "                              ignore_gcmd_translation  \\\n",
       "3                                            Aircraft   \n",
       "4                                    Balloons/Rockets   \n",
       "5                                    Balloons/Rockets   \n",
       "6                                            Aircraft   \n",
       "7                                            Aircraft   \n",
       "8                                            Aircraft   \n",
       "9                                Aircraft, Helicopter   \n",
       "10                                           Aircraft   \n",
       "11                       In Situ Land-based Platforms   \n",
       "12  Weather Stations/Networks, Ground Stations, Fi...   \n",
       "13                           Mobile Stations/Vehicles   \n",
       "14  Weather Stations/Networks, Ground Stations, Fi...   \n",
       "15                       In Situ Land-based Platforms   \n",
       "16                      In Situ Ocean-based Platforms   \n",
       "17                                              Ships   \n",
       "18                      Ocean Platform/Ocean Stations   \n",
       "19                                              Buoys   \n",
       "20                                           Moorings   \n",
       "21                                              Buoys   \n",
       "22                          Information Not Available   \n",
       "23                                                USV   \n",
       "24                     Autonomous Underwater Vehicles   \n",
       "25                                                ROV   \n",
       "26                                          Saildrone   \n",
       "27                      In Situ Ocean-based Platforms   \n",
       "28                          Information Not Available   \n",
       "29                            Maps/Charts/Photographs   \n",
       "30                       Earth Observation Satellites   \n",
       "31                   Space Stations/Manned Spacecraft   \n",
       "32                                    Models/Analyses   \n",
       "33                                     NOT APPLICABLE   \n",
       "34                          Information Not Available   \n",
       "\n",
       "                                            gcmd_uuid  \\\n",
       "3                227d9c3d-f631-402d-84ed-b8c5a562fc27   \n",
       "4                2196cc92-a5da-4233-9509-5523385da1d7   \n",
       "5                2196cc92-a5da-4233-9509-5523385da1d7   \n",
       "6                227d9c3d-f631-402d-84ed-b8c5a562fc27   \n",
       "7                227d9c3d-f631-402d-84ed-b8c5a562fc27   \n",
       "8                227d9c3d-f631-402d-84ed-b8c5a562fc27   \n",
       "9   227d9c3d-f631-402d-84ed-b8c5a562fc27, 06e037ed...   \n",
       "10               227d9c3d-f631-402d-84ed-b8c5a562fc27   \n",
       "11               4f396ff6-7bea-4ba4-afa3-198ebd914a4a   \n",
       "12  57b7373d-5c21-4abb-8097-a410adc2a074, 491d3fcc...   \n",
       "13               c76b3744-6047-4ba9-9364-ebe1a0e3c502   \n",
       "14  57b7373d-5c21-4abb-8097-a410adc2a074, 491d3fcc...   \n",
       "15               4f396ff6-7bea-4ba4-afa3-198ebd914a4a   \n",
       "16               e50b2a1a-7d9d-4c09-ac7e-dc29f0c08fc7   \n",
       "17               82a67b12-e99d-4c90-8a6a-a6f79d4c3c7b   \n",
       "18               6ee1cf85-aa14-4fe9-a915-a8022830d8a7   \n",
       "19               e36481f3-5507-428b-a870-67f6d96ae389   \n",
       "20               1468d86c-f2b8-4fbf-8e8b-8831fd598801   \n",
       "21               e36481f3-5507-428b-a870-67f6d96ae389   \n",
       "22                          Information Not Available   \n",
       "23               bf17bbac-0fc9-48b3-9b03-bd780ffe1eb0   \n",
       "24               1ea3829f-9479-46f5-a075-315da09867ae   \n",
       "25               da6420b6-48ec-4ae2-98c7-0ef0538815a0   \n",
       "26               6077a16e-dc27-47ba-b2b8-6ae731615925   \n",
       "27               e50b2a1a-7d9d-4c09-ac7e-dc29f0c08fc7   \n",
       "28                          Information Not Available   \n",
       "29               af11dd2a-e514-4329-bbc5-0f36f2776a26   \n",
       "30               3466eed1-2fbb-49bf-ab0b-dc08731d502b   \n",
       "31               388e72a1-b851-4b78-9e69-747e06ae215f   \n",
       "32               113ecbc2-ab36-4d58-a96c-a6ce0106e749   \n",
       "33               41d72eb0-9554-48a7-8821-dec569503da3   \n",
       "34                          Information Not Available   \n",
       "\n",
       "                                              example  \\\n",
       "3                           Information Not Available   \n",
       "4                         ground-released radiosondes   \n",
       "5                                   Loki, Black Brant   \n",
       "6                       Global Hawk, small quadcopter   \n",
       "7                                          DC-8, ER-2   \n",
       "8                                     B-200, Citation   \n",
       "9                           Information Not Available   \n",
       "10                                 Airship, Tiltrotor   \n",
       "11  NWS NEXRAD/88D radar towers, ground/field obse...   \n",
       "12  snow pole locations, soil sample sites, rain g...   \n",
       "13                           truck, trailer, van, car   \n",
       "14  WSR-88D, NEXRAD, LMA, US DOE's ARM Southern Gr...   \n",
       "15                          Information Not Available   \n",
       "16          RV Endeavor, RV Roger Revelle, saildrones   \n",
       "17  research vessels (RV Endeavor, RV Roger Revell...   \n",
       "18            GEOSTAR observatory, drilling platforms   \n",
       "19                          Information Not Available   \n",
       "20                                  NOAA moored buoys   \n",
       "21                          Information Not Available   \n",
       "22                          Information Not Available   \n",
       "23                                          saildrone   \n",
       "24                          Information Not Available   \n",
       "25                          Information Not Available   \n",
       "26                          Information Not Available   \n",
       "27                          Information Not Available   \n",
       "28  turtle, dophin, shark, whale outfitted with an...   \n",
       "29       photos of ground vegetation, map of a region   \n",
       "30                             Aqua, Terra, TRMM, GPM   \n",
       "31                                                ISS   \n",
       "32         GFS model output or \"0 h\" initial analysis   \n",
       "33                             type for N/A if needed   \n",
       "34                          Information Not Available   \n",
       "\n",
       "                                         notes_public  \\\n",
       "3   Platform type for instances when the type of a...   \n",
       "4   Weather (sounding) balloons launched from the ...   \n",
       "5   Sounding rockets carry instrument/sensor paylo...   \n",
       "6   Aircraft that operate without a human pilot ab...   \n",
       "7               Fixed-wing jet engine thrust aircraft   \n",
       "8                Fixed-wing propeller thrust aircraft   \n",
       "9   Aircraft that use vertically oriented spinning...   \n",
       "10  Aircraft for which the other Aircraft Sub-Type...   \n",
       "11  Any platform that operates on the Earth, excep...   \n",
       "12  Instrument site(s) or sample location(s) on th...   \n",
       "13  Vehicle or vehicle trailer that has the capabi...   \n",
       "14  Instrument sites coordinated and/or maintained...   \n",
       "15                          Information Not Available   \n",
       "16  Any platform that operates on the Earth on or ...   \n",
       "17  Large and formally maintainted agency research...   \n",
       "18  Fixed observation site(s) at water-based locat...   \n",
       "19                          Information Not Available   \n",
       "20  floating platform located in a \"fixed\" positio...   \n",
       "21  drifting floating platform located on ocean su...   \n",
       "22  platform spending time going up and down throu...   \n",
       "23                          Information Not Available   \n",
       "24                          Information Not Available   \n",
       "25                          Information Not Available   \n",
       "26  sailboard type platform containing large sail ...   \n",
       "27           general category for anything not listed   \n",
       "28         living organism outfitted with instruments   \n",
       "29  Physical media (or digital copy or rendering t...   \n",
       "30  Spacecraft (man-made satellites) with instrume...   \n",
       "31  Any space-based platform that operates with hu...   \n",
       "32  Gridded product(s) with mass and state variabl...   \n",
       "33  type for N/A if needed - consistent w/ GCMD's ...   \n",
       "34  type for instances when this information is no...   \n",
       "\n",
       "   foreign-platform_type-short_name  \n",
       "3                              none  \n",
       "4                              none  \n",
       "5                              none  \n",
       "6                          Aircraft  \n",
       "7                          Aircraft  \n",
       "8                          Aircraft  \n",
       "9                          Aircraft  \n",
       "10                         Aircraft  \n",
       "11                             none  \n",
       "12                   Land Platforms  \n",
       "13                   Land Platforms  \n",
       "14                   Land Platforms  \n",
       "15                   Land Platforms  \n",
       "16                             none  \n",
       "17                  Water Platforms  \n",
       "18                  Water Platforms  \n",
       "19                  Water Platforms  \n",
       "20                            Buoys  \n",
       "21                            Buoys  \n",
       "22                            Buoys  \n",
       "23                  Water Platforms  \n",
       "24                  Water Platforms  \n",
       "25                  Water Platforms  \n",
       "26                              USV  \n",
       "27                  Water Platforms  \n",
       "28                             none  \n",
       "29                             none  \n",
       "30                             none  \n",
       "31                             none  \n",
       "32                             none  \n",
       "33                             none  \n",
       "34                             none  "
      ]
     },
     "execution_count": 54,
     "metadata": {},
     "output_type": "execute_result"
    }
   ],
   "source": [
    "db['platform_type']"
   ]
  },
  {
   "cell_type": "code",
   "execution_count": null,
   "metadata": {
    "scrolled": true
   },
   "outputs": [],
   "source": [
    "links = list(set(list(db['platform_type']['foreign-platform_type-short_name'])))\n",
    "full = list(db['platform_type']['short_name'])\n",
    "[link for link in links if link not in full]"
   ]
  },
  {
   "cell_type": "code",
   "execution_count": null,
   "metadata": {},
   "outputs": [],
   "source": []
  },
  {
   "cell_type": "markdown",
   "metadata": {},
   "source": [
    "### Pickle the Data"
   ]
  },
  {
   "cell_type": "code",
   "execution_count": null,
   "metadata": {},
   "outputs": [],
   "source": [
    "import pickle"
   ]
  },
  {
   "cell_type": "code",
   "execution_count": null,
   "metadata": {},
   "outputs": [],
   "source": [
    "pickle.dump(db, open('db_after_corrections','wb'))"
   ]
  },
  {
   "cell_type": "code",
   "execution_count": null,
   "metadata": {},
   "outputs": [],
   "source": []
  },
  {
   "cell_type": "code",
   "execution_count": null,
   "metadata": {},
   "outputs": [],
   "source": [
    "db['geographical_region']"
   ]
  },
  {
   "cell_type": "code",
   "execution_count": null,
   "metadata": {
    "scrolled": true
   },
   "outputs": [],
   "source": [
    "db['significant_event']"
   ]
  },
  {
   "cell_type": "code",
   "execution_count": null,
   "metadata": {},
   "outputs": [],
   "source": []
  }
 ],
 "metadata": {
  "kernelspec": {
   "display_name": "Django Shell-Plus",
   "language": "python",
   "name": "django_extensions"
  },
  "language_info": {
   "codemirror_mode": {
    "name": "ipython",
    "version": 3
   },
   "file_extension": ".py",
   "mimetype": "text/x-python",
   "name": "python",
   "nbconvert_exporter": "python",
   "pygments_lexer": "ipython3",
   "version": "3.8.2"
  }
 },
 "nbformat": 4,
 "nbformat_minor": 2
}
