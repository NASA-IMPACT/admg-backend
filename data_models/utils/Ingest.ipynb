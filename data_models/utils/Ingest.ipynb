{
 "cells": [
  {
   "cell_type": "markdown",
   "metadata": {},
   "source": [
    "# Imports"
   ]
  },
  {
   "cell_type": "code",
   "execution_count": 1,
   "metadata": {},
   "outputs": [],
   "source": [
    "import pandas as pd\n",
    "import json\n",
    "import validate\n",
    "from general import many_to_many, many_cols\n",
    "import ingest\n",
    "import clean"
   ]
  },
  {
   "cell_type": "code",
   "execution_count": 2,
   "metadata": {},
   "outputs": [],
   "source": [
    "def correct_values(db, table_name, column, wrong_value, correct_value):\n",
    "    db[table_name][column]=db[table_name][column].apply(lambda x: x if x!=wrong_value else correct_value)"
   ]
  },
  {
   "cell_type": "markdown",
   "metadata": {},
   "source": [
    "# Pull Data into Pandas"
   ]
  },
  {
   "cell_type": "code",
   "execution_count": 3,
   "metadata": {},
   "outputs": [],
   "source": [
    "data = ingest.main('inventory_correct_linking.xlsx')\n",
    "data = ingest.main('inventory_2020.05.29.xlsx')"
   ]
  },
  {
   "cell_type": "code",
   "execution_count": 4,
   "metadata": {},
   "outputs": [],
   "source": [
    "excel_data = data['excel_data']\n",
    "db = data['database']"
   ]
  },
  {
   "cell_type": "markdown",
   "metadata": {},
   "source": [
    "# Cleaning"
   ]
  },
  {
   "cell_type": "code",
   "execution_count": 5,
   "metadata": {},
   "outputs": [],
   "source": [
    "db = clean.remove_NaN_columns(db)"
   ]
  },
  {
   "cell_type": "code",
   "execution_count": 6,
   "metadata": {
    "scrolled": true
   },
   "outputs": [],
   "source": [
    "db = clean.strip_all_columns(db)"
   ]
  },
  {
   "cell_type": "code",
   "execution_count": 7,
   "metadata": {},
   "outputs": [],
   "source": [
    "# change ignore_code field to be string\n",
    "db['gcmd_phenomena']['ignore_code'] = db['gcmd_phenomena']['ignore_code'].apply(lambda x: str(x))"
   ]
  },
  {
   "cell_type": "markdown",
   "metadata": {},
   "source": [
    "# Short Name Supplementation"
   ]
  },
  {
   "cell_type": "code",
   "execution_count": 8,
   "metadata": {
    "scrolled": true
   },
   "outputs": [],
   "source": [
    "# make unique shortname by combining the campaign name and the table sub short name\n",
    "\n",
    "db['deployment']['short_name'] = db['deployment']['foreign-campaign-short_name']+'_'+db['deployment']['ignore_deployment_id']\n",
    "db['iopse']['foreign-deployment-short_name']=db['iopse']['foreign-campaign-short_name']+'_'+db['iopse']['ignore_deployment']\n",
    "\n",
    "db['collection_period'] = many_to_many(db, 'linking', 'table-instrument-short_name', keep_all=True)\n",
    "db['collection_period']['short_name'] = db['collection_period']['foreign-campaign-short_name']+'_'+db['collection_period']['foreign-deployment-short_name']"
   ]
  },
  {
   "cell_type": "markdown",
   "metadata": {},
   "source": [
    "# Find Matching Deployments for IOPSE"
   ]
  },
  {
   "cell_type": "code",
   "execution_count": 9,
   "metadata": {},
   "outputs": [],
   "source": [
    "# original process before good shortname usage on the sheets\n",
    "\n",
    "\n",
    "# db['iopse']['deployment_short_name'] = 'No Matches'\n",
    "\n",
    "# for row in range(len(db['iopse'])):\n",
    "#     iop_start = db['iopse'].iloc[row]['start_date']\n",
    "#     iop_end = db['iopse'].iloc[row]['end_date']\n",
    "#     iop_camp = db['iopse'].iloc[row]['foreign-campaign-short_name']\n",
    "    \n",
    "#     campaign_filter = db['deployment']['foreign-campaign-short_name'].apply(lambda short_name: short_name == iop_camp)\n",
    "#     possible_campaigns = db['deployment'][campaign_filter]\n",
    "    \n",
    "#     start_filter = possible_campaigns['start_date'].apply(lambda dep_start: validate.vali_date(dep_start, iop_start))\n",
    "#     end_filter = possible_campaigns['end_date'].apply(lambda dep_end: validate.vali_date(iop_end, dep_end))\n",
    "    \n",
    "#     matching_deployments = list(possible_campaigns[start_filter*end_filter]['short_name'])\n",
    "#     if len(matching_deployments)>1:\n",
    "#         print(f\"error on {db['iopse'].iloc[row]}\")\n",
    "#     elif len(matching_deployments)==1:\n",
    "#         matching_deployments = matching_deployments[0]\n",
    "#     else:\n",
    "#         matching_deployments = 'None Found'\n",
    "#     db['iopse']['deployment_short_name'].iloc[row]=matching_deployments"
   ]
  },
  {
   "cell_type": "code",
   "execution_count": 10,
   "metadata": {},
   "outputs": [],
   "source": [
    "# test for unexpected values in this column\n",
    "assert set(db['iopse']['type']) == {'IOP', 'SE'}"
   ]
  },
  {
   "cell_type": "code",
   "execution_count": 11,
   "metadata": {},
   "outputs": [],
   "source": [
    "# convert parent and short name to lower so they will match correctly\n",
    "db['iopse']['short_name'] = db['iopse']['short_name'].apply(lambda x: x.lower())\n",
    "db['iopse']['parent short_name'] = db['iopse']['parent short_name'].apply(lambda x: x.lower())"
   ]
  },
  {
   "cell_type": "code",
   "execution_count": 12,
   "metadata": {
    "scrolled": true
   },
   "outputs": [],
   "source": [
    "db['iop'] = db['iopse'][db['iopse']['type']=='IOP']\n",
    "db['significant_event'] = db['iopse'][db['iopse']['type']=='SE']"
   ]
  },
  {
   "cell_type": "markdown",
   "metadata": {},
   "source": [
    "# Many to Many Creation"
   ]
  },
  {
   "cell_type": "code",
   "execution_count": 13,
   "metadata": {},
   "outputs": [],
   "source": [
    "# main_table_names = ['campaign', 'platform', 'instrument', 'deployment']"
   ]
  },
  {
   "cell_type": "code",
   "execution_count": 14,
   "metadata": {
    "scrolled": true
   },
   "outputs": [],
   "source": [
    "# for table in main_table_names:\n",
    "#     print(table)\n",
    "#     for column in [col for col in db[table].keys() if isinstance(col,str) and 'table' in col]:\n",
    "#         name = column.split('-')[1]\n",
    "#         new_table_name = f\"{table}-to-{name}\"\n",
    "#         db[new_table_name]=many_to_many(db, table, column)\n",
    "#         print(f'   {new_table_name} created')"
   ]
  },
  {
   "cell_type": "markdown",
   "metadata": {},
   "source": [
    "# Campaign Filter"
   ]
  },
  {
   "cell_type": "code",
   "execution_count": 15,
   "metadata": {},
   "outputs": [],
   "source": [
    "campaign_filter = [\n",
    "    \"ACES\",\n",
    "    \"AirMOSS\",\n",
    "    \"ARCTAS\",\n",
    "    \"CARVE\",\n",
    "    \"DC3\",\n",
    "    \"GCPEx\",\n",
    "    \"GOES-R PLT\",\n",
    "    \"GRIP\",\n",
    "    \"HS3\",\n",
    "    \"OLYMPEX\"\n",
    "]"
   ]
  },
  {
   "cell_type": "code",
   "execution_count": 16,
   "metadata": {},
   "outputs": [],
   "source": [
    "# campaigns\n",
    "db['campaign'] = db['campaign'][db['campaign']['short_name'].apply(lambda x: x in campaign_filter)]\n",
    "assert set(campaign_filter) == set(db['campaign']['short_name'])"
   ]
  },
  {
   "cell_type": "code",
   "execution_count": 17,
   "metadata": {},
   "outputs": [],
   "source": [
    "# deployments\n",
    "db['deployment']=db['deployment'][db['deployment']['foreign-campaign-short_name'].apply(lambda short: short in campaign_filter)]"
   ]
  },
  {
   "cell_type": "code",
   "execution_count": 18,
   "metadata": {},
   "outputs": [],
   "source": [
    "# collection periods\n",
    "db['collection_period']=db['collection_period'][db['collection_period']['foreign-campaign-short_name'].apply(lambda short: short in campaign_filter)]"
   ]
  },
  {
   "cell_type": "code",
   "execution_count": 19,
   "metadata": {},
   "outputs": [],
   "source": [
    "# iop\n",
    "db['iop']=db['iop'][db['iop']['foreign-campaign-short_name'].apply(lambda short: short in campaign_filter)]"
   ]
  },
  {
   "cell_type": "code",
   "execution_count": 20,
   "metadata": {},
   "outputs": [],
   "source": [
    "# sig events\n",
    "db['significant_event']=db['significant_event'][db['significant_event']['foreign-campaign-short_name'].apply(lambda short: short in campaign_filter)]"
   ]
  },
  {
   "cell_type": "code",
   "execution_count": 21,
   "metadata": {
    "scrolled": true
   },
   "outputs": [
    {
     "name": "stdout",
     "output_type": "stream",
     "text": [
      "\n",
      "copy these platforms into a file for inventory folks\n",
      "\n",
      "ALAR\n",
      "G-V\n",
      "P-3\n",
      "WB-57\n",
      "C-23 Sherpa\n",
      "ALTUS II\n",
      "G-III\n",
      "ER-2\n",
      "Campaign PL\n",
      "Citation\n",
      "Campaign V\n",
      "Falcon\n",
      "Campaign FS\n",
      "CV-580\n",
      "GH\n",
      "DC-8\n",
      "B-200\n",
      "ASO\n"
     ]
    },
    {
     "data": {
      "text/plain": [
       "[None,\n",
       " None,\n",
       " None,\n",
       " None,\n",
       " None,\n",
       " None,\n",
       " None,\n",
       " None,\n",
       " None,\n",
       " None,\n",
       " None,\n",
       " None,\n",
       " None,\n",
       " None,\n",
       " None,\n",
       " None,\n",
       " None,\n",
       " None]"
      ]
     },
     "execution_count": 21,
     "metadata": {},
     "output_type": "execute_result"
    }
   ],
   "source": [
    "# platforms\n",
    "platform_filter = list(set(list(db['collection_period']['foreign-platform-short_name'])))\n",
    "db['platform']=db['platform'][db['platform']['short_name'].apply(lambda short: short in platform_filter)]\n",
    "print('\\ncopy these platforms into a file for inventory folks\\n')\n",
    "[print(thing) for thing in platform_filter]"
   ]
  },
  {
   "cell_type": "code",
   "execution_count": 22,
   "metadata": {
    "scrolled": true
   },
   "outputs": [
    {
     "name": "stdout",
     "output_type": "stream",
     "text": [
      "\n",
      "copy these instruments into a file for inventory folks\n",
      "\n",
      "Gerdien Probe\n",
      "DIAL\n",
      "TDL\n",
      "Nevzorov probe\n",
      "2D-S\n",
      "CAFS\n",
      "MSC\n",
      "Aerolaser\n",
      "MRR\n",
      "PTR-MS\n",
      "Canisters\n",
      "Aethalometer\n",
      "APR-2\n",
      "WCN\n",
      "CPC\n",
      "CCP\n",
      "ISAF\n",
      "AOP\n",
      "DACOM\n",
      "OAP-2G-P\n",
      "P-CIMS\n",
      "PILS\n",
      "TDMA\n",
      "X band radar\n",
      "HVPS-3\n",
      "LIP\n",
      "MASC\n",
      "DVD\n",
      "ATLAS\n",
      "CIMS\n",
      "ATHOS\n",
      "PIP probe\n",
      "snow poles and cameras\n",
      "CDP\n",
      "OPC\n",
      "Accelerometer\n",
      "Rain Gauge\n",
      "DV\n",
      "Gen-Chemistry\n",
      "WAS\n",
      "AirMSPI\n",
      "TD-LIF\n",
      "FLIR\n",
      "AVAPS\n",
      "FEGS\n",
      "CRS\n",
      "PALMS\n",
      "FGM\n",
      "PFP\n",
      "HR-AMS\n",
      "TE49C\n",
      "EXRAD\n",
      "IR-CO2\n",
      "SP-2\n",
      "CAPS\n",
      "BBR\n",
      "DIAL-HSRL\n",
      "PI-Neph\n",
      "GCAS\n",
      "HSRL\n",
      "LASE\n",
      "D3R\n",
      "S-HIS\n",
      "DADS\n",
      "CPSD\n",
      "CPI\n",
      "AVIRIS\n",
      "Dropsonde\n",
      "King hot wire probe\n",
      "AMPR\n",
      "FPDS\n",
      "RICE\n",
      "CI-ITMS\n",
      "AirMOSS\n",
      "AVOCET\n",
      "PCAP\n",
      "imaging spectrometer\n",
      "FSSP\n",
      "ATSP\n",
      "Parsivel\n",
      "EFCM\n",
      "CAMS\n",
      "DOPS\n",
      "RSP\n",
      "MMS\n",
      "CAR\n",
      "GT-CIMS\n",
      "Slow Antenna\n",
      "CoSMIR\n",
      "CIP\n",
      "EFM\n",
      "HARP\n",
      "CSD CL\n",
      "Nevzorov\n",
      "PIP\n",
      "2DC\n",
      "UHSAS\n",
      "DAWN\n",
      "Nephelometer\n",
      "TOGA\n",
      "HAMSR\n",
      "PALS\n",
      "CSI\n",
      "Gen-AtmsState\n",
      "VCSEL\n",
      "APR-3\n",
      "CCN\n",
      "CPL\n",
      "Picarro\n",
      "NPOL\n",
      "SR\n",
      "DFGAS\n",
      "SMPS\n",
      "CIT-CIMS\n",
      "DASH\n",
      "DOW\n",
      "3V-CPI\n",
      "SP2\n",
      "HIWRAP\n",
      "NAWX radar\n",
      "PSAP\n",
      "DLH\n",
      "AMS\n",
      "CNC\n",
      "SSFR\n",
      "radiosondes\n",
      "2D-C/P\n",
      "HIRAD\n",
      "FTS\n",
      "SAGA\n",
      "BAT probe\n",
      "Spectrometer\n",
      "GC-MS\n",
      "WS-CRDS\n",
      "eMAS\n",
      "NEXRAD\n",
      "CLH\n",
      "SPEC\n",
      "Pluvio\n",
      "PCASP\n",
      "HD-SP2\n",
      "LiDAR\n",
      "LARGE\n"
     ]
    },
    {
     "data": {
      "text/plain": [
       "[None,\n",
       " None,\n",
       " None,\n",
       " None,\n",
       " None,\n",
       " None,\n",
       " None,\n",
       " None,\n",
       " None,\n",
       " None,\n",
       " None,\n",
       " None,\n",
       " None,\n",
       " None,\n",
       " None,\n",
       " None,\n",
       " None,\n",
       " None,\n",
       " None,\n",
       " None,\n",
       " None,\n",
       " None,\n",
       " None,\n",
       " None,\n",
       " None,\n",
       " None,\n",
       " None,\n",
       " None,\n",
       " None,\n",
       " None,\n",
       " None,\n",
       " None,\n",
       " None,\n",
       " None,\n",
       " None,\n",
       " None,\n",
       " None,\n",
       " None,\n",
       " None,\n",
       " None,\n",
       " None,\n",
       " None,\n",
       " None,\n",
       " None,\n",
       " None,\n",
       " None,\n",
       " None,\n",
       " None,\n",
       " None,\n",
       " None,\n",
       " None,\n",
       " None,\n",
       " None,\n",
       " None,\n",
       " None,\n",
       " None,\n",
       " None,\n",
       " None,\n",
       " None,\n",
       " None,\n",
       " None,\n",
       " None,\n",
       " None,\n",
       " None,\n",
       " None,\n",
       " None,\n",
       " None,\n",
       " None,\n",
       " None,\n",
       " None,\n",
       " None,\n",
       " None,\n",
       " None,\n",
       " None,\n",
       " None,\n",
       " None,\n",
       " None,\n",
       " None,\n",
       " None,\n",
       " None,\n",
       " None,\n",
       " None,\n",
       " None,\n",
       " None,\n",
       " None,\n",
       " None,\n",
       " None,\n",
       " None,\n",
       " None,\n",
       " None,\n",
       " None,\n",
       " None,\n",
       " None,\n",
       " None,\n",
       " None,\n",
       " None,\n",
       " None,\n",
       " None,\n",
       " None,\n",
       " None,\n",
       " None,\n",
       " None,\n",
       " None,\n",
       " None,\n",
       " None,\n",
       " None,\n",
       " None,\n",
       " None,\n",
       " None,\n",
       " None,\n",
       " None,\n",
       " None,\n",
       " None,\n",
       " None,\n",
       " None,\n",
       " None,\n",
       " None,\n",
       " None,\n",
       " None,\n",
       " None,\n",
       " None,\n",
       " None,\n",
       " None,\n",
       " None,\n",
       " None,\n",
       " None,\n",
       " None,\n",
       " None,\n",
       " None,\n",
       " None,\n",
       " None,\n",
       " None,\n",
       " None,\n",
       " None,\n",
       " None,\n",
       " None,\n",
       " None,\n",
       " None,\n",
       " None,\n",
       " None,\n",
       " None,\n",
       " None,\n",
       " None]"
      ]
     },
     "execution_count": 22,
     "metadata": {},
     "output_type": "execute_result"
    }
   ],
   "source": [
    "instrument_filter = list(set(list(db['collection_period']['instrument'])))\n",
    "db['instrument']=db['instrument'][db['instrument']['short_name'].apply(lambda short: short in instrument_filter)]\n",
    "print('\\ncopy these instruments into a file for inventory folks\\n')\n",
    "[print(thing) for thing in instrument_filter]"
   ]
  },
  {
   "cell_type": "markdown",
   "metadata": {},
   "source": [
    "# Many to Many Creation"
   ]
  },
  {
   "cell_type": "code",
   "execution_count": 23,
   "metadata": {},
   "outputs": [],
   "source": [
    "main_table_names = ['campaign', 'platform', 'instrument', 'deployment']"
   ]
  },
  {
   "cell_type": "code",
   "execution_count": 24,
   "metadata": {},
   "outputs": [
    {
     "name": "stdout",
     "output_type": "stream",
     "text": [
      "campaign\n",
      "   campaign-to-focus_area created\n",
      "   campaign-to-season created\n",
      "   campaign-to-platform_type created\n",
      "   campaign-to-repository created\n",
      "   campaign-to-partner_org created\n",
      "   campaign-to-gcmd_project created\n",
      "platform\n",
      "   platform-to-gcmd_platform created\n",
      "instrument\n",
      "   instrument-to-gcmd_instrument created\n",
      "   instrument-to-instrument_type created\n"
     ]
    },
    {
     "ename": "AttributeError",
     "evalue": "'float' object has no attribute 'split'",
     "output_type": "error",
     "traceback": [
      "\u001b[0;31m---------------------------------------------------------------------------\u001b[0m",
      "\u001b[0;31mAttributeError\u001b[0m                            Traceback (most recent call last)",
      "\u001b[0;32m<ipython-input-24-6066a537ea52>\u001b[0m in \u001b[0;36m<module>\u001b[0;34m\u001b[0m\n\u001b[1;32m      4\u001b[0m         \u001b[0mname\u001b[0m \u001b[0;34m=\u001b[0m \u001b[0mcolumn\u001b[0m\u001b[0;34m.\u001b[0m\u001b[0msplit\u001b[0m\u001b[0;34m(\u001b[0m\u001b[0;34m'-'\u001b[0m\u001b[0;34m)\u001b[0m\u001b[0;34m[\u001b[0m\u001b[0;36m1\u001b[0m\u001b[0;34m]\u001b[0m\u001b[0;34m\u001b[0m\u001b[0;34m\u001b[0m\u001b[0m\n\u001b[1;32m      5\u001b[0m         \u001b[0mnew_table_name\u001b[0m \u001b[0;34m=\u001b[0m \u001b[0;34mf\"{table}-to-{name}\"\u001b[0m\u001b[0;34m\u001b[0m\u001b[0;34m\u001b[0m\u001b[0m\n\u001b[0;32m----> 6\u001b[0;31m         \u001b[0mdb\u001b[0m\u001b[0;34m[\u001b[0m\u001b[0mnew_table_name\u001b[0m\u001b[0;34m]\u001b[0m\u001b[0;34m=\u001b[0m\u001b[0mmany_to_many\u001b[0m\u001b[0;34m(\u001b[0m\u001b[0mdb\u001b[0m\u001b[0;34m,\u001b[0m \u001b[0mtable\u001b[0m\u001b[0;34m,\u001b[0m \u001b[0mcolumn\u001b[0m\u001b[0;34m)\u001b[0m\u001b[0;34m\u001b[0m\u001b[0;34m\u001b[0m\u001b[0m\n\u001b[0m\u001b[1;32m      7\u001b[0m         \u001b[0mprint\u001b[0m\u001b[0;34m(\u001b[0m\u001b[0;34mf'   {new_table_name} created'\u001b[0m\u001b[0;34m)\u001b[0m\u001b[0;34m\u001b[0m\u001b[0;34m\u001b[0m\u001b[0m\n",
      "\u001b[0;32m~/github/admg_webapp/data_models/utils/general.py\u001b[0m in \u001b[0;36mmany_to_many\u001b[0;34m(db, table_name, many_col, keep_all)\u001b[0m\n\u001b[1;32m     28\u001b[0m \u001b[0;34m\u001b[0m\u001b[0m\n\u001b[1;32m     29\u001b[0m     \u001b[0;31m# this line is only necessary if the data is not already a proper list\u001b[0m\u001b[0;34m\u001b[0m\u001b[0;34m\u001b[0m\u001b[0;34m\u001b[0m\u001b[0m\n\u001b[0;32m---> 30\u001b[0;31m     \u001b[0mdf\u001b[0m\u001b[0;34m[\u001b[0m\u001b[0mmany_col\u001b[0m\u001b[0;34m]\u001b[0m\u001b[0;34m=\u001b[0m\u001b[0mdf\u001b[0m\u001b[0;34m[\u001b[0m\u001b[0mmany_col\u001b[0m\u001b[0;34m]\u001b[0m\u001b[0;34m.\u001b[0m\u001b[0mapply\u001b[0m\u001b[0;34m(\u001b[0m\u001b[0;32mlambda\u001b[0m \u001b[0mx\u001b[0m\u001b[0;34m:\u001b[0m \u001b[0;34m[\u001b[0m\u001b[0mitem\u001b[0m\u001b[0;34m.\u001b[0m\u001b[0mstrip\u001b[0m\u001b[0;34m(\u001b[0m\u001b[0;34m)\u001b[0m \u001b[0;32mfor\u001b[0m \u001b[0mitem\u001b[0m \u001b[0;32min\u001b[0m \u001b[0mx\u001b[0m\u001b[0;34m.\u001b[0m\u001b[0msplit\u001b[0m\u001b[0;34m(\u001b[0m\u001b[0;34m','\u001b[0m\u001b[0;34m)\u001b[0m\u001b[0;34m]\u001b[0m\u001b[0;34m)\u001b[0m\u001b[0;34m\u001b[0m\u001b[0;34m\u001b[0m\u001b[0m\n\u001b[0m\u001b[1;32m     31\u001b[0m \u001b[0;34m\u001b[0m\u001b[0m\n\u001b[1;32m     32\u001b[0m     result =  pd.DataFrame({\n",
      "\u001b[0;32m~/anaconda3/envs/admg/lib/python3.8/site-packages/pandas/core/series.py\u001b[0m in \u001b[0;36mapply\u001b[0;34m(self, func, convert_dtype, args, **kwds)\u001b[0m\n\u001b[1;32m   3846\u001b[0m             \u001b[0;32melse\u001b[0m\u001b[0;34m:\u001b[0m\u001b[0;34m\u001b[0m\u001b[0;34m\u001b[0m\u001b[0m\n\u001b[1;32m   3847\u001b[0m                 \u001b[0mvalues\u001b[0m \u001b[0;34m=\u001b[0m \u001b[0mself\u001b[0m\u001b[0;34m.\u001b[0m\u001b[0mastype\u001b[0m\u001b[0;34m(\u001b[0m\u001b[0mobject\u001b[0m\u001b[0;34m)\u001b[0m\u001b[0;34m.\u001b[0m\u001b[0mvalues\u001b[0m\u001b[0;34m\u001b[0m\u001b[0;34m\u001b[0m\u001b[0m\n\u001b[0;32m-> 3848\u001b[0;31m                 \u001b[0mmapped\u001b[0m \u001b[0;34m=\u001b[0m \u001b[0mlib\u001b[0m\u001b[0;34m.\u001b[0m\u001b[0mmap_infer\u001b[0m\u001b[0;34m(\u001b[0m\u001b[0mvalues\u001b[0m\u001b[0;34m,\u001b[0m \u001b[0mf\u001b[0m\u001b[0;34m,\u001b[0m \u001b[0mconvert\u001b[0m\u001b[0;34m=\u001b[0m\u001b[0mconvert_dtype\u001b[0m\u001b[0;34m)\u001b[0m\u001b[0;34m\u001b[0m\u001b[0;34m\u001b[0m\u001b[0m\n\u001b[0m\u001b[1;32m   3849\u001b[0m \u001b[0;34m\u001b[0m\u001b[0m\n\u001b[1;32m   3850\u001b[0m         \u001b[0;32mif\u001b[0m \u001b[0mlen\u001b[0m\u001b[0;34m(\u001b[0m\u001b[0mmapped\u001b[0m\u001b[0;34m)\u001b[0m \u001b[0;32mand\u001b[0m \u001b[0misinstance\u001b[0m\u001b[0;34m(\u001b[0m\u001b[0mmapped\u001b[0m\u001b[0;34m[\u001b[0m\u001b[0;36m0\u001b[0m\u001b[0;34m]\u001b[0m\u001b[0;34m,\u001b[0m \u001b[0mSeries\u001b[0m\u001b[0;34m)\u001b[0m\u001b[0;34m:\u001b[0m\u001b[0;34m\u001b[0m\u001b[0;34m\u001b[0m\u001b[0m\n",
      "\u001b[0;32mpandas/_libs/lib.pyx\u001b[0m in \u001b[0;36mpandas._libs.lib.map_infer\u001b[0;34m()\u001b[0m\n",
      "\u001b[0;32m~/github/admg_webapp/data_models/utils/general.py\u001b[0m in \u001b[0;36m<lambda>\u001b[0;34m(x)\u001b[0m\n\u001b[1;32m     28\u001b[0m \u001b[0;34m\u001b[0m\u001b[0m\n\u001b[1;32m     29\u001b[0m     \u001b[0;31m# this line is only necessary if the data is not already a proper list\u001b[0m\u001b[0;34m\u001b[0m\u001b[0;34m\u001b[0m\u001b[0;34m\u001b[0m\u001b[0m\n\u001b[0;32m---> 30\u001b[0;31m     \u001b[0mdf\u001b[0m\u001b[0;34m[\u001b[0m\u001b[0mmany_col\u001b[0m\u001b[0;34m]\u001b[0m\u001b[0;34m=\u001b[0m\u001b[0mdf\u001b[0m\u001b[0;34m[\u001b[0m\u001b[0mmany_col\u001b[0m\u001b[0;34m]\u001b[0m\u001b[0;34m.\u001b[0m\u001b[0mapply\u001b[0m\u001b[0;34m(\u001b[0m\u001b[0;32mlambda\u001b[0m \u001b[0mx\u001b[0m\u001b[0;34m:\u001b[0m \u001b[0;34m[\u001b[0m\u001b[0mitem\u001b[0m\u001b[0;34m.\u001b[0m\u001b[0mstrip\u001b[0m\u001b[0;34m(\u001b[0m\u001b[0;34m)\u001b[0m \u001b[0;32mfor\u001b[0m \u001b[0mitem\u001b[0m \u001b[0;32min\u001b[0m \u001b[0mx\u001b[0m\u001b[0;34m.\u001b[0m\u001b[0msplit\u001b[0m\u001b[0;34m(\u001b[0m\u001b[0;34m','\u001b[0m\u001b[0;34m)\u001b[0m\u001b[0;34m]\u001b[0m\u001b[0;34m)\u001b[0m\u001b[0;34m\u001b[0m\u001b[0;34m\u001b[0m\u001b[0m\n\u001b[0m\u001b[1;32m     31\u001b[0m \u001b[0;34m\u001b[0m\u001b[0m\n\u001b[1;32m     32\u001b[0m     result =  pd.DataFrame({\n",
      "\u001b[0;31mAttributeError\u001b[0m: 'float' object has no attribute 'split'"
     ]
    }
   ],
   "source": [
    "for table in main_table_names:\n",
    "    print(table)\n",
    "    for column in [col for col in db[table].keys() if isinstance(col,str) and 'table' in col]:\n",
    "        name = column.split('-')[1]\n",
    "        new_table_name = f\"{table}-to-{name}\"\n",
    "        db[new_table_name]=many_to_many(db, table, column)\n",
    "        print(f'   {new_table_name} created')"
   ]
  },
  {
   "cell_type": "markdown",
   "metadata": {},
   "source": [
    "# Validation"
   ]
  },
  {
   "cell_type": "markdown",
   "metadata": {},
   "source": [
    "### Short Name Duplicates"
   ]
  },
  {
   "cell_type": "code",
   "execution_count": null,
   "metadata": {
    "scrolled": false
   },
   "outputs": [],
   "source": [
    "for table_name in db.keys():\n",
    "    if table_name == 'collection_period':\n",
    "        # this is being skipped because it has been broken out by instrument\n",
    "        # and therefore it has duplicate short_names\n",
    "        continue\n",
    "        \n",
    "    if 'short_name' in db[table_name].keys():\n",
    "        print(table_name)\n",
    "        duplicates = validate.find_duplicates(db, table_name, 'short_name')\n",
    "\n",
    "        print(f'    {duplicates}')"
   ]
  },
  {
   "cell_type": "markdown",
   "metadata": {},
   "source": [
    "### Foriegn Key Links"
   ]
  },
  {
   "cell_type": "markdown",
   "metadata": {},
   "source": [
    "### Campaign"
   ]
  },
  {
   "cell_type": "code",
   "execution_count": null,
   "metadata": {
    "scrolled": true
   },
   "outputs": [],
   "source": [
    "errors = validate.foriegn_keys(db, \n",
    "                                data_table='campaign-to-gcmd_project', \n",
    "                                data_index='campaign', \n",
    "                                data_column='gcmd_project', \n",
    "                                foriegn_table='gcmd_project', \n",
    "                                foriegn_column='gcmd_uuid')\n",
    "errors"
   ]
  },
  {
   "cell_type": "code",
   "execution_count": null,
   "metadata": {},
   "outputs": [],
   "source": [
    "errors = validate.foriegn_keys(db, \n",
    "                                data_table='campaign-to-focus_area', \n",
    "                                data_index='campaign', \n",
    "                                data_column='focus_area', \n",
    "                                foriegn_table='focus_area', \n",
    "                                foriegn_column='short_name')\n",
    "errors"
   ]
  },
  {
   "cell_type": "code",
   "execution_count": null,
   "metadata": {},
   "outputs": [],
   "source": [
    "errors = validate.foriegn_keys(db, \n",
    "                                data_table='campaign-to-season', \n",
    "                                data_index='campaign', \n",
    "                                data_column='season', \n",
    "                                foriegn_table='season', \n",
    "                                foriegn_column='short_name')\n",
    "errors"
   ]
  },
  {
   "cell_type": "code",
   "execution_count": null,
   "metadata": {
    "scrolled": true
   },
   "outputs": [],
   "source": [
    "errors = validate.foriegn_keys(db, \n",
    "                                data_table='campaign-to-platform_type', \n",
    "                                data_index='campaign', \n",
    "                                data_column='platform_type', \n",
    "                                foriegn_table='platform_type', \n",
    "                                foriegn_column='short_name')\n",
    "errors"
   ]
  },
  {
   "cell_type": "code",
   "execution_count": null,
   "metadata": {
    "scrolled": true
   },
   "outputs": [],
   "source": [
    "errors = validate.foriegn_keys(db, \n",
    "                                data_table='campaign-to-gcmd_phenomena', \n",
    "                                data_index='campaign', \n",
    "                                data_column='gcmd_phenomena', \n",
    "                                foriegn_table='gcmd_phenomena', \n",
    "                                foriegn_column='ignore_code')\n",
    "errors"
   ]
  },
  {
   "cell_type": "code",
   "execution_count": null,
   "metadata": {
    "scrolled": false
   },
   "outputs": [],
   "source": [
    "errors = validate.foriegn_keys(db, \n",
    "                                data_table='campaign-to-repository', \n",
    "                                data_index='campaign', \n",
    "                                data_column='repository', \n",
    "                                foriegn_table='repository', \n",
    "                                foriegn_column='short_name')\n",
    "errors"
   ]
  },
  {
   "cell_type": "code",
   "execution_count": null,
   "metadata": {
    "scrolled": true
   },
   "outputs": [],
   "source": [
    "errors = validate.foriegn_keys(db, \n",
    "                                data_table='campaign-to-partner_org', \n",
    "                                data_index='campaign', \n",
    "                                data_column='partner_org', \n",
    "                                foriegn_table='partner_org', \n",
    "                                foriegn_column='short_name')\n",
    "errors"
   ]
  },
  {
   "cell_type": "code",
   "execution_count": null,
   "metadata": {
    "scrolled": true
   },
   "outputs": [],
   "source": [
    "errors = validate.foriegn_keys(db, \n",
    "                                data_table='platform-to-gcmd_platform', \n",
    "                                data_index='platform', \n",
    "                                data_column='gcmd_platform', \n",
    "                                foriegn_table='gcmd_platform', \n",
    "                                foriegn_column='gcmd_uuid')\n",
    "errors"
   ]
  },
  {
   "cell_type": "code",
   "execution_count": null,
   "metadata": {
    "scrolled": true
   },
   "outputs": [],
   "source": [
    "errors = validate.foriegn_keys(db, \n",
    "                                data_table='instrument-to-measurement_keywords', \n",
    "                                data_index='instrument', \n",
    "                                data_column='measurement_keywords', \n",
    "                                foriegn_table='gcmd_phenomena', \n",
    "                                foriegn_column='ignore_code')\n",
    "errors"
   ]
  },
  {
   "cell_type": "code",
   "execution_count": null,
   "metadata": {
    "scrolled": true
   },
   "outputs": [],
   "source": [
    "errors = validate.foriegn_keys(db, \n",
    "                                data_table='instrument-to-gcmd_instrument', \n",
    "                                data_index='instrument', \n",
    "                                data_column='gcmd_instrument', \n",
    "                                foriegn_table='gcmd_instrument', \n",
    "                                foriegn_column='gcmd_uuid')\n",
    "errors"
   ]
  },
  {
   "cell_type": "code",
   "execution_count": null,
   "metadata": {},
   "outputs": [],
   "source": [
    "correct_values(\n",
    "    db=db,\n",
    "    table_name = 'instrument-to-gcmd_instrument',\n",
    "    column = 'gcmd_instrument',\n",
    "    wrong_value = 'NID',\n",
    "    correct_value = '6238f3e2-9a87-4e32-b866-c4a637094b51')\n",
    "correct_values(\n",
    "    db=db,\n",
    "    table_name = 'instrument-to-gcmd_instrument',\n",
    "    column = 'gcmd_instrument',\n",
    "    wrong_value = '92f99316-b581-4adb-9980-aeb6bed64eee',\n",
    "    correct_value = 'None')\n",
    "correct_values(\n",
    "    db=db,\n",
    "    table_name = 'instrument-to-gcmd_instrument',\n",
    "    column = 'gcmd_instrument',\n",
    "    wrong_value = '6238fe2-9a87-4e32-b866-c4a637094b51',\n",
    "    correct_value = '6238f3e2-9a87-4e32-b866-c4a637094b51')\n",
    "correct_values(\n",
    "    db=db,\n",
    "    table_name = 'instrument-to-gcmd_instrument',\n",
    "    column = 'gcmd_instrument',\n",
    "    wrong_value = 'None',\n",
    "    correct_value = '6238f3e2-9a87-4e32-b866-c4a637094b51')"
   ]
  },
  {
   "cell_type": "code",
   "execution_count": null,
   "metadata": {},
   "outputs": [],
   "source": [
    "errors = validate.foriegn_keys(db, \n",
    "                                data_table='instrument-to-instrument_type', \n",
    "                                data_index='instrument', \n",
    "                                data_column='instrument_type', \n",
    "                                foriegn_table='instrument_type', \n",
    "                                foriegn_column='short_name')\n",
    "errors"
   ]
  },
  {
   "cell_type": "code",
   "execution_count": null,
   "metadata": {},
   "outputs": [],
   "source": [
    "correct_values(\n",
    "    db=db,\n",
    "    table_name = 'instrument-to-instrument_type',\n",
    "    column = 'instrument_type',\n",
    "    wrong_value = 'Passive - Remote Sensing',\n",
    "    correct_value = 'Remote - Passive')\n",
    "correct_values(\n",
    "    db=db,\n",
    "    table_name = 'instrument-to-instrument_type',\n",
    "    column = 'instrument_type',\n",
    "    wrong_value = 'Earth Remote Sensing - Active Remote Sensing',\n",
    "    correct_value = 'Remote - Active')"
   ]
  },
  {
   "cell_type": "code",
   "execution_count": null,
   "metadata": {},
   "outputs": [],
   "source": [
    "errors = validate.foriegn_keys(db, \n",
    "                                data_table='instrument-to-geophysical_concept', \n",
    "                                data_index='instrument', \n",
    "                                data_column='geophysical_concept', \n",
    "                                foriegn_table='geophysical_concept', \n",
    "                                foriegn_column='short_name')\n",
    "errors"
   ]
  },
  {
   "cell_type": "code",
   "execution_count": null,
   "metadata": {},
   "outputs": [],
   "source": [
    "correct_values(\n",
    "    db=db,\n",
    "    table_name = 'instrument-to-geophysical_concept',\n",
    "    column = 'geophysical_concept',\n",
    "    wrong_value = 'Precipitation',\n",
    "    correct_value = 'Precipitation (Precip)')\n",
    "correct_values(\n",
    "    db=db,\n",
    "    table_name = 'instrument-to-geophysical_concept',\n",
    "    column = 'geophysical_concept',\n",
    "    wrong_value = 'Terrestrial Hydrology',\n",
    "    correct_value = 'Terrestrial Hydrology (TerrHydrol)')\n",
    "correct_values(\n",
    "    db=db,\n",
    "    table_name = 'instrument-to-geophysical_concept',\n",
    "    column = 'geophysical_concept',\n",
    "    wrong_value = 'Atmospheric Chemicals & Trace Gasses',\n",
    "    correct_value = 'Atmospheric Chemicals & Trace Gases')\n",
    "correct_values(\n",
    "    db=db,\n",
    "    table_name = 'instrument-to-geophysical_concept',\n",
    "    column = 'geophysical_concept',\n",
    "    wrong_value = 'Cloud Properties',\n",
    "    correct_value = 'Clouds-Properties & Processes & Dynamics\t')\n",
    "correct_values(\n",
    "    db=db,\n",
    "    table_name = 'instrument-to-geophysical_concept',\n",
    "    column = 'geophysical_concept',\n",
    "    wrong_value = 'Processes & Dynamics',\n",
    "    correct_value = 'Boundary Layer Processes')"
   ]
  },
  {
   "cell_type": "code",
   "execution_count": null,
   "metadata": {},
   "outputs": [],
   "source": []
  },
  {
   "cell_type": "code",
   "execution_count": null,
   "metadata": {},
   "outputs": [],
   "source": [
    "errors = validate.foriegn_keys(db, \n",
    "                                data_table='instrument-to-repository', \n",
    "                                data_index='instrument', \n",
    "                                data_column='repository', \n",
    "                                foriegn_table='repository', \n",
    "                                foriegn_column='short_name')\n",
    "errors"
   ]
  },
  {
   "cell_type": "code",
   "execution_count": null,
   "metadata": {},
   "outputs": [],
   "source": [
    "correct_values(\n",
    "    db=db,\n",
    "    table_name = 'instrument-to-repository',\n",
    "    column = 'repository',\n",
    "    wrong_value = 'ORNL',\n",
    "    correct_value = 'OB.DAAC')"
   ]
  },
  {
   "cell_type": "code",
   "execution_count": null,
   "metadata": {},
   "outputs": [],
   "source": [
    "errors = validate.foriegn_keys(db, \n",
    "                                data_table='instrument-to-measurement_region', \n",
    "                                data_index='instrument', \n",
    "                                data_column='measurement_region', \n",
    "                                foriegn_table='measurement_region', \n",
    "                                foriegn_column='short_name')\n",
    "errors"
   ]
  },
  {
   "cell_type": "code",
   "execution_count": null,
   "metadata": {},
   "outputs": [],
   "source": [
    "correct_values(\n",
    "    db=db,\n",
    "    table_name = 'instrument-to-measurement_region',\n",
    "    column = 'measurement_region',\n",
    "    wrong_value = 'Troposphere',\n",
    "    correct_value = 'mid-troposphere')\n",
    "correct_values(\n",
    "    db=db,\n",
    "    table_name = 'instrument-to-measurement_region',\n",
    "    column = 'measurement_region',\n",
    "    wrong_value = 'troposphere',\n",
    "    correct_value = 'mid-troposphere')\n",
    "correct_values(\n",
    "    db=db,\n",
    "    table_name = 'instrument-to-measurement_region',\n",
    "    column = 'measurement_region',\n",
    "    wrong_value = 'subsurface',\n",
    "    correct_value = 'subsurface - water')"
   ]
  },
  {
   "cell_type": "code",
   "execution_count": null,
   "metadata": {},
   "outputs": [],
   "source": [
    "db['instrument-to-measurement_region'][db['instrument-to-measurement_region']['measurement_region']=='subsurface - water']"
   ]
  },
  {
   "cell_type": "code",
   "execution_count": null,
   "metadata": {},
   "outputs": [],
   "source": [
    "errors = validate.foriegn_keys(db, \n",
    "                                data_table='deployment-to-geographical_region', \n",
    "                                data_index='deployment', \n",
    "                                data_column='geographical_region', \n",
    "                                foriegn_table='geographical_region', \n",
    "                                foriegn_column='short_name')\n",
    "errors"
   ]
  },
  {
   "cell_type": "code",
   "execution_count": null,
   "metadata": {},
   "outputs": [],
   "source": [
    "[key for key in db.keys() if 'deployment' in key]"
   ]
  },
  {
   "cell_type": "code",
   "execution_count": null,
   "metadata": {
    "scrolled": true
   },
   "outputs": [],
   "source": [
    "errors = validate.foriegn_keys(db, \n",
    "                                data_table='deployment-to-platform', \n",
    "                                data_index='deployment', \n",
    "                                data_column='platform', \n",
    "                                foriegn_table='platform', \n",
    "                                foriegn_column='short_name')\n",
    "print('\\n\\ndo I really need to validate this?')\n",
    "errors"
   ]
  },
  {
   "cell_type": "code",
   "execution_count": null,
   "metadata": {
    "scrolled": true
   },
   "outputs": [],
   "source": [
    "errors = validate.foriegn_keys(db, \n",
    "                                data_table='deployment', \n",
    "                                data_index='short_name', \n",
    "                                data_column='foreign-campaign-short_name', \n",
    "                                foriegn_table='campaign', \n",
    "                                foriegn_column='short_name')\n",
    "print('\\n\\n TODO this better once you have the data')\n",
    "errors"
   ]
  },
  {
   "cell_type": "code",
   "execution_count": null,
   "metadata": {
    "scrolled": true
   },
   "outputs": [],
   "source": [
    "errors = validate.foriegn_keys(db, \n",
    "                                data_table='platform', \n",
    "                                data_index='short_name', \n",
    "                                data_column='foreign-platform_type-short_name', \n",
    "                                foriegn_table='platform_type', \n",
    "                                foriegn_column='short_name')\n",
    "errors"
   ]
  },
  {
   "cell_type": "code",
   "execution_count": null,
   "metadata": {
    "scrolled": true
   },
   "outputs": [],
   "source": [
    "errors = validate.foriegn_keys(db, \n",
    "                                data_table='platform-to-gcmd_platform', \n",
    "                                data_index='platform', \n",
    "                                data_column='gcmd_platform', \n",
    "                                foriegn_table='gcmd_platform', \n",
    "                                foriegn_column='gcmd_uuid')\n",
    "errors"
   ]
  },
  {
   "cell_type": "code",
   "execution_count": null,
   "metadata": {
    "scrolled": true
   },
   "outputs": [],
   "source": [
    "errors = validate.foriegn_keys(db, \n",
    "                                data_table='iop', \n",
    "                                data_index='short_name', \n",
    "                                data_column='foreign-deployment-short_name', \n",
    "                                foriegn_table='deployment', \n",
    "                                foriegn_column='short_name')\n",
    "errors"
   ]
  },
  {
   "cell_type": "code",
   "execution_count": null,
   "metadata": {},
   "outputs": [],
   "source": [
    "correct_values(\n",
    "    db=db,\n",
    "    table_name = 'iop',\n",
    "    column = 'foreign-deployment-short_name',\n",
    "    wrong_value = 'AirMOSS_deb_2014b',\n",
    "    correct_value = 'AirMOSS_dep_2014b')"
   ]
  },
  {
   "cell_type": "code",
   "execution_count": null,
   "metadata": {},
   "outputs": [],
   "source": [
    "errors = validate.foriegn_keys(db, \n",
    "                                data_table='significant_event', \n",
    "                                data_index='short_name', \n",
    "                                data_column='foreign-deployment-short_name', \n",
    "                                foriegn_table='deployment', \n",
    "                                foriegn_column='short_name')\n",
    "errors"
   ]
  },
  {
   "cell_type": "markdown",
   "metadata": {},
   "source": [
    "### Flight"
   ]
  },
  {
   "cell_type": "code",
   "execution_count": null,
   "metadata": {
    "scrolled": false
   },
   "outputs": [],
   "source": [
    "# flight table, instruments\n",
    "\n",
    "errors = validate.foriegn_keys(db, \n",
    "                               data_table='collection_period', \n",
    "                              data_index='foreign-campaign-short_name', \n",
    "                              data_column='instrument', \n",
    "                              foriegn_table='instrument', \n",
    "                              foriegn_column='short_name')\n",
    "errors"
   ]
  },
  {
   "cell_type": "code",
   "execution_count": null,
   "metadata": {},
   "outputs": [],
   "source": [
    "db['collection_period']=db['collection_period'][db['collection_period']['instrument']!='NAWX radar']"
   ]
  },
  {
   "cell_type": "code",
   "execution_count": null,
   "metadata": {
    "scrolled": true
   },
   "outputs": [],
   "source": [
    "# Flight table, platforms\n",
    "\n",
    "errors = validate.foriegn_keys(db, \n",
    "                      data_table='collection_period', \n",
    "                      data_index='foreign-campaign-short_name', \n",
    "                      data_column='foreign-platform-short_name', \n",
    "                      foriegn_table='platform', \n",
    "                      foriegn_column='short_name')\n",
    "errors"
   ]
  },
  {
   "cell_type": "code",
   "execution_count": null,
   "metadata": {},
   "outputs": [],
   "source": [
    "correct_values(\n",
    "    db=db,\n",
    "    table_name = 'collection_period',\n",
    "    column = 'foreign-platform-short_name',\n",
    "    wrong_value = 'UND Citation II',\n",
    "    correct_value = 'Citation')\n",
    "db['collection_period']=db['collection_period'][db['collection_period']['foreign-platform-short_name']!='Field_Site']"
   ]
  },
  {
   "cell_type": "code",
   "execution_count": null,
   "metadata": {},
   "outputs": [],
   "source": []
  },
  {
   "cell_type": "code",
   "execution_count": null,
   "metadata": {
    "scrolled": true
   },
   "outputs": [],
   "source": [
    "# I think to ignore this???\n",
    "\n",
    "errors = validate.foriegn_keys(db, \n",
    "                      data_table='collection_period', \n",
    "                      data_index='foreign-campaign-short_name', \n",
    "                      data_column='short_name',#'foreign-deployment-short_name', \n",
    "                      foriegn_table='deployment', \n",
    "                      foriegn_column='short_name')\n",
    "errors"
   ]
  },
  {
   "cell_type": "code",
   "execution_count": null,
   "metadata": {},
   "outputs": [],
   "source": [
    "correct_values(\n",
    "    db=db,\n",
    "    table_name = 'collection_period',\n",
    "    column = 'short_name',\n",
    "    wrong_value = 'OLYMPEX_dep_2016',\n",
    "    correct_value = 'OLYMPEX_dep_2015')\n",
    "\n",
    "db['collection_period']=db['collection_period'][db['collection_period']['short_name']!='Citation']"
   ]
  },
  {
   "cell_type": "code",
   "execution_count": null,
   "metadata": {},
   "outputs": [],
   "source": []
  },
  {
   "cell_type": "markdown",
   "metadata": {},
   "source": [
    "# Dates"
   ]
  },
  {
   "cell_type": "code",
   "execution_count": null,
   "metadata": {},
   "outputs": [],
   "source": [
    "for table_name in db.keys():\n",
    "    # find tables that have date fields\n",
    "    if len(col_names := [col for col in db[table_name].columns if 'date' in col])>0:\n",
    "        print(f\"{table_name}\\n    {', '.join(col_names)}\")"
   ]
  },
  {
   "cell_type": "code",
   "execution_count": null,
   "metadata": {
    "scrolled": true
   },
   "outputs": [],
   "source": [
    "table_names = ['campaign', 'deployment', 'iopse'] \n",
    "for table_name in table_names:\n",
    "    print(table_name)\n",
    "    db[table_name]['valid_date']=False\n",
    "    \n",
    "    db[table_name]['valid_date'] = db[table_name].apply(lambda row: validate.vali_date(row['start_date'], row['end_date']), axis=1)\n",
    "        "
   ]
  },
  {
   "cell_type": "code",
   "execution_count": null,
   "metadata": {
    "scrolled": true
   },
   "outputs": [],
   "source": [
    "# this field no longer exists?\n",
    "\n",
    "# table_names = ['instrument'] \n",
    "# for table_name in table_names:\n",
    "    \n",
    "#     db[table_name]['valid_date']=False\n",
    "#     db[table_name]['valid_date'] = db[table_name].apply(lambda row: validate.vali_date(row['deployment_date'], row['decommision_date']), axis=1)\n",
    "       "
   ]
  },
  {
   "cell_type": "code",
   "execution_count": null,
   "metadata": {
    "scrolled": true
   },
   "outputs": [],
   "source": [
    "db['campaign'][['short_name','start_date','end_date','valid_date']][db['campaign']['valid_date'].apply(lambda x: not(x))]"
   ]
  },
  {
   "cell_type": "markdown",
   "metadata": {},
   "source": [
    "# IOPSE"
   ]
  },
  {
   "cell_type": "code",
   "execution_count": null,
   "metadata": {
    "scrolled": true
   },
   "outputs": [],
   "source": [
    "db['iop']"
   ]
  },
  {
   "cell_type": "code",
   "execution_count": null,
   "metadata": {
    "scrolled": true
   },
   "outputs": [],
   "source": [
    "# validate that all iops are unique, should return an empty list\n",
    "\n",
    "db['iop']['short_name'][db['iop']['short_name'].duplicated()]"
   ]
  },
  {
   "cell_type": "code",
   "execution_count": null,
   "metadata": {},
   "outputs": [],
   "source": [
    "# if sig event has matching iop, link them\n",
    "\n",
    "# if sig event doesn't have matching iop, delete it so there will be no foriegn key"
   ]
  },
  {
   "cell_type": "code",
   "execution_count": null,
   "metadata": {
    "scrolled": true
   },
   "outputs": [],
   "source": [
    "# tag significant events that have IOPs\n",
    "\n",
    "db['significant_event']['has_iop'] = db['significant_event']['iop_short_name'].apply(lambda short_name: short_name in list(db['iop']['iop_short_name']))\n"
   ]
  },
  {
   "cell_type": "code",
   "execution_count": null,
   "metadata": {
    "scrolled": true
   },
   "outputs": [],
   "source": [
    "# # check that all significant events with an iop have an iop\n",
    "\n",
    "# s_i = set(db['iop']['iop_short_name'])\n",
    "# s_s = set(has_iop['iop_short_name'])\n",
    "# [s for s in s_s if s not in s_i]"
   ]
  },
  {
   "cell_type": "code",
   "execution_count": null,
   "metadata": {},
   "outputs": [],
   "source": [
    "from datetime import datetime\n",
    "# sig event start >= iop start\n",
    "\n",
    "def start_val(sig_row, db):\n",
    "    large_date = sig_row['start_date']\n",
    "    small_date = db['iop'][db['iop']['iop_short_name']==sig_row['iop_short_name']]['start_date'].iloc[0]\n",
    "    val = large_date >= small_date\n",
    "    return val\n",
    "\n",
    "def end_val(sig_row, db):\n",
    "    large_date = sig_row['end_date']\n",
    "    small_date = db['iop'][db['iop']['iop_short_name']==sig_row['iop_short_name']]['end_date'].iloc[0]\n",
    "    val = large_date <= small_date\n",
    "    return val\n",
    "\n",
    "has_iop = db['significant_event'][db['significant_event']['has_iop']].copy()\n",
    "val_iop_date_start = has_iop.apply(lambda row: not(start_val(row, db)), axis=1)\n",
    "val_iop_date_end = has_iop.apply(lambda row: not(end_val(row, db)), axis=1)"
   ]
  },
  {
   "cell_type": "code",
   "execution_count": null,
   "metadata": {
    "scrolled": true
   },
   "outputs": [],
   "source": [
    "# display incorrect start dates\n",
    "has_iop[val_iop_date_start]"
   ]
  },
  {
   "cell_type": "code",
   "execution_count": null,
   "metadata": {
    "scrolled": true
   },
   "outputs": [],
   "source": [
    "# display incorrect end dates\n",
    "has_iop[val_iop_date_end]"
   ]
  },
  {
   "cell_type": "markdown",
   "metadata": {},
   "source": [
    "## Sanity Check"
   ]
  },
  {
   "cell_type": "code",
   "execution_count": null,
   "metadata": {},
   "outputs": [],
   "source": [
    "db['nasa_mission']"
   ]
  },
  {
   "cell_type": "code",
   "execution_count": null,
   "metadata": {},
   "outputs": [],
   "source": [
    "db['collection_period']"
   ]
  },
  {
   "cell_type": "code",
   "execution_count": null,
   "metadata": {},
   "outputs": [],
   "source": [
    "db['platform_type']"
   ]
  },
  {
   "cell_type": "code",
   "execution_count": null,
   "metadata": {
    "scrolled": true
   },
   "outputs": [],
   "source": [
    "links = list(set(list(db['platform_type']['foreign-platform_type-short_name'])))\n",
    "full = list(db['platform_type']['short_name'])\n",
    "[link for link in links if link not in full]"
   ]
  },
  {
   "cell_type": "code",
   "execution_count": null,
   "metadata": {},
   "outputs": [],
   "source": []
  },
  {
   "cell_type": "markdown",
   "metadata": {},
   "source": [
    "### Pickle the Data"
   ]
  },
  {
   "cell_type": "code",
   "execution_count": null,
   "metadata": {},
   "outputs": [],
   "source": [
    "import pickle"
   ]
  },
  {
   "cell_type": "code",
   "execution_count": null,
   "metadata": {},
   "outputs": [],
   "source": [
    "pickle.dump(db, open('db_after_corrections','wb'))"
   ]
  },
  {
   "cell_type": "code",
   "execution_count": null,
   "metadata": {},
   "outputs": [],
   "source": []
  },
  {
   "cell_type": "code",
   "execution_count": null,
   "metadata": {},
   "outputs": [],
   "source": [
    "db['geographical_region']"
   ]
  },
  {
   "cell_type": "code",
   "execution_count": null,
   "metadata": {
    "scrolled": true
   },
   "outputs": [],
   "source": [
    "db['significant_event']"
   ]
  },
  {
   "cell_type": "code",
   "execution_count": null,
   "metadata": {},
   "outputs": [],
   "source": []
  }
 ],
 "metadata": {
  "kernelspec": {
   "display_name": "Django Shell-Plus",
   "language": "python",
   "name": "django_extensions"
  },
  "language_info": {
   "codemirror_mode": {
    "name": "ipython",
    "version": 3
   },
   "file_extension": ".py",
   "mimetype": "text/x-python",
   "name": "python",
   "nbconvert_exporter": "python",
   "pygments_lexer": "ipython3",
   "version": "3.8.2"
  }
 },
 "nbformat": 4,
 "nbformat_minor": 2
}
