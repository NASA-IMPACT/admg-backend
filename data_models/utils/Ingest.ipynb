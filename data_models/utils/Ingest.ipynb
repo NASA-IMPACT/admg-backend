{
 "cells": [
  {
   "cell_type": "markdown",
   "metadata": {},
   "source": [
    "# Imports"
   ]
  },
  {
   "cell_type": "code",
   "execution_count": 1,
   "metadata": {},
   "outputs": [],
   "source": [
    "import pandas as pd\n",
    "import json\n",
    "import validate\n",
    "from general import correct_values, many_to_many, many_cols, filter_gcmd_tables\n",
    "import ingest\n",
    "import clean"
   ]
  },
  {
   "cell_type": "code",
   "execution_count": 2,
   "metadata": {},
   "outputs": [],
   "source": [
    "def print_full(df):\n",
    "    with pd.option_context('display.max_rows', None, 'display.max_columns', None):\n",
    "        print(df)"
   ]
  },
  {
   "cell_type": "code",
   "execution_count": 3,
   "metadata": {},
   "outputs": [],
   "source": [
    "# def correct_values(db, table_name, column, wrong_value, correct_value):\n",
    "#     db[table_name][column]=db[table_name][column].apply(lambda x: x if x!=wrong_value else correct_value)"
   ]
  },
  {
   "cell_type": "markdown",
   "metadata": {},
   "source": [
    "# Pull Data into Pandas"
   ]
  },
  {
   "cell_type": "code",
   "execution_count": 4,
   "metadata": {},
   "outputs": [],
   "source": [
    "data = ingest.main('inventory_data/inventory_2020.07.29.xlsx')"
   ]
  },
  {
   "cell_type": "code",
   "execution_count": null,
   "metadata": {},
   "outputs": [],
   "source": [
    "excel_data = data['excel_data']\n",
    "db = data['database']"
   ]
  },
  {
   "cell_type": "markdown",
   "metadata": {},
   "source": [
    "# Cleaning"
   ]
  },
  {
   "cell_type": "code",
   "execution_count": null,
   "metadata": {},
   "outputs": [],
   "source": [
    "# change ignore_code field to be string\n",
    "db['gcmd_phenomena']['ignore_code'] = db['gcmd_phenomena']['ignore_code'].apply(lambda x: str(x))\n",
    "\n",
    "# # convert gcmd_uuid into string\n",
    "# db['instrument']['table-measurement_keywords-gcmd_uuid'] = db['instrument']['table-measurement_keywords-gcmd_uuid'].apply(lambda x: str(x))\n",
    "\n",
    "# convert gcmd_uuid into string\n",
    "db['instrument']['table-gcmd_phenomena-ignore_code'] = db['instrument']['table-gcmd_phenomena-ignore_code'].apply(lambda x: str(x))\n",
    "\n",
    "# remove extra NID from platform type\n",
    "db['platform_type'] = db['platform_type'][db['platform_type']['short_name']!='NID']"
   ]
  },
  {
   "cell_type": "code",
   "execution_count": null,
   "metadata": {},
   "outputs": [],
   "source": [
    "db = clean.remove_NaN_columns(db)"
   ]
  },
  {
   "cell_type": "code",
   "execution_count": null,
   "metadata": {
    "scrolled": true
   },
   "outputs": [],
   "source": [
    "db = clean.strip_all_columns(db)"
   ]
  },
  {
   "cell_type": "code",
   "execution_count": null,
   "metadata": {},
   "outputs": [],
   "source": [
    "db = clean.replace_nid(db)"
   ]
  },
  {
   "cell_type": "markdown",
   "metadata": {},
   "source": [
    "# Short Name Supplementation"
   ]
  },
  {
   "cell_type": "code",
   "execution_count": null,
   "metadata": {
    "scrolled": true
   },
   "outputs": [],
   "source": [
    "# make unique shortname by combining the campaign name and the table sub short name\n",
    "\n",
    "db['deployment']['short_name'] = db['deployment']['foreign-campaign-short_name']+'_'+db['deployment']['ignore_deployment_id']\n",
    "db['iopse']['foreign-deployment-short_name']=db['iopse']['foreign-campaign-short_name']+'_'+db['iopse']['ignore_deployment']\n",
    "\n",
    "db['collection_period'] = many_to_many(db, 'linking', 'table-instrument-short_name', keep_all=True)\n",
    "db['collection_period']['short_name'] = db['collection_period']['foreign-campaign-short_name']+'_'+db['collection_period']['foreign-deployment-short_name']"
   ]
  },
  {
   "cell_type": "markdown",
   "metadata": {},
   "source": [
    "# Find Matching Deployments for IOPSE"
   ]
  },
  {
   "cell_type": "code",
   "execution_count": null,
   "metadata": {},
   "outputs": [],
   "source": [
    "# original process before good shortname usage on the sheets\n",
    "\n",
    "\n",
    "# db['iopse']['deployment_short_name'] = 'No Matches'\n",
    "\n",
    "# for row in range(len(db['iopse'])):\n",
    "#     iop_start = db['iopse'].iloc[row]['start_date']\n",
    "#     iop_end = db['iopse'].iloc[row]['end_date']\n",
    "#     iop_camp = db['iopse'].iloc[row]['foreign-campaign-short_name']\n",
    "    \n",
    "#     campaign_filter = db['deployment']['foreign-campaign-short_name'].apply(lambda short_name: short_name == iop_camp)\n",
    "#     possible_campaigns = db['deployment'][campaign_filter]\n",
    "    \n",
    "#     start_filter = possible_campaigns['start_date'].apply(lambda dep_start: validate.vali_date(dep_start, iop_start))\n",
    "#     end_filter = possible_campaigns['end_date'].apply(lambda dep_end: validate.vali_date(iop_end, dep_end))\n",
    "    \n",
    "#     matching_deployments = list(possible_campaigns[start_filter*end_filter]['short_name'])\n",
    "#     if len(matching_deployments)>1:\n",
    "#         print(f\"error on {db['iopse'].iloc[row]}\")\n",
    "#     elif len(matching_deployments)==1:\n",
    "#         matching_deployments = matching_deployments[0]\n",
    "#     else:\n",
    "#         matching_deployments = 'None Found'\n",
    "#     db['iopse']['deployment_short_name'].iloc[row]=matching_deployments"
   ]
  },
  {
   "cell_type": "code",
   "execution_count": null,
   "metadata": {},
   "outputs": [],
   "source": [
    "# filter out missing rows on the iopse tab\n",
    "db['iopse'] = db['iopse'][db['iopse']['short_name']!='Information Not Available']"
   ]
  },
  {
   "cell_type": "code",
   "execution_count": null,
   "metadata": {},
   "outputs": [],
   "source": [
    "# test for unexpected values in this column\n",
    "assert set(db['iopse']['type']) == {'IOP', 'SE'}"
   ]
  },
  {
   "cell_type": "code",
   "execution_count": null,
   "metadata": {},
   "outputs": [],
   "source": [
    "# convert parent and short name to lower so they will match correctly\n",
    "db['iopse']['short_name'] = db['iopse']['short_name'].apply(lambda x: x.lower())\n",
    "db['iopse']['parent short_name'] = db['iopse']['parent short_name'].apply(lambda x: x.lower())"
   ]
  },
  {
   "cell_type": "code",
   "execution_count": null,
   "metadata": {
    "scrolled": true
   },
   "outputs": [],
   "source": [
    "db['iop'] = db['iopse'][db['iopse']['type']=='IOP']\n",
    "db['significant_event'] = db['iopse'][db['iopse']['type']=='SE']"
   ]
  },
  {
   "cell_type": "markdown",
   "metadata": {},
   "source": [
    "# Campaign Filter"
   ]
  },
  {
   "cell_type": "code",
   "execution_count": null,
   "metadata": {},
   "outputs": [],
   "source": [
    "from general import filter_campaigns, log_short_names"
   ]
  },
  {
   "cell_type": "code",
   "execution_count": null,
   "metadata": {},
   "outputs": [],
   "source": [
    "ingest_campaign_list = json.load(open('config/ingest_campaign_list.json', 'r'))"
   ]
  },
  {
   "cell_type": "code",
   "execution_count": null,
   "metadata": {},
   "outputs": [],
   "source": [
    "db = filter_campaigns(db, ingest_campaign_list)"
   ]
  },
  {
   "cell_type": "code",
   "execution_count": null,
   "metadata": {},
   "outputs": [],
   "source": [
    "log_short_names(db, 'instrument')\n",
    "log_short_names(db, 'platform')"
   ]
  },
  {
   "cell_type": "markdown",
   "metadata": {},
   "source": [
    "# Many to Many Creation"
   ]
  },
  {
   "cell_type": "code",
   "execution_count": null,
   "metadata": {},
   "outputs": [],
   "source": [
    "main_table_names = ['campaign', 'platform', 'instrument', 'deployment']"
   ]
  },
  {
   "cell_type": "code",
   "execution_count": null,
   "metadata": {
    "scrolled": false
   },
   "outputs": [],
   "source": [
    "for table in main_table_names:\n",
    "    print(table)\n",
    "#     print([col for col in db[table].keys() if isinstance(col,str) and 'table' in col])\n",
    "    for column in [col for col in db[table].keys() if isinstance(col,str) and 'table' in col]:\n",
    "        name = column.split('-')[1]\n",
    "        new_table_name = f\"{table}-to-{name}\"\n",
    "        db[new_table_name]=many_to_many(db, table, column)\n",
    "        print(f'   {new_table_name} created')"
   ]
  },
  {
   "cell_type": "markdown",
   "metadata": {},
   "source": [
    "# Validation"
   ]
  },
  {
   "cell_type": "markdown",
   "metadata": {},
   "source": [
    "### Short Name Duplicates"
   ]
  },
  {
   "cell_type": "code",
   "execution_count": null,
   "metadata": {
    "scrolled": false
   },
   "outputs": [],
   "source": [
    "for table_name in db.keys():\n",
    "    if table_name == 'collection_period':\n",
    "        # this is being skipped because it has been broken out by instrument\n",
    "        # and therefore it has duplicate short_names\n",
    "        continue\n",
    "        \n",
    "    if 'short_name' in db[table_name].keys():\n",
    "        print(table_name)\n",
    "        duplicates = validate.find_duplicates(db, table_name, 'short_name')\n",
    "\n",
    "        print(f'    {duplicates}')"
   ]
  },
  {
   "cell_type": "markdown",
   "metadata": {},
   "source": [
    "### Foriegn Key Links"
   ]
  },
  {
   "cell_type": "code",
   "execution_count": null,
   "metadata": {
    "scrolled": true
   },
   "outputs": [],
   "source": [
    "errors = validate.foriegn_keys(db, \n",
    "                                data_table='campaign-to-gcmd_project', \n",
    "                                data_index='campaign', \n",
    "                                data_column='gcmd_project', \n",
    "                                foriegn_table='gcmd_project', \n",
    "                                foriegn_column='gcmd_uuid')\n",
    "errors"
   ]
  },
  {
   "cell_type": "code",
   "execution_count": null,
   "metadata": {},
   "outputs": [],
   "source": [
    "errors = validate.foriegn_keys(db, \n",
    "                                data_table='campaign-to-focus_area', \n",
    "                                data_index='campaign', \n",
    "                                data_column='focus_area', \n",
    "                                foriegn_table='focus_area', \n",
    "                                foriegn_column='short_name')\n",
    "errors"
   ]
  },
  {
   "cell_type": "code",
   "execution_count": null,
   "metadata": {},
   "outputs": [],
   "source": [
    "errors = validate.foriegn_keys(db, \n",
    "                                data_table='campaign-to-season', \n",
    "                                data_index='campaign', \n",
    "                                data_column='season', \n",
    "                                foriegn_table='season', \n",
    "                                foriegn_column='short_name')\n",
    "errors"
   ]
  },
  {
   "cell_type": "code",
   "execution_count": null,
   "metadata": {
    "scrolled": true
   },
   "outputs": [],
   "source": [
    "errors = validate.foriegn_keys(db, \n",
    "                                data_table='campaign-to-platform_type', \n",
    "                                data_index='campaign', \n",
    "                                data_column='platform_type', \n",
    "                                foriegn_table='platform_type', \n",
    "                                foriegn_column='short_name')\n",
    "errors"
   ]
  },
  {
   "cell_type": "code",
   "execution_count": null,
   "metadata": {
    "scrolled": true
   },
   "outputs": [],
   "source": [
    "errors = validate.foriegn_keys(db, \n",
    "                                data_table='campaign-to-geophysical_concept', \n",
    "                                data_index='campaign', \n",
    "                                data_column='geophysical_concept', \n",
    "                                foriegn_table='geophysical_concept', \n",
    "                                foriegn_column='short_name')\n",
    "errors"
   ]
  },
  {
   "cell_type": "code",
   "execution_count": null,
   "metadata": {
    "scrolled": false
   },
   "outputs": [],
   "source": [
    "errors = validate.foriegn_keys(db, \n",
    "                                data_table='campaign-to-repository', \n",
    "                                data_index='campaign', \n",
    "                                data_column='repository', \n",
    "                                foriegn_table='repository', \n",
    "                                foriegn_column='short_name')\n",
    "errors"
   ]
  },
  {
   "cell_type": "code",
   "execution_count": null,
   "metadata": {
    "scrolled": true
   },
   "outputs": [],
   "source": [
    "errors = validate.foriegn_keys(db, \n",
    "                                data_table='campaign-to-partner_org', \n",
    "                                data_index='campaign', \n",
    "                                data_column='partner_org', \n",
    "                                foriegn_table='partner_org', \n",
    "                                foriegn_column='short_name')\n",
    "errors"
   ]
  },
  {
   "cell_type": "code",
   "execution_count": null,
   "metadata": {
    "scrolled": true
   },
   "outputs": [],
   "source": [
    "errors = validate.foriegn_keys(db, \n",
    "                                data_table='platform-to-gcmd_platform', \n",
    "                                data_index='platform', \n",
    "                                data_column='gcmd_platform', \n",
    "                                foriegn_table='gcmd_platform', \n",
    "                                foriegn_column='gcmd_uuid')\n",
    "errors"
   ]
  },
  {
   "cell_type": "code",
   "execution_count": null,
   "metadata": {
    "scrolled": true
   },
   "outputs": [],
   "source": [
    "errors = validate.foriegn_keys(db, \n",
    "                                data_table='instrument-to-gcmd_phenomena', \n",
    "                                data_index='instrument', \n",
    "                                data_column='gcmd_phenomena', \n",
    "                                foriegn_table='gcmd_phenomena', \n",
    "                                foriegn_column='ignore_code')\n",
    "errors"
   ]
  },
  {
   "cell_type": "code",
   "execution_count": null,
   "metadata": {
    "scrolled": false
   },
   "outputs": [],
   "source": [
    "errors = validate.foriegn_keys(db, \n",
    "                                data_table='instrument-to-gcmd_instrument', \n",
    "                                data_index='instrument', \n",
    "                                data_column='gcmd_instrument', \n",
    "                                foriegn_table='gcmd_instrument', \n",
    "                                foriegn_column='gcmd_uuid')\n",
    "errors"
   ]
  },
  {
   "cell_type": "code",
   "execution_count": null,
   "metadata": {},
   "outputs": [],
   "source": [
    "correct_values(\n",
    "    db=db,\n",
    "    table_name = 'instrument-to-gcmd_instrument',\n",
    "    column = 'gcmd_instrument',\n",
    "    wrong_value = '92f99316-b581-4adb-9980-aeb6bed64eee',\n",
    "    correct_value = '6238f3e2-9a87-4e32-b866-c4a637094b51')"
   ]
  },
  {
   "cell_type": "code",
   "execution_count": null,
   "metadata": {},
   "outputs": [],
   "source": [
    "errors = validate.foriegn_keys(db, \n",
    "                                data_table='instrument-to-instrument_type', \n",
    "                                data_index='instrument', \n",
    "                                data_column='instrument_type', \n",
    "                                foriegn_table='instrument_type', \n",
    "                                foriegn_column='short_name')\n",
    "errors"
   ]
  },
  {
   "cell_type": "code",
   "execution_count": null,
   "metadata": {},
   "outputs": [],
   "source": [
    "# correct_values(\n",
    "#     db=db,\n",
    "#     table_name = 'instrument-to-instrument_type',\n",
    "#     column = 'instrument_type',\n",
    "#     wrong_value = 'Passive - Remote Sensing',\n",
    "#     correct_value = 'Remote - Passive')\n",
    "# correct_values(\n",
    "#     db=db,\n",
    "#     table_name = 'instrument-to-instrument_type',\n",
    "#     column = 'instrument_type',\n",
    "#     wrong_value = 'Earth Remote Sensing - Active Remote Sensing',\n",
    "#     correct_value = 'Remote - Active')"
   ]
  },
  {
   "cell_type": "code",
   "execution_count": null,
   "metadata": {},
   "outputs": [],
   "source": [
    "[key for key in db.keys() if 'geo' in key]"
   ]
  },
  {
   "cell_type": "code",
   "execution_count": null,
   "metadata": {},
   "outputs": [],
   "source": [
    "# errors = validate.foriegn_keys(db, \n",
    "#                                 data_table='instrument-to-geophysical_concept', \n",
    "#                                 data_index='instrument', \n",
    "#                                 data_column='geophysical_concept', \n",
    "#                                 foriegn_table='geophysical_concept', \n",
    "#                                 foriegn_column='short_name')\n",
    "# errors"
   ]
  },
  {
   "cell_type": "code",
   "execution_count": null,
   "metadata": {},
   "outputs": [],
   "source": [
    "errors = validate.foriegn_keys(db, \n",
    "                                data_table='instrument-to-repository', \n",
    "                                data_index='instrument', \n",
    "                                data_column='repository', \n",
    "                                foriegn_table='repository', \n",
    "                                foriegn_column='short_name')\n",
    "errors"
   ]
  },
  {
   "cell_type": "code",
   "execution_count": null,
   "metadata": {},
   "outputs": [],
   "source": [
    "# correct_values(\n",
    "#     db=db,\n",
    "#     table_name = 'instrument-to-repository',\n",
    "#     column = 'repository',\n",
    "#     wrong_value = 'ORNL',\n",
    "#     correct_value = 'OB.DAAC')"
   ]
  },
  {
   "cell_type": "code",
   "execution_count": null,
   "metadata": {},
   "outputs": [],
   "source": [
    "errors = validate.foriegn_keys(db, \n",
    "                                data_table='instrument-to-measurement_region', \n",
    "                                data_index='instrument', \n",
    "                                data_column='measurement_region', \n",
    "                                foriegn_table='measurement_region', \n",
    "                                foriegn_column='short_name')\n",
    "errors"
   ]
  },
  {
   "cell_type": "code",
   "execution_count": null,
   "metadata": {},
   "outputs": [],
   "source": [
    "# correct_values(\n",
    "#     db=db,\n",
    "#     table_name = 'instrument-to-measurement_region',\n",
    "#     column = 'measurement_region',\n",
    "#     wrong_value = 'Troposphere',\n",
    "#     correct_value = 'mid-troposphere')\n",
    "# correct_values(\n",
    "#     db=db,\n",
    "#     table_name = 'instrument-to-measurement_region',\n",
    "#     column = 'measurement_region',\n",
    "#     wrong_value = 'troposphere',\n",
    "#     correct_value = 'mid-troposphere')\n",
    "# correct_values(\n",
    "#     db=db,\n",
    "#     table_name = 'instrument-to-measurement_region',\n",
    "#     column = 'measurement_region',\n",
    "#     wrong_value = 'subsurface',\n",
    "#     correct_value = 'subsurface - water')"
   ]
  },
  {
   "cell_type": "code",
   "execution_count": null,
   "metadata": {},
   "outputs": [],
   "source": [
    "# db['instrument-to-measurement_region'][db['instrument-to-measurement_region']['measurement_region']=='subsurface - water']"
   ]
  },
  {
   "cell_type": "code",
   "execution_count": null,
   "metadata": {},
   "outputs": [],
   "source": [
    "errors = validate.foriegn_keys(db, \n",
    "                                data_table='deployment-to-geographical_region', \n",
    "                                data_index='deployment', \n",
    "                                data_column='geographical_region', \n",
    "                                foriegn_table='geographical_region', \n",
    "                                foriegn_column='short_name')\n",
    "errors"
   ]
  },
  {
   "cell_type": "code",
   "execution_count": null,
   "metadata": {},
   "outputs": [],
   "source": [
    "# correct_values(\n",
    "#     db=db,\n",
    "#     table_name = 'deployment-to-geographical_region',\n",
    "#     column = 'geographical_region',\n",
    "#     wrong_value = '',\n",
    "#     correct_value = 'continental')"
   ]
  },
  {
   "cell_type": "code",
   "execution_count": null,
   "metadata": {
    "scrolled": true
   },
   "outputs": [],
   "source": [
    "# errors = validate.foriegn_keys(db, \n",
    "#                                 data_table='deployment-to-platform', \n",
    "#                                 data_index='deployment', \n",
    "#                                 data_column='platform', \n",
    "#                                 foriegn_table='platform', \n",
    "#                                 foriegn_column='short_name')\n",
    "# print('\\n\\ndo I really need to validate this?')\n",
    "# errors"
   ]
  },
  {
   "cell_type": "code",
   "execution_count": null,
   "metadata": {
    "scrolled": true
   },
   "outputs": [],
   "source": [
    "errors = validate.foriegn_keys(db, \n",
    "                                data_table='deployment', \n",
    "                                data_index='short_name', \n",
    "                                data_column='foreign-campaign-short_name', \n",
    "                                foriegn_table='campaign', \n",
    "                                foriegn_column='short_name')\n",
    "print('\\n\\n TODO this better once you have the data')\n",
    "errors"
   ]
  },
  {
   "cell_type": "code",
   "execution_count": null,
   "metadata": {
    "scrolled": true
   },
   "outputs": [],
   "source": [
    "errors = validate.foriegn_keys(db, \n",
    "                                data_table='platform', \n",
    "                                data_index='short_name', \n",
    "                                data_column='foreign-platform_type-short_name', \n",
    "                                foriegn_table='platform_type', \n",
    "                                foriegn_column='short_name')\n",
    "errors"
   ]
  },
  {
   "cell_type": "code",
   "execution_count": null,
   "metadata": {
    "scrolled": true
   },
   "outputs": [],
   "source": [
    "errors = validate.foriegn_keys(db, \n",
    "                                data_table='platform-to-gcmd_platform', \n",
    "                                data_index='platform', \n",
    "                                data_column='gcmd_platform', \n",
    "                                foriegn_table='gcmd_platform', \n",
    "                                foriegn_column='gcmd_uuid')\n",
    "errors"
   ]
  },
  {
   "cell_type": "code",
   "execution_count": null,
   "metadata": {
    "scrolled": true
   },
   "outputs": [],
   "source": [
    "errors = validate.foriegn_keys(db, \n",
    "                                data_table='iop', \n",
    "                                data_index='short_name', \n",
    "                                data_column='foreign-deployment-short_name', \n",
    "                                foriegn_table='deployment', \n",
    "                                foriegn_column='short_name')\n",
    "errors"
   ]
  },
  {
   "cell_type": "code",
   "execution_count": null,
   "metadata": {},
   "outputs": [],
   "source": [
    "# correct_values(\n",
    "#     db=db,\n",
    "#     table_name = 'iop',\n",
    "#     column = 'foreign-deployment-short_name',\n",
    "#     wrong_value = 'AirMOSS_deb_2014b',\n",
    "#     correct_value = 'AirMOSS_dep_2014b')"
   ]
  },
  {
   "cell_type": "code",
   "execution_count": null,
   "metadata": {},
   "outputs": [],
   "source": [
    "errors = validate.foriegn_keys(db, \n",
    "                                data_table='significant_event', \n",
    "                                data_index='short_name', \n",
    "                                data_column='foreign-deployment-short_name', \n",
    "                                foriegn_table='deployment', \n",
    "                                foriegn_column='short_name')\n",
    "errors"
   ]
  },
  {
   "cell_type": "markdown",
   "metadata": {},
   "source": [
    "### Flight"
   ]
  },
  {
   "cell_type": "code",
   "execution_count": null,
   "metadata": {
    "scrolled": false
   },
   "outputs": [],
   "source": [
    "# flight table, instruments\n",
    "\n",
    "errors = validate.foriegn_keys(db, \n",
    "                               data_table='collection_period', \n",
    "                              data_index='foreign-campaign-short_name', \n",
    "                              data_column='instrument', \n",
    "                              foriegn_table='instrument', \n",
    "                              foriegn_column='short_name')\n",
    "errors"
   ]
  },
  {
   "cell_type": "code",
   "execution_count": null,
   "metadata": {},
   "outputs": [],
   "source": [
    "# run with caution, removes all errors indescriminately\n",
    "\n",
    "db['collection_period'].drop(list(errors.index), inplace=True)"
   ]
  },
  {
   "cell_type": "code",
   "execution_count": null,
   "metadata": {},
   "outputs": [],
   "source": [
    "# db['collection_period']=db['collection_period'][db['collection_period']['instrument']!='NAWX radar']"
   ]
  },
  {
   "cell_type": "code",
   "execution_count": null,
   "metadata": {
    "scrolled": true
   },
   "outputs": [],
   "source": [
    "# Flight table, platforms\n",
    "\n",
    "errors = validate.foriegn_keys(db, \n",
    "                      data_table='collection_period', \n",
    "                      data_index='foreign-campaign-short_name', \n",
    "                      data_column='foreign-platform-short_name', \n",
    "                      foriegn_table='platform', \n",
    "                      foriegn_column='short_name')\n",
    "errors"
   ]
  },
  {
   "cell_type": "code",
   "execution_count": null,
   "metadata": {},
   "outputs": [],
   "source": [
    "# correct_values(\n",
    "#     db=db,\n",
    "#     table_name = 'collection_period',\n",
    "#     column = 'foreign-platform-short_name',\n",
    "#     wrong_value = 'UND Citation II',\n",
    "#     correct_value = 'Citation')\n",
    "# db['collection_period']=db['collection_period'][db['collection_period']['foreign-platform-short_name']!='Field_Site']"
   ]
  },
  {
   "cell_type": "code",
   "execution_count": null,
   "metadata": {
    "scrolled": true
   },
   "outputs": [],
   "source": [
    "# I think to ignore this???\n",
    "\n",
    "errors = validate.foriegn_keys(db, \n",
    "                      data_table='collection_period', \n",
    "                      data_index='foreign-campaign-short_name', \n",
    "                      data_column='short_name',#'foreign-deployment-short_name', \n",
    "                      foriegn_table='deployment', \n",
    "                      foriegn_column='short_name')\n",
    "errors"
   ]
  },
  {
   "cell_type": "code",
   "execution_count": null,
   "metadata": {},
   "outputs": [],
   "source": [
    "# correct_values(\n",
    "#     db=db,\n",
    "#     table_name = 'collection_period',\n",
    "#     column = 'short_name',\n",
    "#     wrong_value = 'OLYMPEX_dep_2016',\n",
    "#     correct_value = 'OLYMPEX_dep_2015')\n",
    "\n",
    "# db['collection_period']=db['collection_period'][db['collection_period']['short_name']!='Citation']"
   ]
  },
  {
   "cell_type": "code",
   "execution_count": null,
   "metadata": {},
   "outputs": [],
   "source": []
  },
  {
   "cell_type": "markdown",
   "metadata": {
    "heading_collapsed": true
   },
   "source": [
    "# Dates"
   ]
  },
  {
   "cell_type": "code",
   "execution_count": null,
   "metadata": {
    "hidden": true
   },
   "outputs": [],
   "source": [
    "for table_name in db.keys():\n",
    "    # find tables that have date fields\n",
    "    if len(col_names := [col for col in db[table_name].columns if 'date' in col])>0:\n",
    "        print(f\"{table_name}\\n    {', '.join(col_names)}\")"
   ]
  },
  {
   "cell_type": "code",
   "execution_count": null,
   "metadata": {
    "hidden": true,
    "scrolled": true
   },
   "outputs": [],
   "source": [
    "table_names = ['campaign', 'deployment', 'iopse'] \n",
    "for table_name in table_names:\n",
    "    print(table_name)\n",
    "    db[table_name]['valid_date']=False\n",
    "    \n",
    "    db[table_name]['valid_date'] = db[table_name].apply(lambda row: validate.vali_date(row['start_date'], row['end_date']), axis=1)\n",
    "        "
   ]
  },
  {
   "cell_type": "code",
   "execution_count": null,
   "metadata": {
    "hidden": true,
    "scrolled": true
   },
   "outputs": [],
   "source": [
    "# this field no longer exists?\n",
    "\n",
    "# table_names = ['instrument'] \n",
    "# for table_name in table_names:\n",
    "    \n",
    "#     db[table_name]['valid_date']=False\n",
    "#     db[table_name]['valid_date'] = db[table_name].apply(lambda row: validate.vali_date(row['deployment_date'], row['decommision_date']), axis=1)\n",
    "       "
   ]
  },
  {
   "cell_type": "code",
   "execution_count": null,
   "metadata": {
    "hidden": true,
    "scrolled": true
   },
   "outputs": [],
   "source": [
    "db['campaign'][['short_name','start_date','end_date','valid_date']][db['campaign']['valid_date'].apply(lambda x: not(x))]"
   ]
  },
  {
   "cell_type": "markdown",
   "metadata": {
    "heading_collapsed": true
   },
   "source": [
    "# IOPSE"
   ]
  },
  {
   "cell_type": "code",
   "execution_count": null,
   "metadata": {
    "hidden": true,
    "scrolled": true
   },
   "outputs": [],
   "source": [
    "db['iop']"
   ]
  },
  {
   "cell_type": "code",
   "execution_count": null,
   "metadata": {
    "hidden": true,
    "scrolled": true
   },
   "outputs": [],
   "source": [
    "# validate that all iops are unique, should return an empty list\n",
    "\n",
    "db['iop']['short_name'][db['iop']['short_name'].duplicated()]"
   ]
  },
  {
   "cell_type": "code",
   "execution_count": null,
   "metadata": {
    "hidden": true
   },
   "outputs": [],
   "source": [
    "# if sig event has matching iop, link them\n",
    "\n",
    "# if sig event doesn't have matching iop, delete it so there will be no foriegn key"
   ]
  },
  {
   "cell_type": "code",
   "execution_count": null,
   "metadata": {
    "hidden": true,
    "scrolled": true
   },
   "outputs": [],
   "source": [
    "# tag significant events that have IOPs\n",
    "\n",
    "db['significant_event']['has_iop'] = db['significant_event']['iop_short_name'].apply(lambda short_name: short_name in list(db['iop']['iop_short_name']))\n"
   ]
  },
  {
   "cell_type": "code",
   "execution_count": null,
   "metadata": {
    "hidden": true,
    "scrolled": true
   },
   "outputs": [],
   "source": [
    "# # check that all significant events with an iop have an iop\n",
    "\n",
    "# s_i = set(db['iop']['iop_short_name'])\n",
    "# s_s = set(has_iop['iop_short_name'])\n",
    "# [s for s in s_s if s not in s_i]"
   ]
  },
  {
   "cell_type": "code",
   "execution_count": null,
   "metadata": {
    "hidden": true
   },
   "outputs": [],
   "source": [
    "from datetime import datetime\n",
    "# sig event start >= iop start\n",
    "\n",
    "def start_val(sig_row, db):\n",
    "    large_date = sig_row['start_date']\n",
    "    small_date = db['iop'][db['iop']['iop_short_name']==sig_row['iop_short_name']]['start_date'].iloc[0]\n",
    "    val = large_date >= small_date\n",
    "    return val\n",
    "\n",
    "def end_val(sig_row, db):\n",
    "    large_date = sig_row['end_date']\n",
    "    small_date = db['iop'][db['iop']['iop_short_name']==sig_row['iop_short_name']]['end_date'].iloc[0]\n",
    "    val = large_date <= small_date\n",
    "    return val\n",
    "\n",
    "has_iop = db['significant_event'][db['significant_event']['has_iop']].copy()\n",
    "val_iop_date_start = has_iop.apply(lambda row: not(start_val(row, db)), axis=1)\n",
    "val_iop_date_end = has_iop.apply(lambda row: not(end_val(row, db)), axis=1)"
   ]
  },
  {
   "cell_type": "code",
   "execution_count": null,
   "metadata": {
    "hidden": true,
    "scrolled": true
   },
   "outputs": [],
   "source": [
    "# display incorrect start dates\n",
    "has_iop[val_iop_date_start]"
   ]
  },
  {
   "cell_type": "code",
   "execution_count": null,
   "metadata": {
    "hidden": true,
    "scrolled": true
   },
   "outputs": [],
   "source": [
    "# display incorrect end dates\n",
    "has_iop[val_iop_date_end]"
   ]
  },
  {
   "cell_type": "markdown",
   "metadata": {},
   "source": [
    "# Filter GCMD Tables"
   ]
  },
  {
   "cell_type": "code",
   "execution_count": null,
   "metadata": {},
   "outputs": [],
   "source": []
  },
  {
   "cell_type": "code",
   "execution_count": null,
   "metadata": {
    "scrolled": true
   },
   "outputs": [],
   "source": [
    "links = list(set(list(db['platform_type']['foreign-platform_type-short_name'])))\n",
    "full = list(db['platform_type']['short_name'])\n",
    "[link for link in links if link not in full]"
   ]
  },
  {
   "cell_type": "code",
   "execution_count": null,
   "metadata": {},
   "outputs": [],
   "source": [
    "db = filter_gcmd_tables(db)"
   ]
  },
  {
   "cell_type": "markdown",
   "metadata": {},
   "source": [
    "### Pickle the Data"
   ]
  },
  {
   "cell_type": "code",
   "execution_count": null,
   "metadata": {},
   "outputs": [],
   "source": [
    "import pickle"
   ]
  },
  {
   "cell_type": "code",
   "execution_count": null,
   "metadata": {},
   "outputs": [],
   "source": [
    "pickle.dump(db, open('ingest_data/db_10_camp','wb'))"
   ]
  },
  {
   "cell_type": "code",
   "execution_count": null,
   "metadata": {},
   "outputs": [],
   "source": []
  },
  {
   "cell_type": "code",
   "execution_count": null,
   "metadata": {},
   "outputs": [],
   "source": []
  },
  {
   "cell_type": "code",
   "execution_count": null,
   "metadata": {},
   "outputs": [],
   "source": [
    "db['campaign']['nasa_led']"
   ]
  },
  {
   "cell_type": "code",
   "execution_count": null,
   "metadata": {},
   "outputs": [],
   "source": [
    "[key for key in db.keys() if 'gcmd' in key]"
   ]
  }
 ],
 "metadata": {
  "kernelspec": {
   "display_name": "Django Shell-Plus",
   "language": "python",
   "name": "django_extensions"
  },
  "language_info": {
   "codemirror_mode": {
    "name": "ipython",
    "version": 3
   },
   "file_extension": ".py",
   "mimetype": "text/x-python",
   "name": "python",
   "nbconvert_exporter": "python",
   "pygments_lexer": "ipython3",
   "version": "3.8.2"
  }
 },
 "nbformat": 4,
 "nbformat_minor": 2
}
