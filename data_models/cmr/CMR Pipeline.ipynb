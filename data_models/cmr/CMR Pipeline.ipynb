{
 "cells": [
  {
   "cell_type": "markdown",
   "metadata": {},
   "source": [
    "# Imports"
   ]
  },
  {
   "cell_type": "code",
   "execution_count": 1,
   "metadata": {},
   "outputs": [],
   "source": [
    "from helper_functions import * \n",
    "from datetime import datetime"
   ]
  },
  {
   "cell_type": "markdown",
   "metadata": {},
   "source": [
    "# User Input"
   ]
  },
  {
   "cell_type": "code",
   "execution_count": 3,
   "metadata": {},
   "outputs": [],
   "source": [
    "short_name='above'\n",
    "dep_start = datetime(2015,1,2)\n",
    "dep_end = datetime(2016,1,1)"
   ]
  },
  {
   "cell_type": "markdown",
   "metadata": {},
   "source": [
    "# Pipeline"
   ]
  },
  {
   "cell_type": "code",
   "execution_count": 4,
   "metadata": {},
   "outputs": [],
   "source": [
    "# initial api query\n",
    "campaign_trees = ingest_campaign(short_name)\n",
    "campaign_metadata = campaign_xlm_json(campaign_trees)"
   ]
  },
  {
   "cell_type": "code",
   "execution_count": 8,
   "metadata": {},
   "outputs": [],
   "source": [
    "# for use in deployment/flight level assignments|\n",
    "filtered_metadata = date_filter(campaign_metadata, dep_start, dep_end)"
   ]
  },
  {
   "cell_type": "code",
   "execution_count": 9,
   "metadata": {},
   "outputs": [],
   "source": [
    "db = {}"
   ]
  },
  {
   "cell_type": "code",
   "execution_count": 13,
   "metadata": {},
   "outputs": [],
   "source": [
    "# ContactPersons\n",
    "# possible contact persons, might be suggested for serveral fields\n",
    "# Campaign.technical_contact\n",
    "# Campaign.project_lead\n",
    "# Campaign.program_lead\n",
    "# Instrument.technical_contact\n",
    "# Instrument.lead_investigator\n",
    "# flight.platform_technical_contact\n",
    "\n",
    "# db['campaign']={}\n",
    "# db['campaign']['contacts']=general_extractor(campaign_metadata, 'ContactPersons')"
   ]
  },
  {
   "cell_type": "code",
   "execution_count": 14,
   "metadata": {},
   "outputs": [],
   "source": [
    "# # Abstract\n",
    "# # could help when writing the description \n",
    "# db['campaign']['description_long']=general_extractor(campaign_metadata, 'Abstract')"
   ]
  },
  {
   "cell_type": "code",
   "execution_count": 15,
   "metadata": {},
   "outputs": [],
   "source": [
    "# DOI\n",
    "# this doesn't have a direct match. Need to ask Stephanie if she wants it\n",
    "dois = general_extractor(campaign_metadata, 'DOI')\n",
    "processed_dois=[item.get('DOI',None) for item in dois]\n",
    "db['campaign']['dois'] = processed_dois"
   ]
  },
  {
   "cell_type": "code",
   "execution_count": 16,
   "metadata": {},
   "outputs": [
    {
     "data": {
      "text/plain": [
       "['10.3334/ORNLDAAC/1617',\n",
       " '10.5067/TLOIRQYWX00H',\n",
       " '10.5067/4O5WY1ORYWK2',\n",
       " '10.5067/UMRAWS57QAFU',\n",
       " '10.5067/IA5WAX7K3YGY',\n",
       " '10.3334/ORNLDAAC/1657',\n",
       " '10.3334/ORNLDAAC/1676',\n",
       " '10.3334/ORNLDAAC/1760',\n",
       " '10.3334/ORNLDAAC/1643',\n",
       " '10.3334/ORNLDAAC/1646',\n",
       " '10.3334/ORNLDAAC/1655',\n",
       " '10.3334/ORNLDAAC/1707',\n",
       " '10.3334/ORNLDAAC/1698',\n",
       " '10.3334/ORNLDAAC/1724',\n",
       " '10.3334/ORNLDAAC/1717',\n",
       " '10.3334/ORNLDAAC/1658',\n",
       " '10.3334/ORNLDAAC/1545',\n",
       " '10.3334/ORNLDAAC/1694',\n",
       " '10.3334/ORNLDAAC/1548',\n",
       " '10.3334/ORNLDAAC/1307',\n",
       " '10.3334/ORNLDAAC/1740',\n",
       " '10.3334/ORNLDAAC/1595',\n",
       " '10.3334/ORNLDAAC/1664',\n",
       " '10.3334/ORNLDAAC/1606',\n",
       " '10.3334/ORNLDAAC/1562',\n",
       " '10.3334/ORNLDAAC/1700',\n",
       " '10.3334/ORNLDAAC/1526',\n",
       " '10.3334/ORNLDAAC/1640',\n",
       " '10.3334/ORNLDAAC/1602',\n",
       " '10.3334/ORNLDAAC/1583',\n",
       " '10.3334/ORNLDAAC/1582',\n",
       " '10.3334/ORNLDAAC/1761',\n",
       " '10.3334/ORNLDAAC/1695',\n",
       " '10.3334/ORNLDAAC/1702',\n",
       " '10.3334/ORNLDAAC/1705',\n",
       " '10.3334/ORNLDAAC/1739',\n",
       " '10.3334/ORNLDAAC/1362',\n",
       " '10.3334/ORNLDAAC/1565',\n",
       " '10.3334/ORNLDAAC/1569',\n",
       " '10.3334/ORNLDAAC/1341',\n",
       " '10.3334/ORNLDAAC/1691',\n",
       " '10.3334/ORNLDAAC/1564',\n",
       " '10.3334/ORNLDAAC/1528',\n",
       " '10.3334/ORNLDAAC/1666',\n",
       " '10.3334/ORNLDAAC/1605',\n",
       " '10.3334/ORNLDAAC/1614',\n",
       " '10.3334/ORNLDAAC/1647',\n",
       " '10.3334/ORNLDAAC/1652',\n",
       " '10.3334/ORNLDAAC/1576',\n",
       " '10.3334/ORNLDAAC/1711',\n",
       " '10.3334/ORNLDAAC/1587',\n",
       " '10.3334/ORNLDAAC/1598',\n",
       " '10.3334/ORNLDAAC/1703',\n",
       " '10.3334/ORNLDAAC/1611',\n",
       " '10.3334/ORNLDAAC/1685',\n",
       " '10.3334/ORNLDAAC/1697',\n",
       " '10.3334/ORNLDAAC/1616',\n",
       " '10.3334/ORNLDAAC/1701',\n",
       " '10.3334/ORNLDAAC/1680',\n",
       " '10.3334/ORNLDAAC/1527',\n",
       " '10.3334/ORNLDAAC/1725',\n",
       " '10.3334/ORNLDAAC/1324',\n",
       " '10.3334/ORNLDAAC/1744',\n",
       " '10.3334/ORNLDAAC/1579',\n",
       " '10.3334/ORNLDAAC/1772',\n",
       " '10.3334/ORNLDAAC/1561',\n",
       " '10.3334/ORNLDAAC/1559',\n",
       " '10.3334/ORNLDAAC/1762',\n",
       " '10.3334/ORNLDAAC/1353',\n",
       " '10.3334/ORNLDAAC/1536',\n",
       " '10.3334/ORNLDAAC/1358',\n",
       " '10.3334/ORNLDAAC/1371',\n",
       " '10.3334/ORNLDAAC/1361',\n",
       " '10.3334/ORNLDAAC/1354',\n",
       " '10.3334/ORNLDAAC/1356',\n",
       " '10.3334/ORNLDAAC/1372',\n",
       " '10.3334/ORNLDAAC/1506',\n",
       " '10.3334/ORNLDAAC/1360',\n",
       " '10.3334/ORNLDAAC/1333',\n",
       " '10.3334/ORNLDAAC/1370',\n",
       " '10.3334/ORNLDAAC/1541',\n",
       " '10.3334/ORNLDAAC/1535',\n",
       " '10.3334/ORNLDAAC/1505',\n",
       " '10.3334/ORNLDAAC/1507',\n",
       " '10.3334/ORNLDAAC/1547',\n",
       " '10.3334/ORNLDAAC/1546',\n",
       " '10.3334/ORNLDAAC/1543',\n",
       " '10.3334/ORNLDAAC/1542',\n",
       " '10.3334/ORNLDAAC/1368',\n",
       " '10.3334/ORNLDAAC/1534',\n",
       " '10.3334/ORNLDAAC/1375',\n",
       " '10.3334/ORNLDAAC/1376',\n",
       " '10.3334/ORNLDAAC/1555',\n",
       " '10.3334/ORNLDAAC/1314',\n",
       " '10.3334/ORNLDAAC/1300',\n",
       " '10.3334/ORNLDAAC/1282',\n",
       " '10.3334/ORNLDAAC/1316',\n",
       " '10.3334/ORNLDAAC/1434',\n",
       " '10.3334/ORNLDAAC/1383',\n",
       " '10.3334/ORNLDAAC/1558',\n",
       " '10.3334/ORNLDAAC/1340',\n",
       " '10.3334/ORNLDAAC/1435',\n",
       " '10.3334/ORNLDAAC/1433',\n",
       " '10.3334/ORNLDAAC/1428',\n",
       " '10.3334/ORNLDAAC/1425',\n",
       " '10.3334/ORNLDAAC/1424',\n",
       " '10.3334/ORNLDAAC/1426',\n",
       " '10.3334/ORNLDAAC/1403',\n",
       " '10.3334/ORNLDAAC/1401',\n",
       " '10.3334/ORNLDAAC/1419',\n",
       " '10.3334/ORNLDAAC/1404',\n",
       " '10.3334/ORNLDAAC/1405',\n",
       " '10.3334/ORNLDAAC/1429',\n",
       " '10.3334/ORNLDAAC/1402',\n",
       " '10.3334/ORNLDAAC/1431',\n",
       " '10.3334/ORNLDAAC/1430',\n",
       " '10.3334/ORNLDAAC/1325',\n",
       " '10.3334/ORNLDAAC/1389',\n",
       " '10.3334/ORNLDAAC/1323',\n",
       " '10.3334/ORNLDAAC/1663',\n",
       " '10.3334/ORNLDAAC/1509',\n",
       " '10.3334/ORNLDAAC/1387',\n",
       " '10.3334/ORNLDAAC/1683',\n",
       " '10.3334/ORNLDAAC/1718',\n",
       " '10.3334/ORNLDAAC/1573',\n",
       " '10.3334/ORNLDAAC/1690',\n",
       " 'doi:10.5440/142389',\n",
       " '10.3334/ORNLDAAC/1359',\n",
       " '10.3334/ORNLDAAC/1363',\n",
       " '10.3334/ORNLDAAC/1384',\n",
       " '10.5067/O8UCOA2D6ZE3',\n",
       " '10.5067/W569D47GCOUX',\n",
       " '10.5067/XQJ8PN8FTIDG',\n",
       " '10.5067/VP7J20HJQISD',\n",
       " '10.3334/ORNLDAAC/1385',\n",
       " '10.3334/ORNLDAAC/1378',\n",
       " '10.3334/ORNLDAAC/1380',\n",
       " '10.3334/ORNLDAAC/1386',\n",
       " '10.3334/ORNLDAAC/1365',\n",
       " '10.3334/ORNLDAAC/1355',\n",
       " '10.3334/ORNLDAAC/1544',\n",
       " '10.3334/ORNLDAAC/1265',\n",
       " '10.3334/ORNLDAAC/1678',\n",
       " '10.3334/ORNLDAAC/1571',\n",
       " '10.3334/ORNLDAAC/1266',\n",
       " '10.3334/ORNLDAAC/1267',\n",
       " '10.3334/ORNLDAAC/1656',\n",
       " '10.3334/ORNLDAAC/1692',\n",
       " '10.3334/ORNLDAAC/1667']"
      ]
     },
     "execution_count": 16,
     "metadata": {},
     "output_type": "execute_result"
    }
   ],
   "source": [
    "db['campaign']['dois']"
   ]
  },
  {
   "cell_type": "code",
   "execution_count": 64,
   "metadata": {},
   "outputs": [],
   "source": [
    "# SpatialExtents\n",
    "db['campaign']['spatial_bounds']=general_extractor(campaign_metadata, 'SpatialExtent')\n",
    "# TODO: this needs more processing in the combine_spatial_extents() function "
   ]
  },
  {
   "cell_type": "code",
   "execution_count": 55,
   "metadata": {},
   "outputs": [],
   "source": [
    "# LocationKeywords\n",
    "# this doesn't have a direct match. Need to ask Stephanie if she wants it\n",
    "# otherwise, we can parse these and put them into the campaign.region_description\n",
    "\n",
    "nested_regions = general_extractor(campaign_metadata, 'LocationKeywords')\n",
    "\n",
    "# json.dumps allows us to take the set of the dictionaries\n",
    "# the list comprehension is unpacking the nested entries\n",
    "regions_json = set([json.dumps(region) \n",
    "                 for region_list in nested_regions \n",
    "                     for region in region_list])\n",
    "regions_dict = [json.loads(region) for region in regions]\n",
    "\n",
    "db['campaign']['gcmd_region'] = regions_dict"
   ]
  },
  {
   "cell_type": "code",
   "execution_count": 57,
   "metadata": {},
   "outputs": [],
   "source": [
    "# Platforms\n",
    "db['deployment'] = extract_inst_plat(filtered_metadata)\n",
    "# TODO: maybe make a flight from each platform and assign it instruments?"
   ]
  },
  {
   "cell_type": "code",
   "execution_count": 58,
   "metadata": {
    "scrolled": true
   },
   "outputs": [
    {
     "data": {
      "text/plain": [
       "{'FIELD INVESTIGATION': {'Computer',\n",
       "  'PROBES',\n",
       "  'SOIL SAMPLER',\n",
       "  'VISUAL OBSERVATIONS'},\n",
       " 'G-III': {'P-SAR', 'RADAR', 'UAVSAR'},\n",
       " 'Environmental Modeling': {'Computer'},\n",
       " 'SATELLITES': {'MODIS'},\n",
       " 'SMAP': {'SMAP L-BAND RADAR'},\n",
       " 'B-200': {'AirSWOT', 'CAMERA'},\n",
       " 'LANDSAT': {'DIGITIZER', 'MSS', 'TM'},\n",
       " 'FIELD SURVEYS': {'CAMERAS',\n",
       "  'CLINOMETERS',\n",
       "  'CO2 ANALYZERS',\n",
       "  'Computer',\n",
       "  'GNSS RECEIVER',\n",
       "  'GPS',\n",
       "  'IR CO2 ANALYZER',\n",
       "  'LICOR QUANTUM SENSOR',\n",
       "  'LICOR SOIL GAS CHAMBER',\n",
       "  'MAGNAPROBE',\n",
       "  'NET RADIOMETERS',\n",
       "  'PROBES',\n",
       "  'SOIL DEPTH PROBE',\n",
       "  'SOIL MOISTURE PROBE',\n",
       "  'SOIL SAMPLER',\n",
       "  'SOIL TEMPERATURE PROBE',\n",
       "  'STEEL MEASURING TAPE',\n",
       "  'TEMPERATURE LOGGERS',\n",
       "  'THERMOCOUPLES',\n",
       "  'THERMOMETERS',\n",
       "  'VISUAL OBSERVATIONS'},\n",
       " 'LANDSAT-8': {'OLI', 'TIRS'},\n",
       " 'AQUA': {'AMSR-E', 'MODIS'},\n",
       " 'TERRA': {'MODIS'},\n",
       " 'LABORATORY': {'CARBON ANALYZERS', 'MASS SPECTROMETERS'},\n",
       " 'NOAA POES': {'SSM/I'},\n",
       " 'DMSP': {'AVHRR', 'SSM/I'},\n",
       " 'GROUND STATIONS': {'ANEMOMETERS',\n",
       "  'EDDY CORRELATION DEVICES',\n",
       "  'FLASKS',\n",
       "  'LICOR GAS EXCHANGE SYSTEM',\n",
       "  'THERMOCOUPLES',\n",
       "  'THERMOMETERS',\n",
       "  'WATER LEVEL GAUGES'},\n",
       " 'METEOROLOGICAL STATIONS': {'PYRANOMETERS', 'THERMOMETERS'},\n",
       " 'Aqua': {'AMSR-E', 'MODIS'},\n",
       " 'Terra': {'MODIS'},\n",
       " 'COMPUTERS': {'Computer'},\n",
       " 'AIRCRAFT': {'CAMERAS',\n",
       "  'FLASKS',\n",
       "  'FOURIER TRANSFORM SPECTROMETERS',\n",
       "  'LIDAR',\n",
       "  'VISUAL OBSERVATIONS'},\n",
       " 'GCOM-W1': {'AMSR2'},\n",
       " 'LANDSAT-5': {'TM'},\n",
       " 'LANDSAT-7': {'ETM+'},\n",
       " 'IKONOS': {'Schmidt-Cassegrain Telescope'},\n",
       " 'C-23 Sherpa': {'CAMERA',\n",
       "  'DADS',\n",
       "  'FOURIER TRANSFORM SPECTROMETERS',\n",
       "  'RADIOMETERS',\n",
       "  'VISUAL OBSERVATIONS'},\n",
       " 'MODELS': set(),\n",
       " 'GOSAT': {'TANSO-CAI', 'TANSO-FTS'},\n",
       " 'ADEOS-II': {'AMSR'},\n",
       " 'MERRA-2': {'Computer'}}"
      ]
     },
     "execution_count": 58,
     "metadata": {},
     "output_type": "execute_result"
    }
   ],
   "source": [
    "db['deployment']"
   ]
  },
  {
   "cell_type": "code",
   "execution_count": 59,
   "metadata": {},
   "outputs": [],
   "source": [
    "platforms = {}\n",
    "for data_product in campaign_metadata:\n",
    "\n",
    "    for platform_info in data_product['metadata']['Platforms']:\n",
    "        platform_short = platform_info['ShortName']\n",
    "        platform_long = platform_info['LongNameName']\n",
    "        platform_reference_name = platform_short + '_&_' + platform_long\n",
    "        platforms[platform_reference_name] = platforms.get(platform_reference_name, [])\n",
    "\n",
    "        # many satellites don't have instrument metadata\n",
    "        if 'Instruments' in platform_info.keys():\n",
    "            for instrument_info in platform_info['Instruments']:\n",
    "                instrument_short_name = instrument_info['ShortName']\n",
    "                platforms[platform_short_name].append(instrument_short_name)\n",
    "        else:\n",
    "            pass\n",
    "            # print(f'{platform_short_name} has no instruments')\n",
    "            # print()\n",
    "\n",
    "for platform_name in platforms.keys():\n",
    "    platforms[platform_name] = set(platforms[platform_name])"
   ]
  },
  {
   "cell_type": "code",
   "execution_count": 66,
   "metadata": {
    "scrolled": true
   },
   "outputs": [
    {
     "data": {
      "text/plain": [
       "[{'Type': 'Aircraft',\n",
       "  'ShortName': 'B-200',\n",
       "  'LongName': 'Beechcraft King Air B-200',\n",
       "  'Characteristics': [{'Name': 'AircraftID',\n",
       "    'Description': 'The identifier of the airplane used by the FAA to uniquely identify each aircraft',\n",
       "    'Value': 'N529NA',\n",
       "    'Unit': 'Not Applicable',\n",
       "    'DataType': 'STRING'}],\n",
       "  'Instruments': [{'ShortName': 'LVIS',\n",
       "    'LongName': 'Land, Vegetation, and Ice Sensor',\n",
       "    'Technique': 'instrument',\n",
       "    'NumberOfInstruments': 1,\n",
       "    'ComposedOf': [{'ShortName': 'LVIS',\n",
       "      'LongName': 'Land, Vegetation, and Ice Sensor'}]}]},\n",
       " {'Type': 'Aircraft',\n",
       "  'ShortName': 'C-130',\n",
       "  'LongName': 'Cessna 130',\n",
       "  'Characteristics': [{'Name': 'AircraftID',\n",
       "    'Description': 'The identifier of the airplane used by the FAA to uniquely identify each aircraft',\n",
       "    'Value': 'N439NA',\n",
       "    'Unit': 'Not Applicable',\n",
       "    'DataType': 'STRING'}],\n",
       "  'Instruments': [{'ShortName': 'LVIS',\n",
       "    'LongName': 'Land, Vegetation, and Ice Sensor',\n",
       "    'Technique': 'instrument',\n",
       "    'NumberOfInstruments': 1,\n",
       "    'ComposedOf': [{'ShortName': 'LVIS',\n",
       "      'LongName': 'Land, Vegetation, and Ice Sensor'}]}]},\n",
       " {'Type': 'Aircraft',\n",
       "  'ShortName': 'DC-8',\n",
       "  'LongName': 'Douglas DC-8',\n",
       "  'Characteristics': [{'Name': 'AircraftID',\n",
       "    'Description': 'The identifier of the airplane used by the FAA to uniquely identify each aircraft',\n",
       "    'Value': 'N817NA',\n",
       "    'Unit': 'Not Applicable',\n",
       "    'DataType': 'STRING'}],\n",
       "  'Instruments': [{'ShortName': 'LVIS',\n",
       "    'LongName': 'Land, Vegetation, and Ice Sensor',\n",
       "    'Technique': 'instrument',\n",
       "    'NumberOfInstruments': 1,\n",
       "    'ComposedOf': [{'ShortName': 'LVIS',\n",
       "      'LongName': 'Land, Vegetation, and Ice Sensor'}]}]},\n",
       " {'Type': 'Aircraft',\n",
       "  'ShortName': 'G-V',\n",
       "  'LongName': 'Gulfstream V',\n",
       "  'Characteristics': [{'Name': 'AircraftID',\n",
       "    'Description': 'The identifier of the airplane used by the FAA to uniquely identify each aircraft',\n",
       "    'Value': 'N677F',\n",
       "    'Unit': 'Not Applicable',\n",
       "    'DataType': 'STRING'}],\n",
       "  'Instruments': [{'ShortName': 'LVIS',\n",
       "    'LongName': 'Land, Vegetation, and Ice Sensor',\n",
       "    'Technique': 'instrument',\n",
       "    'NumberOfInstruments': 1,\n",
       "    'ComposedOf': [{'ShortName': 'LVIS',\n",
       "      'LongName': 'Land, Vegetation, and Ice Sensor'}]}]},\n",
       " {'Type': 'Aircraft',\n",
       "  'ShortName': 'HU-25C',\n",
       "  'LongName': 'Dassault HU-25C Guardian ',\n",
       "  'Characteristics': [{'Name': 'AircraftID',\n",
       "    'Description': 'The identifier of the airplane used by the FAA to uniquely identify each aircraft',\n",
       "    'Value': 'N525NA',\n",
       "    'Unit': 'Not Applicable',\n",
       "    'DataType': 'STRING'}],\n",
       "  'Instruments': [{'ShortName': 'LVIS',\n",
       "    'LongName': 'Land, Vegetation, and Ice Sensor',\n",
       "    'Technique': 'instrument',\n",
       "    'NumberOfInstruments': 1,\n",
       "    'ComposedOf': [{'ShortName': 'LVIS',\n",
       "      'LongName': 'Land, Vegetation, and Ice Sensor'}]},\n",
       "   {'ShortName': 'LVIS Camera',\n",
       "    'LongName': 'Digital Mapping Camera paired with LVIS',\n",
       "    'Technique': 'instrument',\n",
       "    'NumberOfInstruments': 1,\n",
       "    'ComposedOf': [{'ShortName': 'LVIS Camera',\n",
       "      'LongName': 'Digital Mapping Camera paired with LVIS'}]}]},\n",
       " {'Type': 'Aircraft',\n",
       "  'ShortName': 'P-3B',\n",
       "  'LongName': 'Lockheed P-3B Orion',\n",
       "  'Characteristics': [{'Name': 'AircraftID',\n",
       "    'Description': 'The identifier of the airplane used by the FAA to uniquely identify each aircraft',\n",
       "    'Value': 'N426NA',\n",
       "    'Unit': 'Not Applicable',\n",
       "    'DataType': 'STRING'}],\n",
       "  'Instruments': [{'ShortName': 'LVIS',\n",
       "    'LongName': 'Land, Vegetation, and Ice Sensor',\n",
       "    'Technique': 'instrument',\n",
       "    'NumberOfInstruments': 1,\n",
       "    'ComposedOf': [{'ShortName': 'LVIS',\n",
       "      'LongName': 'Land, Vegetation, and Ice Sensor'}]}]},\n",
       " {'Type': 'Aircraft',\n",
       "  'ShortName': 'RQ-4',\n",
       "  'LongName': 'Northrop Grumman RQ-4 Global Hawk',\n",
       "  'Instruments': [{'ShortName': 'LVIS',\n",
       "    'LongName': 'Land, Vegetation, and Ice Sensor',\n",
       "    'Technique': 'instrument',\n",
       "    'NumberOfInstruments': 1,\n",
       "    'ComposedOf': [{'ShortName': 'LVIS',\n",
       "      'LongName': 'Land, Vegetation, and Ice Sensor'}]}]}]"
      ]
     },
     "execution_count": 66,
     "metadata": {},
     "output_type": "execute_result"
    }
   ],
   "source": [
    "campaign_metadata[1]['metadata']['Platforms']"
   ]
  },
  {
   "cell_type": "code",
   "execution_count": 79,
   "metadata": {},
   "outputs": [
    {
     "data": {
      "text/plain": [
       "1.7777777777777777"
      ]
     },
     "execution_count": 79,
     "metadata": {},
     "output_type": "execute_result"
    }
   ],
   "source": [
    "(2560*1440)/(1080*1920)"
   ]
  },
  {
   "cell_type": "code",
   "execution_count": 77,
   "metadata": {},
   "outputs": [
    {
     "data": {
      "text/plain": [
       "4.0"
      ]
     },
     "execution_count": 77,
     "metadata": {},
     "output_type": "execute_result"
    }
   ],
   "source": [
    "(3840*2160)/(1080*1920)"
   ]
  },
  {
   "cell_type": "code",
   "execution_count": 71,
   "metadata": {},
   "outputs": [
    {
     "data": {
      "text/plain": [
       "4.0"
      ]
     },
     "execution_count": 71,
     "metadata": {},
     "output_type": "execute_result"
    }
   ],
   "source": []
  },
  {
   "cell_type": "code",
   "execution_count": null,
   "metadata": {},
   "outputs": [],
   "source": []
  },
  {
   "cell_type": "code",
   "execution_count": null,
   "metadata": {},
   "outputs": [],
   "source": [
    "# CollectionCitations\n",
    "citations = general_extractor(campaign_metadata, 'CollectionCitations')\n",
    "db['campaign']['publications']=[\n",
    "    citation \n",
    "        for citation_list in citations\n",
    "            for citation in citation_list \n",
    "                if citation.get('Title')\n",
    "]\n",
    "# this has more information in it than we currently track for campaign.publications...\n",
    "# maybe we can add some more granularity to that field?"
   ]
  },
  {
   "cell_type": "code",
   "execution_count": null,
   "metadata": {},
   "outputs": [],
   "source": [
    "# ScienceKeywords\n",
    "db['campaign']['gcmd_phenomena']=general_extractor(campaign_metadata, 'ScienceKeywords')"
   ]
  },
  {
   "cell_type": "code",
   "execution_count": null,
   "metadata": {},
   "outputs": [],
   "source": [
    "# RelatedUrls\n",
    "db['campaign']['other_resources']=general_extractor(campaign_metadata, 'RelatedUrls')\n",
    "# this contains a 'Description' of the resource as well as the 'URL'\n",
    "# perhaps we should implement an other_resource description in our db?"
   ]
  },
  {
   "cell_type": "code",
   "execution_count": null,
   "metadata": {},
   "outputs": [],
   "source": [
    "# DataCenters\n",
    "# There are multiple DAAC roles, ARCHIVER, DISTRIBUTOR, PROCESSOR, ORIGINATOR.\n",
    "# Which ones do we care about\n",
    "\n",
    "role_filter=['ARCHIVER', 'DISTRIBUTOR', 'PROCESSOR', 'ORIGINATOR']\n",
    "\n",
    "mega_daac_list=general_extractor(campaign_metadata, 'DataCenters')\n",
    "db['campaign']['repositories']=[\n",
    "    daac['ShortName']\n",
    "        for daac_list in mega_daac_list\n",
    "             for daac in daac_list\n",
    "                 if daac['Roles'][0] in role_filter\n",
    "        ]"
   ]
  },
  {
   "cell_type": "code",
   "execution_count": null,
   "metadata": {},
   "outputs": [],
   "source": []
  }
 ],
 "metadata": {
  "kernelspec": {
   "display_name": "Python 3",
   "language": "python",
   "name": "python3"
  },
  "language_info": {
   "codemirror_mode": {
    "name": "ipython",
    "version": 3
   },
   "file_extension": ".py",
   "mimetype": "text/x-python",
   "name": "python",
   "nbconvert_exporter": "python",
   "pygments_lexer": "ipython3",
   "version": "3.8.2"
  }
 },
 "nbformat": 4,
 "nbformat_minor": 4
}
