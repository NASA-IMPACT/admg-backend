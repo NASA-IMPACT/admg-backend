{
 "cells": [
  {
   "cell_type": "markdown",
   "metadata": {},
   "source": [
    "## Imports"
   ]
  },
  {
   "cell_type": "code",
   "execution_count": 1,
   "metadata": {},
   "outputs": [],
   "source": [
    "from get_metadata import *"
   ]
  },
  {
   "cell_type": "markdown",
   "metadata": {},
   "source": [
    "## Query Api"
   ]
  },
  {
   "cell_type": "code",
   "execution_count": null,
   "metadata": {},
   "outputs": [],
   "source": [
    "short_name='above'"
   ]
  },
  {
   "cell_type": "code",
   "execution_count": null,
   "metadata": {},
   "outputs": [],
   "source": [
    "campaign_metadata = query_api(short_name)"
   ]
  },
  {
   "cell_type": "markdown",
   "metadata": {},
   "source": [
    "## Extract Data"
   ]
  },
  {
   "cell_type": "code",
   "execution_count": 2,
   "metadata": {},
   "outputs": [],
   "source": [
    "short_name='above'\n",
    "dep_start = datetime(2015,1,2)\n",
    "dep_end = datetime(2016,1,1)"
   ]
  },
  {
   "cell_type": "code",
   "execution_count": 3,
   "metadata": {},
   "outputs": [],
   "source": [
    "db = get_campaign(short_name)"
   ]
  },
  {
   "cell_type": "code",
   "execution_count": null,
   "metadata": {},
   "outputs": [],
   "source": [
    "db['campaign'].keys()"
   ]
  },
  {
   "cell_type": "code",
   "execution_count": 4,
   "metadata": {},
   "outputs": [],
   "source": [
    "db = get_deployment_and_cp(short_name, dep_start, dep_end)"
   ]
  },
  {
   "cell_type": "code",
   "execution_count": null,
   "metadata": {},
   "outputs": [],
   "source": []
  },
  {
   "cell_type": "markdown",
   "metadata": {},
   "source": [
    "## Unused Extractions"
   ]
  },
  {
   "cell_type": "code",
   "execution_count": null,
   "metadata": {},
   "outputs": [],
   "source": [
    "# ContactPersons\n",
    "# possible contact persons, might be suggested for serveral fields\n",
    "# Campaign.technical_contact\n",
    "# Campaign.project_lead\n",
    "# Campaign.program_lead\n",
    "# Instrument.technical_contact\n",
    "# Instrument.lead_investigator\n",
    "# flight.platform_technical_contact\n",
    "\n",
    "\n",
    "# db['campaign']['contacts']=general_extractor(campaign_metadata, 'ContactPersons')"
   ]
  },
  {
   "cell_type": "code",
   "execution_count": null,
   "metadata": {},
   "outputs": [],
   "source": [
    "# # Abstract\n",
    "# # could help when writing the description \n",
    "# db['campaign']['description_long']=general_extractor(campaign_metadata, 'Abstract')"
   ]
  },
  {
   "cell_type": "code",
   "execution_count": null,
   "metadata": {},
   "outputs": [],
   "source": [
    "# DOI\n",
    "# this doesn't have a direct match. Need to ask Stephanie if she wants it\n",
    "dois = general_extractor(campaign_metadata, 'DOI')\n",
    "processed_dois=[item.get('DOI',None) for item in dois]\n",
    "db['campaign']['dois'] = processed_dois"
   ]
  },
  {
   "cell_type": "code",
   "execution_count": null,
   "metadata": {},
   "outputs": [],
   "source": [
    "# CollectionCitations\n",
    "citations = general_extractor(campaign_metadata, 'CollectionCitations')\n",
    "db['campaign']['publications']=[\n",
    "    citation \n",
    "        for citation_list in citations\n",
    "            for citation in citation_list \n",
    "                if citation.get('Title')\n",
    "]\n",
    "# this has more information in it than we currently track for campaign.publications...\n",
    "# maybe we can add some more granularity to that field?"
   ]
  },
  {
   "cell_type": "code",
   "execution_count": null,
   "metadata": {},
   "outputs": [],
   "source": [
    "# RelatedUrls\n",
    "db['campaign']['other_resources']=general_extractor(campaign_metadata, 'RelatedUrls')\n",
    "# this contains a 'Description' of the resource as well as the 'URL'\n",
    "# perhaps we should implement an other_resource description in our db?"
   ]
  },
  {
   "cell_type": "code",
   "execution_count": null,
   "metadata": {},
   "outputs": [],
   "source": []
  }
 ],
 "metadata": {
  "kernelspec": {
   "display_name": "Python 3",
   "language": "python",
   "name": "python3"
  },
  "language_info": {
   "codemirror_mode": {
    "name": "ipython",
    "version": 3
   },
   "file_extension": ".py",
   "mimetype": "text/x-python",
   "name": "python",
   "nbconvert_exporter": "python",
   "pygments_lexer": "ipython3",
   "version": "3.8.2"
  }
 },
 "nbformat": 4,
 "nbformat_minor": 4
}
