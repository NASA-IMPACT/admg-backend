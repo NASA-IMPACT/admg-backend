{
 "cells": [
  {
   "cell_type": "code",
   "execution_count": 1,
   "metadata": {},
   "outputs": [],
   "source": [
    "from helper_functions import * \n",
    "from datetime import datetime"
   ]
  },
  {
   "cell_type": "code",
   "execution_count": 4,
   "metadata": {},
   "outputs": [],
   "source": [
    "def general_extractor(metadata, field):\n",
    "    data = []\n",
    "    for reference in campaign_metadata:\n",
    "        value = reference['metadata'].get(field,'')\n",
    "        if value:\n",
    "            data.append(value)\n",
    "    return data "
   ]
  },
  {
   "cell_type": "markdown",
   "metadata": {},
   "source": [
    "# User Input"
   ]
  },
  {
   "cell_type": "code",
   "execution_count": 2,
   "metadata": {},
   "outputs": [],
   "source": [
    "short_name='above'\n",
    "dep_start = datetime(2015,1,2)\n",
    "dep_end = datetime(2016,1,1)"
   ]
  },
  {
   "cell_type": "markdown",
   "metadata": {},
   "source": [
    "# Pipeline"
   ]
  },
  {
   "cell_type": "code",
   "execution_count": 3,
   "metadata": {},
   "outputs": [],
   "source": [
    "# initial api query\n",
    "\n",
    "campaign_tree = ingest_campaign(short_name)\n",
    "campaign_metadata = campaign_xlm_json(campaign_tree)"
   ]
  },
  {
   "cell_type": "code",
   "execution_count": 20,
   "metadata": {},
   "outputs": [],
   "source": [
    "# for use in deployment/flight level assignments\n",
    "filtered_metadata = date_filter(campaign_metadata, dep_start, dep_end)"
   ]
  },
  {
   "cell_type": "code",
   "execution_count": 6,
   "metadata": {},
   "outputs": [],
   "source": [
    "db = {}"
   ]
  },
  {
   "cell_type": "code",
   "execution_count": 9,
   "metadata": {},
   "outputs": [],
   "source": [
    "# ContactPersons\n",
    "# possible contact persons, might be suggested for serveral fields\n",
    "# Campaign.technical_contact\n",
    "# Campaign.project_lead\n",
    "# Campaign.program_lead\n",
    "# Instrument.technical_contact\n",
    "# Instrument.lead_investigator\n",
    "# flight.platform_technical_contact\n",
    "\n",
    "db['campaign']={}\n",
    "db['campaign']['contacts']=general_extractor(campaign_metadata, 'ContactPersons')"
   ]
  },
  {
   "cell_type": "code",
   "execution_count": 10,
   "metadata": {},
   "outputs": [],
   "source": [
    "# Abstract\n",
    "# could help when writing the description \n",
    "db['campaign']['description_long']=general_extractor(campaign_metadata, 'Abstract')"
   ]
  },
  {
   "cell_type": "code",
   "execution_count": 15,
   "metadata": {},
   "outputs": [],
   "source": [
    "# DOI\n",
    "# this doesn't have a direct match. Need to ask Stephanie if she wants it\n",
    "dois = general_extractor(campaign_metadata, 'DOI')\n",
    "processed_dois=[item.get('DOI',None) for item in dois]\n",
    "db['campaign']['dois'] = processed_dois"
   ]
  },
  {
   "cell_type": "code",
   "execution_count": 16,
   "metadata": {},
   "outputs": [],
   "source": [
    "# SpatialExtents\n",
    "db['campaign']['spatial_bounds']=general_extractor(campaign_metadata, 'SpatialExtents')\n",
    "# TODO: this needs more processing in the combine_spatial_extents() function "
   ]
  },
  {
   "cell_type": "code",
   "execution_count": 18,
   "metadata": {},
   "outputs": [],
   "source": [
    "# LocationKeywords\n",
    "# this doesn't have a direct match. Need to ask Stephanie if she wants it\n",
    "# otherwise, we can parse these and put them into the campaign.region_description\n",
    "db['campaign']['gcmd_region']=general_extractor(campaign_metadata, 'LocationKeywords')\n",
    "# TODO: might need to be processed by extracting the 'Subregion2' "
   ]
  },
  {
   "cell_type": "code",
   "execution_count": 23,
   "metadata": {},
   "outputs": [],
   "source": [
    "# Platforms\n",
    "db['deployment'] = extract_inst_plat(filtered_metadata)\n",
    "# TODO: maybe make a flight from each platform and assign it instruments?"
   ]
  },
  {
   "cell_type": "code",
   "execution_count": 38,
   "metadata": {},
   "outputs": [],
   "source": [
    "# CollectionCitations\n",
    "citations = general_extractor(campaign_metadata, 'CollectionCitations')\n",
    "db['campaign']['publications']=[\n",
    "    citation \n",
    "        for citation_list in citations\n",
    "            for citation in citation_list \n",
    "                if citation.get('Title')\n",
    "]\n",
    "# this has more information in it than we currently track for campaign.publications...\n",
    "# maybe we can add some more granularity to that field?"
   ]
  },
  {
   "cell_type": "code",
   "execution_count": 39,
   "metadata": {},
   "outputs": [],
   "source": [
    "# ScienceKeywords\n",
    "db['campaign']['gcmd_phenomena']=general_extractor(campaign_metadata, 'ScienceKeywords')"
   ]
  },
  {
   "cell_type": "code",
   "execution_count": 40,
   "metadata": {},
   "outputs": [],
   "source": [
    "# RelatedUrls\n",
    "db['campaign']['other_resources']=general_extractor(campaign_metadata, 'RelatedUrls')\n",
    "# this contains a 'Description' of the resource as well as the 'URL'\n",
    "# perhaps we should implement an other_resource description in our db?"
   ]
  },
  {
   "cell_type": "code",
   "execution_count": 63,
   "metadata": {},
   "outputs": [],
   "source": [
    "# DataCenters\n",
    "# There are multiple DAAC roles, ARCHIVER, DISTRIBUTOR, PROCESSOR, ORIGINATOR.\n",
    "# Which ones do we care about\n",
    "\n",
    "role_filter=['ARCHIVER', 'DISTRIBUTOR', 'PROCESSOR', 'ORIGINATOR']\n",
    "\n",
    "mega_daac_list=general_extractor(campaign_metadata, 'DataCenters')\n",
    "db['campaign']['repositories']=[\n",
    "    daac['ShortName']\n",
    "        for daac_list in mega_daac_list\n",
    "             for daac in daac_list\n",
    "                 if daac['Roles'][0] in role_filter\n",
    "        ]"
   ]
  },
  {
   "cell_type": "code",
   "execution_count": null,
   "metadata": {},
   "outputs": [],
   "source": []
  }
 ],
 "metadata": {
  "kernelspec": {
   "display_name": "admg",
   "language": "python",
   "name": "admg"
  },
  "language_info": {
   "codemirror_mode": {
    "name": "ipython",
    "version": 3
   },
   "file_extension": ".py",
   "mimetype": "text/x-python",
   "name": "python",
   "nbconvert_exporter": "python",
   "pygments_lexer": "ipython3",
   "version": "3.8.2"
  }
 },
 "nbformat": 4,
 "nbformat_minor": 4
}
