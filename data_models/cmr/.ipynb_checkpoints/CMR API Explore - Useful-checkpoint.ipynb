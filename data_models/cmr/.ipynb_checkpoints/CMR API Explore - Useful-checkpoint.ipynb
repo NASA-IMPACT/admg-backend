{
 "cells": [
  {
   "cell_type": "code",
   "execution_count": 1,
   "metadata": {},
   "outputs": [],
   "source": [
    "from helper_functions import * \n",
    "from datetime import datetime"
   ]
  },
  {
   "cell_type": "code",
   "execution_count": 2,
   "metadata": {},
   "outputs": [],
   "source": [
    "def extract_all(short_name):\n",
    "    campaign_tree = ingest_campaign(short_name)\n",
    "    campaign_metadata = campaign_xlm_json(campaign_tree)\n",
    "    data = extract_inst_plat(campaign_metadata)\n",
    "    return data"
   ]
  },
  {
   "cell_type": "code",
   "execution_count": 3,
   "metadata": {},
   "outputs": [],
   "source": [
    "short_name='above'\n",
    "campaign_tree = ingest_campaign(short_name)\n",
    "campaign_metadata = campaign_xlm_json(campaign_tree)\n",
    "data = extract_inst_plat(campaign_metadata)"
   ]
  },
  {
   "cell_type": "code",
   "execution_count": 4,
   "metadata": {},
   "outputs": [],
   "source": [
    "dep_start = datetime(2015,1,2)\n",
    "dep_end = datetime(2016,1,1)"
   ]
  },
  {
   "cell_type": "code",
   "execution_count": 5,
   "metadata": {},
   "outputs": [],
   "source": [
    "filtered_metadata=date_filter(campaign_metadata, dep_start, dep_end)"
   ]
  },
  {
   "cell_type": "code",
   "execution_count": 6,
   "metadata": {},
   "outputs": [
    {
     "ename": "AssertionError",
     "evalue": "",
     "output_type": "error",
     "traceback": [
      "\u001b[0;31m---------------------------------------------------------------------------\u001b[0m",
      "\u001b[0;31mAssertionError\u001b[0m                            Traceback (most recent call last)",
      "\u001b[0;32m<ipython-input-6-f713bcb04ffc>\u001b[0m in \u001b[0;36m<module>\u001b[0;34m\u001b[0m\n\u001b[0;32m----> 1\u001b[0;31m \u001b[0;32massert\u001b[0m \u001b[0;36m4\u001b[0m\u001b[0;34m==\u001b[0m\u001b[0;36m5\u001b[0m\u001b[0;34m\u001b[0m\u001b[0;34m\u001b[0m\u001b[0m\n\u001b[0m",
      "\u001b[0;31mAssertionError\u001b[0m: "
     ]
    }
   ],
   "source": [
    "assert 4==5"
   ]
  },
  {
   "cell_type": "markdown",
   "metadata": {},
   "source": [
    "## Dates"
   ]
  },
  {
   "cell_type": "code",
   "execution_count": null,
   "metadata": {
    "scrolled": true
   },
   "outputs": [],
   "source": [
    "# need to understand the difference before using these\n",
    "\n",
    "for reference in campaign_metadata:\n",
    "    TemporalExtents = reference['metadata'].get('TemporalExtents','')\n",
    "    DataDates = reference['metadata'].get('DataDates','')\n",
    "    MetadataDates = reference['metadata'].get('MetadataDates','')\n",
    "\n",
    "    print(f'{TemporalExtents=}')\n",
    "    print(f'{DataDates=}')\n",
    "    print(f'{MetadataDates=}')\n",
    "    print()"
   ]
  },
  {
   "cell_type": "markdown",
   "metadata": {},
   "source": [
    "## Contact Persons"
   ]
  },
  {
   "cell_type": "code",
   "execution_count": null,
   "metadata": {},
   "outputs": [],
   "source": [
    "# \n",
    "field = 'ContactPersons'\n",
    "data = []\n",
    "for reference in campaign_metadata:\n",
    "    value = reference['metadata'].get(field,'')\n",
    "    if value:\n",
    "        data.append(value)\n",
    "data"
   ]
  },
  {
   "cell_type": "markdown",
   "metadata": {},
   "source": [
    "## Abstract"
   ]
  },
  {
   "cell_type": "code",
   "execution_count": null,
   "metadata": {
    "scrolled": true
   },
   "outputs": [],
   "source": [
    "# \n",
    "field = 'Abstract'\n",
    "data = []\n",
    "for reference in campaign_metadata:\n",
    "    value = reference['metadata'].get(field,'')\n",
    "    if value:\n",
    "        data.append(value)\n",
    "data"
   ]
  },
  {
   "cell_type": "markdown",
   "metadata": {},
   "source": [
    "## DOI"
   ]
  },
  {
   "cell_type": "code",
   "execution_count": null,
   "metadata": {},
   "outputs": [],
   "source": [
    "# \n",
    "field = 'DOI'\n",
    "data = []\n",
    "for reference in campaign_metadata:\n",
    "    value = reference['metadata'].get(field,'')\n",
    "    if value:\n",
    "        data.append(value)\n",
    "data"
   ]
  },
  {
   "cell_type": "markdown",
   "metadata": {},
   "source": [
    "## SpatialExtent"
   ]
  },
  {
   "cell_type": "code",
   "execution_count": null,
   "metadata": {},
   "outputs": [],
   "source": [
    "# \n",
    "field = 'SpatialExtent'\n",
    "data = []\n",
    "for reference in campaign_metadata:\n",
    "    value = reference['metadata'].get(field,'')\n",
    "    if value:\n",
    "        data.append(value)\n",
    "data"
   ]
  },
  {
   "cell_type": "markdown",
   "metadata": {},
   "source": [
    "## Projects"
   ]
  },
  {
   "cell_type": "code",
   "execution_count": null,
   "metadata": {},
   "outputs": [],
   "source": [
    "# \n",
    "field = 'Projects'\n",
    "data = []\n",
    "for reference in campaign_metadata:\n",
    "    value = reference['metadata'].get(field,'')\n",
    "    if value:\n",
    "        data.append(value)\n",
    "    if value[0]['ShortName']=='San Andreas Fault, CA':\n",
    "        marg = reference\n",
    "data"
   ]
  },
  {
   "cell_type": "code",
   "execution_count": null,
   "metadata": {},
   "outputs": [],
   "source": [
    "marg"
   ]
  },
  {
   "cell_type": "markdown",
   "metadata": {},
   "source": [
    "## Reference Names"
   ]
  },
  {
   "cell_type": "markdown",
   "metadata": {},
   "source": [
    "ShortName"
   ]
  },
  {
   "cell_type": "code",
   "execution_count": null,
   "metadata": {},
   "outputs": [],
   "source": [
    "# \n",
    "field = 'ShortName'\n",
    "data = []\n",
    "for reference in campaign_metadata:\n",
    "    value = reference['metadata'].get(field,'')\n",
    "    if value:\n",
    "        data.append(value)\n",
    "data"
   ]
  },
  {
   "cell_type": "markdown",
   "metadata": {},
   "source": [
    "EntryTitle"
   ]
  },
  {
   "cell_type": "code",
   "execution_count": null,
   "metadata": {},
   "outputs": [],
   "source": [
    "# \n",
    "field = 'EntryTitle'\n",
    "data = []\n",
    "for reference in campaign_metadata:\n",
    "    value = reference['metadata'].get(field,'')\n",
    "    if value:\n",
    "        data.append(value)\n",
    "data"
   ]
  },
  {
   "cell_type": "markdown",
   "metadata": {},
   "source": [
    "## LocationKeywords"
   ]
  },
  {
   "cell_type": "code",
   "execution_count": null,
   "metadata": {},
   "outputs": [],
   "source": [
    "# \n",
    "field = 'LocationKeywords'\n",
    "data = []\n",
    "for reference in campaign_metadata:\n",
    "    value = reference['metadata'].get(field,'')\n",
    "    if value:\n",
    "        data.append(value)\n",
    "data"
   ]
  },
  {
   "cell_type": "markdown",
   "metadata": {},
   "source": [
    "## Platforms and Instruments"
   ]
  },
  {
   "cell_type": "code",
   "execution_count": null,
   "metadata": {},
   "outputs": [],
   "source": [
    "# \n",
    "field = 'Platforms'\n",
    "data = []\n",
    "for reference in campaign_metadata:\n",
    "    value = reference['metadata'].get(field,'')\n",
    "    if value:\n",
    "        data.append(value)\n",
    "data"
   ]
  },
  {
   "cell_type": "markdown",
   "metadata": {},
   "source": [
    "## CollectionCitations"
   ]
  },
  {
   "cell_type": "code",
   "execution_count": null,
   "metadata": {},
   "outputs": [],
   "source": [
    "# \n",
    "field = 'CollectionCitations'\n",
    "data = []\n",
    "for reference in campaign_metadata:\n",
    "    value = reference['metadata'].get(field,'')\n",
    "    if value:\n",
    "        data.append(value)\n",
    "data"
   ]
  },
  {
   "cell_type": "markdown",
   "metadata": {},
   "source": [
    "## ScienceKeywords"
   ]
  },
  {
   "cell_type": "code",
   "execution_count": null,
   "metadata": {},
   "outputs": [],
   "source": [
    "# \n",
    "field = 'ScienceKeywords'\n",
    "data = []\n",
    "for reference in campaign_metadata:\n",
    "    value = reference['metadata'].get(field,'')\n",
    "    if value:\n",
    "        data.append(value)\n",
    "data"
   ]
  },
  {
   "cell_type": "markdown",
   "metadata": {},
   "source": [
    "## AdditionalAttributes"
   ]
  },
  {
   "cell_type": "code",
   "execution_count": null,
   "metadata": {},
   "outputs": [],
   "source": [
    "# \n",
    "field = 'AdditionalAttributes'\n",
    "data = []\n",
    "for index, reference in enumerate(campaign_metadata):\n",
    "    value = reference['metadata'].get(field,'')\n",
    "    if value:\n",
    "        print(index, value,'\\n')\n",
    "        data.append(value)\n",
    "# data"
   ]
  },
  {
   "cell_type": "markdown",
   "metadata": {},
   "source": [
    "## RelatedUrls"
   ]
  },
  {
   "cell_type": "code",
   "execution_count": null,
   "metadata": {},
   "outputs": [],
   "source": [
    "# \n",
    "field = 'RelatedUrls'\n",
    "data = []\n",
    "for reference in campaign_metadata:\n",
    "    value = reference['metadata'].get(field,'')\n",
    "    if value:\n",
    "        data.append(value)\n",
    "data"
   ]
  },
  {
   "cell_type": "code",
   "execution_count": null,
   "metadata": {},
   "outputs": [],
   "source": []
  },
  {
   "cell_type": "code",
   "execution_count": null,
   "metadata": {},
   "outputs": [],
   "source": [
    "from datetime import datetime\n",
    "from collections import namedtuple"
   ]
  },
  {
   "cell_type": "code",
   "execution_count": null,
   "metadata": {},
   "outputs": [],
   "source": [
    "def date_overlap(cmr_start, cmr_end, dep_start, dep_end):\n",
    "    Range = namedtuple('Range', ['start', 'end'])\n",
    "\n",
    "    cmr_range = Range(start=cmr_start, end=cmr_end,)\n",
    "    cmr_range = Range(start=dep_start, end=dep_end)\n",
    "\n",
    "    latest_start = max(cmr_range.start, cmr_range.start)\n",
    "    earliest_end = min(cmr_range.end, cmr_range.end)\n",
    "\n",
    "    delta = (earliest_end - latest_start).days + 1\n",
    "    overlap = max(0, delta)\n",
    "    \n",
    "    return overlap>0"
   ]
  },
  {
   "cell_type": "code",
   "execution_count": null,
   "metadata": {},
   "outputs": [],
   "source": [
    "date_overlap(\n",
    "    cmr_start=datetime(2012, 1, 15),\n",
    "    cmr_end=datetime(2012, 5, 10),\n",
    "    dep_start=datetime(2012, 3, 20),\n",
    "    dep_end=datetime(2012, 9, 15)\n",
    "    )"
   ]
  },
  {
   "cell_type": "code",
   "execution_count": null,
   "metadata": {},
   "outputs": [],
   "source": [
    "\n",
    "\n",
    "Range = namedtuple('Range', ['start', 'end'])\n",
    "\n",
    "r1 = Range(start=datetime(2012, 1, 15), end=datetime(2012, 5, 10))\n",
    "r2 = Range(start=datetime(2012, 3, 20), end=datetime(2012, 9, 15))\n",
    "latest_start = max(r1.start, r2.start)\n",
    "earliest_end = min(r1.end, r2.end)\n",
    "delta = (earliest_end - latest_start).days + 1\n",
    "overlap = max(0, delta)\n",
    "overlap"
   ]
  },
  {
   "cell_type": "code",
   "execution_count": null,
   "metadata": {},
   "outputs": [],
   "source": [
    "short_name = \n",
    "page_size = 2000\n",
    "# url = f'https://cmr.earthdata.nasa.gov/search/collections?project={short_name}&page_size={page_size}'\n",
    "url = f'https://cmr.earthdata.nasa.gov/search/collections?instrument={short_name}&page_size={page_size}'"
   ]
  }
 ],
 "metadata": {
  "kernelspec": {
   "display_name": "admg",
   "language": "python",
   "name": "admg"
  },
  "language_info": {
   "codemirror_mode": {
    "name": "ipython",
    "version": 3
   },
   "file_extension": ".py",
   "mimetype": "text/x-python",
   "name": "python",
   "nbconvert_exporter": "python",
   "pygments_lexer": "ipython3",
   "version": "3.8.2"
  }
 },
 "nbformat": 4,
 "nbformat_minor": 4
}
