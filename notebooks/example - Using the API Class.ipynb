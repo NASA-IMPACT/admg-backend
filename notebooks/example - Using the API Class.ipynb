{
 "cells": [
  {
   "cell_type": "markdown",
   "metadata": {},
   "source": [
    "## Imports"
   ]
  },
  {
   "cell_type": "code",
   "execution_count": 1,
   "metadata": {},
   "outputs": [],
   "source": [
    "from api import Api"
   ]
  },
  {
   "cell_type": "markdown",
   "metadata": {
    "heading_collapsed": true
   },
   "source": [
    "## Creating, Updating, Deleting"
   ]
  },
  {
   "cell_type": "code",
   "execution_count": 2,
   "metadata": {
    "hidden": true
   },
   "outputs": [],
   "source": [
    "test = Api('test')"
   ]
  },
  {
   "cell_type": "code",
   "execution_count": 3,
   "metadata": {
    "hidden": true,
    "scrolled": false
   },
   "outputs": [
    {
     "data": {
      "text/plain": [
       "17"
      ]
     },
     "execution_count": 3,
     "metadata": {},
     "output_type": "execute_result"
    }
   ],
   "source": [
    "seasons = test.get('season')\n",
    "len(seasons['data'])"
   ]
  },
  {
   "cell_type": "code",
   "execution_count": 4,
   "metadata": {
    "hidden": true
   },
   "outputs": [],
   "source": [
    "fake_season_data = {\n",
    "    'short_name': 'fake_season',\n",
    "    'long_name': 'delete_me_please',\n",
    "    'notes_public': ''\n",
    "}"
   ]
  },
  {
   "cell_type": "code",
   "execution_count": 5,
   "metadata": {
    "hidden": true
   },
   "outputs": [
    {
     "data": {
      "text/plain": [
       "\"the following entry already existed endpoint='season' data={'short_name': 'fake_season', 'long_name': 'delete_me_please', 'notes_public': ''}\""
      ]
     },
     "execution_count": 5,
     "metadata": {},
     "output_type": "execute_result"
    }
   ],
   "source": [
    "test.create('season', fake_season_data)"
   ]
  },
  {
   "cell_type": "code",
   "execution_count": 6,
   "metadata": {
    "hidden": true
   },
   "outputs": [
    {
     "data": {
      "text/plain": [
       "17"
      ]
     },
     "execution_count": 6,
     "metadata": {},
     "output_type": "execute_result"
    }
   ],
   "source": [
    "seasons = test.get('season')\n",
    "len(seasons['data'])"
   ]
  },
  {
   "cell_type": "code",
   "execution_count": 7,
   "metadata": {
    "hidden": true
   },
   "outputs": [
    {
     "name": "stdout",
     "output_type": "stream",
     "text": [
      "{'uuid': '02b037dc-8668-495a-af4a-cc5fd00a7fa4', 'campaigns': [], 'short_name': 'fake_season', 'long_name': 'delete_me_please', 'notes_public': ''}\n"
     ]
    }
   ],
   "source": [
    "new_season = [season for season in seasons['data'] if season['short_name']=='fake_season'][0]\n",
    "print(new_season)\n",
    "fake_uuid = new_season['uuid']"
   ]
  },
  {
   "cell_type": "code",
   "execution_count": 8,
   "metadata": {
    "hidden": true
   },
   "outputs": [],
   "source": [
    "test.update(f'season/{fake_uuid}', {'long_name':'updated_long_name'})"
   ]
  },
  {
   "cell_type": "code",
   "execution_count": 9,
   "metadata": {
    "hidden": true
   },
   "outputs": [
    {
     "data": {
      "text/plain": [
       "{'success': True,\n",
       " 'message': '',\n",
       " 'data': {'uuid': '02b037dc-8668-495a-af4a-cc5fd00a7fa4',\n",
       "  'campaigns': [],\n",
       "  'short_name': 'fake_season',\n",
       "  'long_name': 'updated_long_name',\n",
       "  'notes_public': ''}}"
      ]
     },
     "execution_count": 9,
     "metadata": {},
     "output_type": "execute_result"
    }
   ],
   "source": [
    "test.get(f'season/{fake_uuid}')"
   ]
  },
  {
   "cell_type": "code",
   "execution_count": 10,
   "metadata": {
    "hidden": true
   },
   "outputs": [],
   "source": [
    "test.delete(f'season/{fake_uuid}')"
   ]
  },
  {
   "cell_type": "code",
   "execution_count": 11,
   "metadata": {
    "hidden": true
   },
   "outputs": [
    {
     "data": {
      "text/plain": [
       "16"
      ]
     },
     "execution_count": 11,
     "metadata": {},
     "output_type": "execute_result"
    }
   ],
   "source": [
    "seasons = test.get('season')\n",
    "len(seasons['data'])"
   ]
  },
  {
   "cell_type": "code",
   "execution_count": 12,
   "metadata": {
    "hidden": true,
    "scrolled": true
   },
   "outputs": [
    {
     "data": {
      "text/plain": [
       "{'success': True,\n",
       " 'message': '',\n",
       " 'data': [{'uuid': '08a52557-b7a1-45e6-bdb0-37fb4ba47867',\n",
       "   'campaigns': ['74310c1a-cfc3-44f4-bf47-5e591f570f24',\n",
       "    '441e3b68-62ba-4674-b8e2-5942c75e868d'],\n",
       "   'short_name': 'boreal winter',\n",
       "   'long_name': 'northern hemisphere winter months',\n",
       "   'notes_public': ''},\n",
       "  {'uuid': 'cb862765-ad24-43a7-8550-1c62cbef5a1f',\n",
       "   'campaigns': ['3d42927c-4a55-4bea-9e6f-1d53d870965c',\n",
       "    '928c0f13-543e-4647-84bf-6c5620c77055',\n",
       "    '6912a5fc-e7ee-4d8a-9826-c67ee6a7e100',\n",
       "    'ca30e8ad-6631-42d2-8595-d4733b562657',\n",
       "    '081535a6-8398-4fb7-a0a8-e918bee53c74'],\n",
       "   'short_name': 'boreal spring',\n",
       "   'long_name': 'northern hemisphere spring months',\n",
       "   'notes_public': ''},\n",
       "  {'uuid': 'c9b308b3-e3ba-4e36-9622-4380cdd39eff',\n",
       "   'campaigns': ['3d42927c-4a55-4bea-9e6f-1d53d870965c',\n",
       "    '235ecec0-7314-4ecc-990d-b909b498b636',\n",
       "    '928c0f13-543e-4647-84bf-6c5620c77055',\n",
       "    'b50f89d5-e728-474f-84cc-809a9851fd27',\n",
       "    'ec77afcb-d280-4d77-a4c1-4bb79a5a76d7',\n",
       "    'ca30e8ad-6631-42d2-8595-d4733b562657',\n",
       "    '081535a6-8398-4fb7-a0a8-e918bee53c74'],\n",
       "   'short_name': 'boreal summer',\n",
       "   'long_name': 'northern hemisphere summer months',\n",
       "   'notes_public': ''},\n",
       "  {'uuid': '01ab8adb-d41c-4ba9-9311-507382563440',\n",
       "   'campaigns': ['3d42927c-4a55-4bea-9e6f-1d53d870965c',\n",
       "    'b50f89d5-e728-474f-84cc-809a9851fd27',\n",
       "    'ec77afcb-d280-4d77-a4c1-4bb79a5a76d7',\n",
       "    '081535a6-8398-4fb7-a0a8-e918bee53c74'],\n",
       "   'short_name': 'boreal fall',\n",
       "   'long_name': 'northern hemisphere fall months',\n",
       "   'notes_public': ''},\n",
       "  {'uuid': 'a5efbecc-7e46-4f9d-a669-b76167aa7380',\n",
       "   'campaigns': [],\n",
       "   'short_name': 'austral winter',\n",
       "   'long_name': 'southern hemisphere winter months',\n",
       "   'notes_public': ''},\n",
       "  {'uuid': '42d34cf6-85d9-4660-8f72-7e1efb659404',\n",
       "   'campaigns': [],\n",
       "   'short_name': 'austral spring',\n",
       "   'long_name': 'southern hemisphere spring months',\n",
       "   'notes_public': ''},\n",
       "  {'uuid': '374f9a03-7a9f-4eb2-b327-1ec4ed7d842a',\n",
       "   'campaigns': [],\n",
       "   'short_name': 'austral summer',\n",
       "   'long_name': 'southern hemisphere summer months',\n",
       "   'notes_public': ''},\n",
       "  {'uuid': '153f73a4-0e92-4aac-a538-b1d7a05d2c1f',\n",
       "   'campaigns': [],\n",
       "   'short_name': 'austral fall',\n",
       "   'long_name': 'southern hemisphere fall months',\n",
       "   'notes_public': ''},\n",
       "  {'uuid': 'c4453418-9529-4852-8e36-4b7f4ddc3069',\n",
       "   'campaigns': [],\n",
       "   'short_name': 'monsoon',\n",
       "   'long_name': 'monsoon period',\n",
       "   'notes_public': ''},\n",
       "  {'uuid': 'ba3dfa12-3288-41b5-9ed1-1ecb05865823',\n",
       "   'campaigns': [],\n",
       "   'short_name': 'break',\n",
       "   'long_name': 'non-monsoon period',\n",
       "   'notes_public': ''},\n",
       "  {'uuid': 'fd0d8c67-99de-408c-8fe1-3ada01b68fa1',\n",
       "   'campaigns': [],\n",
       "   'short_name': 'dry',\n",
       "   'long_name': 'dry season months',\n",
       "   'notes_public': ''},\n",
       "  {'uuid': '2364bb1e-8ccb-4f6f-a93b-5d129c9c3bc2',\n",
       "   'campaigns': ['441e3b68-62ba-4674-b8e2-5942c75e868d'],\n",
       "   'short_name': 'wet',\n",
       "   'long_name': 'wet season months',\n",
       "   'notes_public': ''},\n",
       "  {'uuid': '0dd474e4-4621-40d7-9f0e-1b4f146b79ed',\n",
       "   'campaigns': ['235ecec0-7314-4ecc-990d-b909b498b636',\n",
       "    '928c0f13-543e-4647-84bf-6c5620c77055',\n",
       "    '6912a5fc-e7ee-4d8a-9826-c67ee6a7e100',\n",
       "    'ca30e8ad-6631-42d2-8595-d4733b562657'],\n",
       "   'short_name': 'warm',\n",
       "   'long_name': 'warm to hot weather months',\n",
       "   'notes_public': ''},\n",
       "  {'uuid': 'cb5b2413-f3c3-4b12-a4bd-cb66bec9d7f8',\n",
       "   'campaigns': ['441e3b68-62ba-4674-b8e2-5942c75e868d'],\n",
       "   'short_name': 'cold',\n",
       "   'long_name': 'cool to cold weather months',\n",
       "   'notes_public': ''},\n",
       "  {'uuid': '293d446f-7a8b-4ddd-8c84-9f2f82fac6af',\n",
       "   'campaigns': [],\n",
       "   'short_name': 'equatorial',\n",
       "   'long_name': 'equatorial region with no seasonal pattern',\n",
       "   'notes_public': ''},\n",
       "  {'uuid': '4dd6ceca-e6f9-4027-9a1d-febbef3f9f1e',\n",
       "   'campaigns': ['48dd8b25-09a4-492d-9acd-3233afacdcbe'],\n",
       "   'short_name': 'year round',\n",
       "   'long_name': 'study covers all seasons',\n",
       "   'notes_public': ''}]}"
      ]
     },
     "execution_count": 12,
     "metadata": {},
     "output_type": "execute_result"
    }
   ],
   "source": [
    "test.get('season')"
   ]
  },
  {
   "cell_type": "markdown",
   "metadata": {},
   "source": [
    "## DOI Playing"
   ]
  },
  {
   "cell_type": "code",
   "execution_count": 13,
   "metadata": {},
   "outputs": [],
   "source": [
    "local = Api('local')"
   ]
  },
  {
   "cell_type": "code",
   "execution_count": 14,
   "metadata": {},
   "outputs": [],
   "source": [
    "linked_table = 'instrument'\n",
    "linked_uuid = 'e8f5a0de-6f30-45be-ae50-408f4f65267d'\n",
    "doi_data = {'short_name': 'fake_6',\n",
    "            'long_name': 'fake long name'}"
   ]
  },
  {
   "cell_type": "code",
   "execution_count": 15,
   "metadata": {},
   "outputs": [],
   "source": [
    "local.add_link_doi(linked_table, linked_uuid, doi_data)"
   ]
  },
  {
   "cell_type": "code",
   "execution_count": 18,
   "metadata": {},
   "outputs": [
    {
     "data": {
      "text/plain": [
       "{'success': True,\n",
       " 'message': '',\n",
       " 'data': [{'uuid': 'e8f5a0de-6f30-45be-ae50-408f4f65267d',\n",
       "   'platforms': ['07e16aaf-e444-42e4-8133-f9488ae16a3e'],\n",
       "   'campaigns': ['3c53015b-3efa-4585-a748-6b12316f0f91'],\n",
       "   'collection_periods': ['68a28952-d4bc-4073-919e-954fc9920a20'],\n",
       "   'short_name': 'fake',\n",
       "   'long_name': '',\n",
       "   'notes_internal': '',\n",
       "   'notes_public': '',\n",
       "   'description': 'fake',\n",
       "   'lead_investigator': '',\n",
       "   'technical_contact': 'fake',\n",
       "   'facility': '',\n",
       "   'funding_source': '',\n",
       "   'spatial_resolution': 'fake',\n",
       "   'temporal_resolution': 'fake',\n",
       "   'radiometric_frequency': 'fake',\n",
       "   'calibration_information': '',\n",
       "   'instrument_manufacturer': '',\n",
       "   'overview_publication': '',\n",
       "   'online_information': '',\n",
       "   'instrument_doi': '',\n",
       "   'arbitrary_characteristics': None,\n",
       "   'image': None,\n",
       "   'dois': ['70c4d747-1564-4aae-ae19-8a7f241bd39e',\n",
       "    'd70b1f8c-6911-4dbd-ab31-8baa8e72b640'],\n",
       "   'gcmd_instruments': [],\n",
       "   'instrument_types': ['5814b2b2-fcf0-4331-a703-5a9ea8f856ca'],\n",
       "   'gcmd_phenomenas': ['aefe22df-1fea-4b62-9f78-38046b62da66'],\n",
       "   'measurement_regions': ['66e41df3-ffef-4226-be16-3a9d7f421558'],\n",
       "   'repositories': []}]}"
      ]
     },
     "execution_count": 18,
     "metadata": {},
     "output_type": "execute_result"
    }
   ],
   "source": [
    "local.get('instrument')"
   ]
  },
  {
   "cell_type": "code",
   "execution_count": null,
   "metadata": {},
   "outputs": [],
   "source": [
    "local.create('doi', {'short_name':'fake_3'})"
   ]
  },
  {
   "cell_type": "code",
   "execution_count": null,
   "metadata": {},
   "outputs": [],
   "source": [
    "local.create('doi', {'short_name':'fake_7'})"
   ]
  }
 ],
 "metadata": {
  "kernelspec": {
   "display_name": "admg_aws",
   "language": "python",
   "name": "admg_aws"
  },
  "language_info": {
   "codemirror_mode": {
    "name": "ipython",
    "version": 3
   },
   "file_extension": ".py",
   "mimetype": "text/x-python",
   "name": "python",
   "nbconvert_exporter": "python",
   "pygments_lexer": "ipython3",
   "version": "3.8.2"
  }
 },
 "nbformat": 4,
 "nbformat_minor": 4
}
