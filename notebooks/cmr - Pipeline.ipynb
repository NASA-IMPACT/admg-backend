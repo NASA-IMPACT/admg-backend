{
 "cells": [
  {
   "cell_type": "markdown",
   "metadata": {},
   "source": [
    "## Imports"
   ]
  },
  {
   "cell_type": "code",
   "execution_count": 1,
   "metadata": {},
   "outputs": [],
   "source": [
    "# this code allows us to run the internal packages\n",
    "\n",
    "import os\n",
    "import sys\n",
    "\n",
    "parent_directory = os.path.split(os.getcwd())[0]\n",
    "import_path = parent_directory + '/data_models/cmr'\n",
    "\n",
    "if import_path not in sys.path:\n",
    "    sys.path.insert(0, import_path)\n",
    "    \n",
    "from get_metadata import *"
   ]
  },
  {
   "cell_type": "markdown",
   "metadata": {},
   "source": [
    "## Query Api"
   ]
  },
  {
   "cell_type": "code",
   "execution_count": null,
   "metadata": {},
   "outputs": [],
   "source": [
    "short_name='above'"
   ]
  },
  {
   "cell_type": "code",
   "execution_count": null,
   "metadata": {},
   "outputs": [],
   "source": [
    "campaign_metadata = query_api(short_name)"
   ]
  },
  {
   "cell_type": "markdown",
   "metadata": {},
   "source": [
    "## Extract Data"
   ]
  },
  {
   "cell_type": "code",
   "execution_count": 2,
   "metadata": {},
   "outputs": [],
   "source": [
    "short_name='above'\n",
    "dep_start = datetime(2015,1,2)\n",
    "dep_end = datetime(2016,1,1)"
   ]
  },
  {
   "cell_type": "code",
   "execution_count": 3,
   "metadata": {},
   "outputs": [],
   "source": [
    "db = get_campaign(short_name)"
   ]
  },
  {
   "cell_type": "code",
   "execution_count": null,
   "metadata": {},
   "outputs": [],
   "source": [
    "db['campaign'].keys()"
   ]
  },
  {
   "cell_type": "code",
   "execution_count": 4,
   "metadata": {},
   "outputs": [],
   "source": [
    "db = get_deployment_and_cp(short_name, dep_start, dep_end)"
   ]
  },
  {
   "cell_type": "code",
   "execution_count": 11,
   "metadata": {},
   "outputs": [
    {
     "data": {
      "text/plain": [
       "['FIELD INVESTIGATION_&_',\n",
       " 'G-III_&_Gulfstream III',\n",
       " 'Environmental Modeling_&_Soil Characteristics',\n",
       " 'SATELLITES_&_',\n",
       " 'SMAP_&_Soil Moisture Active and Passive Observatory',\n",
       " 'B-200_&_Beechcraft King Air B-200',\n",
       " 'LANDSAT_&_',\n",
       " 'FIELD SURVEYS_&_',\n",
       " 'LANDSAT-8_&_',\n",
       " 'AQUA_&_Earth Observing System, Aqua',\n",
       " 'TERRA_&_Earth Observing System, Terra (AM-1)',\n",
       " 'LABORATORY_&_',\n",
       " 'NOAA POES_&_NOAA Polar Orbiting Environmental Satellites',\n",
       " 'DMSP_&_Defense Meteorological Satellite Program',\n",
       " 'GROUND STATIONS_&_',\n",
       " 'METEOROLOGICAL STATIONS_&_',\n",
       " 'Aqua_&_Earth Observing System, Aqua',\n",
       " 'Terra_&_Earth Observing System, Terra (AM-1)',\n",
       " 'COMPUTERS_&_',\n",
       " 'AIRCRAFT_&_',\n",
       " 'GCOM-W1_&_Global Change Observation Mission 1st-Water',\n",
       " 'LANDSAT-5_&_',\n",
       " 'LANDSAT-7_&_',\n",
       " 'IKONOS_&_',\n",
       " 'C-23 Sherpa_&_Short Brothers C-23 Sherpa',\n",
       " 'MODELS_&_',\n",
       " 'GOSAT_&_Greenhouse Gases Observing Satellite',\n",
       " 'ADEOS-II_&_Advanced Earth Observing Satellite-II',\n",
       " 'MERRA-2_&_The second Modern-Era Retrospective analysis for Research and Applications',\n",
       " 'foreign-deployment-short_name']"
      ]
     },
     "execution_count": 11,
     "metadata": {},
     "output_type": "execute_result"
    }
   ],
   "source": [
    "[key for key in db['collection_period'].keys()]"
   ]
  },
  {
   "cell_type": "code",
   "execution_count": 12,
   "metadata": {},
   "outputs": [
    {
     "data": {
      "text/plain": [
       "{'platform_names': {'short_name': 'G-III', 'long_name': 'Gulfstream III'},\n",
       " 'platform_identifiers': [],\n",
       " 'instrument_information_source': 'cmr_api',\n",
       " 'auto_generated': True,\n",
       " 'instruments': {'RADAR_&_Radio Detection and Ranging': {'short_name': 'RADAR',\n",
       "   'long_name': 'Radio Detection and Ranging'},\n",
       "  'P-SAR_&_P-band Synthetic Aperture Radar (P-SAR)': {'short_name': 'P-SAR',\n",
       "   'long_name': 'P-band Synthetic Aperture Radar (P-SAR)'},\n",
       "  'UAVSAR_&_Uninhabited Aerial Vehicle Synthetic Aperture Radar': {'short_name': 'UAVSAR',\n",
       "   'long_name': 'Uninhabited Aerial Vehicle Synthetic Aperture Radar'}},\n",
       " 'dois': [None,\n",
       "  None,\n",
       "  None,\n",
       "  None,\n",
       "  None,\n",
       "  None,\n",
       "  None,\n",
       "  None,\n",
       "  None,\n",
       "  None,\n",
       "  None,\n",
       "  None,\n",
       "  None]}"
      ]
     },
     "execution_count": 12,
     "metadata": {},
     "output_type": "execute_result"
    }
   ],
   "source": [
    "db['collection_period']['G-III_&_Gulfstream III']"
   ]
  },
  {
   "cell_type": "markdown",
   "metadata": {},
   "source": [
    "## Unused Extractions"
   ]
  },
  {
   "cell_type": "code",
   "execution_count": null,
   "metadata": {},
   "outputs": [],
   "source": [
    "# ContactPersons\n",
    "# possible contact persons, might be suggested for serveral fields\n",
    "# Campaign.technical_contact\n",
    "# Campaign.project_lead\n",
    "# Campaign.program_lead\n",
    "# Instrument.technical_contact\n",
    "# Instrument.lead_investigator\n",
    "# flight.platform_technical_contact\n",
    "\n",
    "\n",
    "# db['campaign']['contacts']=general_extractor(campaign_metadata, 'ContactPersons')"
   ]
  },
  {
   "cell_type": "code",
   "execution_count": null,
   "metadata": {},
   "outputs": [],
   "source": [
    "# # Abstract\n",
    "# # could help when writing the description \n",
    "# db['campaign']['description_long']=general_extractor(campaign_metadata, 'Abstract')"
   ]
  },
  {
   "cell_type": "code",
   "execution_count": null,
   "metadata": {},
   "outputs": [],
   "source": [
    "# DOI\n",
    "# this doesn't have a direct match. Need to ask Stephanie if she wants it\n",
    "dois = general_extractor(campaign_metadata, 'DOI')\n",
    "processed_dois=[item.get('DOI',None) for item in dois]\n",
    "db['campaign']['dois'] = processed_dois"
   ]
  },
  {
   "cell_type": "code",
   "execution_count": null,
   "metadata": {},
   "outputs": [],
   "source": [
    "# CollectionCitations\n",
    "citations = general_extractor(campaign_metadata, 'CollectionCitations')\n",
    "db['campaign']['publications']=[\n",
    "    citation \n",
    "        for citation_list in citations\n",
    "            for citation in citation_list \n",
    "                if citation.get('Title')\n",
    "]\n",
    "# this has more information in it than we currently track for campaign.publications...\n",
    "# maybe we can add some more granularity to that field?"
   ]
  },
  {
   "cell_type": "code",
   "execution_count": null,
   "metadata": {},
   "outputs": [],
   "source": [
    "# RelatedUrls\n",
    "db['campaign']['other_resources']=general_extractor(campaign_metadata, 'RelatedUrls')\n",
    "# this contains a 'Description' of the resource as well as the 'URL'\n",
    "# perhaps we should implement an other_resource description in our db?"
   ]
  },
  {
   "cell_type": "code",
   "execution_count": null,
   "metadata": {},
   "outputs": [],
   "source": []
  }
 ],
 "metadata": {
  "kernelspec": {
   "display_name": "Python 3",
   "language": "python",
   "name": "python3"
  },
  "language_info": {
   "codemirror_mode": {
    "name": "ipython",
    "version": 3
   },
   "file_extension": ".py",
   "mimetype": "text/x-python",
   "name": "python",
   "nbconvert_exporter": "python",
   "pygments_lexer": "ipython3",
   "version": "3.8.2"
  }
 },
 "nbformat": 4,
 "nbformat_minor": 4
}
